{
 "cells": [
  {
   "cell_type": "markdown",
   "id": "c98fdac5",
   "metadata": {},
   "source": [
    "# Basics\n",
    "\n",
    "The syntax for slicing arrays in NumPy is similar to that of the built-in lists. However, these work very differently. For instance:\n",
    "\n",
    "* NumPy slices are simply **views** of the original array. This means that the data is not copied. Any changes you make to the view will be reflected in the original array. This is called **broadcasting**.\n",
    "* You can assign both a scalar value and an iterable to a NumPy array, whereas only iterables can be assigned to Python lists.\n",
    "\n",
    "\n",
    "## One-dimensional arrays"
   ]
  },
  {
   "cell_type": "code",
   "execution_count": 1,
   "id": "68fc9fda",
   "metadata": {},
   "outputs": [],
   "source": [
    "import numpy as np"
   ]
  },
  {
   "cell_type": "code",
   "execution_count": 3,
   "id": "a2121f18",
   "metadata": {},
   "outputs": [
    {
     "data": {
      "text/plain": [
       "array([0, 1, 2, 3, 4, 5, 6, 7, 8, 9])"
      ]
     },
     "execution_count": 3,
     "metadata": {},
     "output_type": "execute_result"
    }
   ],
   "source": [
    "arr = np.arange(10)\n",
    "arr"
   ]
  },
  {
   "cell_type": "code",
   "execution_count": 4,
   "id": "741b34f7",
   "metadata": {},
   "outputs": [
    {
     "data": {
      "text/plain": [
       "3"
      ]
     },
     "execution_count": 4,
     "metadata": {},
     "output_type": "execute_result"
    }
   ],
   "source": [
    "arr[3]"
   ]
  },
  {
   "cell_type": "code",
   "execution_count": 5,
   "id": "b3400ca9",
   "metadata": {},
   "outputs": [
    {
     "data": {
      "text/plain": [
       "array([3, 4, 5])"
      ]
     },
     "execution_count": 5,
     "metadata": {},
     "output_type": "execute_result"
    }
   ],
   "source": [
    "arr[3:6]"
   ]
  },
  {
   "cell_type": "markdown",
   "id": "93747465",
   "metadata": {},
   "source": [
    "Lets apply an *iterable* to the slice above.\n",
    "\n",
    "*Note: The shape of the iterable being added e.g. the input array **must** be of the same shape as the slice!*"
   ]
  },
  {
   "cell_type": "code",
   "execution_count": 13,
   "id": "7eab5cf8",
   "metadata": {
    "scrolled": true
   },
   "outputs": [],
   "source": [
    "arr[3:6] = [15, 16, 17]"
   ]
  },
  {
   "cell_type": "code",
   "execution_count": 14,
   "id": "3a2d72be",
   "metadata": {},
   "outputs": [
    {
     "data": {
      "text/plain": [
       "array([ 0,  1,  2, 15, 16, 17,  6,  7,  8,  9])"
      ]
     },
     "execution_count": 14,
     "metadata": {},
     "output_type": "execute_result"
    }
   ],
   "source": [
    "arr"
   ]
  },
  {
   "cell_type": "markdown",
   "id": "e3c12110",
   "metadata": {},
   "source": [
    "See how the third, fourth and fifth index changes their values. Lets overwrite them with a scalar value using array slicing."
   ]
  },
  {
   "cell_type": "code",
   "execution_count": 15,
   "id": "32fd6f28",
   "metadata": {},
   "outputs": [],
   "source": [
    "arr[3:6] = 20"
   ]
  },
  {
   "cell_type": "code",
   "execution_count": 16,
   "id": "7dc7998a",
   "metadata": {},
   "outputs": [
    {
     "data": {
      "text/plain": [
       "array([ 0,  1,  2, 20, 20, 20,  6,  7,  8,  9])"
      ]
     },
     "execution_count": 16,
     "metadata": {},
     "output_type": "execute_result"
    }
   ],
   "source": [
    "arr"
   ]
  },
  {
   "cell_type": "markdown",
   "id": "4d4c2874",
   "metadata": {},
   "source": [
    "This operation is not possible in built-in lists!\n",
    "\n",
    "    py_list = list(range(10))\n",
    "    py_list[3:6] = 20\n",
    "    \n",
    "The code block above will raise the folloing error: `TypeError: can only assign an iterable`"
   ]
  },
  {
   "cell_type": "markdown",
   "id": "6f556520",
   "metadata": {},
   "source": [
    "Following the example above, if we do a full slice and assign a new value, the whole array will change:"
   ]
  },
  {
   "cell_type": "code",
   "execution_count": 17,
   "id": "5455ea8c",
   "metadata": {},
   "outputs": [],
   "source": [
    "arr[:] = 20"
   ]
  },
  {
   "cell_type": "code",
   "execution_count": 18,
   "id": "1f8156ec",
   "metadata": {},
   "outputs": [
    {
     "data": {
      "text/plain": [
       "array([20, 20, 20, 20, 20, 20, 20, 20, 20, 20])"
      ]
     },
     "execution_count": 18,
     "metadata": {},
     "output_type": "execute_result"
    }
   ],
   "source": [
    "arr"
   ]
  },
  {
   "cell_type": "markdown",
   "id": "062cb527",
   "metadata": {},
   "source": [
    "### Copying an array using `copy` method\n",
    "\n",
    "By using the `copy` method, we can copy the view into another array object and make modifications there while keeping the source array intact. Here, we will copy `arr` entirely into a new array object and change certain values. We can see at the end that `arr` still remains intact."
   ]
  },
  {
   "cell_type": "code",
   "execution_count": 19,
   "id": "db7b3212",
   "metadata": {},
   "outputs": [],
   "source": [
    "arr2 = arr[:].copy()"
   ]
  },
  {
   "cell_type": "code",
   "execution_count": 20,
   "id": "6a1b1553",
   "metadata": {},
   "outputs": [],
   "source": [
    "arr2[3:6] = 15"
   ]
  },
  {
   "cell_type": "code",
   "execution_count": 21,
   "id": "7cd8932d",
   "metadata": {},
   "outputs": [
    {
     "data": {
      "text/plain": [
       "array([20, 20, 20, 15, 15, 15, 20, 20, 20, 20])"
      ]
     },
     "execution_count": 21,
     "metadata": {},
     "output_type": "execute_result"
    }
   ],
   "source": [
    "arr2"
   ]
  },
  {
   "cell_type": "code",
   "execution_count": 22,
   "id": "1b2a3114",
   "metadata": {},
   "outputs": [
    {
     "data": {
      "text/plain": [
       "array([20, 20, 20, 20, 20, 20, 20, 20, 20, 20])"
      ]
     },
     "execution_count": 22,
     "metadata": {},
     "output_type": "execute_result"
    }
   ],
   "source": [
    "arr"
   ]
  },
  {
   "cell_type": "markdown",
   "id": "d7a01400",
   "metadata": {},
   "source": [
    "## Multi-dimensional arrays\n",
    "\n"
   ]
  }
 ],
 "metadata": {
  "kernelspec": {
   "display_name": "Python 3 (ipykernel)",
   "language": "python",
   "name": "python3"
  },
  "language_info": {
   "codemirror_mode": {
    "name": "ipython",
    "version": 3
   },
   "file_extension": ".py",
   "mimetype": "text/x-python",
   "name": "python",
   "nbconvert_exporter": "python",
   "pygments_lexer": "ipython3",
   "version": "3.10.1"
  }
 },
 "nbformat": 4,
 "nbformat_minor": 5
}
