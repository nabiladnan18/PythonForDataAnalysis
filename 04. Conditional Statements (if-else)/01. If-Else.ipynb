{
 "cells": [
  {
   "cell_type": "markdown",
   "id": "a94898eb",
   "metadata": {},
   "source": [
    "# Basics\n",
    "\n",
    "We can write conditional statements by using the `if` keyword. We can further chain it with further `if` statements, `else` and `elif` statements. Using these keywords, we can create a decision tree. "
   ]
  },
  {
   "cell_type": "markdown",
   "id": "bf1af3b4",
   "metadata": {},
   "source": [
    "## `if` statement\n",
    "\n",
    "The `if` statement contains one conditional test and one action. A simple `if statement` looks like the following:\n",
    "\n",
    "```\n",
    "if *conditional_test*:\n",
    "    *do something*\n",
    "```\n",
    "\n",
    "Lets see an example where someone is only eligible to cast a vote but only if they are or over 18 years of age."
   ]
  },
  {
   "cell_type": "code",
   "execution_count": 1,
   "id": "8f246480",
   "metadata": {},
   "outputs": [],
   "source": [
    "age = 20"
   ]
  },
  {
   "cell_type": "code",
   "execution_count": 2,
   "id": "aac517c8",
   "metadata": {},
   "outputs": [
    {
     "name": "stdout",
     "output_type": "stream",
     "text": [
      "Eligible to vote.\n"
     ]
    }
   ],
   "source": [
    "if age >= 18:\n",
    "    print(\"Eligible to vote.\")"
   ]
  },
  {
   "cell_type": "markdown",
   "id": "1563ccf6",
   "metadata": {},
   "source": [
    "This program will not do anything if the conditional test fails. Python goes through the conditional statement and evaluates whether the condition is `True` or `False`. If it is `True`, then it enters the code block under the `if-statement`. If the condition is `False` e.g. the conditional test fails, Python exits the block and moves on to the next executable line."
   ]
  },
  {
   "cell_type": "markdown",
   "id": "42a94c53",
   "metadata": {},
   "source": [
    "## `if-else` statement\n",
    "\n",
    "Often, we will want to take one action when a conditional test passes and a different action in all other cases. Python’s `if-else` syntax makes this possible. An `if-else` block is similar to a simple `if statement`, but the `else statement` allows you to define an action or set of actions that are executed when the conditional test fails.\n",
    "\n",
    "We go back to the example of person who is finding out if he is eligible to vote or not:"
   ]
  },
  {
   "cell_type": "code",
   "execution_count": 3,
   "id": "70058089",
   "metadata": {},
   "outputs": [],
   "source": [
    "age = 17"
   ]
  },
  {
   "cell_type": "code",
   "execution_count": 4,
   "id": "dc8f3678",
   "metadata": {},
   "outputs": [
    {
     "name": "stdout",
     "output_type": "stream",
     "text": [
      "Sorry! You are not old enough to vote.\n",
      "Please register yourself as soon as you turn 18!\n"
     ]
    }
   ],
   "source": [
    "if age >= 18:\n",
    "    print(\"Eligible to vote.\")\n",
    "else:\n",
    "    print(\"Sorry! You are not old enough to vote.\")\n",
    "    print(\"Please register yourself as soon as you turn 18!\")"
   ]
  },
  {
   "cell_type": "markdown",
   "id": "1d456896",
   "metadata": {},
   "source": [
    "You may have noticed that the `if` statement is the beginning of the conditional statement chain. When Python finds that the statement is evaluated to be `False`, it jumps to the `else` statement and executes the code-block under it."
   ]
  },
  {
   "cell_type": "markdown",
   "id": "18357b5e",
   "metadata": {},
   "source": [
    "## `if-elif-else` chain\n",
    "\n",
    "Often, we will need to test more than two possible situations, and to evaluate these you can use Python’s `if-elif-else` syntax. **Python executes only one block in an `if-elif-else` chain. It runs each conditional test in order until one passes. When a test passes, the code following that test is executed and Python skips the rest of the tests.**\n",
    "\n",
    "Many real-world situations involve more than two possible conditions. For example, consider an amusement park that charges different rates for different age groups:\n",
    "\n",
    "* Admission for anyone under age 4 is free.\n",
    "* Admission for anyone between the ages of 4 and 18 is \\$25.\n",
    "* Admission for anyone age 18 or older is \\$40.\n",
    "\n"
   ]
  },
  {
   "cell_type": "code",
   "execution_count": 5,
   "id": "9057b62a",
   "metadata": {},
   "outputs": [],
   "source": [
    "age = 10"
   ]
  },
  {
   "cell_type": "code",
   "execution_count": 6,
   "id": "61392792",
   "metadata": {},
   "outputs": [
    {
     "name": "stdout",
     "output_type": "stream",
     "text": [
      "Admission fee is $25.\n"
     ]
    }
   ],
   "source": [
    "if age < 4:\n",
    "    price = 0\n",
    "elif age < 18:\n",
    "    price = 25\n",
    "else:\n",
    "    price = 40\n",
    "    \n",
    "print(f\"Admission fee is ${price}.\")"
   ]
  },
  {
   "cell_type": "markdown",
   "id": "a0b9713a",
   "metadata": {},
   "source": [
    "The `if statement` tests whether a person is under 4 years old. If the test passes, an appropriate message is printed and Python skips the rest of the tests. \n",
    "\n",
    "The `elif` line is really another `if statement`, which **runs only if the previous test failed**. At this point in the chain, we know the person is at least 4 years old because the first test failed. If the person is under 18, an appropriate message is printed and Python skips the `else` block and then runs the next executable line which is outside the conditional statements."
   ]
  },
  {
   "cell_type": "markdown",
   "id": "4d843050",
   "metadata": {},
   "source": [
    "## Using Multiple `elif` Blocks\n",
    "\n",
    "You can use as many elif blocks in your code as you like. For example, if the amusement park were to implement a discount for seniors, you could add one more conditional test to the code to determine whether someone qualified for the senior discount. Let’s say that anyone 65 or older pays half the regular admission, or $20:"
   ]
  },
  {
   "cell_type": "code",
   "execution_count": 8,
   "id": "7ec6d12c",
   "metadata": {},
   "outputs": [
    {
     "name": "stdout",
     "output_type": "stream",
     "text": [
      "Admission fee is $20.\n"
     ]
    }
   ],
   "source": [
    "age = 69\n",
    "\n",
    "if age < 4:\n",
    "    price = 0\n",
    "elif age < 18:\n",
    "    price = 25\n",
    "elif age < 65:\n",
    "    price = 40\n",
    "else:\n",
    "    price = 20\n",
    "    \n",
    "print(f\"Admission fee is ${price}.\")"
   ]
  },
  {
   "cell_type": "markdown",
   "id": "470dc689",
   "metadata": {},
   "source": [
    "The second `elif` block now checks to make sure a person is *less than age 65* before assigning them the full admission rate of \\$40. Notice that the value assigned in the *`else` block is changed to \\$20*, because the only ages that make it to *this block are people 65 or older.*"
   ]
  },
  {
   "cell_type": "markdown",
   "id": "bb83189b",
   "metadata": {},
   "source": [
    "## Omitting the `else` Block\n",
    "\n",
    "Python does not need an `else` block at the end of an `if-elif chain`. Sometimes an `else` block is useful; sometimes it is clearer to use an additional `elif` statement that catches the specific condition of interest:"
   ]
  },
  {
   "cell_type": "code",
   "execution_count": 13,
   "id": "50dd1fb9",
   "metadata": {},
   "outputs": [
    {
     "name": "stdout",
     "output_type": "stream",
     "text": [
      "Admission fee is $40.\n"
     ]
    }
   ],
   "source": [
    "age = 28\n",
    "\n",
    "if age < 4:\n",
    "    price = 0\n",
    "elif age < 18:\n",
    "    price = 25\n",
    "elif age < 65:\n",
    "    price = 40\n",
    "elif age >= 65:\n",
    "    price = 20\n",
    "    \n",
    "print(f\"Admission fee is ${price}.\")"
   ]
  },
  {
   "cell_type": "markdown",
   "id": "35bf2d12",
   "metadata": {},
   "source": [
    "The extra `elif` block determines the price to be \\$20 when the person is 65 or older, which is a bit clearer than the general `else` block. \n",
    "\n",
    "The `else` block is a catchall statement. It matches any condition that did not match a specific `if` or `elif` test, and that can sometimes include invalid or even malicious data. If you have a specific final condition you are testing for, you may use a final `elif` block and omit the `else` block."
   ]
  },
  {
   "cell_type": "markdown",
   "id": "d2df3349",
   "metadata": {},
   "source": [
    "## Testing Multiple Conditions - multiple `if` blocks\n",
    "\n",
    "Sometimes it is important to check all of the conditions of interest. In this case, you should use a series of simple `if` statements with no `elif` or `else` blocks. This technique makes sense when more than one condition could be `True`, and you want to act on every condition that is `True`."
   ]
  },
  {
   "cell_type": "code",
   "execution_count": 26,
   "id": "ba9f9603",
   "metadata": {},
   "outputs": [],
   "source": [
    "ingredients = ['spam', 'cheese', 'ham', 'eggs']"
   ]
  },
  {
   "cell_type": "code",
   "execution_count": 27,
   "id": "bfdecb66",
   "metadata": {},
   "outputs": [],
   "source": [
    "message = \"A blessing from the Lord!\""
   ]
  },
  {
   "cell_type": "code",
   "execution_count": 28,
   "id": "05813b1d",
   "metadata": {},
   "outputs": [
    {
     "name": "stdout",
     "output_type": "stream",
     "text": [
      "A blessing from the Lord!\n",
      "A blessing from the Lord!\n",
      "Biggus Dickus!\n"
     ]
    }
   ],
   "source": [
    "if 'spam' in ingredients:\n",
    "    print(message)\n",
    "if 'cheese' in ingredients:\n",
    "    print(message)\n",
    "if 'bacon' not in ingredients:\n",
    "    print(\"Biggus Dickus!\")"
   ]
  }
 ],
 "metadata": {
  "kernelspec": {
   "display_name": "Python 3 (ipykernel)",
   "language": "python",
   "name": "python3"
  },
  "language_info": {
   "codemirror_mode": {
    "name": "ipython",
    "version": 3
   },
   "file_extension": ".py",
   "mimetype": "text/x-python",
   "name": "python",
   "nbconvert_exporter": "python",
   "pygments_lexer": "ipython3",
   "version": "3.10.1"
  }
 },
 "nbformat": 4,
 "nbformat_minor": 5
}
