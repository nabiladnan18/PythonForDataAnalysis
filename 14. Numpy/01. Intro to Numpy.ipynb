{
 "cells": [
  {
   "cell_type": "markdown",
   "id": "54f1b66c",
   "metadata": {},
   "source": [
    "# What is NumPy?\n",
    "\n",
    "NumPy, short for *Numerical Python*, is one of the most important foundational packages for numerical computing in Python. \n",
    "\n",
    "Here are some of the things that are in the NumPy module:\n",
    "* ndarray, an efficient multidimensional array providing fast array-oriented arithmetic operations and flexible broadcasting capabilities.\n",
    "* Mathematical functions for fast operations on entire arrays of data without having to write loops.\n",
    "* Tools for reading/writing array data to disk and working with memory-mapped files.\n",
    "* Linear algebra, random number generation, and Fourier transform capabilities.\n",
    "* A C API for connecting NumPy with libraries written in C, C++, or FORTRAN.\n",
    "\n",
    "A good understanding of NumPy will aid in understanding and use *Pandas* and array-oriented computing more efficiently.\n",
    "\n",
    "\n",
    "# Performance\n",
    "One of the reasons NumPy is so important for numerical computations in Python is because it is designed for efficiency on large arrays of data. There are a number of reasons for this:\n",
    "* NumPy internally stores data in a *contiguous block of memory*, independent of other built-in Python objects. NumPy’s library of algorithms written in the C language can operate on this memory without any type checking or other overhead. \n",
    "* NumPy arrays also use much less memory than built-in Python sequences.\n",
    "* NumPy operations perform complex computations on entire arrays without the need for Python for loops.\n"
   ]
  },
  {
   "cell_type": "code",
   "execution_count": 1,
   "id": "07f0391c",
   "metadata": {},
   "outputs": [
    {
     "name": "stdout",
     "output_type": "stream",
     "text": [
      "1.37 s ± 268 ms per loop (mean ± std. dev. of 7 runs, 1 loop each)\n"
     ]
    }
   ],
   "source": [
    "%timeit my_list = list(range(100000000))"
   ]
  },
  {
   "cell_type": "code",
   "execution_count": 2,
   "id": "b06d686f",
   "metadata": {},
   "outputs": [],
   "source": [
    "import numpy as np"
   ]
  },
  {
   "cell_type": "code",
   "execution_count": 3,
   "id": "c1a8e07f",
   "metadata": {},
   "outputs": [
    {
     "name": "stdout",
     "output_type": "stream",
     "text": [
      "110 ms ± 1.32 ms per loop (mean ± std. dev. of 7 runs, 10 loops each)\n"
     ]
    }
   ],
   "source": [
    "%timeit np_list = np.arange(100000000)"
   ]
  },
  {
   "cell_type": "markdown",
   "id": "21a50fec",
   "metadata": {},
   "source": [
    "NumPy creates a large list almost **12x faster** than the built-in functions!"
   ]
  }
 ],
 "metadata": {
  "kernelspec": {
   "display_name": "Python 3 (ipykernel)",
   "language": "python",
   "name": "python3"
  },
  "language_info": {
   "codemirror_mode": {
    "name": "ipython",
    "version": 3
   },
   "file_extension": ".py",
   "mimetype": "text/x-python",
   "name": "python",
   "nbconvert_exporter": "python",
   "pygments_lexer": "ipython3",
   "version": "3.10.1"
  }
 },
 "nbformat": 4,
 "nbformat_minor": 5
}
