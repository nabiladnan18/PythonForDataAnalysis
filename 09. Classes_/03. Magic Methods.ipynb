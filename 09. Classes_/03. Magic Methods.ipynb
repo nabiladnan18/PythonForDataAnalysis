{
 "cells": [
  {
   "cell_type": "markdown",
   "id": "9e302207",
   "metadata": {},
   "source": [
    "# Basics\n",
    "\n",
    "Magic methods have `__` at the beginning and at the end of their names, like `__init__` and `__str__`. They are called automatically by Python Interpreter depending on how we are using the object. Magic methods are automatically inherited.\n",
    "\n",
    "Here is an extensive documentation for magic methods: https://rszalski.github.io/magicmethods/"
   ]
  },
  {
   "cell_type": "code",
   "execution_count": 1,
   "id": "9004e8d2",
   "metadata": {},
   "outputs": [],
   "source": [
    "class Point:\n",
    "    \"\"\"Modeling a point in the x and y plane\"\"\"\n",
    "    \n",
    "    def __init__(self, x, y):\n",
    "        \"\"\"Initializing a point\"\"\"\n",
    "        self.x = x\n",
    "        self.y = y\n",
    "        \n",
    "    def draw(self):\n",
    "        return f\"Point ({self.x}, {self.y})\" "
   ]
  },
  {
   "cell_type": "code",
   "execution_count": 2,
   "id": "2fe0ec9b",
   "metadata": {},
   "outputs": [],
   "source": [
    "point = Point(1, 2)"
   ]
  },
  {
   "cell_type": "code",
   "execution_count": 3,
   "id": "af4bf770",
   "metadata": {},
   "outputs": [
    {
     "name": "stdout",
     "output_type": "stream",
     "text": [
      "<__main__.Point object at 0x000001FAD09F97B0>\n"
     ]
    }
   ],
   "source": [
    "print(point) # calling __str__ magic method under the hood"
   ]
  },
  {
   "cell_type": "code",
   "execution_count": 4,
   "id": "d072cb19",
   "metadata": {},
   "outputs": [
    {
     "data": {
      "text/plain": [
       "'<__main__.Point object at 0x000001FAD09F97B0>'"
      ]
     },
     "execution_count": 4,
     "metadata": {},
     "output_type": "execute_result"
    }
   ],
   "source": [
    "point.__str__()"
   ]
  },
  {
   "cell_type": "markdown",
   "id": "7ddb5470",
   "metadata": {},
   "source": [
    "By calling the `__str__` method of the point instance we see that it shows what type of object it is e.g. Point and the memory address it occupies. This method returns a string to explain the object. \n",
    "\n",
    "Similar to `__str__`, each `magic method` has its own default output. We can re-implement them for a better output.\n",
    "\n",
    "Let's re-implement `__str__` method:"
   ]
  },
  {
   "cell_type": "code",
   "execution_count": 5,
   "id": "efee3bbf",
   "metadata": {},
   "outputs": [],
   "source": [
    "class Point:\n",
    "    \"\"\"Modeling a point in the x and y plane\"\"\"\n",
    "    \n",
    "    def __init__(self, x, y):\n",
    "        \"\"\"Initializing a point\"\"\"\n",
    "        self.x = x\n",
    "        self.y = y\n",
    "        \n",
    "    def draw(self):\n",
    "        return f\"Point ({self.x}, {self.y})\" \n",
    "    \n",
    "    # Re-implementing __str__ magic method\n",
    "    def __str__(self):\n",
    "        return f\"The object is an instance of Point class. x- and y-coordinates are ({self.x},{self.y})\"\n",
    "    \n",
    "point = Point(1, 2)"
   ]
  },
  {
   "cell_type": "code",
   "execution_count": 6,
   "id": "5c5ab6a5",
   "metadata": {},
   "outputs": [
    {
     "data": {
      "text/plain": [
       "'The object is an instance of Point class. x- and y-coordinates are (1,2)'"
      ]
     },
     "execution_count": 6,
     "metadata": {},
     "output_type": "execute_result"
    }
   ],
   "source": [
    "point.__str__()"
   ]
  },
  {
   "cell_type": "code",
   "execution_count": 7,
   "id": "a3db09cc",
   "metadata": {},
   "outputs": [
    {
     "name": "stdout",
     "output_type": "stream",
     "text": [
      "The object is an instance of Point class. x- and y-coordinates are (1,2)\n"
     ]
    }
   ],
   "source": [
    "print(point)"
   ]
  },
  {
   "cell_type": "markdown",
   "id": "bca2c617",
   "metadata": {},
   "source": [
    "# Comparing objects - Comparison Magic Methods\n",
    "\n",
    "https://rszalski.github.io/magicmethods/#comparisons"
   ]
  },
  {
   "cell_type": "code",
   "execution_count": 8,
   "id": "c2fe9487",
   "metadata": {},
   "outputs": [],
   "source": [
    "another_point = Point(1, 2) "
   ]
  },
  {
   "cell_type": "code",
   "execution_count": 9,
   "id": "d42b4140",
   "metadata": {},
   "outputs": [
    {
     "data": {
      "text/plain": [
       "False"
      ]
     },
     "execution_count": 9,
     "metadata": {},
     "output_type": "execute_result"
    }
   ],
   "source": [
    "point == another_point"
   ]
  },
  {
   "cell_type": "markdown",
   "id": "f3d81043",
   "metadata": {},
   "source": [
    "How come the result is `point` and `another_point` are not equal? Because `==` operator by default compares the references, or the addresses of these two objects in memory. Since these two objects are referencing to two different addresss in memory, they are not the same. \n",
    "\n",
    "Fortunately, Python provides `magic methods` for these. We can redefine some methods like `eq` and `gt`."
   ]
  },
  {
   "cell_type": "code",
   "execution_count": 10,
   "id": "34d8fbe9",
   "metadata": {},
   "outputs": [],
   "source": [
    "class Point:\n",
    "    \"\"\"Modeling a point in the x and y plane\"\"\"\n",
    "    \n",
    "    def __init__(self, x, y):\n",
    "        \"\"\"Initializing a point\"\"\"\n",
    "        self.x = x\n",
    "        self.y = y\n",
    "    \n",
    "    def __str__(self):\n",
    "        return f\"The object is an instance of Point class. x- and y-coordinates are ({self.x},{self.y})\"\n",
    "    \n",
    "    # Re-implementing __eq__ magic method\n",
    "    def __eq__(self, other):\n",
    "        return self.x == other.x and self.y == other.y\n",
    "            \n",
    "    def draw(self):\n",
    "        return f\"Point ({self.x}, {self.y})\" \n",
    "    \n",
    "point = Point(1, 2)\n",
    "another_point = Point(1, 2)"
   ]
  },
  {
   "cell_type": "code",
   "execution_count": 11,
   "id": "03f071a3",
   "metadata": {},
   "outputs": [
    {
     "data": {
      "text/plain": [
       "True"
      ]
     },
     "execution_count": 11,
     "metadata": {},
     "output_type": "execute_result"
    }
   ],
   "source": [
    "point == another_point"
   ]
  },
  {
   "cell_type": "markdown",
   "id": "a40992d4",
   "metadata": {},
   "source": [
    "What about greater than and less than comparisons?\n",
    "\n",
    "```\n",
    "point > another_point\n",
    "```\n",
    "The above will raise a `TypeError`:\n",
    "\n",
    "```\n",
    "TypeError: '>' not supported between instances of 'Point' and 'Point'\n",
    "\n",
    "```\n",
    "\n",
    "For this we need to add another `magic method` to our class:"
   ]
  },
  {
   "cell_type": "code",
   "execution_count": 12,
   "id": "a261ba64",
   "metadata": {},
   "outputs": [],
   "source": [
    "class Point:\n",
    "    \"\"\"Modeling a point in the x and y plane\"\"\"\n",
    "    \n",
    "    def __init__(self, x, y):\n",
    "        \"\"\"Initializing a point\"\"\"\n",
    "        self.x = x\n",
    "        self.y = y\n",
    "    \n",
    "    def __str__(self):\n",
    "        return f\"The object is an instance of Point class. x- and y-coordinates are ({self.x},{self.y})\"\n",
    "    \n",
    "    def __eq__(self, other):\n",
    "        return self.x == other.x and self.y == other.y\n",
    "    \n",
    "    # Re-implementing __gt__ magic method\n",
    "    def __gt__(self, other):\n",
    "        return self.x > other.x and self.y > other.y\n",
    "    \n",
    "    def draw(self):\n",
    "        return f\"Point ({self.x}, {self.y})\" \n",
    "    \n",
    "point = Point(10, 20) # changing the value of `point`\n",
    "another_point = Point(1, 2)"
   ]
  },
  {
   "cell_type": "code",
   "execution_count": 13,
   "id": "0f8d3588",
   "metadata": {},
   "outputs": [
    {
     "data": {
      "text/plain": [
       "False"
      ]
     },
     "execution_count": 13,
     "metadata": {},
     "output_type": "execute_result"
    }
   ],
   "source": [
    "point == another_point"
   ]
  },
  {
   "cell_type": "code",
   "execution_count": 14,
   "id": "bf0efc4b",
   "metadata": {},
   "outputs": [
    {
     "data": {
      "text/plain": [
       "True"
      ]
     },
     "execution_count": 14,
     "metadata": {},
     "output_type": "execute_result"
    }
   ],
   "source": [
    "point > another_point"
   ]
  },
  {
   "cell_type": "code",
   "execution_count": 15,
   "id": "670625eb",
   "metadata": {},
   "outputs": [
    {
     "data": {
      "text/plain": [
       "False"
      ]
     },
     "execution_count": 15,
     "metadata": {},
     "output_type": "execute_result"
    }
   ],
   "source": [
    "point < another_point"
   ]
  },
  {
   "cell_type": "markdown",
   "id": "76017057",
   "metadata": {},
   "source": [
    "Python automatically figures out what to do with the `<` operator when the `>` operator is configured. We do not have to explicitly define all magic methods."
   ]
  },
  {
   "cell_type": "markdown",
   "id": "eccf4e07",
   "metadata": {},
   "source": [
    "# Arithmetic operations on objects - Numeric Magic Methods\n",
    "\n",
    "What if we wanted to add our two points? `+` operator will raise `TypeError` again. We need to define a magic method for this one as well, just like comparison magic methods.\n",
    "\n",
    "A whole list of numeric magic methods can be found here: https://rszalski.github.io/magicmethods/#numeric"
   ]
  },
  {
   "cell_type": "code",
   "execution_count": 16,
   "id": "5dd2c410",
   "metadata": {},
   "outputs": [],
   "source": [
    "class Point:\n",
    "    \"\"\"Modeling a point in the x and y plane\"\"\"\n",
    "    \n",
    "    def __init__(self, x, y):\n",
    "        \"\"\"Initializing a point\"\"\"\n",
    "        self.x = x\n",
    "        self.y = y\n",
    "    \n",
    "    def __str__(self):\n",
    "        return f\"The object is an instance of Point class. x- and y-coordinates are ({self.x},{self.y})\"\n",
    "    \n",
    "    def __eq__(self, other):\n",
    "        return self.x == other.x and self.y == other.y\n",
    "    \n",
    "    def __gt__(self, other):\n",
    "        return self.x > other.x and self.y > other.y\n",
    "    \n",
    "    # Re-implementing __add__ magic method\n",
    "    def __add__(self, other):\n",
    "        return Point(self.x + other.x, self.y + other.y)\n",
    "    \n",
    "    def draw(self):\n",
    "        return f\"Point ({self.x}, {self.y})\" \n",
    "    \n",
    "point = Point(10, 20)\n",
    "another_point = Point(1, 2)"
   ]
  },
  {
   "cell_type": "code",
   "execution_count": 17,
   "id": "b94f8202",
   "metadata": {},
   "outputs": [
    {
     "data": {
      "text/plain": [
       "<__main__.Point at 0x1fad09f98d0>"
      ]
     },
     "execution_count": 17,
     "metadata": {},
     "output_type": "execute_result"
    }
   ],
   "source": [
    "point + another_point # creates a new Point objecte"
   ]
  },
  {
   "cell_type": "code",
   "execution_count": 18,
   "id": "0e21a129",
   "metadata": {},
   "outputs": [
    {
     "name": "stdout",
     "output_type": "stream",
     "text": [
      "The object is an instance of Point class. x- and y-coordinates are (11,22)\n"
     ]
    }
   ],
   "source": [
    "print(point + another_point) # We see the __str__ method in action here"
   ]
  },
  {
   "cell_type": "code",
   "execution_count": 19,
   "id": "2c9022bc",
   "metadata": {},
   "outputs": [],
   "source": [
    "combined_point = point + another_point # Storing the new point in a new variable"
   ]
  },
  {
   "cell_type": "code",
   "execution_count": 20,
   "id": "0ffff40f",
   "metadata": {},
   "outputs": [
    {
     "data": {
      "text/plain": [
       "11"
      ]
     },
     "execution_count": 20,
     "metadata": {},
     "output_type": "execute_result"
    }
   ],
   "source": [
    "combined_point.x # Confirming that the new point has the expected x value"
   ]
  },
  {
   "cell_type": "markdown",
   "id": "172a2ab7",
   "metadata": {},
   "source": [
    "# More Magic Methods!\n",
    "\n",
    "More examples of magic methods can be found [here](/notebooks/9.%20Classes_/4.%20Making%20Custom%20Containers.ipynb#More-magic-methods)\n"
   ]
  }
 ],
 "metadata": {
  "kernelspec": {
   "display_name": "Python 3 (ipykernel)",
   "language": "python",
   "name": "python3"
  },
  "language_info": {
   "codemirror_mode": {
    "name": "ipython",
    "version": 3
   },
   "file_extension": ".py",
   "mimetype": "text/x-python",
   "name": "python",
   "nbconvert_exporter": "python",
   "pygments_lexer": "ipython3",
   "version": "3.10.1"
  }
 },
 "nbformat": 4,
 "nbformat_minor": 5
}
