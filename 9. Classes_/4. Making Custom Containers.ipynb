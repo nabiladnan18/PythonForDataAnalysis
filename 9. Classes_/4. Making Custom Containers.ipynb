{
 "cells": [
  {
   "cell_type": "markdown",
   "id": "25ef4e3f",
   "metadata": {},
   "source": [
    "# Basics"
   ]
  },
  {
   "cell_type": "markdown",
   "id": "7b4a3c80",
   "metadata": {},
   "source": [
    "Python already provides data structures or containers like set, list, tuple and dict that serves most of our purpose. However, in some cases, it is imperative to write custom containers that behave a bit differently.\n",
    "\n",
    "For this topic, we will be taking an example of a cloud of tags made on a forum like StackOverflow. We want to create a dictionary of tags that were applied to posts made on such a forum but we want this dictionary to behave smarter than your normal dictionary.\n",
    "\n",
    "Let's build this custom container."
   ]
  },
  {
   "cell_type": "code",
   "execution_count": 1,
   "id": "4d486683",
   "metadata": {},
   "outputs": [],
   "source": [
    "class TagCloud:\n",
    "    \"\"\"Modelling a container for tags applied on questions in a forum\"\"\"\n",
    "    \n",
    "    # setting an empty dict on instantiation\n",
    "    def __init__(self):\n",
    "        \"\"\"Initializing a cloud of tags\"\"\"\n",
    "        self.tags = {}\n",
    "        \n",
    "    # defining a function to add tags to the cloud\n",
    "    def add(self, tag):\n",
    "        \"\"\"\n",
    "        Adds a tag to the list. If the tag does not exist, `0` is returned by default.\n",
    "        \n",
    "        Args:\n",
    "        ----------\n",
    "        tag (str): A string value that is added to the \n",
    "        \n",
    "        \"\"\"\n",
    "        self.tags[tag] = self.tags.get(tag, 0) + 1"
   ]
  },
  {
   "cell_type": "code",
   "execution_count": 2,
   "id": "0b49f7a7",
   "metadata": {},
   "outputs": [],
   "source": [
    "cloud = TagCloud()"
   ]
  },
  {
   "cell_type": "code",
   "execution_count": 3,
   "id": "9465f7e7",
   "metadata": {},
   "outputs": [],
   "source": [
    "cloud.add(\"python\")\n",
    "cloud.add(\"python\")\n",
    "cloud.add(\"python\")\n",
    "cloud.add(\"python\")\n",
    "cloud.add(\"python\")"
   ]
  },
  {
   "cell_type": "code",
   "execution_count": 4,
   "id": "384bbf7a",
   "metadata": {},
   "outputs": [
    {
     "data": {
      "text/plain": [
       "{'python': 5}"
      ]
     },
     "execution_count": 4,
     "metadata": {},
     "output_type": "execute_result"
    }
   ],
   "source": [
    "cloud.tags"
   ]
  },
  {
   "cell_type": "markdown",
   "id": "6bac92ad",
   "metadata": {},
   "source": [
    "**Why are we creating a custom class? It looks like we could have used a typical dictionary.** Here is why: imagine someone tagged one \"python\" as \"Python\"."
   ]
  },
  {
   "cell_type": "code",
   "execution_count": 5,
   "id": "adaf8a81",
   "metadata": {},
   "outputs": [],
   "source": [
    "cloud.add(\"Python\")\n",
    "cloud.add(\"python\")"
   ]
  },
  {
   "cell_type": "code",
   "execution_count": 6,
   "id": "a3ebb809",
   "metadata": {},
   "outputs": [
    {
     "data": {
      "text/plain": [
       "{'python': 6, 'Python': 1}"
      ]
     },
     "execution_count": 6,
     "metadata": {},
     "output_type": "execute_result"
    }
   ],
   "source": [
    "cloud.tags"
   ]
  },
  {
   "cell_type": "markdown",
   "id": "bf5e6cc8",
   "metadata": {},
   "source": [
    "Now instead of 7 counts of Python, we have 6 counts on \"python\" and one count on \"Python\" even though they are the same tag! Let's refactor our container to address this:"
   ]
  },
  {
   "cell_type": "code",
   "execution_count": 7,
   "id": "c0d199ad",
   "metadata": {},
   "outputs": [],
   "source": [
    "class TagCloud:\n",
    "    \"\"\"Modelling a container for tags applied on questions in a forum\"\"\"\n",
    "    \n",
    "    # setting an empty dict on instantiation\n",
    "    def __init__(self):\n",
    "        \"\"\"Initializing a cloud of tags\"\"\"\n",
    "        self.tags = {}\n",
    "        \n",
    "    # defining a function to add tags to the cloud\n",
    "    def add(self, tag):\n",
    "        \"\"\"\n",
    "        Adds a tag to the list. If the tag does not exist, `0` is returned by default.\n",
    "        \n",
    "        Args:\n",
    "        ----------\n",
    "        tag (str): A string value that is added to the \n",
    "        \n",
    "        \"\"\"\n",
    "        self.tags[tag.lower()] = self.tags.get(tag.lower(), 0) + 1"
   ]
  },
  {
   "cell_type": "markdown",
   "id": "d65e281d",
   "metadata": {},
   "source": [
    "Here we are now setting the tag in lowercase and getting the value of the tag in lowercase as well. Let's add \"python\" and \"Python\" tags again."
   ]
  },
  {
   "cell_type": "code",
   "execution_count": 8,
   "id": "e7e43eed",
   "metadata": {},
   "outputs": [],
   "source": [
    "cloud = TagCloud()"
   ]
  },
  {
   "cell_type": "code",
   "execution_count": 9,
   "id": "42c6a76d",
   "metadata": {},
   "outputs": [],
   "source": [
    "cloud.add(\"Python\")\n",
    "cloud.add(\"python\")\n",
    "cloud.add(\"pYthon\")"
   ]
  },
  {
   "cell_type": "code",
   "execution_count": 10,
   "id": "f948b6dd",
   "metadata": {},
   "outputs": [
    {
     "data": {
      "text/plain": [
       "{'python': 3}"
      ]
     },
     "execution_count": 10,
     "metadata": {},
     "output_type": "execute_result"
    }
   ],
   "source": [
    "cloud.tags"
   ]
  },
  {
   "cell_type": "markdown",
   "id": "1ed910f1",
   "metadata": {},
   "source": [
    "Now the issue with case-sensitivity is gone! The code is now cleaner and simpler. "
   ]
  },
  {
   "cell_type": "markdown",
   "id": "34abb943",
   "metadata": {},
   "source": [
    "# More magic methods\n",
    "\n",
    "Let's modify the custom container even more by applying some `magic method`!"
   ]
  },
  {
   "cell_type": "code",
   "execution_count": null,
   "id": "026494d7",
   "metadata": {},
   "outputs": [],
   "source": [
    "class TagCloud:\n",
    "    \"\"\"Modelling a container for tags applied on questions in a forum\"\"\"\n",
    "    \n",
    "    def __init__(self):\n",
    "        \"\"\"Initializing a cloud of tags\"\"\"\n",
    "        self.tags = {}\n",
    "    \n",
    "    # defining __getitem__ magic method\n",
    "    def __getitem__(self, tag):\n",
    "        \"\"\"Getting the value of a tag.\n",
    "        \n",
    "        Args:\n",
    "        ---------\n",
    "        tag (str): The tag to look for. If it does not exist, 0 is returned.\n",
    "        \n",
    "        Returns:\n",
    "        ---------\n",
    "        \n",
    "        int: the number of times a certain tag has been used.\n",
    "        \n",
    "        \"\"\"\n",
    "        return self.tags.get(tag.lower(), 0)\n",
    "    \n",
    "    # defining __setitem__ magic method\n",
    "    def __setitem__(self, tag, count):\n",
    "        \"\"\"Sets the count of a given tag.\n",
    "        \n",
    "        Args:\n",
    "        ------\n",
    "        tag (str): The tag for which a value is going to be set.\n",
    "        count (int): The value that a tag is going to have.\n",
    "        \"\"\"\n",
    "        self.tags[tag.lower()] = count\n",
    "        \n",
    "    # defining __len__ magic method\n",
    "    def __len__(self):\n",
    "        \"\"\"Shows count of tags of an instance\n",
    "        \n",
    "        Args:\n",
    "        -----\n",
    "        self: An instance \n",
    "        \n",
    "        Returns:\n",
    "        ---------\n",
    "        int: The length of the instance\n",
    "        \n",
    "        \"\"\"\n",
    "        return len(self.tags)\n",
    "    \n",
    "    #! defining `__iter__` magic method to make this object iterable!\n",
    "    def __iter__(self):\n",
    "        return iter(self.tags) # tags are going to be iterated over\n",
    "    \n",
    "    def add(self, tag):\n",
    "        \"\"\"\n",
    "        Adds a tag to the list. If the tag does not exist, `0` is returned by default.\n",
    "        \n",
    "        Args:\n",
    "        ----------\n",
    "        tag (str): A string value that is added to the \n",
    "        \n",
    "        \"\"\"\n",
    "        self.tags[tag.lower()] = self.tags.get(tag.lower(), 0) + 1"
   ]
  },
  {
   "cell_type": "code",
   "execution_count": null,
   "id": "7725d59a",
   "metadata": {},
   "outputs": [],
   "source": [
    "cloud = TagCloud()"
   ]
  },
  {
   "cell_type": "code",
   "execution_count": null,
   "id": "17bed8da",
   "metadata": {},
   "outputs": [],
   "source": [
    "cloud[\"python\"] = 30\n",
    "cloud[\"java\"] = 10"
   ]
  },
  {
   "cell_type": "code",
   "execution_count": null,
   "id": "db335fb6",
   "metadata": {},
   "outputs": [],
   "source": [
    "cloud[\"python\"]"
   ]
  },
  {
   "cell_type": "code",
   "execution_count": null,
   "id": "5c2486ae",
   "metadata": {},
   "outputs": [],
   "source": [
    "cloud[\"c#\"]"
   ]
  },
  {
   "cell_type": "code",
   "execution_count": null,
   "id": "86602a48",
   "metadata": {},
   "outputs": [],
   "source": [
    "len(cloud)"
   ]
  },
  {
   "cell_type": "code",
   "execution_count": 68,
   "id": "c3c0ae2c",
   "metadata": {},
   "outputs": [
    {
     "name": "stdout",
     "output_type": "stream",
     "text": [
      "python\n",
      "java\n"
     ]
    }
   ],
   "source": [
    "for tag in cloud:\n",
    "    print(tag)"
   ]
  }
 ],
 "metadata": {
  "kernelspec": {
   "display_name": "Python 3 (ipykernel)",
   "language": "python",
   "name": "python3"
  },
  "language_info": {
   "codemirror_mode": {
    "name": "ipython",
    "version": 3
   },
   "file_extension": ".py",
   "mimetype": "text/x-python",
   "name": "python",
   "nbconvert_exporter": "python",
   "pygments_lexer": "ipython3",
   "version": "3.10.1"
  }
 },
 "nbformat": 4,
 "nbformat_minor": 5
}
