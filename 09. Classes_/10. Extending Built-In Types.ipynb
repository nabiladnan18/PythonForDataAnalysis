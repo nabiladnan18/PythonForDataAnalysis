{
 "cells": [
  {
   "cell_type": "markdown",
   "id": "be409d72",
   "metadata": {},
   "source": [
    "# Basics\n",
    "\n",
    "It is possible for us to inherit from the _built-in types_ or _classes_ in Python. We can create a _custom class_ and inherit from _str_, _list_, _tuple_, _dict_ and many other built-in classes to inherit all the _attributes_ and _methods_ from the selected class or classes. Furthermore, we can extend the _custom class_ to do more than the base class(es) by defining new methods.\n",
    "\n",
    "Lets take a look at the following examples based on the _str_ class:"
   ]
  },
  {
   "cell_type": "markdown",
   "id": "a109e3ff",
   "metadata": {},
   "source": [
    "## Extending by adding new methods"
   ]
  },
  {
   "cell_type": "code",
   "execution_count": 6,
   "id": "f454ce7e",
   "metadata": {},
   "outputs": [],
   "source": [
    "class Text(str):\n",
    "    \n",
    "    def duplicate(self):\n",
    "        return self + self\n",
    "    \n",
    "    def repeat(self, count):\n",
    "        return self * count"
   ]
  },
  {
   "cell_type": "code",
   "execution_count": 7,
   "id": "205af66c",
   "metadata": {},
   "outputs": [],
   "source": [
    "text = Text(\"Python\")"
   ]
  },
  {
   "cell_type": "code",
   "execution_count": 8,
   "id": "e588ce25",
   "metadata": {},
   "outputs": [
    {
     "data": {
      "text/plain": [
       "'python'"
      ]
     },
     "execution_count": 8,
     "metadata": {},
     "output_type": "execute_result"
    }
   ],
   "source": [
    "text.lower() # built-in method of `str` object"
   ]
  },
  {
   "cell_type": "code",
   "execution_count": 9,
   "id": "87139a8d",
   "metadata": {},
   "outputs": [
    {
     "data": {
      "text/plain": [
       "'PythonPython'"
      ]
     },
     "execution_count": 9,
     "metadata": {},
     "output_type": "execute_result"
    }
   ],
   "source": [
    "text.duplicate() # custom method"
   ]
  },
  {
   "cell_type": "code",
   "execution_count": 10,
   "id": "a27df6dd",
   "metadata": {},
   "outputs": [
    {
     "data": {
      "text/plain": [
       "'PythonPythonPythonPythonPython'"
      ]
     },
     "execution_count": 10,
     "metadata": {},
     "output_type": "execute_result"
    }
   ],
   "source": [
    "text.repeat(5) # custom method"
   ]
  },
  {
   "cell_type": "markdown",
   "id": "283e76c6",
   "metadata": {},
   "source": [
    "## Extending by overriding built-in methods"
   ]
  },
  {
   "cell_type": "markdown",
   "id": "6b92546b",
   "metadata": {},
   "source": [
    "Now lets take a look at examples based on _list_ objects. We will extend the `append` method of _list_ class by printing a message to show what is being appended every time the method is called and then use the functionality of the method from the _base class_ list."
   ]
  },
  {
   "cell_type": "code",
   "execution_count": 13,
   "id": "a8c2dadc",
   "metadata": {},
   "outputs": [],
   "source": [
    "class TrackableList(list):\n",
    "    \n",
    "    def append(self, item):\n",
    "        print(f\"Appending {item}\")\n",
    "        super().append(item) # calling the append method of the base class to use its functionalities"
   ]
  },
  {
   "cell_type": "markdown",
   "id": "6df019b1",
   "metadata": {},
   "source": [
    "Here, we are **extending** the `append` method of the list class and not **overriding** because we are using the `append` method from the base class."
   ]
  },
  {
   "cell_type": "code",
   "execution_count": 14,
   "id": "4d558a09",
   "metadata": {},
   "outputs": [],
   "source": [
    "my_list = TrackableList([1, 2])"
   ]
  },
  {
   "cell_type": "code",
   "execution_count": 15,
   "id": "ab5a83f4",
   "metadata": {},
   "outputs": [
    {
     "name": "stdout",
     "output_type": "stream",
     "text": [
      "Appending 3\n"
     ]
    }
   ],
   "source": [
    "my_list.append(3)"
   ]
  },
  {
   "cell_type": "code",
   "execution_count": 16,
   "id": "1e072489",
   "metadata": {},
   "outputs": [
    {
     "data": {
      "text/plain": [
       "[1, 2, 3]"
      ]
     },
     "execution_count": 16,
     "metadata": {},
     "output_type": "execute_result"
    }
   ],
   "source": [
    "my_list"
   ]
  }
 ],
 "metadata": {
  "kernelspec": {
   "display_name": "Python 3 (ipykernel)",
   "language": "python",
   "name": "python3"
  },
  "language_info": {
   "codemirror_mode": {
    "name": "ipython",
    "version": 3
   },
   "file_extension": ".py",
   "mimetype": "text/x-python",
   "name": "python",
   "nbconvert_exporter": "python",
   "pygments_lexer": "ipython3",
   "version": "3.10.1"
  }
 },
 "nbformat": 4,
 "nbformat_minor": 5
}
