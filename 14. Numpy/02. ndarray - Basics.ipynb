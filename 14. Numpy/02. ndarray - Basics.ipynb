{
 "cells": [
  {
   "cell_type": "code",
   "execution_count": 1,
   "id": "eabce718",
   "metadata": {},
   "outputs": [],
   "source": [
    "import numpy as np"
   ]
  },
  {
   "cell_type": "markdown",
   "id": "2e9448b1",
   "metadata": {},
   "source": [
    "# Creating a simple array"
   ]
  },
  {
   "cell_type": "code",
   "execution_count": 2,
   "id": "aff46602",
   "metadata": {},
   "outputs": [],
   "source": [
    "array = np.array([1, 2, 3]) # one dimensional"
   ]
  },
  {
   "cell_type": "code",
   "execution_count": 3,
   "id": "318d98e0",
   "metadata": {
    "scrolled": true
   },
   "outputs": [
    {
     "data": {
      "text/plain": [
       "array([1, 2, 3])"
      ]
     },
     "execution_count": 3,
     "metadata": {},
     "output_type": "execute_result"
    }
   ],
   "source": [
    "array"
   ]
  },
  {
   "cell_type": "code",
   "execution_count": 4,
   "id": "d4be3eba",
   "metadata": {},
   "outputs": [
    {
     "data": {
      "text/plain": [
       "numpy.ndarray"
      ]
     },
     "execution_count": 4,
     "metadata": {},
     "output_type": "execute_result"
    }
   ],
   "source": [
    "type(array)"
   ]
  },
  {
   "cell_type": "code",
   "execution_count": 5,
   "id": "36c39804",
   "metadata": {},
   "outputs": [],
   "source": [
    "array = np.array([[1, 2, 3], [4, 5, 6]]) # multi-dimensional (matrix)"
   ]
  },
  {
   "cell_type": "code",
   "execution_count": 6,
   "id": "1ff020a9",
   "metadata": {
    "scrolled": true
   },
   "outputs": [
    {
     "data": {
      "text/plain": [
       "array([[1, 2, 3],\n",
       "       [4, 5, 6]])"
      ]
     },
     "execution_count": 6,
     "metadata": {},
     "output_type": "execute_result"
    }
   ],
   "source": [
    "array"
   ]
  },
  {
   "cell_type": "markdown",
   "id": "3472cfa7",
   "metadata": {},
   "source": [
    "**Notice that we have now created an array with 2 rows and 3 columns. We can find this out by using the `shape` attribute of `ndarray` objects.**"
   ]
  },
  {
   "cell_type": "code",
   "execution_count": 7,
   "id": "ffe7479a",
   "metadata": {
    "scrolled": true
   },
   "outputs": [
    {
     "data": {
      "text/plain": [
       "(2, 3)"
      ]
     },
     "execution_count": 7,
     "metadata": {},
     "output_type": "execute_result"
    }
   ],
   "source": [
    "array.shape"
   ]
  },
  {
   "cell_type": "markdown",
   "id": "43622ae2",
   "metadata": {},
   "source": [
    "`shape` returns the number of **rows and columns** as a tuple."
   ]
  },
  {
   "cell_type": "markdown",
   "id": "d6ada0cb",
   "metadata": {},
   "source": [
    "# Creating an array with sequential numbers"
   ]
  },
  {
   "cell_type": "code",
   "execution_count": 8,
   "id": "c6d295be",
   "metadata": {},
   "outputs": [],
   "source": [
    "array = np.arange(11) # similar to list(range(11))"
   ]
  },
  {
   "cell_type": "code",
   "execution_count": 9,
   "id": "19d83b0a",
   "metadata": {},
   "outputs": [
    {
     "data": {
      "text/plain": [
       "array([ 0,  1,  2,  3,  4,  5,  6,  7,  8,  9, 10])"
      ]
     },
     "execution_count": 9,
     "metadata": {},
     "output_type": "execute_result"
    }
   ],
   "source": [
    "array"
   ]
  },
  {
   "cell_type": "code",
   "execution_count": 10,
   "id": "2d409633",
   "metadata": {},
   "outputs": [],
   "source": [
    "array = np.arange(0, 20, 2) # third-argument: steps"
   ]
  },
  {
   "cell_type": "code",
   "execution_count": 11,
   "id": "9a18cb37",
   "metadata": {},
   "outputs": [
    {
     "data": {
      "text/plain": [
       "array([ 0,  2,  4,  6,  8, 10, 12, 14, 16, 18])"
      ]
     },
     "execution_count": 11,
     "metadata": {},
     "output_type": "execute_result"
    }
   ],
   "source": [
    "array"
   ]
  },
  {
   "cell_type": "markdown",
   "id": "94808ff6",
   "metadata": {},
   "source": [
    "# Creating an array with all same numbers\n",
    "\n",
    "We can quickly create matrices or simple one-dimensional arrays that contain a specific number like all zeros, ones or even a specific number of our choice. We must provide the `shape` of array for numpy to create those matrices."
   ]
  },
  {
   "cell_type": "markdown",
   "id": "ac1dc5eb",
   "metadata": {},
   "source": [
    "## Zeros"
   ]
  },
  {
   "cell_type": "code",
   "execution_count": 12,
   "id": "ef6c563f",
   "metadata": {},
   "outputs": [],
   "source": [
    "zero_array = np.zeros((2, 3))"
   ]
  },
  {
   "cell_type": "code",
   "execution_count": 13,
   "id": "52192868",
   "metadata": {},
   "outputs": [
    {
     "data": {
      "text/plain": [
       "array([[0., 0., 0.],\n",
       "       [0., 0., 0.]])"
      ]
     },
     "execution_count": 13,
     "metadata": {},
     "output_type": "execute_result"
    }
   ],
   "source": [
    "zero_array"
   ]
  },
  {
   "cell_type": "markdown",
   "id": "ee081dab",
   "metadata": {},
   "source": [
    "**The output is in `float`. We can change this by passing another argument `dtype` as `int`. By default, it is `float`. We can also check this using the `dtype` attribute of our `zero_array`.**"
   ]
  },
  {
   "cell_type": "code",
   "execution_count": 14,
   "id": "d36d2171",
   "metadata": {},
   "outputs": [
    {
     "data": {
      "text/plain": [
       "dtype('float64')"
      ]
     },
     "execution_count": 14,
     "metadata": {},
     "output_type": "execute_result"
    }
   ],
   "source": [
    "zero_array.dtype"
   ]
  },
  {
   "cell_type": "code",
   "execution_count": 15,
   "id": "cc95ec8d",
   "metadata": {},
   "outputs": [],
   "source": [
    "zero_array = np.zeros((2, 3), dtype=int)"
   ]
  },
  {
   "cell_type": "code",
   "execution_count": 16,
   "id": "3108b7ef",
   "metadata": {},
   "outputs": [
    {
     "data": {
      "text/plain": [
       "array([[0, 0, 0],\n",
       "       [0, 0, 0]])"
      ]
     },
     "execution_count": 16,
     "metadata": {},
     "output_type": "execute_result"
    }
   ],
   "source": [
    "zero_array"
   ]
  },
  {
   "cell_type": "markdown",
   "id": "c4467ae1",
   "metadata": {},
   "source": [
    "## Ones"
   ]
  },
  {
   "cell_type": "code",
   "execution_count": 17,
   "id": "fb4b7eee",
   "metadata": {},
   "outputs": [],
   "source": [
    "ones_array = np.ones((3, 3), dtype=int)"
   ]
  },
  {
   "cell_type": "code",
   "execution_count": 18,
   "id": "3e4a81ff",
   "metadata": {
    "scrolled": true
   },
   "outputs": [
    {
     "data": {
      "text/plain": [
       "array([[1, 1, 1],\n",
       "       [1, 1, 1],\n",
       "       [1, 1, 1]])"
      ]
     },
     "execution_count": 18,
     "metadata": {},
     "output_type": "execute_result"
    }
   ],
   "source": [
    "ones_array"
   ]
  },
  {
   "cell_type": "markdown",
   "id": "d054f756",
   "metadata": {},
   "source": [
    "## Empty"
   ]
  },
  {
   "cell_type": "code",
   "execution_count": 19,
   "id": "b39dc649",
   "metadata": {},
   "outputs": [],
   "source": [
    "empty_array = np.empty((2,3))"
   ]
  },
  {
   "cell_type": "code",
   "execution_count": 20,
   "id": "79db3f66",
   "metadata": {},
   "outputs": [
    {
     "data": {
      "text/plain": [
       "array([[0., 0., 0.],\n",
       "       [0., 0., 0.]])"
      ]
     },
     "execution_count": 20,
     "metadata": {},
     "output_type": "execute_result"
    }
   ],
   "source": [
    "empty_array"
   ]
  },
  {
   "cell_type": "markdown",
   "id": "f4ab246f",
   "metadata": {},
   "source": [
    "## Specific numbers\n",
    "\n",
    "For specific numbers, instead of `dtype`, we pass the `fill_value`. In this example, we will create a a 5x5 matrix which includes 5."
   ]
  },
  {
   "cell_type": "code",
   "execution_count": 21,
   "id": "daf075fc",
   "metadata": {},
   "outputs": [],
   "source": [
    "fives_array = np.full((5, 5), 5)"
   ]
  },
  {
   "cell_type": "code",
   "execution_count": 22,
   "id": "5d9c981a",
   "metadata": {},
   "outputs": [
    {
     "data": {
      "text/plain": [
       "array([[5, 5, 5, 5, 5],\n",
       "       [5, 5, 5, 5, 5],\n",
       "       [5, 5, 5, 5, 5],\n",
       "       [5, 5, 5, 5, 5],\n",
       "       [5, 5, 5, 5, 5]])"
      ]
     },
     "execution_count": 22,
     "metadata": {},
     "output_type": "execute_result"
    }
   ],
   "source": [
    "fives_array"
   ]
  },
  {
   "cell_type": "markdown",
   "id": "79183370",
   "metadata": {},
   "source": [
    "**We can check out the dimensions of an array using `ndim` attribute of the ndarray object.**"
   ]
  },
  {
   "cell_type": "code",
   "execution_count": 23,
   "id": "5b0668f6",
   "metadata": {},
   "outputs": [
    {
     "data": {
      "text/plain": [
       "2"
      ]
     },
     "execution_count": 23,
     "metadata": {},
     "output_type": "execute_result"
    }
   ],
   "source": [
    "fives_array.ndim"
   ]
  },
  {
   "cell_type": "code",
   "execution_count": 24,
   "id": "ca43a395",
   "metadata": {},
   "outputs": [
    {
     "data": {
      "text/plain": [
       "1"
      ]
     },
     "execution_count": 24,
     "metadata": {},
     "output_type": "execute_result"
    }
   ],
   "source": [
    "array.ndim"
   ]
  },
  {
   "cell_type": "markdown",
   "id": "7027bc48",
   "metadata": {},
   "source": [
    "# Creating arrays with random numbers\n",
    "\n",
    "Numpy has a `random` module that helps us generate random numbers instantly. We will use the `random` function inside the `random` module to generate an array with random numbers."
   ]
  },
  {
   "cell_type": "code",
   "execution_count": 25,
   "id": "cd05f42b",
   "metadata": {},
   "outputs": [],
   "source": [
    "random_array = np.random.random((2, 3))"
   ]
  },
  {
   "cell_type": "code",
   "execution_count": 26,
   "id": "d56cc10c",
   "metadata": {
    "scrolled": true
   },
   "outputs": [
    {
     "data": {
      "text/plain": [
       "array([[0.78202529, 0.8490148 , 0.95212908],\n",
       "       [0.84982826, 0.83617193, 0.60423036]])"
      ]
     },
     "execution_count": 26,
     "metadata": {},
     "output_type": "execute_result"
    }
   ],
   "source": [
    "random_array"
   ]
  },
  {
   "cell_type": "markdown",
   "id": "8dd5ab5d",
   "metadata": {},
   "source": [
    "We can also generate an array using the `randn` function:"
   ]
  },
  {
   "cell_type": "code",
   "execution_count": 27,
   "id": "56c71601",
   "metadata": {},
   "outputs": [],
   "source": [
    "randn_array = np.random.randn(3, 3)"
   ]
  },
  {
   "cell_type": "code",
   "execution_count": 28,
   "id": "aa0fb37d",
   "metadata": {},
   "outputs": [
    {
     "data": {
      "text/plain": [
       "array([[-0.12442062,  0.46076615,  1.0395717 ],\n",
       "       [-0.83824204, -1.09163048, -1.00249561],\n",
       "       [-2.84349178,  0.79747511,  0.5294492 ]])"
      ]
     },
     "execution_count": 28,
     "metadata": {},
     "output_type": "execute_result"
    }
   ],
   "source": [
    "randn_array"
   ]
  },
  {
   "cell_type": "markdown",
   "id": "a91dc094",
   "metadata": {},
   "source": [
    "We can have integer values randomly as well. In such cases, we can use the `randint` function of the random module."
   ]
  },
  {
   "cell_type": "code",
   "execution_count": 29,
   "id": "66fc4db5",
   "metadata": {},
   "outputs": [],
   "source": [
    "random_ints = np.random.randint(low=0, high=10, size=(2, 3))"
   ]
  },
  {
   "cell_type": "code",
   "execution_count": 30,
   "id": "3e57e7a7",
   "metadata": {},
   "outputs": [
    {
     "data": {
      "text/plain": [
       "array([[6, 6, 4],\n",
       "       [2, 2, 9]])"
      ]
     },
     "execution_count": 30,
     "metadata": {},
     "output_type": "execute_result"
    }
   ],
   "source": [
    "random_ints"
   ]
  },
  {
   "cell_type": "markdown",
   "id": "24cfbdac",
   "metadata": {},
   "source": [
    "**We can generate only a single random value if we simply do not pass the _shape_ in the above functions:** "
   ]
  },
  {
   "cell_type": "code",
   "execution_count": 31,
   "id": "0d174d3b",
   "metadata": {},
   "outputs": [
    {
     "data": {
      "text/plain": [
       "10"
      ]
     },
     "execution_count": 31,
     "metadata": {},
     "output_type": "execute_result"
    }
   ],
   "source": [
    "random_int = np.random.randint(low=0, high=100)\n",
    "random_int"
   ]
  },
  {
   "cell_type": "code",
   "execution_count": 32,
   "id": "df5ea480",
   "metadata": {},
   "outputs": [
    {
     "data": {
      "text/plain": [
       "0.03853516816083835"
      ]
     },
     "execution_count": 32,
     "metadata": {},
     "output_type": "execute_result"
    }
   ],
   "source": [
    "random_num = np.random.random()\n",
    "random_num"
   ]
  },
  {
   "cell_type": "code",
   "execution_count": 33,
   "id": "4e647292",
   "metadata": {},
   "outputs": [
    {
     "data": {
      "text/plain": [
       "0.5949085104327682"
      ]
     },
     "execution_count": 33,
     "metadata": {},
     "output_type": "execute_result"
    }
   ],
   "source": [
    "randn_num = np.random.randn()\n",
    "randn_num"
   ]
  },
  {
   "cell_type": "markdown",
   "id": "505f393f",
   "metadata": {},
   "source": [
    "# Multi-dimensional arrays\n",
    "\n",
    "So far we have created shapes by passing the number of rows and columns as a tuple to create two dimensional arrays. In that tuple, we can also include the number of matrices we want thus increasing the number of dimensions. For example:"
   ]
  },
  {
   "cell_type": "code",
   "execution_count": 34,
   "id": "02335624",
   "metadata": {},
   "outputs": [],
   "source": [
    "random_array = np.random.random((2, 3, 2))"
   ]
  },
  {
   "cell_type": "code",
   "execution_count": 35,
   "id": "ceafa7da",
   "metadata": {
    "scrolled": false
   },
   "outputs": [
    {
     "data": {
      "text/plain": [
       "array([[[0.72556927, 0.25440531],\n",
       "        [0.46650971, 0.89936225],\n",
       "        [0.69127692, 0.96192954]],\n",
       "\n",
       "       [[0.68481667, 0.41810852],\n",
       "        [0.94826414, 0.0873864 ],\n",
       "        [0.84023233, 0.91373075]]])"
      ]
     },
     "execution_count": 35,
     "metadata": {},
     "output_type": "execute_result"
    }
   ],
   "source": [
    "random_array"
   ]
  },
  {
   "cell_type": "code",
   "execution_count": 36,
   "id": "e0b9fe0d",
   "metadata": {},
   "outputs": [
    {
     "data": {
      "text/plain": [
       "3"
      ]
     },
     "execution_count": 36,
     "metadata": {},
     "output_type": "execute_result"
    }
   ],
   "source": [
    "random_array.ndim"
   ]
  },
  {
   "cell_type": "markdown",
   "id": "598f266d",
   "metadata": {},
   "source": [
    "# the `reshape` Method\n",
    "By calling the `reshape` method on an array, we can rearrange its shape and its dimensions."
   ]
  },
  {
   "cell_type": "code",
   "execution_count": 37,
   "id": "294bfc02",
   "metadata": {
    "scrolled": true
   },
   "outputs": [
    {
     "data": {
      "text/plain": [
       "array([ 0,  1,  2,  3,  4,  5,  6,  7,  8,  9, 10, 11])"
      ]
     },
     "execution_count": 37,
     "metadata": {},
     "output_type": "execute_result"
    }
   ],
   "source": [
    "arr = np.arange(12)\n",
    "arr"
   ]
  },
  {
   "cell_type": "code",
   "execution_count": 38,
   "id": "f9ee7fe6",
   "metadata": {},
   "outputs": [
    {
     "data": {
      "text/plain": [
       "1"
      ]
     },
     "execution_count": 38,
     "metadata": {},
     "output_type": "execute_result"
    }
   ],
   "source": [
    "arr.ndim"
   ]
  },
  {
   "cell_type": "code",
   "execution_count": 39,
   "id": "9853ff04",
   "metadata": {},
   "outputs": [
    {
     "data": {
      "text/plain": [
       "array([[ 0,  1,  2,  3],\n",
       "       [ 4,  5,  6,  7],\n",
       "       [ 8,  9, 10, 11]])"
      ]
     },
     "execution_count": 39,
     "metadata": {},
     "output_type": "execute_result"
    }
   ],
   "source": [
    "arr2 = arr.reshape(3,4)\n",
    "arr2"
   ]
  },
  {
   "cell_type": "code",
   "execution_count": 40,
   "id": "c91aa480",
   "metadata": {},
   "outputs": [
    {
     "data": {
      "text/plain": [
       "2"
      ]
     },
     "execution_count": 40,
     "metadata": {},
     "output_type": "execute_result"
    }
   ],
   "source": [
    "arr2.ndim"
   ]
  },
  {
   "cell_type": "code",
   "execution_count": 41,
   "id": "6e54e1ad",
   "metadata": {},
   "outputs": [
    {
     "data": {
      "text/plain": [
       "array([[[ 0,  1],\n",
       "        [ 2,  3],\n",
       "        [ 4,  5]],\n",
       "\n",
       "       [[ 6,  7],\n",
       "        [ 8,  9],\n",
       "        [10, 11]]])"
      ]
     },
     "execution_count": 41,
     "metadata": {},
     "output_type": "execute_result"
    }
   ],
   "source": [
    "arr3 = arr.reshape(2,3,2)\n",
    "arr3"
   ]
  },
  {
   "cell_type": "code",
   "execution_count": 42,
   "id": "054746ed",
   "metadata": {},
   "outputs": [
    {
     "data": {
      "text/plain": [
       "3"
      ]
     },
     "execution_count": 42,
     "metadata": {},
     "output_type": "execute_result"
    }
   ],
   "source": [
    "arr3.ndim"
   ]
  },
  {
   "attachments": {
    "image.png": {
     "image/png": "[encoded data removed]"
    }
   },
   "cell_type": "markdown",
   "id": "4e77a6f0",
   "metadata": {},
   "source": [
    "# More array creation functions\n",
    "\n",
    "![image.png](attachment:image.png)"
   ]
  },
  {
   "cell_type": "code",
   "execution_count": 43,
   "id": "f7e7c8ef",
   "metadata": {},
   "outputs": [
    {
     "data": {
      "text/plain": [
       "array([[[1., 1.],\n",
       "        [1., 1.],\n",
       "        [1., 1.]],\n",
       "\n",
       "       [[1., 1.],\n",
       "        [1., 1.],\n",
       "        [1., 1.]]])"
      ]
     },
     "execution_count": 43,
     "metadata": {},
     "output_type": "execute_result"
    }
   ],
   "source": [
    "np.ones_like(random_array)"
   ]
  },
  {
   "cell_type": "code",
   "execution_count": 44,
   "id": "01eaff36",
   "metadata": {},
   "outputs": [
    {
     "data": {
      "text/plain": [
       "array([[3, 3, 3],\n",
       "       [3, 3, 3]])"
      ]
     },
     "execution_count": 44,
     "metadata": {},
     "output_type": "execute_result"
    }
   ],
   "source": [
    "np.full_like(zero_array, 3)"
   ]
  },
  {
   "cell_type": "code",
   "execution_count": 45,
   "id": "fa321846",
   "metadata": {},
   "outputs": [
    {
     "data": {
      "text/plain": [
       "array([[1., 0., 0.],\n",
       "       [0., 1., 0.],\n",
       "       [0., 0., 1.]])"
      ]
     },
     "execution_count": 45,
     "metadata": {},
     "output_type": "execute_result"
    }
   ],
   "source": [
    "np.eye(3)"
   ]
  },
  {
   "cell_type": "code",
   "execution_count": 46,
   "id": "0a7b6591",
   "metadata": {},
   "outputs": [
    {
     "data": {
      "text/plain": [
       "array([[1., 0., 0.],\n",
       "       [0., 1., 0.],\n",
       "       [0., 0., 1.]])"
      ]
     },
     "execution_count": 46,
     "metadata": {},
     "output_type": "execute_result"
    }
   ],
   "source": [
    "np.identity(3)"
   ]
  }
 ],
 "metadata": {
  "kernelspec": {
   "display_name": "Python 3 (ipykernel)",
   "language": "python",
   "name": "python3"
  },
  "language_info": {
   "codemirror_mode": {
    "name": "ipython",
    "version": 3
   },
   "file_extension": ".py",
   "mimetype": "text/x-python",
   "name": "python",
   "nbconvert_exporter": "python",
   "pygments_lexer": "ipython3",
   "version": "3.10.1"
  }
 },
 "nbformat": 4,
 "nbformat_minor": 5
}
