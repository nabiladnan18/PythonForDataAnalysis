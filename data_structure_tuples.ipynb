{
 "cells": [
  {
   "cell_type": "markdown",
   "id": "cdca9d6a",
   "metadata": {},
   "source": [
    "# Tuples\n",
    "\n",
    "A `tuple` is a fixed-length, `immutable` sequence of Python objects. This means that a `tuple` cannot be changed or updated. Must only use a `tuple` when the elements in the sequence is not changeable like days of the week or the months in a year.  "
   ]
  },
  {
   "cell_type": "code",
   "execution_count": 1,
   "id": "1b1f1559",
   "metadata": {},
   "outputs": [],
   "source": [
    "tup = (4, 5, 6)"
   ]
  },
  {
   "cell_type": "code",
   "execution_count": 2,
   "id": "d4901e49",
   "metadata": {},
   "outputs": [
    {
     "data": {
      "text/plain": [
       "(4, 5, 6)"
      ]
     },
     "execution_count": 2,
     "metadata": {},
     "output_type": "execute_result"
    }
   ],
   "source": [
    "tup"
   ]
  },
  {
   "cell_type": "code",
   "execution_count": 3,
   "id": "6169f637",
   "metadata": {},
   "outputs": [
    {
     "data": {
      "text/plain": [
       "((4, 5, 6), (7, 8, 9))"
      ]
     },
     "execution_count": 3,
     "metadata": {},
     "output_type": "execute_result"
    }
   ],
   "source": [
    "nested_tup = ((4, 5, 6), (7, 8, 9))\n",
    "nested_tup"
   ]
  },
  {
   "cell_type": "markdown",
   "id": "ea03da4d",
   "metadata": {},
   "source": [
    "Converting any sequence or iterator to a tuple by invoking `tuple`:"
   ]
  },
  {
   "cell_type": "code",
   "execution_count": 5,
   "id": "8e8a3c06",
   "metadata": {},
   "outputs": [
    {
     "data": {
      "text/plain": [
       "('s', 't', 'r', 'i', 'n', 'g')"
      ]
     },
     "execution_count": 5,
     "metadata": {},
     "output_type": "execute_result"
    }
   ],
   "source": [
    "tuple_of_string = tuple('string')\n",
    "tuple_of_string"
   ]
  },
  {
   "cell_type": "code",
   "execution_count": 6,
   "id": "8348d34e",
   "metadata": {},
   "outputs": [
    {
     "data": {
      "text/plain": [
       "(0, 1, 2, 3, 4, 5, 6, 7, 8, 9, 10, 11, 12, 13, 14)"
      ]
     },
     "execution_count": 6,
     "metadata": {},
     "output_type": "execute_result"
    }
   ],
   "source": [
    "tuple_of_values = tuple(range(0,15))\n",
    "tuple_of_values"
   ]
  },
  {
   "cell_type": "markdown",
   "id": "a83c31f1",
   "metadata": {},
   "source": [
    "Elements in a `tuple` can be accessed by `[]`"
   ]
  },
  {
   "cell_type": "code",
   "execution_count": 8,
   "id": "846a76fe",
   "metadata": {},
   "outputs": [
    {
     "data": {
      "text/plain": [
       "8"
      ]
     },
     "execution_count": 8,
     "metadata": {},
     "output_type": "execute_result"
    }
   ],
   "source": [
    "tup[2]"
   ]
  },
  {
   "cell_type": "code",
   "execution_count": 9,
   "id": "34885d43",
   "metadata": {},
   "outputs": [
    {
     "data": {
      "text/plain": [
       "(4, 5, 6)"
      ]
     },
     "execution_count": 9,
     "metadata": {},
     "output_type": "execute_result"
    }
   ],
   "source": [
    "nested_tup[0]"
   ]
  },
  {
   "cell_type": "code",
   "execution_count": 10,
   "id": "e9aac778",
   "metadata": {},
   "outputs": [
    {
     "data": {
      "text/plain": [
       "'n'"
      ]
     },
     "execution_count": 10,
     "metadata": {},
     "output_type": "execute_result"
    }
   ],
   "source": [
    "tuple_of_string[4]"
   ]
  },
  {
   "cell_type": "code",
   "execution_count": 11,
   "id": "6cbee78b",
   "metadata": {},
   "outputs": [
    {
     "data": {
      "text/plain": [
       "8"
      ]
     },
     "execution_count": 11,
     "metadata": {},
     "output_type": "execute_result"
    }
   ],
   "source": [
    "tuple_of_values[8]"
   ]
  },
  {
   "cell_type": "markdown",
   "id": "0d0e3217",
   "metadata": {},
   "source": [
    "**If an `object` inside a `tuple` is mutable, such as a `list`, you can modify it in-place:**"
   ]
  },
  {
   "cell_type": "code",
   "execution_count": 14,
   "id": "d8b9bdfd",
   "metadata": {},
   "outputs": [],
   "source": [
    "tup = tuple(['foo', [1, 2], True])"
   ]
  },
  {
   "cell_type": "code",
   "execution_count": 15,
   "id": "170926d1",
   "metadata": {},
   "outputs": [],
   "source": [
    "tup[1].append(3)"
   ]
  },
  {
   "cell_type": "code",
   "execution_count": 16,
   "id": "57446977",
   "metadata": {},
   "outputs": [
    {
     "data": {
      "text/plain": [
       "('foo', [1, 2, 3], True)"
      ]
     },
     "execution_count": 16,
     "metadata": {},
     "output_type": "execute_result"
    }
   ],
   "source": [
    "tup"
   ]
  },
  {
   "cell_type": "markdown",
   "id": "f59551f7",
   "metadata": {},
   "source": [
    "Concatenating multiple `tuple`s are possible by using `+` or `*` operator. "
   ]
  },
  {
   "cell_type": "code",
   "execution_count": 17,
   "id": "18ace32e",
   "metadata": {},
   "outputs": [
    {
     "data": {
      "text/plain": [
       "(4, None, 'foo', 6, 0, 'bar')"
      ]
     },
     "execution_count": 17,
     "metadata": {},
     "output_type": "execute_result"
    }
   ],
   "source": [
    "(4, None, 'foo') + (6, 0) + ('bar',)"
   ]
  },
  {
   "cell_type": "code",
   "execution_count": 18,
   "id": "65c99881",
   "metadata": {},
   "outputs": [
    {
     "data": {
      "text/plain": [
       "('foo', 'bar', 'foo', 'bar', 'foo', 'bar', 'foo', 'bar')"
      ]
     },
     "execution_count": 18,
     "metadata": {},
     "output_type": "execute_result"
    }
   ],
   "source": [
    "('foo', 'bar') * 4"
   ]
  },
  {
   "cell_type": "markdown",
   "id": "cb39e9fd",
   "metadata": {},
   "source": [
    "### Methods\n"
   ]
  },
  {
   "cell_type": "markdown",
   "id": "b8d2a418",
   "metadata": {},
   "source": [
    "Since the size and contents of a `tuple` cannot be modified, it is very light on `instance methods`. A particularly useful one (also available on lists) is `count`, which counts the number of occurrences of a value:"
   ]
  },
  {
   "cell_type": "code",
   "execution_count": 19,
   "id": "e8118ce7",
   "metadata": {},
   "outputs": [],
   "source": [
    "a = (1, 2, 2, 2, 3, 4, 2)"
   ]
  },
  {
   "cell_type": "code",
   "execution_count": 20,
   "id": "17efe95f",
   "metadata": {},
   "outputs": [
    {
     "data": {
      "text/plain": [
       "4"
      ]
     },
     "execution_count": 20,
     "metadata": {},
     "output_type": "execute_result"
    }
   ],
   "source": [
    "a.count(2)"
   ]
  }
 ],
 "metadata": {
  "kernelspec": {
   "display_name": "Python 3 (ipykernel)",
   "language": "python",
   "name": "python3"
  },
  "language_info": {
   "codemirror_mode": {
    "name": "ipython",
    "version": 3
   },
   "file_extension": ".py",
   "mimetype": "text/x-python",
   "name": "python",
   "nbconvert_exporter": "python",
   "pygments_lexer": "ipython3",
   "version": "3.10.1"
  }
 },
 "nbformat": 4,
 "nbformat_minor": 5
}
