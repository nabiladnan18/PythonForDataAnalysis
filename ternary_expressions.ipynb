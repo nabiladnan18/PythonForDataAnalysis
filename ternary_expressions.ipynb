{
 "cells": [
  {
   "cell_type": "markdown",
   "id": "3854d33a",
   "metadata": {},
   "source": [
    "**A ternary expression in Python allows combining an if-else block that produces a value into a single line or expression.**\n",
    "\n",
    "This is especially helpful when the value of a variable is found by an `if_else` statement."
   ]
  },
  {
   "cell_type": "markdown",
   "id": "163227bc",
   "metadata": {},
   "source": [
    "Take the following example. If some has a good credit score and is earning a significant amount of money s/he will be eligible for a loan."
   ]
  },
  {
   "cell_type": "code",
   "execution_count": 3,
   "id": "86837c85",
   "metadata": {},
   "outputs": [],
   "source": [
    "good_credit_score = True\n",
    "high_earning = True"
   ]
  },
  {
   "cell_type": "markdown",
   "id": "446cfa0c",
   "metadata": {},
   "source": [
    "To write the following code block to determine whether someone is eligible or not is absolutely okay."
   ]
  },
  {
   "cell_type": "code",
   "execution_count": 4,
   "id": "5f536eff",
   "metadata": {},
   "outputs": [
    {
     "name": "stdout",
     "output_type": "stream",
     "text": [
      "Eligible for loan\n"
     ]
    }
   ],
   "source": [
    "if good_credit_score and high_earning:\n",
    "    message = \"Eligible for loan\"\n",
    "else:\n",
    "    message = \"Not eligible for loan\"\n",
    "print(message)"
   ]
  },
  {
   "cell_type": "markdown",
   "id": "4944a799",
   "metadata": {},
   "source": [
    "However, this can be done in one line, like so:"
   ]
  },
  {
   "cell_type": "code",
   "execution_count": 6,
   "id": "e9ea5a04",
   "metadata": {},
   "outputs": [
    {
     "name": "stdout",
     "output_type": "stream",
     "text": [
      "Eligible for loan\n"
     ]
    }
   ],
   "source": [
    "message = \"Eligible for loan\" if (good_credit_score and high_earning) else \"Not eligible for loan\"\n",
    "print(message)"
   ]
  },
  {
   "cell_type": "markdown",
   "id": "cc5bac59",
   "metadata": {},
   "source": [
    "The code block above returns the exact same value for `message` as does the one above it."
   ]
  }
 ],
 "metadata": {
  "kernelspec": {
   "display_name": "Python 3 (ipykernel)",
   "language": "python",
   "name": "python3"
  },
  "language_info": {
   "codemirror_mode": {
    "name": "ipython",
    "version": 3
   },
   "file_extension": ".py",
   "mimetype": "text/x-python",
   "name": "python",
   "nbconvert_exporter": "python",
   "pygments_lexer": "ipython3",
   "version": "3.10.1"
  }
 },
 "nbformat": 4,
 "nbformat_minor": 5
}
