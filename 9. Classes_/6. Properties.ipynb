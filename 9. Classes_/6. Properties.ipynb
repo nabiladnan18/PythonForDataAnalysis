{
 "cells": [
  {
   "cell_type": "markdown",
   "id": "6dc7819d",
   "metadata": {},
   "source": [
    "# Basics\n",
    "\n",
    "In some situations, we would like to have more control over the attributes of an object. Take the following for example. We have here a `class` called *Product*."
   ]
  },
  {
   "cell_type": "code",
   "execution_count": 1,
   "id": "1e7848ef",
   "metadata": {},
   "outputs": [],
   "source": [
    "class Product:\n",
    "    \n",
    "    def __init__(self, price):\n",
    "        self.price = price"
   ]
  },
  {
   "cell_type": "markdown",
   "id": "4221a501",
   "metadata": {},
   "source": [
    "With the implementation above, it is possible to wrongly set the price of a product to a negative value as there is no validation there. \n",
    "\n",
    "So let's add a validation. Before that, we have to make the *price attribute* private so that it cannot be accessed and set by mistake. "
   ]
  },
  {
   "cell_type": "code",
   "execution_count": 10,
   "id": "8b1ae34d",
   "metadata": {},
   "outputs": [],
   "source": [
    "class Product:\n",
    "    \n",
    "    def __init__(self, price):\n",
    "        self.set_price(price)\n",
    "        \n",
    "    def set_price(self, value):\n",
    "        if value < 0:\n",
    "            raise ValueError(\"Price cannot be negative!\")\n",
    "        else:\n",
    "            self.__price = value\n",
    "            \n",
    "    def get_price(self):\n",
    "        return self.__price"
   ]
  },
  {
   "cell_type": "code",
   "execution_count": 11,
   "id": "a21eeba9",
   "metadata": {},
   "outputs": [],
   "source": [
    "product = Product(69)"
   ]
  },
  {
   "cell_type": "code",
   "execution_count": 13,
   "id": "a82c8d6e",
   "metadata": {},
   "outputs": [
    {
     "data": {
      "text/plain": [
       "69"
      ]
     },
     "execution_count": 13,
     "metadata": {},
     "output_type": "execute_result"
    }
   ],
   "source": [
    "product.get_price()"
   ]
  },
  {
   "cell_type": "markdown",
   "id": "c853577f",
   "metadata": {},
   "source": [
    "The code above can be improved further by calling the `property` function. The `property` function takes 4 optional functions: `fget`, `fset`, `fdel` and `doc` which are functions for getting, setting, deleting and getting the documentation for a property.\n",
    "\n",
    "Let's refactor the `Product` class."
   ]
  },
  {
   "cell_type": "code",
   "execution_count": 27,
   "id": "51e7027c",
   "metadata": {},
   "outputs": [],
   "source": [
    "class Product:\n",
    "    \n",
    "    def __init__(self, price):\n",
    "        self.set_price(price)\n",
    "        \n",
    "    def set_price(self, value):\n",
    "        if value < 0:\n",
    "            raise ValueError(\"Price cannot be negative!\")\n",
    "        else:\n",
    "            self.__price = value\n",
    "            \n",
    "    def get_price(self):\n",
    "        return self.__price\n",
    "    \n",
    "    # Adding property\n",
    "    price = property(get_price, set_price)"
   ]
  },
  {
   "cell_type": "code",
   "execution_count": 28,
   "id": "c95b3800",
   "metadata": {},
   "outputs": [],
   "source": [
    "product = Product(12.99)"
   ]
  },
  {
   "cell_type": "code",
   "execution_count": 29,
   "id": "8fc6ffd4",
   "metadata": {},
   "outputs": [
    {
     "data": {
      "text/plain": [
       "12.99"
      ]
     },
     "execution_count": 29,
     "metadata": {},
     "output_type": "execute_result"
    }
   ],
   "source": [
    "product.price"
   ]
  },
  {
   "cell_type": "code",
   "execution_count": 30,
   "id": "6d50d401",
   "metadata": {},
   "outputs": [],
   "source": [
    "product.price = 15.79"
   ]
  },
  {
   "cell_type": "code",
   "execution_count": 31,
   "id": "5e346e5b",
   "metadata": {},
   "outputs": [
    {
     "data": {
      "text/plain": [
       "15.79"
      ]
     },
     "execution_count": 31,
     "metadata": {},
     "output_type": "execute_result"
    }
   ],
   "source": [
    "product.price"
   ]
  },
  {
   "cell_type": "markdown",
   "id": "46e73116",
   "metadata": {},
   "source": [
    "We could further improve the code by hiding the `get_price` and `set_price` methods by making them private. However, this will only make the code more unreadable. **Furthermore, the refactoring here here is not Pythonic!** There is a better, shorter and cleaner way of doing it!"
   ]
  },
  {
   "cell_type": "markdown",
   "id": "28884783",
   "metadata": {},
   "source": [
    "# Property decorators\n",
    "\n",
    "With the help of the `property` *decorators*, we can achieve the same thing with less but succinct code."
   ]
  },
  {
   "cell_type": "code",
   "execution_count": 39,
   "id": "7c8d90d9",
   "metadata": {},
   "outputs": [],
   "source": [
    "class Product:\n",
    "    \n",
    "    def __init__(self, price):\n",
    "        self.price = price # this becomes normal again! no need for that set_price func!\n",
    "    \n",
    "    @property # Adding decorator\n",
    "    def price(self): # changing func name to desired attribute name\n",
    "        return self.__price\n",
    "    \n",
    "    @price.setter\n",
    "    def price(self, value): \n",
    "        if value < 0:\n",
    "            raise ValueError(\"Price cannot be negative!\")\n",
    "        else:\n",
    "            self.__price = value"
   ]
  },
  {
   "cell_type": "markdown",
   "id": "8555360e",
   "metadata": {},
   "source": [
    "When we added the `property` decorator over the `price` function, Python creates a property called price without us having to explicitly create one and passing functions like before. By default, the `get_price` method gets replaced by the property itself.\n",
    "\n",
    "We then add another decorator in the form of *(property name}.setter* on the `set_price` method and rename it to `price` again. This identifies the method as \"the decider of the value\" of the `price` property."
   ]
  },
  {
   "cell_type": "code",
   "execution_count": 40,
   "id": "9e2e69c8",
   "metadata": {},
   "outputs": [],
   "source": [
    "product = Product(69)"
   ]
  },
  {
   "cell_type": "code",
   "execution_count": 41,
   "id": "fc8f3ae7",
   "metadata": {},
   "outputs": [
    {
     "data": {
      "text/plain": [
       "69"
      ]
     },
     "execution_count": 41,
     "metadata": {},
     "output_type": "execute_result"
    }
   ],
   "source": [
    "product.price"
   ]
  },
  {
   "cell_type": "code",
   "execution_count": 46,
   "id": "c833aee8",
   "metadata": {},
   "outputs": [],
   "source": [
    "product.price = 100"
   ]
  },
  {
   "cell_type": "code",
   "execution_count": null,
   "id": "5f38486a",
   "metadata": {},
   "outputs": [],
   "source": [
    "product.price"
   ]
  },
  {
   "cell_type": "markdown",
   "id": "0e5f8774",
   "metadata": {},
   "source": [
    "*Note: Not all attributes need the setter. There can be cases where you need to define an attribute at instantiation but not later.*"
   ]
  },
  {
   "cell_type": "code",
   "execution_count": 44,
   "id": "10db4376",
   "metadata": {},
   "outputs": [],
   "source": [
    "class Product:\n",
    "    \n",
    "    def __init__(self, price):\n",
    "        self.__price = price # this becomes normal again! no need for that set_price func!\n",
    "    \n",
    "    @property # Adding decorator\n",
    "    def price(self): # changing func name to desired attribute name\n",
    "        return self.__price"
   ]
  },
  {
   "cell_type": "code",
   "execution_count": 45,
   "id": "78f2f025",
   "metadata": {},
   "outputs": [],
   "source": [
    "fixed_price_product = Product(50)"
   ]
  },
  {
   "cell_type": "markdown",
   "id": "a25dc702",
   "metadata": {},
   "source": [
    "If we tried to set the price by the following it will raise an AttributeError:\n",
    "\n",
    "```\n",
    "---------------------------------------------------------------------------\n",
    "AttributeError                            Traceback (most recent call last)\n",
    "~\\AppData\\Local\\Temp/ipykernel_13500/3946031196.py in <module>\n",
    "----> 1 fixed_price_product.price = 10\n",
    "\n",
    "AttributeError: can't set attribute 'price'\n",
    "```\n"
   ]
  }
 ],
 "metadata": {
  "kernelspec": {
   "display_name": "Python 3 (ipykernel)",
   "language": "python",
   "name": "python3"
  },
  "language_info": {
   "codemirror_mode": {
    "name": "ipython",
    "version": 3
   },
   "file_extension": ".py",
   "mimetype": "text/x-python",
   "name": "python",
   "nbconvert_exporter": "python",
   "pygments_lexer": "ipython3",
   "version": "3.10.1"
  }
 },
 "nbformat": 4,
 "nbformat_minor": 5
}
