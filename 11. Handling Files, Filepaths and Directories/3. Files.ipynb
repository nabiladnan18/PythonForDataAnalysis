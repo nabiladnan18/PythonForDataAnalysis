{
 "cells": [
  {
   "cell_type": "markdown",
   "id": "b9687dcd",
   "metadata": {},
   "source": [
    "#### The basics"
   ]
  },
  {
   "cell_type": "code",
   "execution_count": 1,
   "id": "fa35b932",
   "metadata": {},
   "outputs": [
    {
     "data": {
      "text/plain": [
       "WindowsPath('this is a folder/bleh.ipynb')"
      ]
     },
     "execution_count": 1,
     "metadata": {},
     "output_type": "execute_result"
    }
   ],
   "source": [
    "from pathlib import Path\n",
    "path = Path() / \"this is a folder\" / \"bleh.ipynb\"\n",
    "path"
   ]
  },
  {
   "cell_type": "code",
   "execution_count": 2,
   "id": "948ab40c",
   "metadata": {},
   "outputs": [
    {
     "data": {
      "text/plain": [
       "False"
      ]
     },
     "execution_count": 2,
     "metadata": {},
     "output_type": "execute_result"
    }
   ],
   "source": [
    "path.exists()"
   ]
  },
  {
   "cell_type": "code",
   "execution_count": 3,
   "id": "0c5b1b01",
   "metadata": {},
   "outputs": [],
   "source": [
    "# Deleting and Renaming works only if the file exists!\n",
    "# path.rename(\"meh.txt\") \n",
    "# path.unlink()"
   ]
  },
  {
   "cell_type": "code",
   "execution_count": 4,
   "id": "5ce928af",
   "metadata": {},
   "outputs": [
    {
     "data": {
      "text/plain": [
       "os.stat_result(st_mode=33206, st_ino=17169973579397295, st_dev=3200640390, st_nlink=1, st_uid=0, st_gid=0, st_size=715, st_atime=1659044674, st_mtime=1658953001, st_ctime=1658952912)"
      ]
     },
     "execution_count": 4,
     "metadata": {},
     "output_type": "execute_result"
    }
   ],
   "source": [
    "path = Path() / \"this is a folder\" / \"just_a_file.ipynb\"\n",
    "path.stat()"
   ]
  },
  {
   "cell_type": "markdown",
   "id": "5c38b7cd",
   "metadata": {},
   "source": [
    "st_size --> file size in bytes\n",
    "\n",
    "st_atime --> last accessed time \n",
    "\n",
    "st_mtime --> last modified time\n",
    "\n",
    "st_ctime --> create time \n",
    "\n",
    "Times are in seconds after Epoch 01.01.1970 ... Ah the beginning of time. "
   ]
  },
  {
   "cell_type": "code",
   "execution_count": 5,
   "id": "f9714324",
   "metadata": {},
   "outputs": [],
   "source": [
    "from time import ctime"
   ]
  },
  {
   "cell_type": "code",
   "execution_count": 6,
   "id": "a2710a26",
   "metadata": {},
   "outputs": [
    {
     "data": {
      "text/plain": [
       "'Wed Jul 27 22:15:12 2022'"
      ]
     },
     "execution_count": 6,
     "metadata": {},
     "output_type": "execute_result"
    }
   ],
   "source": [
    "creation_date = ctime(path.stat().st_ctime)\n",
    "creation_date"
   ]
  },
  {
   "cell_type": "markdown",
   "id": "05a8a6ae",
   "metadata": {},
   "source": [
    "#### Read a file object as binary data"
   ]
  },
  {
   "cell_type": "code",
   "execution_count": 7,
   "id": "5a2626eb",
   "metadata": {},
   "outputs": [
    {
     "data": {
      "text/plain": [
       "b'{\\n \"cells\": [\\n  {\\n   \"cell_type\": \"markdown\",\\n   \"id\": \"775a15d2\",\\n   \"metadata\": {},\\n   \"source\": [\\n    \"# Nothing to see here!\"\\n   ]\\n  },\\n  {\\n   \"cell_type\": \"code\",\\n   \"execution_count\": null,\\n   \"id\": \"0fc05f04\",\\n   \"metadata\": {},\\n   \"outputs\": [],\\n   \"source\": []\\n  }\\n ],\\n \"metadata\": {\\n  \"kernelspec\": {\\n   \"display_name\": \"Python 3 (ipykernel)\",\\n   \"language\": \"python\",\\n   \"name\": \"python3\"\\n  },\\n  \"language_info\": {\\n   \"codemirror_mode\": {\\n    \"name\": \"ipython\",\\n    \"version\": 3\\n   },\\n   \"file_extension\": \".py\",\\n   \"mimetype\": \"text/x-python\",\\n   \"name\": \"python\",\\n   \"nbconvert_exporter\": \"python\",\\n   \"pygments_lexer\": \"ipython3\",\\n   \"version\": \"3.10.1\"\\n  }\\n },\\n \"nbformat\": 4,\\n \"nbformat_minor\": 5\\n}\\n'"
      ]
     },
     "execution_count": 7,
     "metadata": {},
     "output_type": "execute_result"
    }
   ],
   "source": [
    "path.read_bytes()"
   ]
  },
  {
   "cell_type": "code",
   "execution_count": 8,
   "id": "e70992b4",
   "metadata": {},
   "outputs": [
    {
     "data": {
      "text/plain": [
       "b'This replaces all text that we have changed in the `r+` mode just now. Once you have run this cell, go back to the r+ mode and run it. See how the content gets replaced from the beginning.this text has been appended.\\r\\nthis is line 1\\r\\nthis is line 2\\r\\nthis is line 1\\r\\nthis is line 2\\r\\nthis is line 1\\r\\nthis is line 2'"
      ]
     },
     "execution_count": 8,
     "metadata": {},
     "output_type": "execute_result"
    }
   ],
   "source": [
    "path.with_name('text_file.txt').read_bytes()"
   ]
  },
  {
   "cell_type": "markdown",
   "id": "5f9252c3",
   "metadata": {},
   "source": [
    "#### Read content of a file object as a string"
   ]
  },
  {
   "cell_type": "code",
   "execution_count": 9,
   "id": "33746ac6",
   "metadata": {},
   "outputs": [
    {
     "data": {
      "text/plain": [
       "'This replaces all text that we have changed in the `r+` mode just now. Once you have run this cell, go back to the r+ mode and run it. See how the content gets replaced from the beginning.this text has been appended.\\nthis is line 1\\nthis is line 2\\nthis is line 1\\nthis is line 2\\nthis is line 1\\nthis is line 2'"
      ]
     },
     "execution_count": 9,
     "metadata": {},
     "output_type": "execute_result"
    }
   ],
   "source": [
    "path.with_name('text_file.txt').read_text()"
   ]
  },
  {
   "cell_type": "markdown",
   "id": "73515481",
   "metadata": {},
   "source": [
    "#### Adding content to a file"
   ]
  },
  {
   "cell_type": "code",
   "execution_count": 10,
   "id": "a2e8838a",
   "metadata": {},
   "outputs": [
    {
     "data": {
      "text/plain": [
       "'here is some newly added content'"
      ]
     },
     "execution_count": 10,
     "metadata": {},
     "output_type": "execute_result"
    }
   ],
   "source": [
    "text_file = path.with_name('text_file.txt')\n",
    "text_file.write_text(\"here is some newly added content\")\n",
    "text_file.read_text()"
   ]
  },
  {
   "cell_type": "markdown",
   "id": "3ab4d8ac",
   "metadata": {},
   "source": [
    "### `Open` Function on a file object\n",
    "\n",
    "The `open` function creates a `file object`. It is always necessary to *close* a file once it has been *opened*. So the best practice is to do it with the `with` statement so that the file is closed once we are done with it."
   ]
  },
  {
   "cell_type": "code",
   "execution_count": 11,
   "id": "03a2076d",
   "metadata": {},
   "outputs": [
    {
     "name": "stdout",
     "output_type": "stream",
     "text": [
      "here is some newly added content\n"
     ]
    }
   ],
   "source": [
    "with open(\"./this is a folder/text_file.txt\") as f:\n",
    "    content = f.read()\n",
    "    print(content)"
   ]
  },
  {
   "cell_type": "markdown",
   "id": "52474839",
   "metadata": {},
   "source": [
    "The `as` creates an alias for the `file object`- here it is `f`- so that it is easier to reuse and the code is less cluttery."
   ]
  },
  {
   "cell_type": "markdown",
   "id": "77549c41",
   "metadata": {},
   "source": [
    "### Using File Object vs Path Object\n",
    "\n",
    "Using `path objects` takes care of **closing the file after reading or writing into it**. With `file objects` you have to do it on your own.\n",
    "\n",
    "**However**, using a file object has its advantages. It has capabilites to **append** content to an existing file instead of rewriting it as the file object has **different modes in which you can open it**."
   ]
  },
  {
   "cell_type": "markdown",
   "id": "d00acb73",
   "metadata": {},
   "source": [
    "#### Different modes of opening a file\n",
    "\n",
    "`open` has the following modes:\n",
    "\n",
    "`r` --> Read mode. \n",
    "\n",
    "* Ensures that you can only read and not fuck up the data. \n",
    "\n",
    "* This is the default mode. \n",
    "\n",
    "* Error if file does not exist.\n",
    "\n",
    "* Pointer at the beginning of the file.\n",
    "\n",
    "\n",
    "\n",
    "\n",
    "`w` --> Write mode. \n",
    "\n",
    "* Replaces the content with what you provide. \n",
    "\n",
    "* Creates a new file if it does not exist.\n",
    "\n",
    "* Pointer is at the beginning of the file.\n",
    "\n",
    "\n",
    "\n",
    "\n",
    "`a` --> Append mode. \n",
    "\n",
    "* Opens a file for appending at the end of the file. \n",
    "\n",
    "* Creates a new file if it does not exist.\n",
    "\n",
    "* Pointer at the end of the file.\n",
    "\n",
    "\n",
    "\n",
    "\n",
    "\n",
    "`x` --> Exclusive mode. \n",
    "\n",
    "* Opens a file for _exclusive creation_. \n",
    "\n",
    "* If the file already exists, the operation fails.\n",
    "\n",
    "* Pointer at the beginning of the file.\n",
    "\n",
    "\n",
    "\n",
    "\n",
    "---\n",
    "\n",
    "\n",
    "`{}b` --> Binary mode. \n",
    "\n",
    "* Takes any of the above modes in {}. \n",
    "\n",
    "* Opens the file in binary mode.\n",
    "\n",
    "`{}t` --> Text mode. \n",
    "\n",
    "* It is default for all types and is the opposite of `b` mode. \n",
    "\n",
    "* `t` does not need to be explicitly declared with the modes.\n",
    "\n",
    "`{}+` --> Reading and updating. \n",
    "\n",
    "* Takes any of the above modes in {} including `b` with the modes. \n",
    "\n",
    "* For example, if used in combination with `r` e.g. `r+` a file is opened for reading and updating.\n",
    "\n",
    "---\n",
    "\n",
    "Therefore, \n",
    "* Read modes: r, rb, r+, rb+\n",
    "* Write modes: w, wb, w+, wb+ \n",
    "* Append modes: a, ab, a+, ab+\n",
    "* Exclusive modes: x, xb, x+, xb+\n",
    "\n",
    "The `t` is silent.\n",
    "\n",
    "More info here:\n",
    "\n",
    "https://mkyong.com/python/python-difference-between-r-w-and-a-in-open/#:~:text=The%20r%20means%20reading%20file,and%20writing%20file%2C%20append%20mode.\n",
    "\n",
    "https://www.delftstack.com/howto/python/python-open-modes/#:~:text=The%20x%20mode%20opens%20the,the%20specified%20name%20already%20exists.\n",
    "\n",
    "\n",
    "https://www.programiz.com/python-programming/file-operation"
   ]
  },
  {
   "cell_type": "markdown",
   "id": "bf144351",
   "metadata": {},
   "source": [
    "### Read mode\n",
    "\n",
    "#### Opening in read mode: `r`"
   ]
  },
  {
   "cell_type": "code",
   "execution_count": 12,
   "id": "0adbe2b2",
   "metadata": {},
   "outputs": [
    {
     "name": "stdout",
     "output_type": "stream",
     "text": [
      "here is some newly added content\n"
     ]
    }
   ],
   "source": [
    "file = \"./this is a folder/text_file.txt\" # lets make the code even less cluttery\n",
    "with open(file, \"r\") as f:\n",
    "    content = f.read()\n",
    "    print(content)"
   ]
  },
  {
   "cell_type": "markdown",
   "id": "561f7013",
   "metadata": {},
   "source": [
    "#### File not found error when we are trying to open something that does not exist: `r`"
   ]
  },
  {
   "cell_type": "code",
   "execution_count": 13,
   "id": "9205428d",
   "metadata": {},
   "outputs": [],
   "source": [
    "# This will raise an error as the file does not exist\n",
    "# with open(\"./this is a folder/another_text_file.txt\", \"r\") as f:\n",
    "#     content = f.read()\n",
    "#     print(content)"
   ]
  },
  {
   "cell_type": "markdown",
   "id": "2954b736",
   "metadata": {},
   "source": [
    "#### Binary read: `rb`"
   ]
  },
  {
   "cell_type": "code",
   "execution_count": 14,
   "id": "eec3f4dd",
   "metadata": {},
   "outputs": [
    {
     "name": "stdout",
     "output_type": "stream",
     "text": [
      "b'here is some newly added content'\n"
     ]
    }
   ],
   "source": [
    "with open(file, \"rb\") as f:\n",
    "    content = f.read()\n",
    "    print(content)"
   ]
  },
  {
   "cell_type": "markdown",
   "id": "af3c8df9",
   "metadata": {},
   "source": [
    "#### Read and update: `r+` \n",
    "\n",
    "Remember this only works if the file exists! \n",
    "\n",
    "**The pointer is placed at the beginning of the document. Therefore it replaces content from the beginning of the text.**"
   ]
  },
  {
   "cell_type": "code",
   "execution_count": 15,
   "id": "cdb4d45b",
   "metadata": {},
   "outputs": [
    {
     "name": "stdout",
     "output_type": "stream",
     "text": [
      "\n"
     ]
    }
   ],
   "source": [
    "with open(file, \"r+\") as f:\n",
    "    f.write(\"this will replace all the existing content from the beginning\")\n",
    "    content = f.read()\n",
    "    print(content)"
   ]
  },
  {
   "cell_type": "markdown",
   "id": "35fc470e",
   "metadata": {},
   "source": [
    "Here we are seeing a new method `write`. We will see more on this here."
   ]
  },
  {
   "cell_type": "markdown",
   "id": "b4733ee7",
   "metadata": {},
   "source": [
    "### Write mode\n",
    "\n",
    "Opening a file in any of the write modes e.g. w, wb, w+, wb+ will completely obliterate any data already there. This is called `truncating` in this context.\n",
    "\n",
    "#### `w` Opening in write mode"
   ]
  },
  {
   "cell_type": "code",
   "execution_count": 16,
   "id": "2900850e",
   "metadata": {},
   "outputs": [
    {
     "data": {
      "text/plain": [
       "'This replaces all text that we have changed in the `r+` mode just now. Once you have run this cell, go back to the r+ mode and run it. See how the content gets replaced from the beginning.'"
      ]
     },
     "execution_count": 16,
     "metadata": {},
     "output_type": "execute_result"
    }
   ],
   "source": [
    "with open(file, \"w\") as f:\n",
    "    f.write(\"This replaces all text that we have changed in the `r+` mode just now. Once you have run this cell, go back to the r+ mode and run it. See how the content gets replaced from the beginning.\")\n",
    "#     f.write(\"Lorem Ipsum is simply dummy text of the printing and typesetting industry. Lorem Ipsum has been the industry's standard dummy text ever since the 1500s, when an unknown printer took a galley of type and scrambled it to make a type specimen book. It has survived not only five centuries, but also the leap into electronic typesetting, remaining essentially unchanged. It was popularised in the 1960s with the release of Letraset sheets containing Lorem Ipsum passages, and more recently with desktop publishing software like Aldus PageMaker including versions of Lorem Ipsum.\")\n",
    "    \n",
    "with open(file, \"r\") as f:\n",
    "    content = f.read()\n",
    "    \n",
    "content"
   ]
  },
  {
   "cell_type": "markdown",
   "id": "7b51e6e2",
   "metadata": {},
   "source": [
    "The following file does not exist. We will create a path object and check if it is so."
   ]
  },
  {
   "cell_type": "code",
   "execution_count": 17,
   "id": "94d73c75",
   "metadata": {},
   "outputs": [],
   "source": [
    "does_not_exist_file = \"./this is a folder/this did not exist before.txt\""
   ]
  },
  {
   "cell_type": "code",
   "execution_count": 18,
   "id": "d4398034",
   "metadata": {},
   "outputs": [],
   "source": [
    "# Execute this if you have already run this file once and the file does exist!\n",
    "# file_somehow_exists = Path(does_not_exist_file)\n",
    "# if file_somehow_exists.exists():\n",
    "#     file_somehow_exists.unlink()"
   ]
  },
  {
   "cell_type": "code",
   "execution_count": 19,
   "id": "ba1b2894",
   "metadata": {},
   "outputs": [
    {
     "data": {
      "text/plain": [
       "True"
      ]
     },
     "execution_count": 19,
     "metadata": {},
     "output_type": "execute_result"
    }
   ],
   "source": [
    "Path(does_not_exist_file).exists()"
   ]
  },
  {
   "cell_type": "code",
   "execution_count": 20,
   "id": "95722ca4",
   "metadata": {},
   "outputs": [
    {
     "name": "stdout",
     "output_type": "stream",
     "text": [
      "Lorem Ipsum is simply dummy text of the printing and typesetting industry. Lorem Ipsum has been the industry's standard dummy text ever since the 1500s, when an unknown printer took a galley of type and scrambled it to make a type specimen book. It has survived not only five centuries, but also the leap into electronic typesetting, remaining essentially unchanged. It was popularised in the 1960s with the release of Letraset sheets containing Lorem Ipsum passages, and more recently with desktop publishing software like Aldus PageMaker including versions of Lorem Ipsum.\n"
     ]
    }
   ],
   "source": [
    "with open(does_not_exist_file, \"w\") as f:\n",
    "    f.write(\"Lorem Ipsum is simply dummy text of the printing and typesetting industry. Lorem Ipsum has been the industry's standard dummy text ever since the 1500s, when an unknown printer took a galley of type and scrambled it to make a type specimen book. It has survived not only five centuries, but also the leap into electronic typesetting, remaining essentially unchanged. It was popularised in the 1960s with the release of Letraset sheets containing Lorem Ipsum passages, and more recently with desktop publishing software like Aldus PageMaker including versions of Lorem Ipsum.\")\n",
    "    # Do not try to read here. It is tempting I know...Since I have this shit opened, why can't I read right?\n",
    "    # EEH! Wrong. You opened it in WRITE mode.\n",
    "    \n",
    "with open(does_not_exist_file, \"r\") as f:\n",
    "    content = f.read()\n",
    "\n",
    "print(content)"
   ]
  },
  {
   "cell_type": "markdown",
   "id": "b8448e4d",
   "metadata": {},
   "source": [
    "Once we open the file in `w` mode, it is created and readable. Remember that `r` mode only works for files that exist right? The `r` mode just worked! Not convinced? Let's check here:"
   ]
  },
  {
   "cell_type": "code",
   "execution_count": 21,
   "id": "9f0cdd44",
   "metadata": {},
   "outputs": [
    {
     "data": {
      "text/plain": [
       "True"
      ]
     },
     "execution_count": 21,
     "metadata": {},
     "output_type": "execute_result"
    }
   ],
   "source": [
    "Path(does_not_exist_file).exists()"
   ]
  },
  {
   "cell_type": "markdown",
   "id": "287b6c1d",
   "metadata": {},
   "source": [
    "That worked!"
   ]
  },
  {
   "cell_type": "markdown",
   "id": "7fb1d19a",
   "metadata": {},
   "source": [
    "#### Opening in `w+` read and write mode\n",
    "\n",
    "*Truncates* the data"
   ]
  },
  {
   "cell_type": "code",
   "execution_count": 22,
   "id": "3af02920",
   "metadata": {},
   "outputs": [
    {
     "name": "stdout",
     "output_type": "stream",
     "text": [
      "\n"
     ]
    }
   ],
   "source": [
    "with open(does_not_exist_file, \"w+\") as f:\n",
    "    f.write(\"wtf all my data got replaced?!\")\n",
    "    content = f.read()\n",
    "    print(content)"
   ]
  },
  {
   "cell_type": "markdown",
   "id": "5b16e7d5",
   "metadata": {},
   "source": [
    "See how reading the content does not show anything but in the `w+` mode we are supposed to be able to write and read at the same time, right?\n",
    "\n",
    "What happens is that **after writing the content, the pointer moves from the beginning of the file to the end of the file**. We have to move the pointer at a position from where we can read it. This is done by the `seek` method. More on seek later.\n",
    "\n",
    "Let's fill up the file with data again:"
   ]
  },
  {
   "cell_type": "code",
   "execution_count": 23,
   "id": "e801f852",
   "metadata": {},
   "outputs": [
    {
     "name": "stdout",
     "output_type": "stream",
     "text": [
      "now we can read this!\n"
     ]
    }
   ],
   "source": [
    "with open(does_not_exist_file, \"w+\") as f:\n",
    "    f.write(\"now we can read this!\")\n",
    "    # bringing the pointer at the beginning of the file\n",
    "    # passing '0' as argument since that is the index within the text where we want to go\n",
    "    f.seek(0)\n",
    "    content = f.read()\n",
    "    print(content)"
   ]
  },
  {
   "cell_type": "markdown",
   "id": "ac9c9d66",
   "metadata": {},
   "source": [
    "### Append mode\n",
    "\n",
    "Append mode adds data to the end of the file. Lets just open this is `a+` mode because the `a` mode should be self-explanatory by now.\n",
    "\n",
    "**It is important to note by now that the pointer moves to the end position when we are in a mode that is not read!**\n",
    "\n",
    "#### `a+` Opening in append and read mode"
   ]
  },
  {
   "cell_type": "code",
   "execution_count": 24,
   "id": "d99c6780",
   "metadata": {
    "scrolled": true
   },
   "outputs": [
    {
     "name": "stdout",
     "output_type": "stream",
     "text": [
      "This replaces all text that we have changed in the `r+` mode just now. Once you have run this cell, go back to the r+ mode and run it. See how the content gets replaced from the beginning.this text has been appended.\n"
     ]
    }
   ],
   "source": [
    "with open(file, \"a+\") as f:\n",
    "    f.write(\"this text has been appended.\")\n",
    "    f.seek(0)\n",
    "    content = f.read()\n",
    "    print(content)"
   ]
  },
  {
   "cell_type": "markdown",
   "id": "e2e23e82",
   "metadata": {},
   "source": [
    "### File object methods\n",
    "\n",
    "A comprehensive list can be found here: https://www.w3schools.com/python/python_ref_file.asp\n",
    "\n",
    "We have so far seen `read`, `write` and `seek` methods. Here are some more with examples:"
   ]
  },
  {
   "cell_type": "markdown",
   "id": "8a779673",
   "metadata": {},
   "source": [
    "#### Readable and Writable\n",
    "\n",
    "These methods determine whether a file is readable or writable or not"
   ]
  },
  {
   "cell_type": "code",
   "execution_count": 25,
   "id": "1ef69a27",
   "metadata": {},
   "outputs": [
    {
     "name": "stdout",
     "output_type": "stream",
     "text": [
      "File is readable\n",
      "File is writable\n"
     ]
    }
   ],
   "source": [
    "with open(file, \"r+\") as f:\n",
    "    if f.readable():\n",
    "        print(\"File is readable\")\n",
    "    else:\n",
    "        print(\"File is note readable\")\n",
    "    if f.writable():\n",
    "        print(\"File is writable\")\n",
    "    else:\n",
    "        print(\"File is note readable\")"
   ]
  },
  {
   "cell_type": "markdown",
   "id": "c4f3166b",
   "metadata": {},
   "source": [
    "Both are `True` since we opened the `file` in `r+` mode."
   ]
  },
  {
   "cell_type": "markdown",
   "id": "8c37a0ba",
   "metadata": {},
   "source": [
    "#### Seek and Seekable"
   ]
  },
  {
   "cell_type": "code",
   "execution_count": 26,
   "id": "56cdf9e2",
   "metadata": {},
   "outputs": [
    {
     "name": "stdout",
     "output_type": "stream",
     "text": [
      "ll text that we have changed in the `r+` mode just now. Once you have run this cell, go back to the r+ mode and run it. See how the content gets replaced from the beginning.this text has been appended.\n"
     ]
    }
   ],
   "source": [
    "with open(file) as f:\n",
    "    if f.seekable():\n",
    "        f.seek(15)\n",
    "        content = f.read()\n",
    "        print(content)"
   ]
  },
  {
   "cell_type": "markdown",
   "id": "e64d2da8",
   "metadata": {},
   "source": [
    "#### Readlines, Writelines and Tell\n",
    "\n",
    "`readlines` returns a list of lines in a file while `writelines` writes a list of lines in a file. `tell` tells you where the pointer is at the present.\n",
    "\n",
    "Our current `file` file object has only one line. Let's first add a few more."
   ]
  },
  {
   "cell_type": "code",
   "execution_count": 27,
   "id": "325250ce",
   "metadata": {},
   "outputs": [],
   "source": [
    "with open(file, \"a+\") as f:\n",
    "    f.writelines(['\\nthis is line 1', '\\nthis is line 2'])\n",
    "    \n",
    "    pointer_position = f.tell()\n",
    "    \n",
    "    if pointer_position != 0:\n",
    "        f.seek(0)\n",
    "        list_of_lines = f.readlines()\n",
    "        content = f.read()"
   ]
  },
  {
   "cell_type": "code",
   "execution_count": 28,
   "id": "592e5b5c",
   "metadata": {},
   "outputs": [
    {
     "data": {
      "text/plain": [
       "['This replaces all text that we have changed in the `r+` mode just now. Once you have run this cell, go back to the r+ mode and run it. See how the content gets replaced from the beginning.this text has been appended.\\n',\n",
       " 'this is line 1\\n',\n",
       " 'this is line 2']"
      ]
     },
     "execution_count": 28,
     "metadata": {},
     "output_type": "execute_result"
    }
   ],
   "source": [
    "list_of_lines"
   ]
  },
  {
   "cell_type": "code",
   "execution_count": 29,
   "id": "d566d294",
   "metadata": {},
   "outputs": [
    {
     "data": {
      "text/plain": [
       "''"
      ]
     },
     "execution_count": 29,
     "metadata": {},
     "output_type": "execute_result"
    }
   ],
   "source": [
    "content"
   ]
  },
  {
   "cell_type": "markdown",
   "id": "92eee0a8",
   "metadata": {},
   "source": [
    "What we can see from here is that the pointer has moved to the end of the file again after we executed `readlines()`. **Don't forget to `seek` back to the beginning after reading or writing anything in a file!**"
   ]
  },
  {
   "cell_type": "code",
   "execution_count": 30,
   "id": "fa7f9375",
   "metadata": {},
   "outputs": [],
   "source": [
    "with open(file, \"a+\") as f:\n",
    "    f.writelines(['\\nthis is line 3', '\\nthis is line 4'])\n",
    "    \n",
    "    f.seek(0)\n",
    "    list_of_lines = f.readlines()\n",
    "    \n",
    "    f.seek(0)\n",
    "    content = f.read()"
   ]
  },
  {
   "cell_type": "code",
   "execution_count": 31,
   "id": "a2013d90",
   "metadata": {},
   "outputs": [
    {
     "data": {
      "text/plain": [
       "['This replaces all text that we have changed in the `r+` mode just now. Once you have run this cell, go back to the r+ mode and run it. See how the content gets replaced from the beginning.this text has been appended.\\n',\n",
       " 'this is line 1\\n',\n",
       " 'this is line 2\\n',\n",
       " 'this is line 3\\n',\n",
       " 'this is line 4']"
      ]
     },
     "execution_count": 31,
     "metadata": {},
     "output_type": "execute_result"
    }
   ],
   "source": [
    "list_of_lines"
   ]
  },
  {
   "cell_type": "code",
   "execution_count": 32,
   "id": "169ad783",
   "metadata": {},
   "outputs": [
    {
     "data": {
      "text/plain": [
       "'This replaces all text that we have changed in the `r+` mode just now. Once you have run this cell, go back to the r+ mode and run it. See how the content gets replaced from the beginning.this text has been appended.\\nthis is line 1\\nthis is line 2\\nthis is line 3\\nthis is line 4'"
      ]
     },
     "execution_count": 32,
     "metadata": {},
     "output_type": "execute_result"
    }
   ],
   "source": [
    "content"
   ]
  },
  {
   "cell_type": "code",
   "execution_count": null,
   "id": "af04a36d",
   "metadata": {},
   "outputs": [],
   "source": []
  }
 ],
 "metadata": {
  "kernelspec": {
   "display_name": "Python 3 (ipykernel)",
   "language": "python",
   "name": "python3"
  },
  "language_info": {
   "codemirror_mode": {
    "name": "ipython",
    "version": 3
   },
   "file_extension": ".py",
   "mimetype": "text/x-python",
   "name": "python",
   "nbconvert_exporter": "python",
   "pygments_lexer": "ipython3",
   "version": "3.10.1"
  }
 },
 "nbformat": 4,
 "nbformat_minor": 5
}
