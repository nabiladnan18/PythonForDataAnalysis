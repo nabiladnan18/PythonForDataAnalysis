{
 "cells": [
  {
   "cell_type": "markdown",
   "id": "654cd5e6",
   "metadata": {},
   "source": [
    "# Lists"
   ]
  },
  {
   "cell_type": "code",
   "execution_count": 1,
   "id": "484ba2f5",
   "metadata": {},
   "outputs": [],
   "source": [
    "my_list = ['spam', 'eggs', 'ham', 'cheese']"
   ]
  },
  {
   "cell_type": "code",
   "execution_count": 2,
   "id": "4d072858",
   "metadata": {},
   "outputs": [],
   "source": [
    "a, b, *rest = my_list"
   ]
  },
  {
   "cell_type": "code",
   "execution_count": 3,
   "id": "09c42792",
   "metadata": {},
   "outputs": [
    {
     "data": {
      "text/plain": [
       "'spam'"
      ]
     },
     "execution_count": 3,
     "metadata": {},
     "output_type": "execute_result"
    }
   ],
   "source": [
    "a"
   ]
  },
  {
   "cell_type": "code",
   "execution_count": 4,
   "id": "35c45db8",
   "metadata": {},
   "outputs": [
    {
     "data": {
      "text/plain": [
       "'eggs'"
      ]
     },
     "execution_count": 4,
     "metadata": {},
     "output_type": "execute_result"
    }
   ],
   "source": [
    "b"
   ]
  },
  {
   "cell_type": "code",
   "execution_count": 5,
   "id": "7a339075",
   "metadata": {},
   "outputs": [
    {
     "data": {
      "text/plain": [
       "['ham', 'cheese']"
      ]
     },
     "execution_count": 5,
     "metadata": {},
     "output_type": "execute_result"
    }
   ],
   "source": [
    "rest"
   ]
  },
  {
   "cell_type": "markdown",
   "id": "b23a989c",
   "metadata": {},
   "source": [
    "Here, from `my_list` we have separated what we needed and assigned them with variable `spam` and `eggs`. The first two indexes from `my_list` were assigned to these variables correspondingly.\n",
    "\n",
    "By using the `*` with the `rest` variable, we are declaring that the besides the first two indexes, we want to have everything in the `rest` variable. `rest` is not a keyword; any other variable name could have been used here.\n",
    "\n",
    "What if we did not care about the rest of the elements from `my_list` apart from `'spam'` and `'eggs'`? "
   ]
  },
  {
   "cell_type": "code",
   "execution_count": 6,
   "id": "7c90ffc2",
   "metadata": {},
   "outputs": [],
   "source": [
    "x, y, *_ = my_list"
   ]
  },
  {
   "cell_type": "code",
   "execution_count": 7,
   "id": "dad93649",
   "metadata": {},
   "outputs": [
    {
     "data": {
      "text/plain": [
       "'spam'"
      ]
     },
     "execution_count": 7,
     "metadata": {},
     "output_type": "execute_result"
    }
   ],
   "source": [
    "x"
   ]
  },
  {
   "cell_type": "code",
   "execution_count": 8,
   "id": "d685c17e",
   "metadata": {},
   "outputs": [
    {
     "data": {
      "text/plain": [
       "'eggs'"
      ]
     },
     "execution_count": 8,
     "metadata": {},
     "output_type": "execute_result"
    }
   ],
   "source": [
    "y"
   ]
  },
  {
   "cell_type": "markdown",
   "id": "a725e2b9",
   "metadata": {},
   "source": [
    "The `_` here is a *throwaway variable*. This is used with a variable name when the value is not necessary.  "
   ]
  },
  {
   "cell_type": "markdown",
   "id": "ab7e05cd",
   "metadata": {},
   "source": [
    "Another use of `_` with the name of a `function` is to declare it a `static method` of a given `class`."
   ]
  },
  {
   "cell_type": "code",
   "execution_count": 9,
   "id": "4c75a3c8",
   "metadata": {},
   "outputs": [],
   "source": [
    "another_list = ['spam', 'eggs', ['ham', 'cheese']]"
   ]
  },
  {
   "cell_type": "code",
   "execution_count": 10,
   "id": "4dbd833e",
   "metadata": {},
   "outputs": [],
   "source": [
    "ingredient1, ingredient2, [ingredient3, ingredient4] = another_list "
   ]
  },
  {
   "cell_type": "code",
   "execution_count": 11,
   "id": "95a7735f",
   "metadata": {},
   "outputs": [
    {
     "data": {
      "text/plain": [
       "'ham'"
      ]
     },
     "execution_count": 11,
     "metadata": {},
     "output_type": "execute_result"
    }
   ],
   "source": [
    "ingredient3"
   ]
  },
  {
   "cell_type": "code",
   "execution_count": 12,
   "id": "3d0a3cd9",
   "metadata": {},
   "outputs": [
    {
     "data": {
      "text/plain": [
       "'cheese'"
      ]
     },
     "execution_count": 12,
     "metadata": {},
     "output_type": "execute_result"
    }
   ],
   "source": [
    "ingredient4"
   ]
  },
  {
   "cell_type": "markdown",
   "id": "889d4f3c",
   "metadata": {},
   "source": [
    "**Swapping values of variables**"
   ]
  },
  {
   "cell_type": "code",
   "execution_count": 13,
   "id": "4d9c847a",
   "metadata": {},
   "outputs": [],
   "source": [
    "x, y = y, x"
   ]
  },
  {
   "cell_type": "code",
   "execution_count": 14,
   "id": "23bf39b5",
   "metadata": {},
   "outputs": [
    {
     "data": {
      "text/plain": [
       "'eggs'"
      ]
     },
     "execution_count": 14,
     "metadata": {},
     "output_type": "execute_result"
    }
   ],
   "source": [
    "x"
   ]
  },
  {
   "cell_type": "code",
   "execution_count": 15,
   "id": "e8b1c326",
   "metadata": {},
   "outputs": [
    {
     "data": {
      "text/plain": [
       "'spam'"
      ]
     },
     "execution_count": 15,
     "metadata": {},
     "output_type": "execute_result"
    }
   ],
   "source": [
    "y"
   ]
  },
  {
   "cell_type": "markdown",
   "id": "ae4288c2",
   "metadata": {},
   "source": [
    "# Tuples"
   ]
  },
  {
   "cell_type": "markdown",
   "id": "9d2de334",
   "metadata": {},
   "source": [
    "Tuples can be unpacked in the same way as is `list`. "
   ]
  },
  {
   "cell_type": "code",
   "execution_count": 16,
   "id": "c56ceeed",
   "metadata": {},
   "outputs": [],
   "source": [
    "my_tuple = ('spam', 'eggs', 'ham', 'cheese')"
   ]
  },
  {
   "cell_type": "code",
   "execution_count": 17,
   "id": "534dbcaf",
   "metadata": {},
   "outputs": [],
   "source": [
    "a, b, *_ = my_tuple"
   ]
  },
  {
   "cell_type": "code",
   "execution_count": 18,
   "id": "416db5c5",
   "metadata": {},
   "outputs": [
    {
     "data": {
      "text/plain": [
       "'spam'"
      ]
     },
     "execution_count": 18,
     "metadata": {},
     "output_type": "execute_result"
    }
   ],
   "source": [
    "a"
   ]
  },
  {
   "cell_type": "code",
   "execution_count": 19,
   "id": "29da651d",
   "metadata": {},
   "outputs": [
    {
     "data": {
      "text/plain": [
       "'eggs'"
      ]
     },
     "execution_count": 19,
     "metadata": {},
     "output_type": "execute_result"
    }
   ],
   "source": [
    "b"
   ]
  },
  {
   "cell_type": "markdown",
   "id": "b5f9c18a",
   "metadata": {},
   "source": [
    "Variables can also be swapped like in lists."
   ]
  }
 ],
 "metadata": {
  "kernelspec": {
   "display_name": "Python 3 (ipykernel)",
   "language": "python",
   "name": "python3"
  },
  "language_info": {
   "codemirror_mode": {
    "name": "ipython",
    "version": 3
   },
   "file_extension": ".py",
   "mimetype": "text/x-python",
   "name": "python",
   "nbconvert_exporter": "python",
   "pygments_lexer": "ipython3",
   "version": "3.10.1"
  }
 },
 "nbformat": 4,
 "nbformat_minor": 5
}
