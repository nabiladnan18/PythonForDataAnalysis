{
 "cells": [
  {
   "cell_type": "code",
   "execution_count": 1,
   "id": "979e1fb4",
   "metadata": {},
   "outputs": [],
   "source": [
    "from pathlib import Path"
   ]
  },
  {
   "cell_type": "code",
   "execution_count": 2,
   "id": "ea94366f",
   "metadata": {},
   "outputs": [
    {
     "data": {
      "text/plain": [
       "True"
      ]
     },
     "execution_count": 2,
     "metadata": {},
     "output_type": "execute_result"
    }
   ],
   "source": [
    "path = Path('this is a folder')\n",
    "path.is_dir()"
   ]
  },
  {
   "cell_type": "code",
   "execution_count": 3,
   "id": "86b148a7",
   "metadata": {},
   "outputs": [
    {
     "data": {
      "text/plain": [
       "True"
      ]
     },
     "execution_count": 3,
     "metadata": {},
     "output_type": "execute_result"
    }
   ],
   "source": [
    "path.exists()"
   ]
  },
  {
   "cell_type": "code",
   "execution_count": 4,
   "id": "9ad201f3",
   "metadata": {},
   "outputs": [],
   "source": [
    "# path.mkdir() --> Make a new directory\n",
    "# path.rmdir() --> Remove directory\n",
    "# path.rename() --> Rename directory"
   ]
  },
  {
   "cell_type": "code",
   "execution_count": 5,
   "id": "f5a22df1",
   "metadata": {},
   "outputs": [
    {
     "data": {
      "text/plain": [
       "<generator object Path.iterdir at 0x00000277AED0E030>"
      ]
     },
     "execution_count": 5,
     "metadata": {},
     "output_type": "execute_result"
    }
   ],
   "source": [
    "path.iterdir()"
   ]
  },
  {
   "cell_type": "code",
   "execution_count": 6,
   "id": "c9e3e452",
   "metadata": {},
   "outputs": [
    {
     "name": "stdout",
     "output_type": "stream",
     "text": [
      "this is a folder\\.ipynb_checkpoints\n",
      "this is a folder\\a folder within a folder\n",
      "this is a folder\\just_a_file.ipynb\n",
      "this is a folder\\this is another file.ipynb\n"
     ]
    }
   ],
   "source": [
    "for i in path.iterdir():\n",
    "    print(i)"
   ]
  },
  {
   "cell_type": "code",
   "execution_count": 7,
   "id": "fbdbedbf",
   "metadata": {},
   "outputs": [],
   "source": [
    "files = [i for i in path.iterdir()]"
   ]
  },
  {
   "cell_type": "code",
   "execution_count": 8,
   "id": "ce580ab8",
   "metadata": {},
   "outputs": [
    {
     "data": {
      "text/plain": [
       "[WindowsPath('this is a folder/.ipynb_checkpoints'),\n",
       " WindowsPath('this is a folder/a folder within a folder'),\n",
       " WindowsPath('this is a folder/just_a_file.ipynb'),\n",
       " WindowsPath('this is a folder/this is another file.ipynb')]"
      ]
     },
     "execution_count": 8,
     "metadata": {},
     "output_type": "execute_result"
    }
   ],
   "source": [
    "files"
   ]
  },
  {
   "cell_type": "markdown",
   "id": "713e6f42",
   "metadata": {},
   "source": [
    "So wtf is this `WindowsPath` that keep showing up with every path object? It is the `base class` for the class `Path` that we have imported. I am on a Windows machine, which is why `WindowsPath` appears here. For Linux based machines (incl. Mac) it will show `PosixPath`."
   ]
  },
  {
   "cell_type": "markdown",
   "id": "856c848f",
   "metadata": {},
   "source": [
    "#### A directory may have a lot of directories within it as well as files. How to get only the files or only the directories?"
   ]
  },
  {
   "cell_type": "code",
   "execution_count": 9,
   "id": "55609da5",
   "metadata": {},
   "outputs": [
    {
     "data": {
      "text/plain": [
       "['just_a_file.ipynb', 'this is another file.ipynb']"
      ]
     },
     "execution_count": 9,
     "metadata": {},
     "output_type": "execute_result"
    }
   ],
   "source": [
    "files = [i.name for i in path.iterdir() if i.is_file()]\n",
    "files"
   ]
  },
  {
   "cell_type": "code",
   "execution_count": 12,
   "id": "62e1b568",
   "metadata": {},
   "outputs": [
    {
     "data": {
      "text/plain": [
       "['.ipynb_checkpoints', 'a folder within a folder']"
      ]
     },
     "execution_count": 12,
     "metadata": {},
     "output_type": "execute_result"
    }
   ],
   "source": [
    "dirs = [i.name for i in path.iterdir() if i.is_dir()]\n",
    "dirs"
   ]
  },
  {
   "cell_type": "markdown",
   "id": "ca0662a0",
   "metadata": {},
   "source": [
    "These two have a limitation. This does not let us search by pattern or search recursively."
   ]
  },
  {
   "cell_type": "markdown",
   "id": "ec6d60a7",
   "metadata": {},
   "source": [
    "#### Glob"
   ]
  },
  {
   "cell_type": "code",
   "execution_count": 16,
   "id": "d4b7958f",
   "metadata": {},
   "outputs": [
    {
     "data": {
      "text/plain": [
       "['.ipynb_checkpoints', 'just_a_file.ipynb', 'this is another file.ipynb']"
      ]
     },
     "execution_count": 16,
     "metadata": {},
     "output_type": "execute_result"
    }
   ],
   "source": [
    "# all files\n",
    "files = [file.name for file in path.glob(\"*.*\")]\n",
    "files"
   ]
  },
  {
   "cell_type": "code",
   "execution_count": 19,
   "id": "f27dc049",
   "metadata": {},
   "outputs": [
    {
     "data": {
      "text/plain": [
       "['just_a_file.ipynb', 'this is another file.ipynb']"
      ]
     },
     "execution_count": 19,
     "metadata": {},
     "output_type": "execute_result"
    }
   ],
   "source": [
    "# jupyter-notebook files\n",
    "ipynb_files = [file.name for file in path.glob(\"*.ipynb\")]\n",
    "ipynb_files"
   ]
  },
  {
   "cell_type": "code",
   "execution_count": null,
   "id": "15990e9f",
   "metadata": {},
   "outputs": [],
   "source": [
    "# rglob searches recursively and returns all ipynb files in the dir and then the dirs within the dir\n",
    "ipynb_all_files = [file.name for file in path.rglob(\"*.ipynb\")]"
   ]
  }
 ],
 "metadata": {
  "kernelspec": {
   "display_name": "Python 3 (ipykernel)",
   "language": "python",
   "name": "python3"
  },
  "language_info": {
   "codemirror_mode": {
    "name": "ipython",
    "version": 3
   },
   "file_extension": ".py",
   "mimetype": "text/x-python",
   "name": "python",
   "nbconvert_exporter": "python",
   "pygments_lexer": "ipython3",
   "version": "3.10.1"
  }
 },
 "nbformat": 4,
 "nbformat_minor": 5
}
