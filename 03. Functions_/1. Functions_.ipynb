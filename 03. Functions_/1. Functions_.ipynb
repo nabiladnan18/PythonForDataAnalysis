{
 "cells": [
  {
   "cell_type": "markdown",
   "id": "ff4dd0a3",
   "metadata": {},
   "source": [
    "# Basics\n",
    "\n",
    "Functions are the primary and most important method of code organization and reuse in Python. As a rule of thumb, if you anticipate needing to repeat the same or very similar code more than once, it may be worth writing a reusable function.\n",
    "\n",
    "Functions are built by using the `def` keyword. Often the result of the function is \"returned\" using the `return` keyword. If Python reaches the end of a function without encountering a return statement, `None` is returned automatically."
   ]
  },
  {
   "cell_type": "code",
   "execution_count": 3,
   "id": "a4b75fc9",
   "metadata": {},
   "outputs": [],
   "source": [
    "def describe_animal(animal_type, pet_name):\n",
    "    \"\"\"Describes your pet.\"\"\"\n",
    "    print(f\"I have a pet {animal_type.lower()}.\")\n",
    "    print(f\"His name is {pet_name.title()}.\")"
   ]
  },
  {
   "cell_type": "code",
   "execution_count": 4,
   "id": "6fd85361",
   "metadata": {},
   "outputs": [
    {
     "name": "stdout",
     "output_type": "stream",
     "text": [
      "I have a pet dog.\n",
      "His name is Bingo.\n"
     ]
    }
   ],
   "source": [
    "describe_animal(\"dog\", \"bingo\")"
   ]
  },
  {
   "cell_type": "code",
   "execution_count": 5,
   "id": "8c554232",
   "metadata": {},
   "outputs": [],
   "source": [
    "def get_formatted_name(fname, lname):\n",
    "    \"\"\"Formats the given name into sentence case.\"\"\"\n",
    "    full_name = f\"{fname} {lname}\".title()\n",
    "    return full_name"
   ]
  },
  {
   "cell_type": "code",
   "execution_count": 6,
   "id": "d8ce8db0",
   "metadata": {},
   "outputs": [
    {
     "data": {
      "text/plain": [
       "'John Cleese'"
      ]
     },
     "execution_count": 6,
     "metadata": {},
     "output_type": "execute_result"
    }
   ],
   "source": [
    "get_formatted_name(\"john\", \"cleese\")"
   ]
  },
  {
   "cell_type": "markdown",
   "id": "2ed31ca5",
   "metadata": {},
   "source": [
    "# Positional arguments\n",
    "\n",
    "\n",
    "When you call a function, Python must match each argument in the function call with a parameter in the function definition. The simplest way to do this is based on the order of the arguments provided. Values matched up this way are called positional arguments."
   ]
  },
  {
   "cell_type": "code",
   "execution_count": 7,
   "id": "4f87bc88",
   "metadata": {},
   "outputs": [],
   "source": [
    "def describe_animal(animal_type, pet_name):\n",
    "    \"\"\"Describes your pet.\"\"\"\n",
    "    message = f\"\"\"I have a pet {animal_type.lower()}. His name is {pet_name.title()}.\"\"\"\n",
    "    return message"
   ]
  },
  {
   "cell_type": "code",
   "execution_count": 8,
   "id": "1bde6c24",
   "metadata": {},
   "outputs": [
    {
     "data": {
      "text/plain": [
       "'I have a pet dog. His name is Bingo.'"
      ]
     },
     "execution_count": 8,
     "metadata": {},
     "output_type": "execute_result"
    }
   ],
   "source": [
    "describe_animal('dog', 'bingo')"
   ]
  },
  {
   "cell_type": "code",
   "execution_count": 9,
   "id": "3de67e1c",
   "metadata": {},
   "outputs": [
    {
     "data": {
      "text/plain": [
       "'I have a pet bingo. His name is Dog.'"
      ]
     },
     "execution_count": 9,
     "metadata": {},
     "output_type": "execute_result"
    }
   ],
   "source": [
    "describe_animal('bingo', 'dog') # wrong positioning!"
   ]
  },
  {
   "cell_type": "markdown",
   "id": "e525edef",
   "metadata": {},
   "source": [
    "**The order matters in Positional Arguments!** Sometimes functions will have a ton of parameters that you may not use. In those situations, you must specify arguments explicitly."
   ]
  },
  {
   "cell_type": "markdown",
   "id": "b25d6aac",
   "metadata": {},
   "source": [
    "# Keyword Arguments\n",
    "\n",
    "A keyword argument is a name-value pair that you pass to a function. You directly associate the name and the value within the argument, so when you pass the argument to the function, there is no confusion."
   ]
  },
  {
   "cell_type": "code",
   "execution_count": 10,
   "id": "07837406",
   "metadata": {},
   "outputs": [
    {
     "data": {
      "text/plain": [
       "'I have a pet dog. His name is Bingo.'"
      ]
     },
     "execution_count": 10,
     "metadata": {},
     "output_type": "execute_result"
    }
   ],
   "source": [
    "describe_animal(pet_name='bingo', animal_type='dog')"
   ]
  },
  {
   "cell_type": "markdown",
   "id": "8f889550",
   "metadata": {},
   "source": [
    "# Default values"
   ]
  },
  {
   "cell_type": "markdown",
   "id": "84f8770b",
   "metadata": {},
   "source": [
    "## Making an argument have a default value\n",
    "\n",
    "Functions can have default values. For example, we can rewrite the `describe_animal` function to have the `animal_type` argument to always be 'dog' and the animal's gender to 'his' unless passed explicitly by the user. When defining a function, default values **must always be declared after non-default arguments!**"
   ]
  },
  {
   "cell_type": "code",
   "execution_count": 11,
   "id": "afabb85f",
   "metadata": {},
   "outputs": [],
   "source": [
    "def describe_animal(pet_name, gender='his', animal_type='dog'):\n",
    "    \"\"\"Describes your pet.\"\"\"\n",
    "    message = f\"\"\"I have a pet {animal_type.lower()}. {gender.title()} name is {pet_name.title()}.\"\"\"\n",
    "    return message"
   ]
  },
  {
   "cell_type": "code",
   "execution_count": 12,
   "id": "85c09e5b",
   "metadata": {},
   "outputs": [
    {
     "data": {
      "text/plain": [
       "'I have a pet dog. His name is Bingo.'"
      ]
     },
     "execution_count": 12,
     "metadata": {},
     "output_type": "execute_result"
    }
   ],
   "source": [
    "describe_animal('bingo') # animal_type is optional to provide"
   ]
  },
  {
   "cell_type": "code",
   "execution_count": 13,
   "id": "262d020f",
   "metadata": {},
   "outputs": [
    {
     "data": {
      "text/plain": [
       "'I have a pet hamster. Her name is Jellybean.'"
      ]
     },
     "execution_count": 13,
     "metadata": {},
     "output_type": "execute_result"
    }
   ],
   "source": [
    "describe_animal('jellybean', 'her', 'hamster')"
   ]
  },
  {
   "cell_type": "code",
   "execution_count": 14,
   "id": "e015ce0c",
   "metadata": {},
   "outputs": [
    {
     "data": {
      "text/plain": [
       "'I have a pet hamster. Her name is Jellybean.'"
      ]
     },
     "execution_count": 14,
     "metadata": {},
     "output_type": "execute_result"
    }
   ],
   "source": [
    "describe_animal(gender='her', animal_type='hamster', pet_name='jellybean')"
   ]
  },
  {
   "cell_type": "markdown",
   "id": "fcf413a4",
   "metadata": {},
   "source": [
    "## Making an argument optional using default value"
   ]
  },
  {
   "cell_type": "code",
   "execution_count": 15,
   "id": "ab46c36f",
   "metadata": {},
   "outputs": [],
   "source": [
    "def get_formatted_name(first_name, last_name, middle_name=''):\n",
    "    \"\"\"Nicely formats a persons name.\"\"\"\n",
    "    if middle_name:\n",
    "        full_name = f\"{first_name} {middle_name} {last_name}\"\n",
    "    else:\n",
    "        full_name = f\"{first_name} {last_name}\"\n",
    "    return full_name.title()"
   ]
  },
  {
   "cell_type": "code",
   "execution_count": 16,
   "id": "4aa5d3b3",
   "metadata": {},
   "outputs": [
    {
     "data": {
      "text/plain": [
       "'Chandler Muriel Bing'"
      ]
     },
     "execution_count": 16,
     "metadata": {},
     "output_type": "execute_result"
    }
   ],
   "source": [
    "get_formatted_name(\"chandler\", \"bing\", \"muriel\")"
   ]
  },
  {
   "cell_type": "code",
   "execution_count": 17,
   "id": "e61653a0",
   "metadata": {},
   "outputs": [
    {
     "data": {
      "text/plain": [
       "'Chandler Bing'"
      ]
     },
     "execution_count": 17,
     "metadata": {},
     "output_type": "execute_result"
    }
   ],
   "source": [
    "get_formatted_name(first_name=\"chandler\", last_name=\"bing\")"
   ]
  },
  {
   "cell_type": "markdown",
   "id": "cdafd922",
   "metadata": {},
   "source": [
    "We can shorten the function above using ternary condition. *Remember it is not necessary to use ternary statements all the time! It may make the code harder to read in some cases!*"
   ]
  },
  {
   "cell_type": "code",
   "execution_count": 18,
   "id": "c06e74f1",
   "metadata": {},
   "outputs": [],
   "source": [
    "def get_formatted_name(first_name, last_name, middle_name=''):\n",
    "    \"\"\"Nicely formats a persons name.\"\"\"\n",
    "    full_name = f\"{first_name} {middle_name} {last_name}\".title() if middle_name else f\"{first_name} {last_name}\".title()\n",
    "    return full_name"
   ]
  },
  {
   "cell_type": "code",
   "execution_count": 19,
   "id": "ed1d670d",
   "metadata": {},
   "outputs": [
    {
     "data": {
      "text/plain": [
       "'Chandler Bing'"
      ]
     },
     "execution_count": 19,
     "metadata": {},
     "output_type": "execute_result"
    }
   ],
   "source": [
    "get_formatted_name(first_name=\"chandler\", last_name=\"bing\")"
   ]
  },
  {
   "cell_type": "markdown",
   "id": "b33bdbf3",
   "metadata": {},
   "source": [
    "# Returning multiple values\n",
    "\n",
    "Multiple values can be returned as a `tuple`. However, to return as a `dict` is the better option."
   ]
  },
  {
   "cell_type": "code",
   "execution_count": 20,
   "id": "08d0b099",
   "metadata": {},
   "outputs": [],
   "source": [
    "def get_formatted_name(first_name, last_name, middle_name=''):\n",
    "    \"\"\"Nicely formats a persons name.\"\"\"\n",
    "    return first_name, middle_name, last_name "
   ]
  },
  {
   "cell_type": "code",
   "execution_count": 21,
   "id": "58dbea20",
   "metadata": {},
   "outputs": [
    {
     "data": {
      "text/plain": [
       "('Ross', '', 'Geller')"
      ]
     },
     "execution_count": 21,
     "metadata": {},
     "output_type": "execute_result"
    }
   ],
   "source": [
    "get_formatted_name(first_name=\"Ross\", last_name=\"Geller\")"
   ]
  },
  {
   "cell_type": "code",
   "execution_count": 22,
   "id": "2d4792b7",
   "metadata": {},
   "outputs": [],
   "source": [
    "fname, mname, lname = get_formatted_name(first_name=\"Ross\", last_name=\"Geller\")"
   ]
  },
  {
   "cell_type": "code",
   "execution_count": 23,
   "id": "1ad9c440",
   "metadata": {},
   "outputs": [
    {
     "data": {
      "text/plain": [
       "('Ross', '', 'Geller')"
      ]
     },
     "execution_count": 23,
     "metadata": {},
     "output_type": "execute_result"
    }
   ],
   "source": [
    "fname, mname, lname"
   ]
  },
  {
   "cell_type": "code",
   "execution_count": 24,
   "id": "a4b00c22",
   "metadata": {},
   "outputs": [],
   "source": [
    "def get_formatted_name(first_name, last_name, middle_name=''):\n",
    "    \"\"\"Nicely formats a persons name.\"\"\"\n",
    "    name_dict = {\n",
    "        'fname': first_name,\n",
    "        'mname': middle_name,\n",
    "        'lname': last_name\n",
    "    }\n",
    "    return name_dict"
   ]
  },
  {
   "cell_type": "code",
   "execution_count": 25,
   "id": "43f084c4",
   "metadata": {},
   "outputs": [
    {
     "data": {
      "text/plain": [
       "{'fname': 'Ross', 'mname': '', 'lname': 'Geller'}"
      ]
     },
     "execution_count": 25,
     "metadata": {},
     "output_type": "execute_result"
    }
   ],
   "source": [
    "get_formatted_name(first_name=\"Ross\", last_name=\"Geller\")"
   ]
  },
  {
   "cell_type": "markdown",
   "id": "41a54973",
   "metadata": {},
   "source": [
    "# Passing a list"
   ]
  },
  {
   "cell_type": "code",
   "execution_count": 26,
   "id": "4c01fa43",
   "metadata": {},
   "outputs": [],
   "source": [
    "def greet_users(names):\n",
    "    for name in names:\n",
    "        print(f\"Hello {name.title()}!\")"
   ]
  },
  {
   "cell_type": "code",
   "execution_count": 27,
   "id": "dc0eb0ff",
   "metadata": {},
   "outputs": [
    {
     "name": "stdout",
     "output_type": "stream",
     "text": [
      "Hello Geralt!\n",
      "Hello Ciri!\n",
      "Hello Yennifer!\n",
      "Hello Triss!\n"
     ]
    }
   ],
   "source": [
    "greet_users(['Geralt', 'Ciri', 'Yennifer', 'Triss'])"
   ]
  },
  {
   "cell_type": "markdown",
   "id": "4439e9d9",
   "metadata": {},
   "source": [
    "## Modifying a List in a Function\n",
    "When you pass a list to a function, the function can modify the list. Any changes made to the list inside the function’s body are permanent.\n",
    "\n",
    "In the following example, we will take each element from a list and move them to another list. We will remove the people from the list named jackson to a list named seattle when they move away from the Jackson settlement to Seattle."
   ]
  },
  {
   "cell_type": "code",
   "execution_count": 28,
   "id": "f1db2f52",
   "metadata": {},
   "outputs": [],
   "source": [
    "jackson = ['Joel', 'Ellie', 'Jessie', 'Tommy', 'Dina']"
   ]
  },
  {
   "cell_type": "code",
   "execution_count": 29,
   "id": "0a41cb50",
   "metadata": {},
   "outputs": [],
   "source": [
    "seattle = []"
   ]
  },
  {
   "cell_type": "code",
   "execution_count": 30,
   "id": "f4874c1f",
   "metadata": {},
   "outputs": [],
   "source": [
    "def remove_people_from_town(home_town, new_town):\n",
    "    \"\"\"Removes people from their home town and adds them to a new town.\"\"\"\n",
    "    while home_town:\n",
    "        mover = home_town.pop()\n",
    "        new_town.append(mover)\n",
    "        print(f\"{mover} is moving away.\")"
   ]
  },
  {
   "cell_type": "code",
   "execution_count": 31,
   "id": "7d76517f",
   "metadata": {},
   "outputs": [],
   "source": [
    "def show_people_in_town(town_name):\n",
    "    \"\"\"Shows the people who are in Seattle.\"\"\"\n",
    "    for person in town_name:\n",
    "        print(f\"{person} is in now in Seattle.\")"
   ]
  },
  {
   "cell_type": "code",
   "execution_count": 32,
   "id": "eb6feb99",
   "metadata": {},
   "outputs": [
    {
     "name": "stdout",
     "output_type": "stream",
     "text": [
      "Dina is moving away.\n",
      "Tommy is moving away.\n",
      "Jessie is moving away.\n",
      "Ellie is moving away.\n",
      "Joel is moving away.\n"
     ]
    }
   ],
   "source": [
    "remove_people_from_town(jackson, seattle)"
   ]
  },
  {
   "cell_type": "code",
   "execution_count": 33,
   "id": "2d4dbf6a",
   "metadata": {},
   "outputs": [
    {
     "name": "stdout",
     "output_type": "stream",
     "text": [
      "Dina is in now in Seattle.\n",
      "Tommy is in now in Seattle.\n",
      "Jessie is in now in Seattle.\n",
      "Ellie is in now in Seattle.\n",
      "Joel is in now in Seattle.\n"
     ]
    }
   ],
   "source": [
    "show_people_in_town(seattle)"
   ]
  },
  {
   "cell_type": "code",
   "execution_count": 34,
   "id": "8af2ee1d",
   "metadata": {},
   "outputs": [
    {
     "data": {
      "text/plain": [
       "[]"
      ]
     },
     "execution_count": 34,
     "metadata": {},
     "output_type": "execute_result"
    }
   ],
   "source": [
    "jackson"
   ]
  },
  {
   "cell_type": "markdown",
   "id": "15b1e57c",
   "metadata": {},
   "source": [
    "Since we used `pop` method, the `jackson` list is now empty. We may sometimes not want to modify the original list. Let's see how to do that."
   ]
  },
  {
   "cell_type": "markdown",
   "id": "f3097004",
   "metadata": {},
   "source": [
    "## Preventing a Function from Modifying a List\n",
    "\n",
    "To do that, simply pass a copy of the `jackson` list instead!"
   ]
  },
  {
   "cell_type": "code",
   "execution_count": 35,
   "id": "6c0e0138",
   "metadata": {},
   "outputs": [],
   "source": [
    "jackson = ['Joel', 'Ellie', 'Jessie', 'Tommy', 'Dina']"
   ]
  },
  {
   "cell_type": "code",
   "execution_count": 36,
   "id": "f385badf",
   "metadata": {},
   "outputs": [],
   "source": [
    "seattle = []"
   ]
  },
  {
   "cell_type": "code",
   "execution_count": 37,
   "id": "61b07028",
   "metadata": {},
   "outputs": [
    {
     "name": "stdout",
     "output_type": "stream",
     "text": [
      "Dina is moving away.\n",
      "Tommy is moving away.\n",
      "Jessie is moving away.\n",
      "Ellie is moving away.\n",
      "Joel is moving away.\n"
     ]
    }
   ],
   "source": [
    "remove_people_from_town(jackson[:], seattle)"
   ]
  },
  {
   "cell_type": "code",
   "execution_count": 38,
   "id": "7e0946cc",
   "metadata": {},
   "outputs": [
    {
     "name": "stdout",
     "output_type": "stream",
     "text": [
      "Dina is in now in Seattle.\n",
      "Tommy is in now in Seattle.\n",
      "Jessie is in now in Seattle.\n",
      "Ellie is in now in Seattle.\n",
      "Joel is in now in Seattle.\n"
     ]
    }
   ],
   "source": [
    "show_people_in_town(seattle)"
   ]
  },
  {
   "cell_type": "code",
   "execution_count": 39,
   "id": "ae390d72",
   "metadata": {},
   "outputs": [
    {
     "data": {
      "text/plain": [
       "['Joel', 'Ellie', 'Jessie', 'Tommy', 'Dina']"
      ]
     },
     "execution_count": 39,
     "metadata": {},
     "output_type": "execute_result"
    }
   ],
   "source": [
    "jackson"
   ]
  },
  {
   "cell_type": "markdown",
   "id": "dfaa34fb",
   "metadata": {},
   "source": [
    "Great! Joel, Ellie, Jessie, Tommy and Dina are all still in Jackson!"
   ]
  },
  {
   "cell_type": "markdown",
   "id": "7be40dc4",
   "metadata": {},
   "source": [
    "# Passing an Arbitrary Number of Arguments\n",
    "\n",
    "Sometimes you won’t know ahead of time how many arguments a function needs to accept. Fortunately, Python allows a function to collect an arbitrary number of arguments from the calling statement."
   ]
  },
  {
   "cell_type": "code",
   "execution_count": 40,
   "id": "1712c850",
   "metadata": {},
   "outputs": [],
   "source": [
    "def make_pizza(*toppings):\n",
    "    \"\"\"Makes a pizza with the given toppings\"\"\"\n",
    "    print(\"Making a pizza with the following:\")\n",
    "    for topping in toppings:\n",
    "        print(f\" - {topping.title()}\")"
   ]
  },
  {
   "cell_type": "code",
   "execution_count": 41,
   "id": "2bc42bab",
   "metadata": {},
   "outputs": [
    {
     "name": "stdout",
     "output_type": "stream",
     "text": [
      "Making a pizza with the following:\n",
      " - Pepperoni\n"
     ]
    }
   ],
   "source": [
    "make_pizza('pepperoni')"
   ]
  },
  {
   "cell_type": "code",
   "execution_count": 42,
   "id": "f87d887f",
   "metadata": {},
   "outputs": [
    {
     "name": "stdout",
     "output_type": "stream",
     "text": [
      "Making a pizza with the following:\n",
      " - Pepperoni\n",
      " - Mushroom\n",
      " - Cheese\n",
      " - Spam\n"
     ]
    }
   ],
   "source": [
    "make_pizza('pepperoni', 'mushroom', 'cheese', 'spam')"
   ]
  },
  {
   "cell_type": "markdown",
   "id": "5e9ad443",
   "metadata": {},
   "source": [
    "# Mixing Positional and Arbitrary Arguments\n",
    "\n",
    "*You’ll often see the generic parameter name `*args`, which collects arbitrary positional arguments like this.*"
   ]
  },
  {
   "cell_type": "code",
   "execution_count": 43,
   "id": "8150dc4a",
   "metadata": {},
   "outputs": [],
   "source": [
    "def make_pizza(size, *toppings):\n",
    "    \"\"\"Makes a pizza with the given toppings\"\"\"\n",
    "    print(f\"Making a {size.lower()} pizza with the following:\")\n",
    "    for topping in toppings:\n",
    "        print(f\" - {topping.title()}\")"
   ]
  },
  {
   "cell_type": "code",
   "execution_count": 44,
   "id": "08325b5c",
   "metadata": {},
   "outputs": [
    {
     "name": "stdout",
     "output_type": "stream",
     "text": [
      "Making a large pizza with the following:\n",
      " - Pepperoni\n",
      " - Mushroom\n",
      " - Cheese\n",
      " - Spam\n"
     ]
    }
   ],
   "source": [
    "make_pizza('large', 'pepperoni', 'mushroom', 'cheese', 'spam')"
   ]
  },
  {
   "cell_type": "markdown",
   "id": "4585d6be",
   "metadata": {},
   "source": [
    "# Using Arbitrary Keyword Arguments\n",
    "\n",
    "Sometimes you will want to accept an arbitrary number of arguments, but you will not know ahead of time what kind of information will be passed to the function.\n",
    "\n",
    "The definition of build_profile() expects a first and last name, and then it allows the user to pass in as many name-value pairs as they want. The double asterisks before the parameter `**user_info` cause Python to create an empty dictionary called `user_info` and pack whatever name-value pairs it receives into this dictionary. \n",
    "\n",
    "*You will often see the parameter name `**kwargs` used to collect non-specific keyword arguments.*"
   ]
  },
  {
   "cell_type": "code",
   "execution_count": 45,
   "id": "f96de700",
   "metadata": {},
   "outputs": [],
   "source": [
    "def build_profile(fname, lname, **user_info):\n",
    "    \"\"\"Build a dictionary with everything we know about a user.\"\"\"\n",
    "    user_info['first_name'] = fname.title()\n",
    "    user_info['last_name'] = lname.title()\n",
    "    return user_info"
   ]
  },
  {
   "cell_type": "code",
   "execution_count": 46,
   "id": "aa5b1b02",
   "metadata": {},
   "outputs": [],
   "source": [
    "profile = build_profile('john', 'oliver', occupation='comedian', channel='HBO')"
   ]
  },
  {
   "cell_type": "code",
   "execution_count": 47,
   "id": "c1d5587b",
   "metadata": {
    "scrolled": false
   },
   "outputs": [
    {
     "data": {
      "text/plain": [
       "{'occupation': 'comedian',\n",
       " 'channel': 'HBO',\n",
       " 'first_name': 'John',\n",
       " 'last_name': 'Oliver'}"
      ]
     },
     "execution_count": 47,
     "metadata": {},
     "output_type": "execute_result"
    }
   ],
   "source": [
    "profile"
   ]
  }
 ],
 "metadata": {
  "interpreter": {
   "hash": "9a5c112965dd3741affc2a9b31d3665700127ff2009b742eec9c59ca40b98348"
  },
  "kernelspec": {
   "display_name": "Python 3.10.1 ('env': venv)",
   "language": "python",
   "name": "python3"
  },
  "language_info": {
   "codemirror_mode": {
    "name": "ipython",
    "version": 3
   },
   "file_extension": ".py",
   "mimetype": "text/x-python",
   "name": "python",
   "nbconvert_exporter": "python",
   "pygments_lexer": "ipython3",
   "version": "3.10.1"
  }
 },
 "nbformat": 4,
 "nbformat_minor": 5
}
