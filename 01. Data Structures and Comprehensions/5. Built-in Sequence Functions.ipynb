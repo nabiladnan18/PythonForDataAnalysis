{
 "cells": [
  {
   "cell_type": "markdown",
   "id": "6f3b07a1",
   "metadata": {},
   "source": [
    "# `enumerate`"
   ]
  },
  {
   "cell_type": "markdown",
   "id": "4aca88f1",
   "metadata": {},
   "source": [
    "`enumerate` returns a `tuple` of `index` and `value` from a sequence."
   ]
  },
  {
   "cell_type": "code",
   "execution_count": 1,
   "id": "2cc5aced",
   "metadata": {},
   "outputs": [
    {
     "data": {
      "text/plain": [
       "[0, 1, 2, 3, 4, 5, 6, 7, 8, 9, 10, 11, 12, 13, 14, 15, 16, 17, 18, 19]"
      ]
     },
     "execution_count": 1,
     "metadata": {},
     "output_type": "execute_result"
    }
   ],
   "source": [
    "my_list = list(range(0, 20))\n",
    "my_list"
   ]
  },
  {
   "cell_type": "code",
   "execution_count": 2,
   "id": "f624d1ac",
   "metadata": {
    "scrolled": true
   },
   "outputs": [
    {
     "name": "stdout",
     "output_type": "stream",
     "text": [
      "index \tvalue\n",
      "0 \t 0\n",
      "1 \t 1\n",
      "2 \t 2\n",
      "3 \t 3\n",
      "4 \t 4\n",
      "5 \t 5\n",
      "6 \t 6\n",
      "7 \t 7\n",
      "8 \t 8\n",
      "9 \t 9\n",
      "10 \t 10\n",
      "11 \t 11\n",
      "12 \t 12\n",
      "13 \t 13\n",
      "14 \t 14\n",
      "15 \t 15\n",
      "16 \t 16\n",
      "17 \t 17\n",
      "18 \t 18\n",
      "19 \t 19\n"
     ]
    }
   ],
   "source": [
    "print(\"index\", \"\\tvalue\")\n",
    "for i, v in enumerate(my_list):\n",
    "    print(i , '\\t', v)"
   ]
  },
  {
   "cell_type": "markdown",
   "id": "f5d4f068",
   "metadata": {},
   "source": [
    "It is common when iterating over a sequence to want to keep track of the index of the current item. The following would be a verbose approach:"
   ]
  },
  {
   "cell_type": "code",
   "execution_count": 3,
   "id": "5349c0b4",
   "metadata": {},
   "outputs": [
    {
     "name": "stdout",
     "output_type": "stream",
     "text": [
      "0\n",
      "1\n",
      "2\n",
      "3\n",
      "4\n"
     ]
    }
   ],
   "source": [
    "i = 0\n",
    "for value in range(0, 20):\n",
    "    while i < 5:\n",
    "        print(value)\n",
    "        i += 1\n",
    "        break"
   ]
  },
  {
   "cell_type": "markdown",
   "id": "8bb88f26",
   "metadata": {},
   "source": [
    "Since the above is a common scenario, Python has the built-in `enumerate` function which can be used to do the same thing:"
   ]
  },
  {
   "cell_type": "code",
   "execution_count": 4,
   "id": "a17df6ac",
   "metadata": {},
   "outputs": [
    {
     "name": "stdout",
     "output_type": "stream",
     "text": [
      "0\n",
      "1\n",
      "2\n",
      "3\n",
      "4\n"
     ]
    }
   ],
   "source": [
    "for i, value in enumerate(range(0, 20)):\n",
    "    while i < 5:\n",
    "        print(value)\n",
    "        break"
   ]
  },
  {
   "cell_type": "markdown",
   "id": "e5d9b1d6",
   "metadata": {},
   "source": [
    "*Remember: range(0, 20) is a sequence just like lists and tuples but is **not** a list.*"
   ]
  },
  {
   "cell_type": "code",
   "execution_count": 5,
   "id": "1c48d45b",
   "metadata": {},
   "outputs": [
    {
     "name": "stdout",
     "output_type": "stream",
     "text": [
      "index \tvalue\n",
      "0 \t 0\n",
      "1 \t 1\n",
      "2 \t 2\n",
      "3 \t 3\n",
      "4 \t 4\n",
      "5 \t 5\n",
      "6 \t 6\n",
      "7 \t 7\n",
      "8 \t 8\n",
      "9 \t 9\n"
     ]
    }
   ],
   "source": [
    "my_tuple = tuple(range(0, 10))\n",
    "print(\"index\", \"\\tvalue\")\n",
    "for i, v in enumerate(my_tuple):\n",
    "    print(i , '\\t', v)"
   ]
  },
  {
   "cell_type": "markdown",
   "id": "779728d7",
   "metadata": {},
   "source": [
    "**Another useful situation where enumerate can be useful is when mapping the index of an element in a list with the element itself and creating a `dict` like structure.**"
   ]
  },
  {
   "cell_type": "code",
   "execution_count": 6,
   "id": "bd361411",
   "metadata": {},
   "outputs": [],
   "source": [
    "ingredients = ['spam', 'eggs', 'ham', 'cheese']"
   ]
  },
  {
   "cell_type": "code",
   "execution_count": 7,
   "id": "62f48718",
   "metadata": {},
   "outputs": [],
   "source": [
    "mapping = {}"
   ]
  },
  {
   "cell_type": "code",
   "execution_count": 8,
   "id": "d804b32a",
   "metadata": {},
   "outputs": [],
   "source": [
    "for index, value in enumerate(ingredients):\n",
    "    mapping[value] = index"
   ]
  },
  {
   "cell_type": "code",
   "execution_count": 9,
   "id": "9ed4e937",
   "metadata": {},
   "outputs": [
    {
     "data": {
      "text/plain": [
       "{'spam': 0, 'eggs': 1, 'ham': 2, 'cheese': 3}"
      ]
     },
     "execution_count": 9,
     "metadata": {},
     "output_type": "execute_result"
    }
   ],
   "source": [
    "mapping"
   ]
  },
  {
   "cell_type": "markdown",
   "id": "e8ec3e2d",
   "metadata": {},
   "source": [
    "# `sorted`"
   ]
  },
  {
   "cell_type": "markdown",
   "id": "81d93c61",
   "metadata": {},
   "source": [
    "The sorted function returns a new sorted list from the elements of any sequence."
   ]
  },
  {
   "cell_type": "code",
   "execution_count": 10,
   "id": "2e553a92",
   "metadata": {},
   "outputs": [
    {
     "data": {
      "text/plain": [
       "[0, 1, 2, 5, 7, 11, 20, 88]"
      ]
     },
     "execution_count": 10,
     "metadata": {},
     "output_type": "execute_result"
    }
   ],
   "source": [
    "sorted([7, 1, 88, 2, 0, 20, 11, 5])"
   ]
  },
  {
   "cell_type": "markdown",
   "id": "d4f674ff",
   "metadata": {},
   "source": [
    "This function is described in more details [here](/notebooks/01.%20Data%20Structures%20and%20Comprehensions/1.%20Lists.ipynb#Sorted)"
   ]
  },
  {
   "cell_type": "markdown",
   "id": "793325b6",
   "metadata": {},
   "source": [
    "# `zip`"
   ]
  },
  {
   "cell_type": "markdown",
   "id": "9d9357ff",
   "metadata": {},
   "source": [
    "`zip` “pairs” up the elements of. a number of lists, tuples, or other sequences to create a list of tuples."
   ]
  },
  {
   "cell_type": "code",
   "execution_count": 11,
   "id": "c16335c7",
   "metadata": {},
   "outputs": [],
   "source": [
    "my_list = ['spam', 'eggs']"
   ]
  },
  {
   "cell_type": "code",
   "execution_count": 12,
   "id": "36cf433b",
   "metadata": {},
   "outputs": [],
   "source": [
    "another_list = ['ham', 'cheese']"
   ]
  },
  {
   "cell_type": "code",
   "execution_count": 13,
   "id": "8c75562e",
   "metadata": {},
   "outputs": [],
   "source": [
    "zipped = zip(my_list, another_list)"
   ]
  },
  {
   "cell_type": "code",
   "execution_count": 14,
   "id": "d5fd5ef8",
   "metadata": {},
   "outputs": [],
   "source": [
    "zipped_list = list(zipped)"
   ]
  },
  {
   "cell_type": "code",
   "execution_count": 15,
   "id": "531bab9f",
   "metadata": {},
   "outputs": [
    {
     "data": {
      "text/plain": [
       "[('spam', 'ham'), ('eggs', 'cheese')]"
      ]
     },
     "execution_count": 15,
     "metadata": {},
     "output_type": "execute_result"
    }
   ],
   "source": [
    "zipped_list"
   ]
  },
  {
   "cell_type": "markdown",
   "id": "ba70ceac",
   "metadata": {},
   "source": [
    "`zip` can take an arbitrary number of sequences, and the number of elements it produces is determined by the shortest sequence."
   ]
  },
  {
   "cell_type": "code",
   "execution_count": 16,
   "id": "455ea2c9",
   "metadata": {},
   "outputs": [],
   "source": [
    "yet_another_list = ['he', 'is', 'pining', 'for', 'the', 'fjords', 'sir']"
   ]
  },
  {
   "cell_type": "code",
   "execution_count": 17,
   "id": "d999bcdf",
   "metadata": {},
   "outputs": [],
   "source": [
    "zipped_all = list(zip(my_list, another_list, yet_another_list))"
   ]
  },
  {
   "cell_type": "code",
   "execution_count": 18,
   "id": "5fc5ce22",
   "metadata": {},
   "outputs": [
    {
     "data": {
      "text/plain": [
       "[('spam', 'ham', 'he'), ('eggs', 'cheese', 'is')]"
      ]
     },
     "execution_count": 18,
     "metadata": {},
     "output_type": "execute_result"
    }
   ],
   "source": [
    "zipped_all"
   ]
  },
  {
   "cell_type": "markdown",
   "id": "e012f9ad",
   "metadata": {},
   "source": [
    "`zip` can be used to assign two lists, one containing for example a list of students and their corresponding scores in an exam: "
   ]
  },
  {
   "cell_type": "code",
   "execution_count": 19,
   "id": "20a36bb3",
   "metadata": {},
   "outputs": [],
   "source": [
    "students = ['John Cleese', 'Terry Gilliam', 'Eric Idle', 'Michael Palin', 'Graham Chapman', 'Terry Jones']"
   ]
  },
  {
   "cell_type": "code",
   "execution_count": 20,
   "id": "aab3f832",
   "metadata": {},
   "outputs": [],
   "source": [
    "scores = [98, 92, 93, 85, 97, 88]"
   ]
  },
  {
   "cell_type": "code",
   "execution_count": 21,
   "id": "67c0bd61",
   "metadata": {},
   "outputs": [],
   "source": [
    "students_and_their_results = list(zip(students, scores))"
   ]
  },
  {
   "cell_type": "code",
   "execution_count": 22,
   "id": "3af6e8d5",
   "metadata": {},
   "outputs": [
    {
     "data": {
      "text/plain": [
       "[('John Cleese', 98),\n",
       " ('Terry Gilliam', 92),\n",
       " ('Eric Idle', 93),\n",
       " ('Michael Palin', 85),\n",
       " ('Graham Chapman', 97),\n",
       " ('Terry Jones', 88)]"
      ]
     },
     "execution_count": 22,
     "metadata": {},
     "output_type": "execute_result"
    }
   ],
   "source": [
    "students_and_their_results"
   ]
  },
  {
   "cell_type": "markdown",
   "id": "e42b4d29",
   "metadata": {},
   "source": [
    "### `zip` and `enumerate`\n",
    "\n",
    "One of the most common uses of `zip` is when iterating over a sequence, possibly in combination with `enumerate`."
   ]
  },
  {
   "cell_type": "code",
   "execution_count": 23,
   "id": "67f601d6",
   "metadata": {},
   "outputs": [
    {
     "name": "stdout",
     "output_type": "stream",
     "text": [
      "0: ('spam', 'ham')\n",
      "1: ('eggs', 'cheese')\n"
     ]
    }
   ],
   "source": [
    "for index, value in enumerate(zip(my_list, another_list)):\n",
    "    print(f\"{index}: {value}\")"
   ]
  },
  {
   "cell_type": "code",
   "execution_count": 24,
   "id": "3559b952",
   "metadata": {},
   "outputs": [
    {
     "name": "stdout",
     "output_type": "stream",
     "text": [
      "0: spam, ham\n",
      "1: eggs, cheese\n"
     ]
    }
   ],
   "source": [
    "for index, (value1, value2) in enumerate(zip(my_list, another_list)):\n",
    "    print(f\"{index}: {value1}, {value2}\")"
   ]
  },
  {
   "cell_type": "code",
   "execution_count": 25,
   "id": "d690eefa",
   "metadata": {
    "scrolled": true
   },
   "outputs": [
    {
     "name": "stdout",
     "output_type": "stream",
     "text": [
      "John Cleese: 98\n",
      "Terry Gilliam: 92\n",
      "Eric Idle: 93\n",
      "Michael Palin: 85\n",
      "Graham Chapman: 97\n",
      "Terry Jones: 88\n"
     ]
    }
   ],
   "source": [
    "for index, (student, score) in enumerate(zip(students, scores)):\n",
    "    print(f\"{student}: {score}\")"
   ]
  },
  {
   "cell_type": "markdown",
   "id": "2c214e63",
   "metadata": {},
   "source": [
    "### \"Unzipping\" a zipped sequence\n",
    "\n",
    "Given a “zipped” sequence, zip can be applied in a clever way to “unzip” the sequence. Another way to think about this is converting a list of rows into a list of columns."
   ]
  },
  {
   "cell_type": "code",
   "execution_count": 26,
   "id": "a76bfec1",
   "metadata": {},
   "outputs": [],
   "source": [
    "pythons = [('John', 'Cleese'), ('Eric', 'Idle'), ('Michael', 'Palin')]"
   ]
  },
  {
   "cell_type": "code",
   "execution_count": 27,
   "id": "365e4511",
   "metadata": {},
   "outputs": [],
   "source": [
    "first_names, last_names = zip(*pythons)"
   ]
  },
  {
   "cell_type": "code",
   "execution_count": 28,
   "id": "8b812eda",
   "metadata": {},
   "outputs": [
    {
     "data": {
      "text/plain": [
       "('John', 'Eric', 'Michael')"
      ]
     },
     "execution_count": 28,
     "metadata": {},
     "output_type": "execute_result"
    }
   ],
   "source": [
    "first_names"
   ]
  },
  {
   "cell_type": "code",
   "execution_count": 29,
   "id": "0fd62573",
   "metadata": {},
   "outputs": [
    {
     "data": {
      "text/plain": [
       "('Cleese', 'Idle', 'Palin')"
      ]
     },
     "execution_count": 29,
     "metadata": {},
     "output_type": "execute_result"
    }
   ],
   "source": [
    "last_names"
   ]
  },
  {
   "cell_type": "markdown",
   "id": "1a10a823",
   "metadata": {},
   "source": [
    "# `reversed`\n",
    "\n",
    "`reversed` iterates over the elements of a sequence in reverse order. **`reversed` is a generator like `range`!** It does not create the reversed sequence until materialized (e.g., with `list` or a `for loop`)."
   ]
  },
  {
   "cell_type": "code",
   "execution_count": 30,
   "id": "bfa5291a",
   "metadata": {},
   "outputs": [
    {
     "data": {
      "text/plain": [
       "<reversed at 0x1cd04fb9900>"
      ]
     },
     "execution_count": 30,
     "metadata": {},
     "output_type": "execute_result"
    }
   ],
   "source": [
    "reversed(first_names)"
   ]
  },
  {
   "cell_type": "code",
   "execution_count": 31,
   "id": "150f37ee",
   "metadata": {},
   "outputs": [
    {
     "data": {
      "text/plain": [
       "['Michael', 'Eric', 'John']"
      ]
     },
     "execution_count": 31,
     "metadata": {},
     "output_type": "execute_result"
    }
   ],
   "source": [
    "list(reversed(first_names))"
   ]
  },
  {
   "cell_type": "markdown",
   "id": "4a293bfb",
   "metadata": {},
   "source": [
    "# `filter`\n",
    "\n",
    "`filter` applies a specific `function` on one or more `iterable` objects and returns a `filter` object. This is useful for filtering out elements that match a certain condition. "
   ]
  },
  {
   "cell_type": "code",
   "execution_count": 32,
   "id": "ea25da4a",
   "metadata": {},
   "outputs": [],
   "source": [
    "products = [\n",
    "    (\"Landrover Lace-up boots\", 39.99),\n",
    "    (\"AM Shoe Leder Schneesteifel\", 69.99),\n",
    "    (\"Forclaz Handschuh\", 6.99)\n",
    "]"
   ]
  },
  {
   "cell_type": "code",
   "execution_count": 41,
   "id": "08121be1",
   "metadata": {},
   "outputs": [],
   "source": [
    "filtered_items = filter(lambda item: item[1] > 10, products) \n",
    "# lambda function to find the price of each item and checking if it is over €10"
   ]
  },
  {
   "cell_type": "markdown",
   "id": "a9e91eb3",
   "metadata": {},
   "source": [
    "**Tutorial to lambda functions can be found [here](/notebooks/03.%20Functions_/3.%20Lambda%20Functions.ipynb)**"
   ]
  },
  {
   "cell_type": "code",
   "execution_count": 34,
   "id": "fb125a2d",
   "metadata": {},
   "outputs": [
    {
     "data": {
      "text/plain": [
       "<filter at 0x1cd075ba9e0>"
      ]
     },
     "execution_count": 34,
     "metadata": {},
     "output_type": "execute_result"
    }
   ],
   "source": [
    "filtered_items"
   ]
  },
  {
   "cell_type": "code",
   "execution_count": 35,
   "id": "f303860d",
   "metadata": {},
   "outputs": [],
   "source": [
    "filtered_items = list(filtered_items)"
   ]
  },
  {
   "cell_type": "code",
   "execution_count": 36,
   "id": "fa73d177",
   "metadata": {},
   "outputs": [
    {
     "data": {
      "text/plain": [
       "[('Landrover Lace-up boots', 39.99), ('AM Shoe Leder Schneesteifel', 69.99)]"
      ]
     },
     "execution_count": 36,
     "metadata": {},
     "output_type": "execute_result"
    }
   ],
   "source": [
    "filtered_items"
   ]
  },
  {
   "cell_type": "markdown",
   "id": "ca6f9c7f",
   "metadata": {},
   "source": [
    "# `map`\n",
    "\n",
    "`map` applies a specific `function` on one or more `iterable` objects and returns a `map` object. This is useful for finding out specific information about a dataset. \n",
    "\n",
    "In the following example, we only want to find out the prices of the following products:"
   ]
  },
  {
   "cell_type": "code",
   "execution_count": 37,
   "id": "86c2fbcc",
   "metadata": {},
   "outputs": [],
   "source": [
    "prices = list(map(lambda item: item[1], products))"
   ]
  },
  {
   "cell_type": "code",
   "execution_count": 38,
   "id": "42009659",
   "metadata": {},
   "outputs": [
    {
     "data": {
      "text/plain": [
       "[39.99, 69.99, 6.99]"
      ]
     },
     "execution_count": 38,
     "metadata": {},
     "output_type": "execute_result"
    }
   ],
   "source": [
    "prices"
   ]
  },
  {
   "cell_type": "markdown",
   "id": "dfbfb1d2",
   "metadata": {},
   "source": [
    "In this following example, we only want to find out the names of each product:"
   ]
  },
  {
   "cell_type": "code",
   "execution_count": 39,
   "id": "4b639106",
   "metadata": {},
   "outputs": [],
   "source": [
    "names = list(map(lambda name: name[0], products))"
   ]
  },
  {
   "cell_type": "code",
   "execution_count": 40,
   "id": "b08ca287",
   "metadata": {},
   "outputs": [
    {
     "data": {
      "text/plain": [
       "['Landrover Lace-up boots', 'AM Shoe Leder Schneesteifel', 'Forclaz Handschuh']"
      ]
     },
     "execution_count": 40,
     "metadata": {},
     "output_type": "execute_result"
    }
   ],
   "source": [
    "names"
   ]
  }
 ],
 "metadata": {
  "kernelspec": {
   "display_name": "Python 3 (ipykernel)",
   "language": "python",
   "name": "python3"
  },
  "language_info": {
   "codemirror_mode": {
    "name": "ipython",
    "version": 3
   },
   "file_extension": ".py",
   "mimetype": "text/x-python",
   "name": "python",
   "nbconvert_exporter": "python",
   "pygments_lexer": "ipython3",
   "version": "3.10.1"
  }
 },
 "nbformat": 4,
 "nbformat_minor": 5
}
