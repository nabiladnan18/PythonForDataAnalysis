{
 "cells": [
  {
   "cell_type": "markdown",
   "id": "b3349ef7",
   "metadata": {},
   "source": [
    "# List comprehensions\n",
    "\n",
    "## Basics\n",
    "\n",
    "List comprehensions are one of the most-loved Python language features. They allow\n",
    "you to concisely form a new list by filtering the elements of a collection, transforming\n",
    "the elements passing the filter in one concise expression.\n",
    "\n",
    "They take the basic form:\n",
    "```\n",
    "[expr for val in collection if condition]\n",
    "```\n",
    "\n",
    "This is equivalent to the following for loop:\n",
    "```\n",
    "result = []\n",
    "for val in collection:\n",
    "    if condition:\n",
    "    result.append(expr)\n",
    "```\n",
    "\n",
    "The filter condition can be omitted, leaving only the expression."
   ]
  },
  {
   "cell_type": "code",
   "execution_count": 1,
   "id": "3aee934d",
   "metadata": {},
   "outputs": [],
   "source": [
    "ingredients = ['eggs', 'spam', 'cheese', 'ham']"
   ]
  },
  {
   "cell_type": "markdown",
   "id": "766695bd",
   "metadata": {},
   "source": [
    "Let's say we want to make a list of all ingredients that are longer than three characters. To do this we can do the following:"
   ]
  },
  {
   "cell_type": "code",
   "execution_count": 2,
   "id": "05da50d9",
   "metadata": {},
   "outputs": [],
   "source": [
    "result = []"
   ]
  },
  {
   "cell_type": "code",
   "execution_count": 3,
   "id": "da92f5fe",
   "metadata": {},
   "outputs": [],
   "source": [
    "for ingredient in ingredients:\n",
    "    if len(ingredient) > 3:\n",
    "        result.append(ingredient.title())"
   ]
  },
  {
   "cell_type": "code",
   "execution_count": 4,
   "id": "ba0ee015",
   "metadata": {},
   "outputs": [
    {
     "data": {
      "text/plain": [
       "['Eggs', 'Spam', 'Cheese']"
      ]
     },
     "execution_count": 4,
     "metadata": {},
     "output_type": "execute_result"
    }
   ],
   "source": [
    "result"
   ]
  },
  {
   "cell_type": "markdown",
   "id": "33c0edf9",
   "metadata": {},
   "source": [
    "The same thing can be done using list comprehension in one line:"
   ]
  },
  {
   "cell_type": "code",
   "execution_count": 5,
   "id": "b225cdd0",
   "metadata": {},
   "outputs": [
    {
     "data": {
      "text/plain": [
       "['Eggs', 'Spam', 'Cheese']"
      ]
     },
     "execution_count": 5,
     "metadata": {},
     "output_type": "execute_result"
    }
   ],
   "source": [
    "[ingredient.title() for ingredient in ingredients if len(ingredient) > 3]"
   ]
  },
  {
   "cell_type": "markdown",
   "id": "967aacc8",
   "metadata": {},
   "source": [
    "## Nested list comprehension\n",
    "\n",
    "Consider the following list of actors, which is further listed according to the movie or tv shows that they have appeared together. We want to make a list of all actors who have at least 2 `a`s in their name."
   ]
  },
  {
   "cell_type": "code",
   "execution_count": 6,
   "id": "d60754d3",
   "metadata": {},
   "outputs": [],
   "source": [
    "actors = [['Daniel Radcliffe', 'Tom Felton', 'Rupert Grint', 'Emma Watson'],\n",
    "          ['Courtney Cox', 'Matt Le Blanc', 'Matthew Perry']]"
   ]
  },
  {
   "cell_type": "markdown",
   "id": "8624a604",
   "metadata": {},
   "source": [
    "Without comprehension:"
   ]
  },
  {
   "cell_type": "code",
   "execution_count": 9,
   "id": "397ba1f0",
   "metadata": {},
   "outputs": [],
   "source": [
    "my_list = []\n",
    "for actor_group in actors:\n",
    "    for name in actor_group:\n",
    "        if name.count('a') >= 2:\n",
    "            my_list.append(name)"
   ]
  },
  {
   "cell_type": "code",
   "execution_count": 10,
   "id": "c3457375",
   "metadata": {},
   "outputs": [
    {
     "data": {
      "text/plain": [
       "['Daniel Radcliffe', 'Emma Watson', 'Matt Le Blanc']"
      ]
     },
     "execution_count": 10,
     "metadata": {},
     "output_type": "execute_result"
    }
   ],
   "source": [
    "my_list"
   ]
  },
  {
   "cell_type": "markdown",
   "id": "65af4c90",
   "metadata": {},
   "source": [
    "This can be shortned with one level of comprehension:"
   ]
  },
  {
   "cell_type": "code",
   "execution_count": 13,
   "id": "2a707112",
   "metadata": {},
   "outputs": [],
   "source": [
    "my_list = []\n",
    "for actor_group in actors:\n",
    "    enough_as = [name for name in actor_group if name.count('a') >= 2]\n",
    "    my_list.extend(enough_as)"
   ]
  },
  {
   "cell_type": "code",
   "execution_count": 14,
   "id": "345977f3",
   "metadata": {},
   "outputs": [
    {
     "data": {
      "text/plain": [
       "['Daniel Radcliffe', 'Emma Watson', 'Matt Le Blanc']"
      ]
     },
     "execution_count": 14,
     "metadata": {},
     "output_type": "execute_result"
    }
   ],
   "source": [
    "my_list"
   ]
  },
  {
   "cell_type": "markdown",
   "id": "db9c2a08",
   "metadata": {},
   "source": [
    "*Note that we use `extend` instead of `append`. Why? Otherwise the final list would still be a nested list where the grouping of movie or tv shows where they have appeared together will still exist!*"
   ]
  },
  {
   "cell_type": "markdown",
   "id": "a0629450",
   "metadata": {},
   "source": [
    "**The amount of code written can be further decreased by using nested list comprehension:**"
   ]
  },
  {
   "cell_type": "code",
   "execution_count": 15,
   "id": "41369d3d",
   "metadata": {},
   "outputs": [],
   "source": [
    "my_list = [name for names in actors for name in names if name.count('a') >= 2]"
   ]
  },
  {
   "cell_type": "code",
   "execution_count": 16,
   "id": "e4353807",
   "metadata": {},
   "outputs": [
    {
     "data": {
      "text/plain": [
       "['Daniel Radcliffe', 'Emma Watson', 'Matt Le Blanc']"
      ]
     },
     "execution_count": 16,
     "metadata": {},
     "output_type": "execute_result"
    }
   ],
   "source": [
    "my_list"
   ]
  },
  {
   "cell_type": "markdown",
   "id": "fa785cdb",
   "metadata": {},
   "source": [
    "# Dict comprehensions\n",
    "```\n",
    "dict_comp = {key-expr : value-expr for value in list_collection if condition}\n",
    "\n",
    "dict_comp = {key-expr : value-expr for (key, value) in dict_collection.items() if condition}\n",
    "```"
   ]
  },
  {
   "cell_type": "code",
   "execution_count": 17,
   "id": "4ed9f9ae",
   "metadata": {},
   "outputs": [],
   "source": [
    "ratings = {\n",
    "    'The Godfather': 9.1,\n",
    "    'The Shawshank Redemption': 9.2,\n",
    "    'The Godfather: Part II': 9.0,\n",
    "    'The Dark Knight': 9.0,\n",
    "    '12 Angry Men': 8.9,\n",
    "    'Schindler\\'s List': 8.9,\n",
    "    'The Lord of the Rings: Return of The King': 8.9,\n",
    "    'Pulp Fiction': 8.8\n",
    "}"
   ]
  },
  {
   "cell_type": "code",
   "execution_count": 22,
   "id": "3f7fe715",
   "metadata": {},
   "outputs": [],
   "source": [
    "top_films = {}\n",
    "for k,v in ratings.items():\n",
    "    if v >= 9.0:\n",
    "        top_films[k] = v"
   ]
  },
  {
   "cell_type": "code",
   "execution_count": 23,
   "id": "f653c9e4",
   "metadata": {},
   "outputs": [
    {
     "data": {
      "text/plain": [
       "{'The Godfather': 9.1,\n",
       " 'The Shawshank Redemption': 9.2,\n",
       " 'The Godfather: Part II': 9.0,\n",
       " 'The Dark Knight': 9.0}"
      ]
     },
     "execution_count": 23,
     "metadata": {},
     "output_type": "execute_result"
    }
   ],
   "source": [
    "top_films"
   ]
  },
  {
   "cell_type": "code",
   "execution_count": 28,
   "id": "16fc87f6",
   "metadata": {},
   "outputs": [],
   "source": [
    "films = {k: v for (k, v) in ratings.items() if v >= 9.0}"
   ]
  },
  {
   "cell_type": "code",
   "execution_count": 29,
   "id": "c807f54a",
   "metadata": {},
   "outputs": [
    {
     "data": {
      "text/plain": [
       "{'The Godfather': 9.1,\n",
       " 'The Shawshank Redemption': 9.2,\n",
       " 'The Godfather: Part II': 9.0,\n",
       " 'The Dark Knight': 9.0}"
      ]
     },
     "execution_count": 29,
     "metadata": {},
     "output_type": "execute_result"
    }
   ],
   "source": [
    "films"
   ]
  },
  {
   "cell_type": "code",
   "execution_count": 25,
   "id": "ba2dee09",
   "metadata": {},
   "outputs": [],
   "source": [
    "ingredients = ['eggs', 'spam', 'cheese', 'ham']"
   ]
  },
  {
   "cell_type": "code",
   "execution_count": 26,
   "id": "79ced107",
   "metadata": {},
   "outputs": [],
   "source": [
    "chars = {v: len(v) for v in ingredients}"
   ]
  },
  {
   "cell_type": "code",
   "execution_count": 27,
   "id": "9b948981",
   "metadata": {
    "scrolled": true
   },
   "outputs": [
    {
     "data": {
      "text/plain": [
       "{'eggs': 4, 'spam': 4, 'cheese': 6, 'ham': 3}"
      ]
     },
     "execution_count": 27,
     "metadata": {},
     "output_type": "execute_result"
    }
   ],
   "source": [
    "chars"
   ]
  },
  {
   "cell_type": "markdown",
   "id": "113bf050",
   "metadata": {},
   "source": [
    "# Set comprehensions\n",
    "\n",
    "```\n",
    "set_comp = {expr for value in collection if condition}\n",
    "```"
   ]
  },
  {
   "cell_type": "code",
   "execution_count": 1,
   "id": "650822e6",
   "metadata": {},
   "outputs": [],
   "source": [
    "ingredients = ['spam', 'eggs', 'spam', 'spam', 'ham', 'cheese', 'spam', 'eggs', 'spam']"
   ]
  },
  {
   "cell_type": "code",
   "execution_count": 2,
   "id": "0ddd3ba7",
   "metadata": {},
   "outputs": [],
   "source": [
    "ingredients_set = {ingredient for ingredient in ingredients}"
   ]
  },
  {
   "cell_type": "code",
   "execution_count": 3,
   "id": "9c3f695f",
   "metadata": {},
   "outputs": [
    {
     "data": {
      "text/plain": [
       "{'cheese', 'eggs', 'ham', 'spam'}"
      ]
     },
     "execution_count": 3,
     "metadata": {},
     "output_type": "execute_result"
    }
   ],
   "source": [
    "ingredients_set"
   ]
  }
 ],
 "metadata": {
  "kernelspec": {
   "display_name": "Python 3 (ipykernel)",
   "language": "python",
   "name": "python3"
  },
  "language_info": {
   "codemirror_mode": {
    "name": "ipython",
    "version": 3
   },
   "file_extension": ".py",
   "mimetype": "text/x-python",
   "name": "python",
   "nbconvert_exporter": "python",
   "pygments_lexer": "ipython3",
   "version": "3.10.1"
  }
 },
 "nbformat": 4,
 "nbformat_minor": 5
}
