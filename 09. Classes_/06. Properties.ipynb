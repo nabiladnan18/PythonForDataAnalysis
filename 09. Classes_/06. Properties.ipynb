{
 "cells": [
  {
   "cell_type": "markdown",
   "id": "bf7ccb9c",
   "metadata": {},
   "source": [
    "# Basics\n",
    "\n",
    "In some situations, we would like to have more control over the attributes of an object. Take the following for example. We have here a `class` called *Product*."
   ]
  },
  {
   "cell_type": "code",
   "execution_count": 1,
   "id": "1b210806",
   "metadata": {},
   "outputs": [],
   "source": [
    "class Product:\n",
    "    \n",
    "    def __init__(self, price):\n",
    "        self.price = price"
   ]
  },
  {
   "cell_type": "markdown",
   "id": "d8e9881f",
   "metadata": {},
   "source": [
    "With the implementation above, it is possible to wrongly set the price of a product to a negative value as there is no validation there. \n",
    "\n",
    "So let's add a validation. Before that, we have to make the *price attribute* private so that it cannot be accessed and set by mistake. "
   ]
  },
  {
   "cell_type": "code",
   "execution_count": 10,
   "id": "099c1960",
   "metadata": {},
   "outputs": [],
   "source": [
    "class Product:\n",
    "    \n",
    "    def __init__(self, price):\n",
    "        self.set_price(price)\n",
    "        \n",
    "    def set_price(self, value):\n",
    "        if value < 0:\n",
    "            raise ValueError(\"Price cannot be negative!\")\n",
    "        else:\n",
    "            self.__price = value\n",
    "            \n",
    "    def get_price(self):\n",
    "        return self.__price"
   ]
  },
  {
   "cell_type": "code",
   "execution_count": 11,
   "id": "57ff5124",
   "metadata": {},
   "outputs": [],
   "source": [
    "product = Product(69)"
   ]
  },
  {
   "cell_type": "code",
   "execution_count": 13,
   "id": "de6759c7",
   "metadata": {},
   "outputs": [
    {
     "data": {
      "text/plain": [
       "69"
      ]
     },
     "execution_count": 13,
     "metadata": {},
     "output_type": "execute_result"
    }
   ],
   "source": [
    "product.get_price()"
   ]
  },
  {
   "cell_type": "markdown",
   "id": "6de4f37f",
   "metadata": {},
   "source": [
    "The code above can be improved further by calling the `property` function. The `property` function takes 4 optional functions: `fget`, `fset`, `fdel` and `doc` which are functions for getting, setting, deleting and getting the documentation for a property.\n",
    "\n",
    "Let's refactor the `Product` class."
   ]
  },
  {
   "cell_type": "code",
   "execution_count": 27,
   "id": "642116da",
   "metadata": {},
   "outputs": [],
   "source": [
    "class Product:\n",
    "    \n",
    "    def __init__(self, price):\n",
    "        self.set_price(price)\n",
    "        \n",
    "    def set_price(self, value):\n",
    "        if value < 0:\n",
    "            raise ValueError(\"Price cannot be negative!\")\n",
    "        else:\n",
    "            self.__price = value\n",
    "            \n",
    "    def get_price(self):\n",
    "        return self.__price\n",
    "    \n",
    "    # Adding property\n",
    "    price = property(get_price, set_price)"
   ]
  },
  {
   "cell_type": "code",
   "execution_count": 28,
   "id": "626404a2",
   "metadata": {},
   "outputs": [],
   "source": [
    "product = Product(12.99)"
   ]
  },
  {
   "cell_type": "code",
   "execution_count": 29,
   "id": "0c52e46f",
   "metadata": {},
   "outputs": [
    {
     "data": {
      "text/plain": [
       "12.99"
      ]
     },
     "execution_count": 29,
     "metadata": {},
     "output_type": "execute_result"
    }
   ],
   "source": [
    "product.price"
   ]
  },
  {
   "cell_type": "code",
   "execution_count": 30,
   "id": "b8e9b9ad",
   "metadata": {},
   "outputs": [],
   "source": [
    "product.price = 15.79"
   ]
  },
  {
   "cell_type": "code",
   "execution_count": 31,
   "id": "a91e80c6",
   "metadata": {},
   "outputs": [
    {
     "data": {
      "text/plain": [
       "15.79"
      ]
     },
     "execution_count": 31,
     "metadata": {},
     "output_type": "execute_result"
    }
   ],
   "source": [
    "product.price"
   ]
  },
  {
   "cell_type": "markdown",
   "id": "59c99606",
   "metadata": {},
   "source": [
    "We could further improve the code by hiding the `get_price` and `set_price` methods by making them private. However, this will only make the code more unreadable. **Furthermore, the refactoring here here is not Pythonic!** There is a better, shorter and cleaner way of doing it!"
   ]
  },
  {
   "cell_type": "markdown",
   "id": "2bb36531",
   "metadata": {},
   "source": [
    "# Property decorators\n",
    "\n",
    "With the help of the `property` *decorators*, we can achieve the same thing with less but succinct code."
   ]
  },
  {
   "cell_type": "code",
   "execution_count": 39,
   "id": "d8a02685",
   "metadata": {},
   "outputs": [],
   "source": [
    "class Product:\n",
    "    \n",
    "    def __init__(self, price):\n",
    "        self.price = price # this becomes normal again! no need for that set_price func!\n",
    "    \n",
    "    @property # Adding decorator\n",
    "    def price(self): # changing func name to desired attribute name\n",
    "        return self.__price\n",
    "    \n",
    "    @price.setter\n",
    "    def price(self, value): \n",
    "        if value < 0:\n",
    "            raise ValueError(\"Price cannot be negative!\")\n",
    "        else:\n",
    "            self.__price = value"
   ]
  },
  {
   "cell_type": "markdown",
   "id": "f64f6de6",
   "metadata": {},
   "source": [
    "When we added the `property` decorator over the `price` function, Python creates a property called price without us having to explicitly create one and passing functions like before. By default, the `get_price` method gets replaced by the property itself.\n",
    "\n",
    "We then add another decorator in the form of *(property name}.setter* on the `set_price` method and rename it to `price` again. This identifies the method as \"the decider of the value\" of the `price` property."
   ]
  },
  {
   "cell_type": "code",
   "execution_count": 40,
   "id": "6e415b63",
   "metadata": {},
   "outputs": [],
   "source": [
    "product = Product(69)"
   ]
  },
  {
   "cell_type": "code",
   "execution_count": 41,
   "id": "a28433ad",
   "metadata": {},
   "outputs": [
    {
     "data": {
      "text/plain": [
       "69"
      ]
     },
     "execution_count": 41,
     "metadata": {},
     "output_type": "execute_result"
    }
   ],
   "source": [
    "product.price"
   ]
  },
  {
   "cell_type": "code",
   "execution_count": 46,
   "id": "8a3e400b",
   "metadata": {},
   "outputs": [],
   "source": [
    "product.price = 100"
   ]
  },
  {
   "cell_type": "code",
   "execution_count": null,
   "id": "bda6e520",
   "metadata": {},
   "outputs": [],
   "source": [
    "product.price"
   ]
  },
  {
   "cell_type": "markdown",
   "id": "149fd507",
   "metadata": {},
   "source": [
    "*Note: Not all attributes need the setter. There can be cases where you need to define an attribute at instantiation but not later.*"
   ]
  },
  {
   "cell_type": "code",
   "execution_count": 44,
   "id": "0362daad",
   "metadata": {},
   "outputs": [],
   "source": [
    "class Product:\n",
    "    \n",
    "    def __init__(self, price):\n",
    "        self.__price = price # this becomes normal again! no need for that set_price func!\n",
    "    \n",
    "    @property # Adding decorator\n",
    "    def price(self): # changing func name to desired attribute name\n",
    "        return self.__price"
   ]
  },
  {
   "cell_type": "code",
   "execution_count": 45,
   "id": "0ed31ad5",
   "metadata": {},
   "outputs": [],
   "source": [
    "fixed_price_product = Product(50)"
   ]
  },
  {
   "cell_type": "markdown",
   "id": "e8b4cfae",
   "metadata": {},
   "source": [
    "If we tried to set the price by the following it will raise an AttributeError:\n",
    "\n",
    "```\n",
    "---------------------------------------------------------------------------\n",
    "AttributeError                            Traceback (most recent call last)\n",
    "~\\AppData\\Local\\Temp/ipykernel_13500/3946031196.py in <module>\n",
    "----> 1 fixed_price_product.price = 10\n",
    "\n",
    "AttributeError: can't set attribute 'price'\n",
    "```\n"
   ]
  }
 ],
 "metadata": {
  "kernelspec": {
   "display_name": "Python 3 (ipykernel)",
   "language": "python",
   "name": "python3"
  },
  "language_info": {
   "codemirror_mode": {
    "name": "ipython",
    "version": 3
   },
   "file_extension": ".py",
   "mimetype": "text/x-python",
   "name": "python",
   "nbconvert_exporter": "python",
   "pygments_lexer": "ipython3",
   "version": "3.10.1"
  }
 },
 "nbformat": 4,
 "nbformat_minor": 5
}
