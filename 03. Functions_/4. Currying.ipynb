{
 "cells": [
  {
   "cell_type": "markdown",
   "id": "a4ff4c4a",
   "metadata": {},
   "source": [
    "# Currying: Partially applying a function\n",
    "\n",
    "Currying is computer science jargon (named after the mathematician Haskell Curry) that means deriving new functions from \n",
    "existing ones by partial argument application."
   ]
  },
  {
   "cell_type": "code",
   "execution_count": 46,
   "id": "83deb866",
   "metadata": {},
   "outputs": [],
   "source": [
    "def add_numbers(x, y):\n",
    "    return x + y"
   ]
  },
  {
   "cell_type": "code",
   "execution_count": 47,
   "id": "f3fefe4c",
   "metadata": {},
   "outputs": [],
   "source": [
    "add_five = lambda y: add_numbers(5, y)"
   ]
  },
  {
   "cell_type": "code",
   "execution_count": 48,
   "id": "f25aabf6",
   "metadata": {},
   "outputs": [
    {
     "data": {
      "text/plain": [
       "7"
      ]
     },
     "execution_count": 48,
     "metadata": {},
     "output_type": "execute_result"
    }
   ],
   "source": [
    "add_five(2)"
   ]
  },
  {
   "cell_type": "markdown",
   "id": "fad058b3",
   "metadata": {},
   "source": [
    "The second argument to `add_numbers` is said to be curried. There is nothing very fancy here, as all we have really done is define a new function that calls an existing function.\n",
    "\n",
    "This can be done in a simpler way by using the `partial` function from the built-in `functools` module."
   ]
  },
  {
   "cell_type": "code",
   "execution_count": 49,
   "id": "8381ee2d",
   "metadata": {},
   "outputs": [],
   "source": [
    "from functools import partial"
   ]
  },
  {
   "cell_type": "code",
   "execution_count": 50,
   "id": "7f0172d9",
   "metadata": {},
   "outputs": [],
   "source": [
    "add_five = partial(add_numbers, 5)"
   ]
  },
  {
   "cell_type": "code",
   "execution_count": 51,
   "id": "12975aca",
   "metadata": {
    "scrolled": false
   },
   "outputs": [
    {
     "data": {
      "text/plain": [
       "15"
      ]
     },
     "execution_count": 51,
     "metadata": {},
     "output_type": "execute_result"
    }
   ],
   "source": [
    "add_five(10)"
   ]
  }
 ],
 "metadata": {
  "kernelspec": {
   "display_name": "Python 3 (ipykernel)",
   "language": "python",
   "name": "python3"
  },
  "language_info": {
   "codemirror_mode": {
    "name": "ipython",
    "version": 3
   },
   "file_extension": ".py",
   "mimetype": "text/x-python",
   "name": "python",
   "nbconvert_exporter": "python",
   "pygments_lexer": "ipython3",
   "version": "3.10.1"
  }
 },
 "nbformat": 4,
 "nbformat_minor": 5
}
