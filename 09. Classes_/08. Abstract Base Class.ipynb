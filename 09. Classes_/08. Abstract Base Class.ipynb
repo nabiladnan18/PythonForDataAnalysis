{
 "cells": [
  {
   "cell_type": "markdown",
   "id": "9492ebaa",
   "metadata": {},
   "source": [
    "# Setting up the example"
   ]
  },
  {
   "cell_type": "markdown",
   "id": "15d84611",
   "metadata": {},
   "source": [
    "Before diving into the concept of abstract base class, let us first create a situation where we could benefit from it. \n",
    "\n",
    "Imagine we want to read some information coming from a either a network or a file. The action of reading information from a network or a file are common for both, but the way it is going to be read from each source is going to be different since reading data from a file is different from reading data from a network.\n",
    "\n",
    "We start by creating a base class called `Stream` with the common functionalities of a network or a file. Both can be opened and closed."
   ]
  },
  {
   "cell_type": "code",
   "execution_count": 1,
   "id": "78fdb57e",
   "metadata": {},
   "outputs": [],
   "source": [
    "class Stream:\n",
    "        \n",
    "    def open(self):\n",
    "        pass\n",
    "        \n",
    "    def close(self):\n",
    "        pass"
   ]
  },
  {
   "cell_type": "markdown",
   "id": "b2aea286",
   "metadata": {},
   "source": [
    "Note that a stream (a file or a network) could already be open. Trying to open an already opened stream should be an invalid operation. The same goes for an already closed stream. We will create a custom `exception` for this situtation:"
   ]
  },
  {
   "cell_type": "code",
   "execution_count": 2,
   "id": "aa6c83ba",
   "metadata": {},
   "outputs": [],
   "source": [
    "class InvalidOperationError(Exception):\n",
    "    pass"
   ]
  },
  {
   "cell_type": "markdown",
   "id": "05829134",
   "metadata": {},
   "source": [
    "In the above statement, we are inheriting from Python's base class `Exception` thereby inherting the basic behaviours of an exception in our `InvalidOperationError` exception. \n",
    "\n",
    "By convention all exceptions must have the suffix *Error* with the name."
   ]
  },
  {
   "cell_type": "markdown",
   "id": "e194bc57",
   "metadata": {},
   "source": [
    "Now lets redefine the `Stream` class."
   ]
  },
  {
   "cell_type": "code",
   "execution_count": 3,
   "id": "08da8f9c",
   "metadata": {},
   "outputs": [],
   "source": [
    "class Stream:\n",
    "    \n",
    "    def __init__(self):\n",
    "        self.opened = False # When instantiating a `Stream` object, we are defining that the stream is closed. \n",
    "        \n",
    "    def open(self):\n",
    "        if self.opened:\n",
    "            raise InvalidOperationError(\"This stream is already open.\")\n",
    "        else:\n",
    "            self.opened = True\n",
    "            print(\"Stream opened.\")\n",
    "            \n",
    "    def close(self):\n",
    "        if not self.opened:\n",
    "            raise InvalidOperationError(\"This stream is already closed.\")\n",
    "        else:\n",
    "            self.opened = False\n",
    "            print(\"Stream closed.\")"
   ]
  },
  {
   "cell_type": "markdown",
   "id": "cc433ca6",
   "metadata": {},
   "source": [
    "Now that we have our base class with the common behaviours of a stream ready, let's start inherting them in `FileStream` and `NetworkStream`."
   ]
  },
  {
   "cell_type": "code",
   "execution_count": 4,
   "id": "2be8c7e1",
   "metadata": {},
   "outputs": [],
   "source": [
    "class FileStream(Stream):\n",
    "    \n",
    "    def read(self):\n",
    "        print(\"Reading from a file.\")\n",
    "\n",
    "        \n",
    "        \n",
    "class NetworkStream(Stream):\n",
    "    \n",
    "    def read(self):\n",
    "        print(\"Reading from a network.\")"
   ]
  },
  {
   "cell_type": "code",
   "execution_count": 5,
   "id": "38214687",
   "metadata": {},
   "outputs": [
    {
     "name": "stdout",
     "output_type": "stream",
     "text": [
      "Stream opened.\n"
     ]
    }
   ],
   "source": [
    "stream = Stream()\n",
    "stream.open()"
   ]
  },
  {
   "cell_type": "code",
   "execution_count": 6,
   "id": "4b99c7e4",
   "metadata": {},
   "outputs": [
    {
     "name": "stdout",
     "output_type": "stream",
     "text": [
      "Reading from a file.\n"
     ]
    }
   ],
   "source": [
    "file = FileStream()\n",
    "file.read()"
   ]
  },
  {
   "cell_type": "markdown",
   "id": "105d32c4",
   "metadata": {},
   "source": [
    "# Basics\n",
    "\n",
    "The above is a good example of how to use inhertances. However, there two issues. \n",
    "\n",
    "According to the above implementation, it is possible to create a `Stream` object and call the `open` and `close` method on them but what is a stream? What are we opening? What are we closing?\n",
    "\n",
    "Furthermore, if we are to some time down the line introduce another kind of streaming object like a network and file, we must remember to include the `read` method there for the sake of consistency - _the new method in the new class could end up being called `read_lines`!_\n",
    "\n",
    "At this moment, there is no common interface to enforce across different kinds of streams. To solve/avoid situations like this, we use **abstract base class.**"
   ]
  },
  {
   "cell_type": "markdown",
   "id": "22f8561b",
   "metadata": {},
   "source": [
    "An **abstract base class** is a *half-baked* class that contains common code for its derivatives. Lets make the `Stream` class an abstract base class."
   ]
  },
  {
   "cell_type": "code",
   "execution_count": 7,
   "id": "36334f84",
   "metadata": {},
   "outputs": [],
   "source": [
    "from abc import ABC, abstractmethod"
   ]
  },
  {
   "cell_type": "markdown",
   "id": "b5235af0",
   "metadata": {},
   "source": [
    "`abstractmethod` is a decorator like `classmethod` and `staticmethod`. This makes a method an `abstractmethod`."
   ]
  },
  {
   "cell_type": "markdown",
   "id": "a2651747",
   "metadata": {},
   "source": [
    "Now we define new `Stream` class that derives from the `ABC` class. Also, to make a common interface e.g. `read` method, _which is common in both `FileStream` and `NetworkStream` classes_, we define a `read` method in the `Stream` class and decorate it with the `abstractmethod` decorator. This method will have no implementation in the `Stream` class, thus "
   ]
  },
  {
   "cell_type": "code",
   "execution_count": 8,
   "id": "927f2079",
   "metadata": {},
   "outputs": [],
   "source": [
    "class Stream(ABC):\n",
    "    \n",
    "    def __init__(self):\n",
    "        self.opened = False\n",
    "        \n",
    "    def open(self):\n",
    "        if self.opened:\n",
    "            raise InvalidOperationError(\"This stream is already open.\")\n",
    "        else:\n",
    "            self.opened = True\n",
    "            print(\"Stream opened.\")\n",
    "            \n",
    "    def close(self):\n",
    "        if not self.opened:\n",
    "            raise InvalidOperationError(\"This stream is already closed.\")\n",
    "        else:\n",
    "            self.opened = False\n",
    "            print(\"Stream closed.\")\n",
    "            \n",
    "    @abstractmethod\n",
    "    def read(self):\n",
    "        pass"
   ]
  },
  {
   "cell_type": "markdown",
   "id": "7b991860",
   "metadata": {},
   "source": [
    "Now, it is not possible to create an instance of `Stream` method. **Abstract classes cannot be instantiated!** \n",
    "\n",
    "Let's define a new subclass of `Stream` called `MemoryStream`.\n",
    "\n"
   ]
  },
  {
   "cell_type": "code",
   "execution_count": 9,
   "id": "ee80d82a",
   "metadata": {},
   "outputs": [],
   "source": [
    "class MemoryStream(Stream):\n",
    "    pass"
   ]
  },
  {
   "cell_type": "markdown",
   "id": "4067efea",
   "metadata": {},
   "source": [
    "If we now tried to instantiate a `MemoryStream` object, we would face a `TypeError`:\n",
    "\n",
    "```\n",
    "stream = MemoryStream()\n",
    "---------------------------------------------------------------------------\n",
    "TypeError                                 Traceback (most recent call last)\n",
    "~\\AppData\\Local\\Temp/ipykernel_14968/3185440620.py in <module>\n",
    "----> 1 stream = MemoryStream()\n",
    "\n",
    "TypeError: Can't instantiate abstract class MemoryStream with abstract method read\n",
    "\n",
    "```\n",
    "\n",
    "See the description of the error. It says that MemoryStream is an abstract class! Why? **If a class inherits from a class where an abstract method is defined, the class _must_ implement the abstract method. Otherwise it will be considered as an abstract class as well.**\n",
    "\n",
    "In our example, the abstract base class `Stream` contains an _abstract method_ `read`. Since the class `MemoryStream` is inheriting from `Stream` it **must** implement the `read` method. Otherwise, `MemoryStream` will be considered as an abstract class. "
   ]
  },
  {
   "cell_type": "code",
   "execution_count": 15,
   "id": "f3cdb181",
   "metadata": {},
   "outputs": [],
   "source": [
    "class MemoryStream(Stream):\n",
    "    def read(self):\n",
    "        print(\"Reading data from a memory stream.\")"
   ]
  },
  {
   "cell_type": "code",
   "execution_count": 16,
   "id": "cd30e0cc",
   "metadata": {},
   "outputs": [],
   "source": [
    "stream = MemoryStream()"
   ]
  },
  {
   "cell_type": "code",
   "execution_count": 17,
   "id": "36d4c54e",
   "metadata": {},
   "outputs": [
    {
     "name": "stdout",
     "output_type": "stream",
     "text": [
      "Stream opened.\n"
     ]
    }
   ],
   "source": [
    "stream.open()"
   ]
  },
  {
   "cell_type": "code",
   "execution_count": 18,
   "id": "3b5064ec",
   "metadata": {},
   "outputs": [
    {
     "name": "stdout",
     "output_type": "stream",
     "text": [
      "Reading data from a memory stream.\n"
     ]
    }
   ],
   "source": [
    "stream.read()"
   ]
  }
 ],
 "metadata": {
  "kernelspec": {
   "display_name": "Python 3 (ipykernel)",
   "language": "python",
   "name": "python3"
  },
  "language_info": {
   "codemirror_mode": {
    "name": "ipython",
    "version": 3
   },
   "file_extension": ".py",
   "mimetype": "text/x-python",
   "name": "python",
   "nbconvert_exporter": "python",
   "pygments_lexer": "ipython3",
   "version": "3.10.1"
  }
 },
 "nbformat": 4,
 "nbformat_minor": 5
}
