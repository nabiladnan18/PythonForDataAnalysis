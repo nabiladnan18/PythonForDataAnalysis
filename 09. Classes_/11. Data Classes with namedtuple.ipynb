{
 "cells": [
  {
   "cell_type": "markdown",
   "id": "ddefa103",
   "metadata": {},
   "source": [
    "In many situations, we may have to deal with or build classes that have no behaviour and contain only data. Take the following example: "
   ]
  },
  {
   "cell_type": "code",
   "execution_count": 1,
   "id": "4faf4d6d",
   "metadata": {},
   "outputs": [],
   "source": [
    "class Point:\n",
    "    def __init__(self, x, y):\n",
    "        self.x = x\n",
    "        self.y = y\n",
    "        \n",
    "    # implementing a magic method to compare instances\n",
    "    def __gt__(self, other):\n",
    "        return self.x > other.x and self.y > other.y\n",
    "    \n",
    "    # implementing a magic method to add instances\n",
    "    def __eq__(self, other):\n",
    "        return self.x == other.x and self.y == other.y"
   ]
  },
  {
   "cell_type": "code",
   "execution_count": 2,
   "id": "1ef1e2dc",
   "metadata": {},
   "outputs": [],
   "source": [
    "p1 = Point(1, 2)\n",
    "p2 = Point(10, 20)"
   ]
  },
  {
   "cell_type": "code",
   "execution_count": 3,
   "id": "381f7255",
   "metadata": {},
   "outputs": [
    {
     "data": {
      "text/plain": [
       "False"
      ]
     },
     "execution_count": 3,
     "metadata": {},
     "output_type": "execute_result"
    }
   ],
   "source": [
    "p1 == p2"
   ]
  },
  {
   "cell_type": "markdown",
   "id": "c0cc2aee",
   "metadata": {},
   "source": [
    "Instead of writing all that code for classes that have no behaviour, we achieve the same results by using `namedtuple`:"
   ]
  },
  {
   "cell_type": "code",
   "execution_count": 4,
   "id": "50e1e7ec",
   "metadata": {},
   "outputs": [],
   "source": [
    "from collections import namedtuple"
   ]
  },
  {
   "cell_type": "code",
   "execution_count": 5,
   "id": "2f5957b3",
   "metadata": {},
   "outputs": [
    {
     "name": "stdout",
     "output_type": "stream",
     "text": [
      "Help on function namedtuple in module collections:\n",
      "\n",
      "namedtuple(typename, field_names, *, rename=False, defaults=None, module=None)\n",
      "    Returns a new subclass of tuple with named fields.\n",
      "    \n",
      "    >>> Point = namedtuple('Point', ['x', 'y'])\n",
      "    >>> Point.__doc__                   # docstring for the new class\n",
      "    'Point(x, y)'\n",
      "    >>> p = Point(11, y=22)             # instantiate with positional args or keywords\n",
      "    >>> p[0] + p[1]                     # indexable like a plain tuple\n",
      "    33\n",
      "    >>> x, y = p                        # unpack like a regular tuple\n",
      "    >>> x, y\n",
      "    (11, 22)\n",
      "    >>> p.x + p.y                       # fields also accessible by name\n",
      "    33\n",
      "    >>> d = p._asdict()                 # convert to a dictionary\n",
      "    >>> d['x']\n",
      "    11\n",
      "    >>> Point(**d)                      # convert from a dictionary\n",
      "    Point(x=11, y=22)\n",
      "    >>> p._replace(x=100)               # _replace() is like str.replace() but targets named fields\n",
      "    Point(x=100, y=22)\n",
      "\n"
     ]
    }
   ],
   "source": [
    "help(namedtuple)"
   ]
  },
  {
   "cell_type": "markdown",
   "id": "7dfa0099",
   "metadata": {},
   "source": [
    "Above we can see the documentation for `namedtuple`. The first argument `typename` is for the name of the class we want to set. The second argument `field_names` is a list the attributes we want. These field names are used to create a class with the provided name in `nametype`.\n",
    "\n",
    "Note the docstring: Returns a new **subclass of tuple** with named fields.\n",
    "\n",
    "This means that `namedtuples` are _immutable objects_ and we cannot add a new attribute or change the value of an attribute like we freely do or did in previous examples.  "
   ]
  },
  {
   "cell_type": "code",
   "execution_count": 6,
   "id": "bd88465e",
   "metadata": {},
   "outputs": [],
   "source": [
    "Point = namedtuple(\"Point\", [\"x\", \"y\"])"
   ]
  },
  {
   "cell_type": "code",
   "execution_count": 7,
   "id": "b790ea1d",
   "metadata": {},
   "outputs": [],
   "source": [
    "p1 = Point(1, 2)"
   ]
  },
  {
   "cell_type": "code",
   "execution_count": 8,
   "id": "ab4bf3f7",
   "metadata": {},
   "outputs": [],
   "source": [
    "p2 = Point(x=10, y=20)"
   ]
  },
  {
   "cell_type": "code",
   "execution_count": 9,
   "id": "a24773b7",
   "metadata": {},
   "outputs": [
    {
     "data": {
      "text/plain": [
       "False"
      ]
     },
     "execution_count": 9,
     "metadata": {},
     "output_type": "execute_result"
    }
   ],
   "source": [
    "p1 == p2"
   ]
  },
  {
   "cell_type": "code",
   "execution_count": 10,
   "id": "6c8ec8a5",
   "metadata": {},
   "outputs": [
    {
     "name": "stdout",
     "output_type": "stream",
     "text": [
      "can't set attribute: namedtuple is immutable\n"
     ]
    }
   ],
   "source": [
    "try:\n",
    "    p1.x = 10\n",
    "except Exception as e:\n",
    "    print(f\"{e}: namedtuple is immutable\")"
   ]
  }
 ],
 "metadata": {
  "kernelspec": {
   "display_name": "Python 3 (ipykernel)",
   "language": "python",
   "name": "python3"
  },
  "language_info": {
   "codemirror_mode": {
    "name": "ipython",
    "version": 3
   },
   "file_extension": ".py",
   "mimetype": "text/x-python",
   "name": "python",
   "nbconvert_exporter": "python",
   "pygments_lexer": "ipython3",
   "version": "3.10.1"
  }
 },
 "nbformat": 4,
 "nbformat_minor": 5
}
