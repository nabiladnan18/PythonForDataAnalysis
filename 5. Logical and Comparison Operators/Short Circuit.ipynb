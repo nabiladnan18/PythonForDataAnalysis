{
 "cells": [
  {
   "cell_type": "markdown",
   "id": "163227bc",
   "metadata": {},
   "source": [
    "Take the following example. If someone has a good credit score and is earning a significant amount of money s/he will be eligible for a loan."
   ]
  },
  {
   "cell_type": "code",
   "execution_count": 9,
   "id": "86837c85",
   "metadata": {},
   "outputs": [],
   "source": [
    "good_credit_score = True\n",
    "high_earning = False\n",
    "student = True"
   ]
  },
  {
   "cell_type": "code",
   "execution_count": 10,
   "id": "a4710ff6",
   "metadata": {},
   "outputs": [
    {
     "name": "stdout",
     "output_type": "stream",
     "text": [
      "Not eligible\n"
     ]
    }
   ],
   "source": [
    "if (good_credit_score and high_earning) and not student:\n",
    "    message = \"Eligible\"\n",
    "else:\n",
    "    message = \"Not eligible\"\n",
    "    \n",
    "print(message)"
   ]
  },
  {
   "cell_type": "markdown",
   "id": "b82cb73d",
   "metadata": {},
   "source": [
    "When Python interprets the conditional statement, it is evaluates one condition after the other. Since all of the logical comparison is `and`, at least `False` operand makes the condition invalid.\n",
    "\n",
    "As soon as Python encounters the first `False` operand, it terminates the evaluation. In our example, as soon as Python evaluates the first operand to be `False` it does not even bother evaluating the rest of the statement and immediately jumps to the `else` statement. This is called `short circuit`. "
   ]
  }
 ],
 "metadata": {
  "kernelspec": {
   "display_name": "Python 3 (ipykernel)",
   "language": "python",
   "name": "python3"
  },
  "language_info": {
   "codemirror_mode": {
    "name": "ipython",
    "version": 3
   },
   "file_extension": ".py",
   "mimetype": "text/x-python",
   "name": "python",
   "nbconvert_exporter": "python",
   "pygments_lexer": "ipython3",
   "version": "3.10.1"
  }
 },
 "nbformat": 4,
 "nbformat_minor": 5
}
