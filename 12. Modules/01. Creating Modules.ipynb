{
 "cells": [
  {
   "cell_type": "markdown",
   "id": "fd4b87b1",
   "metadata": {},
   "source": [
    "# What is a module?\n",
    "\n",
    "A module is as a python file that contain some code.\n",
    "\n",
    "# Why do we create module?\n",
    "\n",
    "To make the code readable and easier to handle. Imagine writing thousands and thousands of line of code in one single page. You will get lost like General Zhao in the Fog of Lost Souls. Therefore we create modules with very closely related and relevant code together and create a module.\n",
    "\n",
    "Imagine a supermarket. It would be extremely difficult to find items if the aisles were not labeled. You would wander around and scan endless shelves to find out what you were looking for. Just like how supermarkets compartmentalize relevant items together and label them e.g. keep hair gel, shampoo and conditioners on the same aisle or group of ailes nearby and label it/them \"Haircare\", we group relevant related code blocks into modules. We name the modules according the naming conventions of variables.\n",
    "\n",
    "# Can we use code from one module in another?\n",
    "\n",
    "We do that all the time - everytime we write an `import` statement, we are using code from another module. For example:\n",
    "\n",
    "    import itertools\n",
    "    \n",
    "Below we have a more elaborated example:"
   ]
  },
  {
   "cell_type": "markdown",
   "id": "77cb6a4f",
   "metadata": {},
   "source": [
    "## Import specific requirements"
   ]
  },
  {
   "cell_type": "code",
   "execution_count": 1,
   "id": "c086e1df",
   "metadata": {},
   "outputs": [],
   "source": [
    "from cars import Car, function_outside_class"
   ]
  },
  {
   "cell_type": "markdown",
   "id": "16d31f5a",
   "metadata": {},
   "source": [
    "Here we have imported the *class* `Car` and a *function* `function_outside_class` from the *module* car. Notice that the filename is *cars.py* but we do not write the file extension when importing.\n",
    "\n",
    "If you inspect the `cars` module, you will see that there is yet another function called `another_function`. We have only imported the functions that we in a module.\n",
    "\n",
    "Great, how do we access these imported items?"
   ]
  },
  {
   "cell_type": "code",
   "execution_count": 2,
   "id": "59b575e1",
   "metadata": {},
   "outputs": [],
   "source": [
    "new_car = Car('toyota', 'starlet', 1997)"
   ]
  },
  {
   "cell_type": "code",
   "execution_count": 3,
   "id": "4b142587",
   "metadata": {},
   "outputs": [
    {
     "data": {
      "text/plain": [
       "'Toyota'"
      ]
     },
     "execution_count": 3,
     "metadata": {},
     "output_type": "execute_result"
    }
   ],
   "source": [
    "new_car.make.title()"
   ]
  },
  {
   "cell_type": "code",
   "execution_count": 4,
   "id": "c72692a4",
   "metadata": {},
   "outputs": [
    {
     "data": {
      "text/plain": [
       "'function_outside_class'"
      ]
     },
     "execution_count": 4,
     "metadata": {},
     "output_type": "execute_result"
    }
   ],
   "source": [
    "function_outside_class()"
   ]
  },
  {
   "cell_type": "markdown",
   "id": "3e6b7631",
   "metadata": {},
   "source": [
    "There is another way of *importing* functions and classes from another module:"
   ]
  },
  {
   "cell_type": "markdown",
   "id": "8ee59b16",
   "metadata": {},
   "source": [
    "## Import module without specific requirements"
   ]
  },
  {
   "cell_type": "code",
   "execution_count": 5,
   "id": "c54f93a0",
   "metadata": {},
   "outputs": [],
   "source": [
    "import cars"
   ]
  },
  {
   "cell_type": "markdown",
   "id": "c5302018",
   "metadata": {},
   "source": [
    "Here we have simply imported the cars module but not any specific function or classes. If we now have to use from the `cars` module we have to use the dot-notation:"
   ]
  },
  {
   "cell_type": "code",
   "execution_count": 6,
   "id": "a6082cea",
   "metadata": {},
   "outputs": [],
   "source": [
    "another_car = cars.Car('tesla', 'model S', 2022)"
   ]
  },
  {
   "cell_type": "code",
   "execution_count": 7,
   "id": "df6a7a56",
   "metadata": {},
   "outputs": [
    {
     "data": {
      "text/plain": [
       "'Tesla'"
      ]
     },
     "execution_count": 7,
     "metadata": {},
     "output_type": "execute_result"
    }
   ],
   "source": [
    "another_car.make.title()"
   ]
  },
  {
   "cell_type": "code",
   "execution_count": 8,
   "id": "2432e486",
   "metadata": {},
   "outputs": [
    {
     "data": {
      "text/plain": [
       "'function_outside_class'"
      ]
     },
     "execution_count": 8,
     "metadata": {},
     "output_type": "execute_result"
    }
   ],
   "source": [
    "cars.function_outside_class()"
   ]
  },
  {
   "cell_type": "code",
   "execution_count": 15,
   "id": "1a47d7b2",
   "metadata": {
    "scrolled": true
   },
   "outputs": [
    {
     "data": {
      "text/plain": [
       "'another_function'"
      ]
     },
     "execution_count": 15,
     "metadata": {},
     "output_type": "execute_result"
    }
   ],
   "source": [
    "cars.another_function()"
   ]
  },
  {
   "cell_type": "markdown",
   "id": "ba0af992",
   "metadata": {},
   "source": [
    "By only importing the module we can have access to everything in it - we only have to use the dot-notation to access what we want.\n",
    "\n",
    "### Alias\n",
    "You may think that writing `cars` all the time would be tedious, especially if:\n",
    "\n",
    "* you want to access a ton of things from a module but you do not know what they will be right away e.g. `numpy`\n",
    "* the module name is large like `matplotlib`\n",
    "\n",
    "\n",
    "In those cases we can use an **alias** by adding the `as` keyword in our import statement:"
   ]
  },
  {
   "cell_type": "code",
   "execution_count": 9,
   "id": "cec304b7",
   "metadata": {},
   "outputs": [],
   "source": [
    "import numpy as np"
   ]
  },
  {
   "cell_type": "code",
   "execution_count": 10,
   "id": "2d1aeb84",
   "metadata": {},
   "outputs": [],
   "source": [
    "import matplotlib as plt"
   ]
  },
  {
   "cell_type": "code",
   "execution_count": 11,
   "id": "36fbd5ad",
   "metadata": {},
   "outputs": [
    {
     "data": {
      "text/plain": [
       "array([   0,    1,    2, ..., 9997, 9998, 9999])"
      ]
     },
     "execution_count": 11,
     "metadata": {},
     "output_type": "execute_result"
    }
   ],
   "source": [
    "np.arange(10000)"
   ]
  },
  {
   "cell_type": "markdown",
   "id": "e9bcaf72",
   "metadata": {},
   "source": [
    "Now you can use the alias `np` or `plt` instead of writing the whole module name for `numpy` and `matplotlib`, respectively. You can use whatever alias you feel like! Importing as `np` and `plt` is just convention.\n",
    "\n",
    "For example, you can import the `cars` module as `beep` and it would still behave the same! "
   ]
  },
  {
   "cell_type": "code",
   "execution_count": 12,
   "id": "a4a01f67",
   "metadata": {},
   "outputs": [],
   "source": [
    "import cars as beep"
   ]
  },
  {
   "cell_type": "code",
   "execution_count": 13,
   "id": "efec2f0b",
   "metadata": {},
   "outputs": [],
   "source": [
    "my_third_car = beep.Car('tesla', 'model S', 2022)"
   ]
  },
  {
   "cell_type": "code",
   "execution_count": 16,
   "id": "503ad543",
   "metadata": {},
   "outputs": [
    {
     "data": {
      "text/plain": [
       "'tesla'"
      ]
     },
     "execution_count": 16,
     "metadata": {},
     "output_type": "execute_result"
    }
   ],
   "source": [
    "my_third_car.make"
   ]
  },
  {
   "cell_type": "markdown",
   "id": "0bf37674",
   "metadata": {},
   "source": [
    "## Import all (DISCOURAGED!)\n",
    "\n",
    "We can also import every function or class inside a module into another module by using the wildcard `*`:"
   ]
  },
  {
   "cell_type": "code",
   "execution_count": 16,
   "id": "7aeabe0d",
   "metadata": {},
   "outputs": [],
   "source": [
    "from cars import *"
   ]
  },
  {
   "cell_type": "markdown",
   "id": "675765f5",
   "metadata": {},
   "source": [
    "Now we can access all of the items inside the `cars` module using the *dot-notation*. Why is this discouraged? Is it not the same as `import cars`? It is. However, by importing everything into another module we create the possiblity of clashing *namespaces* as we are not aware of the items we have imported from `cars`."
   ]
  },
  {
   "cell_type": "markdown",
   "id": "ed3436b6",
   "metadata": {},
   "source": [
    "## So which method to use?\n",
    "\n",
    "It is the best to use specific imports but you can also import the whole module. Importing using the wildcard is discouraged.  When we are importing a module in whichever of the methods specified above, the whole module is loaded. So feel free to use any of the first two methods shown above. So there is no performance issues to consider.  "
   ]
  }
 ],
 "metadata": {
  "kernelspec": {
   "display_name": "Python 3 (ipykernel)",
   "language": "python",
   "name": "python3"
  },
  "language_info": {
   "codemirror_mode": {
    "name": "ipython",
    "version": 3
   },
   "file_extension": ".py",
   "mimetype": "text/x-python",
   "name": "python",
   "nbconvert_exporter": "python",
   "pygments_lexer": "ipython3",
   "version": "3.10.1"
  }
 },
 "nbformat": 4,
 "nbformat_minor": 5
}
