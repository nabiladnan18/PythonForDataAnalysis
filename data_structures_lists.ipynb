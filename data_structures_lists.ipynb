{
 "cells": [
  {
   "cell_type": "markdown",
   "id": "0ea2ba36",
   "metadata": {},
   "source": [
    "# Basics"
   ]
  },
  {
   "cell_type": "markdown",
   "id": "1e60e29e",
   "metadata": {},
   "source": [
    "`List`s are variable-length and their contents can be modified `in-place`. They can be defined by using `[]` or using the `list` type function."
   ]
  },
  {
   "cell_type": "code",
   "execution_count": 1,
   "id": "f8a3e396",
   "metadata": {},
   "outputs": [],
   "source": [
    "tup = (4, 5, 6)"
   ]
  },
  {
   "cell_type": "code",
   "execution_count": 2,
   "id": "b4d1ef46",
   "metadata": {},
   "outputs": [],
   "source": [
    "a_list = [2, 3, 4, None]"
   ]
  },
  {
   "cell_type": "code",
   "execution_count": 3,
   "id": "f94cf2df",
   "metadata": {},
   "outputs": [],
   "source": [
    "b_list = list(tup)"
   ]
  },
  {
   "cell_type": "code",
   "execution_count": 4,
   "id": "79a8b182",
   "metadata": {},
   "outputs": [
    {
     "data": {
      "text/plain": [
       "[2, 3, 4, None]"
      ]
     },
     "execution_count": 4,
     "metadata": {},
     "output_type": "execute_result"
    }
   ],
   "source": [
    "a_list"
   ]
  },
  {
   "cell_type": "code",
   "execution_count": 5,
   "id": "d51b608c",
   "metadata": {},
   "outputs": [
    {
     "data": {
      "text/plain": [
       "[4, 5, 6]"
      ]
     },
     "execution_count": 5,
     "metadata": {},
     "output_type": "execute_result"
    }
   ],
   "source": [
    "b_list"
   ]
  },
  {
   "cell_type": "code",
   "execution_count": 6,
   "id": "1453aba1",
   "metadata": {},
   "outputs": [],
   "source": [
    "c_list = list(range(0,15))"
   ]
  },
  {
   "cell_type": "code",
   "execution_count": 7,
   "id": "175ac468",
   "metadata": {},
   "outputs": [
    {
     "data": {
      "text/plain": [
       "[0, 1, 2, 3, 4, 5, 6, 7, 8, 9, 10, 11, 12, 13, 14]"
      ]
     },
     "execution_count": 7,
     "metadata": {},
     "output_type": "execute_result"
    }
   ],
   "source": [
    "c_list"
   ]
  },
  {
   "cell_type": "markdown",
   "id": "b8ba50e5",
   "metadata": {},
   "source": [
    "Elements can be accessed by `[]`"
   ]
  },
  {
   "cell_type": "code",
   "execution_count": 8,
   "id": "e109e201",
   "metadata": {},
   "outputs": [
    {
     "data": {
      "text/plain": [
       "2"
      ]
     },
     "execution_count": 8,
     "metadata": {},
     "output_type": "execute_result"
    }
   ],
   "source": [
    "a_list[0]"
   ]
  },
  {
   "cell_type": "markdown",
   "id": "975b5349",
   "metadata": {},
   "source": [
    "Values within a `list` can be modified using assignment."
   ]
  },
  {
   "cell_type": "code",
   "execution_count": 9,
   "id": "cf090501",
   "metadata": {},
   "outputs": [
    {
     "data": {
      "text/plain": [
       "['spam', 3, 4, None]"
      ]
     },
     "execution_count": 9,
     "metadata": {},
     "output_type": "execute_result"
    }
   ],
   "source": [
    "a_list[0] = 'spam'\n",
    "a_list"
   ]
  },
  {
   "cell_type": "markdown",
   "id": "f96ff9f9",
   "metadata": {},
   "source": [
    "# Adding elements using `append` method\n",
    "\n",
    "`append` method adds elements at the end of the list."
   ]
  },
  {
   "cell_type": "code",
   "execution_count": 10,
   "id": "347747c9",
   "metadata": {},
   "outputs": [
    {
     "data": {
      "text/plain": [
       "['spam', 3, 4, None, 'eggs']"
      ]
     },
     "execution_count": 10,
     "metadata": {},
     "output_type": "execute_result"
    }
   ],
   "source": [
    "a_list.append('eggs')\n",
    "a_list"
   ]
  },
  {
   "cell_type": "markdown",
   "id": "dcad8c05",
   "metadata": {},
   "source": [
    "# Adding elements in a specific location using `insert` method"
   ]
  },
  {
   "cell_type": "code",
   "execution_count": 11,
   "id": "ce3f6206",
   "metadata": {},
   "outputs": [
    {
     "data": {
      "text/plain": [
       "['spam', 'eggs', 3, 4, None, 'eggs']"
      ]
     },
     "execution_count": 11,
     "metadata": {},
     "output_type": "execute_result"
    }
   ],
   "source": [
    "a_list.insert(1, \"eggs\")\n",
    "a_list"
   ]
  },
  {
   "cell_type": "markdown",
   "id": "d19080c0",
   "metadata": {},
   "source": [
    "*`insert` is computationally expensive compared with append, because references to subsequent elements have to be shifted internally to make room for the new element. If you need to insert elements at both the beginning and end of a sequence, you may wish to explore `collections.deque`, a double-ended queue, for this purpose.*"
   ]
  },
  {
   "cell_type": "markdown",
   "id": "d6df90f3",
   "metadata": {},
   "source": [
    "# Removing elements using `pop` method"
   ]
  },
  {
   "cell_type": "markdown",
   "id": "bc384272",
   "metadata": {},
   "source": [
    "The `pop` method removes elements from the end of the `list` and `returns` it. The method modifies the `list` by removing the last element from the `list` by default."
   ]
  },
  {
   "cell_type": "code",
   "execution_count": 12,
   "id": "772380a7",
   "metadata": {},
   "outputs": [
    {
     "data": {
      "text/plain": [
       "'eggs'"
      ]
     },
     "execution_count": 12,
     "metadata": {},
     "output_type": "execute_result"
    }
   ],
   "source": [
    "a_list.pop()"
   ]
  },
  {
   "cell_type": "code",
   "execution_count": 13,
   "id": "098a4b62",
   "metadata": {},
   "outputs": [
    {
     "data": {
      "text/plain": [
       "['spam', 'eggs', 3, 4, None]"
      ]
     },
     "execution_count": 13,
     "metadata": {},
     "output_type": "execute_result"
    }
   ],
   "source": [
    "a_list"
   ]
  },
  {
   "cell_type": "code",
   "execution_count": 14,
   "id": "31402fa0",
   "metadata": {},
   "outputs": [
    {
     "name": "stdout",
     "output_type": "stream",
     "text": [
      "14\n",
      "13\n",
      "12\n",
      "11\n",
      "10\n",
      "9\n",
      "8\n",
      "7\n",
      "6\n",
      "5\n",
      "4\n",
      "3\n",
      "2\n",
      "1\n",
      "0\n"
     ]
    }
   ],
   "source": [
    "while c_list:\n",
    "    popped_value = c_list.pop()\n",
    "    print(popped_value)"
   ]
  },
  {
   "cell_type": "markdown",
   "id": "d1a98b8f",
   "metadata": {},
   "source": [
    "`pop` can be used for a specific position or `index`. If a `list` is being looped over and elements are being removed by `pop`, it could raise an `out of range exception` since the list dwindles and may not have that specific `index` anymore. It is therefore suggested to always use `pop` to remove elements from the end or the beginning of a list.\n",
    "\n",
    "`pop` can be used to remove elements from a specific `index`."
   ]
  },
  {
   "cell_type": "code",
   "execution_count": 15,
   "id": "d26305b8",
   "metadata": {},
   "outputs": [],
   "source": [
    "popped_from_b_list = b_list.pop(1)"
   ]
  },
  {
   "cell_type": "code",
   "execution_count": 16,
   "id": "30191dd3",
   "metadata": {},
   "outputs": [
    {
     "data": {
      "text/plain": [
       "5"
      ]
     },
     "execution_count": 16,
     "metadata": {},
     "output_type": "execute_result"
    }
   ],
   "source": [
    "popped_from_b_list"
   ]
  },
  {
   "cell_type": "markdown",
   "id": "75c50dae",
   "metadata": {},
   "source": [
    "# Removing elements by value using `remove`\n",
    "\n",
    "The `remove` method identifies the first occurence of a value and removes it. Therefore, if a value occurs more than once in a `list`, the first value will only be removed."
   ]
  },
  {
   "cell_type": "code",
   "execution_count": 17,
   "id": "bba26b46",
   "metadata": {},
   "outputs": [],
   "source": [
    "my_list = ['spam', 'eggs', 'spam', 'spam', 'spam', 'foo', 'bar']"
   ]
  },
  {
   "cell_type": "code",
   "execution_count": 18,
   "id": "0e08b16d",
   "metadata": {},
   "outputs": [],
   "source": [
    "my_list.remove('spam')"
   ]
  },
  {
   "cell_type": "code",
   "execution_count": 19,
   "id": "962c44b2",
   "metadata": {},
   "outputs": [
    {
     "data": {
      "text/plain": [
       "['eggs', 'spam', 'spam', 'spam', 'foo', 'bar']"
      ]
     },
     "execution_count": 19,
     "metadata": {},
     "output_type": "execute_result"
    }
   ],
   "source": [
    "my_list"
   ]
  },
  {
   "cell_type": "markdown",
   "id": "8b2a50c3",
   "metadata": {},
   "source": [
    "To remove all `spam` the `list` needs to be looped-over for the value:"
   ]
  },
  {
   "cell_type": "code",
   "execution_count": 20,
   "id": "fe2dfa24",
   "metadata": {
    "scrolled": false
   },
   "outputs": [
    {
     "data": {
      "text/plain": [
       "['eggs', 'foo', 'bar']"
      ]
     },
     "execution_count": 20,
     "metadata": {},
     "output_type": "execute_result"
    }
   ],
   "source": [
    "while 'spam' in my_list:\n",
    "    my_list.remove('spam')\n",
    "    \n",
    "my_list"
   ]
  },
  {
   "cell_type": "markdown",
   "id": "bb67ebaf",
   "metadata": {},
   "source": [
    "# `in` and `not` keywords\n",
    "\n",
    "The `in` and `not` keywords can be used to check whether an element exists in a list or not."
   ]
  },
  {
   "cell_type": "code",
   "execution_count": 21,
   "id": "d59362d9",
   "metadata": {},
   "outputs": [
    {
     "data": {
      "text/plain": [
       "True"
      ]
     },
     "execution_count": 21,
     "metadata": {},
     "output_type": "execute_result"
    }
   ],
   "source": [
    "'eggs' in my_list"
   ]
  },
  {
   "cell_type": "code",
   "execution_count": 22,
   "id": "4aa36057",
   "metadata": {},
   "outputs": [
    {
     "data": {
      "text/plain": [
       "True"
      ]
     },
     "execution_count": 22,
     "metadata": {},
     "output_type": "execute_result"
    }
   ],
   "source": [
    "'spam' not in my_list"
   ]
  },
  {
   "cell_type": "markdown",
   "id": "e47ddc9d",
   "metadata": {},
   "source": [
    "# Concatenating lists using `+` or `extend`\n",
    "\n",
    "Note that *list concatenation by addition is a comparatively expensive operation* since a new `list` must be created and the objects copied over. Using `extend` to append elements to an existing `list`, especially if a large `list` is being built, is usually preferable."
   ]
  },
  {
   "cell_type": "code",
   "execution_count": 23,
   "id": "3881ee2d",
   "metadata": {},
   "outputs": [
    {
     "data": {
      "text/plain": [
       "['eggs', 'foo', 'bar', 'spam', 'spam', 'spam']"
      ]
     },
     "execution_count": 23,
     "metadata": {},
     "output_type": "execute_result"
    }
   ],
   "source": [
    "my_list + ['spam', 'spam', 'spam']"
   ]
  },
  {
   "cell_type": "code",
   "execution_count": 24,
   "id": "fda2a6b1",
   "metadata": {},
   "outputs": [
    {
     "data": {
      "text/plain": [
       "['eggs', 'foo', 'bar', 'eggs', 'eggs']"
      ]
     },
     "execution_count": 24,
     "metadata": {},
     "output_type": "execute_result"
    }
   ],
   "source": [
    "my_list.extend(['eggs', 'eggs'])\n",
    "my_list"
   ]
  },
  {
   "cell_type": "markdown",
   "id": "0a6421a5",
   "metadata": {},
   "source": [
    "**See that contcatenation using `+` creates a new list.**"
   ]
  },
  {
   "cell_type": "markdown",
   "id": "5d7e6991",
   "metadata": {},
   "source": [
    "# `Sort` and `Sorted`"
   ]
  },
  {
   "cell_type": "markdown",
   "id": "42562e41",
   "metadata": {},
   "source": [
    "## `Sort`\n",
    "\n",
    "The `sort` method arranges the elements in alphabetical order and modifies the `list` in-place. By default, the `sort` method will arrange a `list` in an ascending order. By passing `reverse=True` argument in the method, a list can be sorted in the descending order."
   ]
  },
  {
   "cell_type": "markdown",
   "id": "f1343b88",
   "metadata": {},
   "source": [
    "### Ascending order"
   ]
  },
  {
   "cell_type": "code",
   "execution_count": 25,
   "id": "2e5ce7d5",
   "metadata": {},
   "outputs": [],
   "source": [
    "a = ['eggs', 'spam', 'apple', 'sugar', 'honey', 'ice', 'tea', 'spam']"
   ]
  },
  {
   "cell_type": "code",
   "execution_count": 26,
   "id": "687cba7e",
   "metadata": {},
   "outputs": [],
   "source": [
    "a.sort()"
   ]
  },
  {
   "cell_type": "code",
   "execution_count": 27,
   "id": "fb8a99db",
   "metadata": {},
   "outputs": [
    {
     "data": {
      "text/plain": [
       "['apple', 'eggs', 'honey', 'ice', 'spam', 'spam', 'sugar', 'tea']"
      ]
     },
     "execution_count": 27,
     "metadata": {},
     "output_type": "execute_result"
    }
   ],
   "source": [
    "a"
   ]
  },
  {
   "cell_type": "code",
   "execution_count": 28,
   "id": "0f7d112e",
   "metadata": {},
   "outputs": [],
   "source": [
    "x = [7, 2, 1, 4, 0, 2]"
   ]
  },
  {
   "cell_type": "code",
   "execution_count": 29,
   "id": "7c653dc4",
   "metadata": {},
   "outputs": [],
   "source": [
    "x.sort()"
   ]
  },
  {
   "cell_type": "code",
   "execution_count": 30,
   "id": "26699ea6",
   "metadata": {},
   "outputs": [
    {
     "data": {
      "text/plain": [
       "[0, 1, 2, 2, 4, 7]"
      ]
     },
     "execution_count": 30,
     "metadata": {},
     "output_type": "execute_result"
    }
   ],
   "source": [
    "x"
   ]
  },
  {
   "cell_type": "markdown",
   "id": "86d99dfa",
   "metadata": {},
   "source": [
    "### Descending order"
   ]
  },
  {
   "cell_type": "code",
   "execution_count": 31,
   "id": "1f8d3163",
   "metadata": {},
   "outputs": [],
   "source": [
    "a.sort(reverse=True)"
   ]
  },
  {
   "cell_type": "code",
   "execution_count": 32,
   "id": "4dcdbb48",
   "metadata": {},
   "outputs": [
    {
     "data": {
      "text/plain": [
       "['tea', 'sugar', 'spam', 'spam', 'ice', 'honey', 'eggs', 'apple']"
      ]
     },
     "execution_count": 32,
     "metadata": {},
     "output_type": "execute_result"
    }
   ],
   "source": [
    "a"
   ]
  },
  {
   "cell_type": "code",
   "execution_count": 33,
   "id": "794f0c7d",
   "metadata": {},
   "outputs": [
    {
     "data": {
      "text/plain": [
       "[0, 1, 2, 3, 4]"
      ]
     },
     "execution_count": 33,
     "metadata": {},
     "output_type": "execute_result"
    }
   ],
   "source": [
    "x = list(range(5))\n",
    "x"
   ]
  },
  {
   "cell_type": "code",
   "execution_count": 34,
   "id": "871f109b",
   "metadata": {},
   "outputs": [
    {
     "data": {
      "text/plain": [
       "[4, 3, 2, 1, 0]"
      ]
     },
     "execution_count": 34,
     "metadata": {},
     "output_type": "execute_result"
    }
   ],
   "source": [
    "x.sort(reverse=True)\n",
    "x"
   ]
  },
  {
   "cell_type": "markdown",
   "id": "cde99eb6",
   "metadata": {},
   "source": [
    "### Sort using a specific `key`\n",
    "\n",
    "`sort` has a few options that will occasionally come in handy. One is the ability to pass a secondary `sort key` — that is, a function that produces a value to use to sort the objects. For example, we could sort a collection of strings by their lengths:"
   ]
  },
  {
   "cell_type": "code",
   "execution_count": 35,
   "id": "4ac42d22",
   "metadata": {},
   "outputs": [],
   "source": [
    "a.sort(key=len)"
   ]
  },
  {
   "cell_type": "code",
   "execution_count": 36,
   "id": "d13d611f",
   "metadata": {},
   "outputs": [
    {
     "data": {
      "text/plain": [
       "['tea', 'ice', 'spam', 'spam', 'eggs', 'sugar', 'honey', 'apple']"
      ]
     },
     "execution_count": 36,
     "metadata": {},
     "output_type": "execute_result"
    }
   ],
   "source": [
    "a"
   ]
  },
  {
   "cell_type": "markdown",
   "id": "594c9881",
   "metadata": {},
   "source": [
    "Notice how the elements are *first sorted alphabetically in an ascending order and then according to their lengths in an increasing order.* "
   ]
  },
  {
   "cell_type": "code",
   "execution_count": 37,
   "id": "0e62d13b",
   "metadata": {},
   "outputs": [
    {
     "data": {
      "text/plain": [
       "['sugar', 'honey', 'apple', 'spam', 'spam', 'eggs', 'tea', 'ice']"
      ]
     },
     "execution_count": 37,
     "metadata": {},
     "output_type": "execute_result"
    }
   ],
   "source": [
    "a.sort(key=len, reverse=True)\n",
    "a"
   ]
  },
  {
   "cell_type": "markdown",
   "id": "17229785",
   "metadata": {},
   "source": [
    "This is the exact opposite, *first alphabetically in a descending order and then their lengths in a decreasing order.*"
   ]
  },
  {
   "cell_type": "markdown",
   "id": "02510412",
   "metadata": {},
   "source": [
    "## `Sorted`"
   ]
  },
  {
   "cell_type": "markdown",
   "id": "83633a14",
   "metadata": {},
   "source": [
    "The `sorted` function returns a new sorted list from the elements of any sequence."
   ]
  },
  {
   "cell_type": "code",
   "execution_count": 38,
   "id": "14ae1b8f",
   "metadata": {},
   "outputs": [],
   "source": [
    "b = ['eggs', 'spam', 'apple', 'sugar', 'honey', 'ice', 'tea']"
   ]
  },
  {
   "cell_type": "code",
   "execution_count": 39,
   "id": "f4312ac2",
   "metadata": {},
   "outputs": [],
   "source": [
    "c = sorted(b)"
   ]
  },
  {
   "cell_type": "code",
   "execution_count": 40,
   "id": "59b155d9",
   "metadata": {},
   "outputs": [
    {
     "data": {
      "text/plain": [
       "['apple', 'eggs', 'honey', 'ice', 'spam', 'sugar', 'tea']"
      ]
     },
     "execution_count": 40,
     "metadata": {},
     "output_type": "execute_result"
    }
   ],
   "source": [
    "c"
   ]
  },
  {
   "cell_type": "code",
   "execution_count": 41,
   "id": "aacebe90",
   "metadata": {},
   "outputs": [
    {
     "data": {
      "text/plain": [
       "['eggs', 'spam', 'apple', 'sugar', 'honey', 'ice', 'tea']"
      ]
     },
     "execution_count": 41,
     "metadata": {},
     "output_type": "execute_result"
    }
   ],
   "source": [
    "b"
   ]
  },
  {
   "cell_type": "code",
   "execution_count": 42,
   "id": "2e4e2a6f",
   "metadata": {},
   "outputs": [
    {
     "data": {
      "text/plain": [
       "[' ', 'M', 'P', 'h', 'n', 'n', 'o', 'o', 't', 't', 'y', 'y']"
      ]
     },
     "execution_count": 42,
     "metadata": {},
     "output_type": "execute_result"
    }
   ],
   "source": [
    "sorted('Monty Python')"
   ]
  },
  {
   "cell_type": "code",
   "execution_count": 43,
   "id": "efb018a1",
   "metadata": {},
   "outputs": [
    {
     "data": {
      "text/plain": [
       "['apple', 'sugar', 'honey', 'eggs', 'spam', 'ice', 'tea']"
      ]
     },
     "execution_count": 43,
     "metadata": {},
     "output_type": "execute_result"
    }
   ],
   "source": [
    "sorted(b, key=len, reverse=True)"
   ]
  },
  {
   "cell_type": "markdown",
   "id": "51c7a46b",
   "metadata": {},
   "source": [
    "# Binary search and maintaining a sorted list"
   ]
  },
  {
   "cell_type": "markdown",
   "id": "49f5674e",
   "metadata": {},
   "source": [
    "The built-in `bisect` module implements binary search and insertion into a sorted list. `bisect.bisect` finds the location where an element should be inserted to keep it sorted, while `bisect.insort` actually inserts the element into that location:"
   ]
  },
  {
   "cell_type": "code",
   "execution_count": 44,
   "id": "3e3a04a1",
   "metadata": {},
   "outputs": [],
   "source": [
    "import bisect"
   ]
  },
  {
   "cell_type": "code",
   "execution_count": 45,
   "id": "41e276bf",
   "metadata": {},
   "outputs": [],
   "source": [
    "c = [1, 2, 2, 2, 3, 4, 7]"
   ]
  },
  {
   "cell_type": "code",
   "execution_count": 46,
   "id": "acc40ab4",
   "metadata": {},
   "outputs": [
    {
     "data": {
      "text/plain": [
       "4"
      ]
     },
     "execution_count": 46,
     "metadata": {},
     "output_type": "execute_result"
    }
   ],
   "source": [
    "bisect.bisect(c, 2)"
   ]
  },
  {
   "cell_type": "code",
   "execution_count": 47,
   "id": "4548ebda",
   "metadata": {
    "scrolled": true
   },
   "outputs": [
    {
     "data": {
      "text/plain": [
       "6"
      ]
     },
     "execution_count": 47,
     "metadata": {},
     "output_type": "execute_result"
    }
   ],
   "source": [
    "bisect.bisect(c, 5)"
   ]
  },
  {
   "cell_type": "markdown",
   "id": "2097e787",
   "metadata": {},
   "source": [
    "**The `bisect` module functions do not check whether the list is sorted, as doing so would be computationally expensive. Thus, using them with an unsorted list will succeed without error but may lead to incorrect results.**"
   ]
  },
  {
   "cell_type": "markdown",
   "id": "c9b0a118",
   "metadata": {},
   "source": [
    "# Slicing"
   ]
  },
  {
   "cell_type": "markdown",
   "id": "d39ae696",
   "metadata": {},
   "source": [
    "It is possible to select sections of most sequence types by using slice notation, which in its basic form consists of `start:stop` passed to the indexing operator `[]`. \n",
    "\n",
    "*While the element at the start index is included, the stop index is not included, so that the number of elements in the result is stop - start.*"
   ]
  },
  {
   "cell_type": "code",
   "execution_count": 48,
   "id": "35abe167",
   "metadata": {},
   "outputs": [],
   "source": [
    "sequence = [2, 3, 8, 10, 11, 69]"
   ]
  },
  {
   "cell_type": "code",
   "execution_count": 49,
   "id": "92f1c6be",
   "metadata": {},
   "outputs": [
    {
     "data": {
      "text/plain": [
       "[3, 8, 10]"
      ]
     },
     "execution_count": 49,
     "metadata": {},
     "output_type": "execute_result"
    }
   ],
   "source": [
    "sequence[1:4]"
   ]
  },
  {
   "cell_type": "markdown",
   "id": "d4539828",
   "metadata": {},
   "source": [
    "Slices can also be assigned to with a sequence:"
   ]
  },
  {
   "cell_type": "code",
   "execution_count": 50,
   "id": "ed4a25cb",
   "metadata": {},
   "outputs": [],
   "source": [
    "sequence[1:4] = [6, 12, 18]"
   ]
  },
  {
   "cell_type": "code",
   "execution_count": 51,
   "id": "fdbdf50f",
   "metadata": {},
   "outputs": [
    {
     "data": {
      "text/plain": [
       "[2, 6, 12, 18, 11, 69]"
      ]
     },
     "execution_count": 51,
     "metadata": {},
     "output_type": "execute_result"
    }
   ],
   "source": [
    "sequence"
   ]
  },
  {
   "cell_type": "code",
   "execution_count": 52,
   "id": "65decaaa",
   "metadata": {},
   "outputs": [],
   "source": [
    "zero_to_twenty = list(range(0, 21))"
   ]
  },
  {
   "cell_type": "code",
   "execution_count": 53,
   "id": "0270777e",
   "metadata": {},
   "outputs": [
    {
     "data": {
      "text/plain": [
       "[0, 1, 2, 3, 4, 5, 6, 7, 8, 9, 10, 11, 12, 13, 14, 15, 16, 17, 18, 19, 20]"
      ]
     },
     "execution_count": 53,
     "metadata": {},
     "output_type": "execute_result"
    }
   ],
   "source": [
    "zero_to_twenty"
   ]
  },
  {
   "cell_type": "code",
   "execution_count": 54,
   "id": "7eb72183",
   "metadata": {},
   "outputs": [
    {
     "data": {
      "text/plain": [
       "[5, 6, 7, 8, 9]"
      ]
     },
     "execution_count": 54,
     "metadata": {},
     "output_type": "execute_result"
    }
   ],
   "source": [
    "zero_to_twenty[5:10]"
   ]
  },
  {
   "cell_type": "markdown",
   "id": "ef9df242",
   "metadata": {},
   "source": [
    "Removing the start and stop values from slicing results in them taking the `0` and *value of the last index* in the `list`, respectively."
   ]
  },
  {
   "cell_type": "code",
   "execution_count": 55,
   "id": "e00df939",
   "metadata": {
    "scrolled": true
   },
   "outputs": [
    {
     "data": {
      "text/plain": [
       "[0, 1, 2, 3, 4]"
      ]
     },
     "execution_count": 55,
     "metadata": {},
     "output_type": "execute_result"
    }
   ],
   "source": [
    "zero_to_twenty[:5]"
   ]
  },
  {
   "cell_type": "code",
   "execution_count": 56,
   "id": "4bde59db",
   "metadata": {},
   "outputs": [
    {
     "data": {
      "text/plain": [
       "[17, 18, 19, 20]"
      ]
     },
     "execution_count": 56,
     "metadata": {},
     "output_type": "execute_result"
    }
   ],
   "source": [
    "zero_to_twenty[17:]"
   ]
  },
  {
   "cell_type": "markdown",
   "id": "647de405",
   "metadata": {},
   "source": [
    "## Slicing: Steps\n",
    "\n",
    "A third param can be added to the start-stop in slicing, which is the step. If passed, the resulting list is built by selecting the elements that appear relative to the start index by the value of the step. "
   ]
  },
  {
   "cell_type": "code",
   "execution_count": 57,
   "id": "2b6356d8",
   "metadata": {},
   "outputs": [
    {
     "data": {
      "text/plain": [
       "[0, 2, 4, 6, 8, 10]"
      ]
     },
     "execution_count": 57,
     "metadata": {},
     "output_type": "execute_result"
    }
   ],
   "source": [
    "zero_to_twenty[0:11:2]"
   ]
  },
  {
   "cell_type": "markdown",
   "id": "5e2e1c28",
   "metadata": {},
   "source": [
    "## Negative slicing index\n",
    "\n",
    "Negative slicing is relative to the last index in a list. Meaning that `-1` would be the index before the last index, `-2` would be the index before `-1` and so on."
   ]
  },
  {
   "cell_type": "code",
   "execution_count": 58,
   "id": "55848771",
   "metadata": {},
   "outputs": [
    {
     "data": {
      "text/plain": [
       "[0, 1, 2, 3, 4, 5, 6, 7, 8, 9, 10, 11, 12, 13, 14, 15]"
      ]
     },
     "execution_count": 58,
     "metadata": {},
     "output_type": "execute_result"
    }
   ],
   "source": [
    "zero_to_twenty[:-5]"
   ]
  },
  {
   "cell_type": "code",
   "execution_count": 59,
   "id": "52e49cf6",
   "metadata": {},
   "outputs": [
    {
     "data": {
      "text/plain": [
       "[3, 4, 5, 6, 7, 8, 9]"
      ]
     },
     "execution_count": 59,
     "metadata": {},
     "output_type": "execute_result"
    }
   ],
   "source": [
    "zero_to_twenty[3:-11]"
   ]
  },
  {
   "cell_type": "markdown",
   "id": "d487511a",
   "metadata": {},
   "source": [
    "## Copying and reversing a list using slicing"
   ]
  },
  {
   "cell_type": "markdown",
   "id": "7419466f",
   "metadata": {},
   "source": [
    "A copy of a list can be created by slicing a `list` from start to end."
   ]
  },
  {
   "cell_type": "markdown",
   "id": "3b53173a",
   "metadata": {},
   "source": [
    "### Copying"
   ]
  },
  {
   "cell_type": "code",
   "execution_count": 60,
   "id": "31c3d184",
   "metadata": {},
   "outputs": [],
   "source": [
    "a = ['spam', 'eggs', 'ham']"
   ]
  },
  {
   "cell_type": "code",
   "execution_count": 61,
   "id": "66379e25",
   "metadata": {},
   "outputs": [],
   "source": [
    "b = a[:]"
   ]
  },
  {
   "cell_type": "code",
   "execution_count": 62,
   "id": "ea1c829a",
   "metadata": {},
   "outputs": [],
   "source": [
    "a.remove('spam')"
   ]
  },
  {
   "cell_type": "code",
   "execution_count": 63,
   "id": "9c70ab35",
   "metadata": {},
   "outputs": [
    {
     "data": {
      "text/plain": [
       "['eggs', 'ham']"
      ]
     },
     "execution_count": 63,
     "metadata": {},
     "output_type": "execute_result"
    }
   ],
   "source": [
    "a"
   ]
  },
  {
   "cell_type": "code",
   "execution_count": 64,
   "id": "6abd50e4",
   "metadata": {},
   "outputs": [
    {
     "data": {
      "text/plain": [
       "['spam', 'eggs', 'ham']"
      ]
     },
     "execution_count": 64,
     "metadata": {},
     "output_type": "execute_result"
    }
   ],
   "source": [
    "b"
   ]
  },
  {
   "cell_type": "markdown",
   "id": "9ae07823",
   "metadata": {},
   "source": [
    "### Reversing\n",
    "\n",
    "Reversing with negative step **does not** arrange the elements in the list in an alphabetical or numerical order! It only flip-a-the-indexes."
   ]
  },
  {
   "cell_type": "code",
   "execution_count": 65,
   "id": "7cf4e709",
   "metadata": {},
   "outputs": [
    {
     "data": {
      "text/plain": [
       "['ham', 'eggs', 'spam']"
      ]
     },
     "execution_count": 65,
     "metadata": {},
     "output_type": "execute_result"
    }
   ],
   "source": [
    "b[::-1]"
   ]
  },
  {
   "cell_type": "code",
   "execution_count": 66,
   "id": "d13096ca",
   "metadata": {},
   "outputs": [
    {
     "data": {
      "text/plain": [
       "[20, 19, 18, 17, 16, 15, 14, 13, 12, 11, 10, 9, 8, 7, 6, 5, 4, 3, 2, 1, 0]"
      ]
     },
     "execution_count": 66,
     "metadata": {},
     "output_type": "execute_result"
    }
   ],
   "source": [
    "zero_to_twenty[::-1]"
   ]
  },
  {
   "attachments": {
    "image.png": {
     "image/png": "[encoded data removed]"
    }
   },
   "cell_type": "markdown",
   "id": "8da1ce76",
   "metadata": {},
   "source": [
    "## Slicing conventions\n",
    "\n",
    "Page 59 | Figure 3-1\n",
    "\n",
    "![image.png](attachment:image.png)"
   ]
  }
 ],
 "metadata": {
  "kernelspec": {
   "display_name": "Python 3 (ipykernel)",
   "language": "python",
   "name": "python3"
  },
  "language_info": {
   "codemirror_mode": {
    "name": "ipython",
    "version": 3
   },
   "file_extension": ".py",
   "mimetype": "text/x-python",
   "name": "python",
   "nbconvert_exporter": "python",
   "pygments_lexer": "ipython3",
   "version": "3.10.1"
  }
 },
 "nbformat": 4,
 "nbformat_minor": 5
}
