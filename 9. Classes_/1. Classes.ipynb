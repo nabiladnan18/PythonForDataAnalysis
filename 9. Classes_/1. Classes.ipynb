{
 "cells": [
  {
   "cell_type": "markdown",
   "id": "29e3643b",
   "metadata": {},
   "source": [
    "# Basics\n",
    "\n",
    "In object-oriented programming you write classes that represent real-world things and situations, and you create objects based on these classes. When you write a class, you define the general behavior that a whole category of objects can have.\n",
    "\n",
    "Making an object from a class is called *instantiation*, and you work with *instances* of a class."
   ]
  },
  {
   "cell_type": "markdown",
   "id": "4e5177c2",
   "metadata": {},
   "source": [
    "## Instantiation of `class Car`"
   ]
  },
  {
   "cell_type": "code",
   "execution_count": 1,
   "id": "965c9c92",
   "metadata": {},
   "outputs": [],
   "source": [
    "class Car:\n",
    "    \"\"\"A representation of a car\"\"\"\n",
    "    \n",
    "    def __init__(self, make, model, year):\n",
    "        \"\"\"Initialize the attributes of a car.\"\"\"\n",
    "        self.make = make\n",
    "        self.model = model\n",
    "        self.year = year\n",
    "        \n",
    "    def get_descriptive_name(self):\n",
    "        \"\"\"Return a neatly formatted descriptive name.\"\"\"\n",
    "        long_name = f\"{self.year} {self.make} {self.model}\"\n",
    "        return long_name.title()"
   ]
  },
  {
   "cell_type": "code",
   "execution_count": 2,
   "id": "1a723525",
   "metadata": {},
   "outputs": [],
   "source": [
    "my_car = Car('totoya', 'starlet', 1997)"
   ]
  },
  {
   "cell_type": "markdown",
   "id": "575914cd",
   "metadata": {},
   "source": [
    "### Accessing attribute values"
   ]
  },
  {
   "cell_type": "code",
   "execution_count": 3,
   "id": "c8265656",
   "metadata": {},
   "outputs": [
    {
     "data": {
      "text/plain": [
       "'totoya'"
      ]
     },
     "execution_count": 3,
     "metadata": {},
     "output_type": "execute_result"
    }
   ],
   "source": [
    "my_car.make"
   ]
  },
  {
   "cell_type": "code",
   "execution_count": 4,
   "id": "a49938a8",
   "metadata": {},
   "outputs": [
    {
     "data": {
      "text/plain": [
       "'starlet'"
      ]
     },
     "execution_count": 4,
     "metadata": {},
     "output_type": "execute_result"
    }
   ],
   "source": [
    "my_car.model"
   ]
  },
  {
   "cell_type": "code",
   "execution_count": 5,
   "id": "4e66e732",
   "metadata": {
    "scrolled": true
   },
   "outputs": [
    {
     "data": {
      "text/plain": [
       "1997"
      ]
     },
     "execution_count": 5,
     "metadata": {},
     "output_type": "execute_result"
    }
   ],
   "source": [
    "my_car.year"
   ]
  },
  {
   "cell_type": "markdown",
   "id": "64cbd347",
   "metadata": {},
   "source": [
    "### Applying class methods"
   ]
  },
  {
   "cell_type": "code",
   "execution_count": 6,
   "id": "a8f64e0d",
   "metadata": {
    "scrolled": true
   },
   "outputs": [
    {
     "data": {
      "text/plain": [
       "'1997 Totoya Starlet'"
      ]
     },
     "execution_count": 6,
     "metadata": {},
     "output_type": "execute_result"
    }
   ],
   "source": [
    "my_car.get_descriptive_name()"
   ]
  },
  {
   "cell_type": "code",
   "execution_count": 7,
   "id": "b2a2ed7b",
   "metadata": {},
   "outputs": [],
   "source": [
    "your_car = Car('audi', 'r8', 2004)"
   ]
  },
  {
   "cell_type": "code",
   "execution_count": 8,
   "id": "a7414f63",
   "metadata": {},
   "outputs": [
    {
     "data": {
      "text/plain": [
       "'2004 Audi R8'"
      ]
     },
     "execution_count": 8,
     "metadata": {},
     "output_type": "execute_result"
    }
   ],
   "source": [
    "your_car.get_descriptive_name()"
   ]
  },
  {
   "cell_type": "markdown",
   "id": "9c7631f2",
   "metadata": {},
   "source": [
    "# Attributes - Instance Attributes\n",
    "\n",
    "Instance attributes are attributes defined in a class that belong to all instances in a class. For example, the `make`, `model` and `year` attributes will be shared by any and all instance of the `Car` class. Here we look at some interesting things we can do with instance attributes."
   ]
  },
  {
   "cell_type": "markdown",
   "id": "d2efeb13",
   "metadata": {},
   "source": [
    "## Setting a default value"
   ]
  },
  {
   "cell_type": "code",
   "execution_count": 9,
   "id": "3ad9ea7a",
   "metadata": {},
   "outputs": [],
   "source": [
    "class Car:\n",
    "    \"\"\"A representation of a car\"\"\"\n",
    "    \n",
    "    def __init__(self, make, model, year):\n",
    "        \"\"\"Initialize the attributes of a car.\"\"\"\n",
    "        self.make = make\n",
    "        self.model = model\n",
    "        self.year = year\n",
    "        self.odometer = 0\n",
    "        \n",
    "    def get_descriptive_name(self):\n",
    "        \"\"\"Return a neatly formatted descriptive name.\"\"\"\n",
    "        long_name = f\"{self.year} {self.make} {self.model}\"\n",
    "        return long_name.title()\n",
    "    \n",
    "    # Adding a new class method\n",
    "    def read_odometer(self):\n",
    "        \"\"\"Shows the value on the odometer.\"\"\"\n",
    "        reading = f\"The car has {self.odometer} kms on it.\"\n",
    "        return reading"
   ]
  },
  {
   "cell_type": "code",
   "execution_count": 10,
   "id": "c130dab6",
   "metadata": {},
   "outputs": [],
   "source": [
    "my_car = Car('totoya', 'starlet', 1997)"
   ]
  },
  {
   "cell_type": "code",
   "execution_count": 11,
   "id": "5fe0529e",
   "metadata": {},
   "outputs": [
    {
     "data": {
      "text/plain": [
       "0"
      ]
     },
     "execution_count": 11,
     "metadata": {},
     "output_type": "execute_result"
    }
   ],
   "source": [
    "my_car.odometer"
   ]
  },
  {
   "cell_type": "code",
   "execution_count": 12,
   "id": "2f8736a6",
   "metadata": {},
   "outputs": [
    {
     "data": {
      "text/plain": [
       "'The car has 0 kms on it.'"
      ]
     },
     "execution_count": 12,
     "metadata": {},
     "output_type": "execute_result"
    }
   ],
   "source": [
    "my_car.read_odometer()"
   ]
  },
  {
   "cell_type": "markdown",
   "id": "553e07c3",
   "metadata": {},
   "source": [
    "## Modifying an Attribute’s Value Directly"
   ]
  },
  {
   "cell_type": "code",
   "execution_count": 13,
   "id": "c64941ca",
   "metadata": {},
   "outputs": [],
   "source": [
    "my_car.odometer = 25"
   ]
  },
  {
   "cell_type": "code",
   "execution_count": 14,
   "id": "6a35ec99",
   "metadata": {},
   "outputs": [
    {
     "data": {
      "text/plain": [
       "'The car has 25 kms on it.'"
      ]
     },
     "execution_count": 14,
     "metadata": {},
     "output_type": "execute_result"
    }
   ],
   "source": [
    "my_car.read_odometer()"
   ]
  },
  {
   "cell_type": "markdown",
   "id": "89468ce3",
   "metadata": {},
   "source": [
    "## Modifying an Attribute’s Value Through a Method"
   ]
  },
  {
   "cell_type": "code",
   "execution_count": 15,
   "id": "0c1744c0",
   "metadata": {},
   "outputs": [],
   "source": [
    "class Car:\n",
    "    \"\"\"A representation of a car\"\"\"\n",
    "    \n",
    "    def __init__(self, make, model, year):\n",
    "        \"\"\"Initialize the attributes of a car.\"\"\"\n",
    "        self.make = make\n",
    "        self.model = model\n",
    "        self.year = year\n",
    "        self.odometer = 0\n",
    "        \n",
    "    def get_descriptive_name(self):\n",
    "        \"\"\"Return a neatly formatted descriptive name.\"\"\"\n",
    "        long_name = f\"{self.year} {self.make} {self.model}\"\n",
    "        return long_name.title()\n",
    "    \n",
    "    def read_odometer(self):\n",
    "        \"\"\"Shows the value on the odometer.\"\"\"\n",
    "        reading = f\"The car has {self.odometer} kms on it.\"\n",
    "        return reading\n",
    "    \n",
    "    # Adding a new instance method\n",
    "    def update_odometer(self, mileage):\n",
    "        \"\"\"Updates the odometer with the given mileage\"\"\"\n",
    "        if mileage >= self.odometer:\n",
    "            self.odometer = mileage\n",
    "            return \"Mileage updated.\"\n",
    "        else:\n",
    "            return \"You cannot roll back an odometer!\""
   ]
  },
  {
   "cell_type": "code",
   "execution_count": 16,
   "id": "ac324247",
   "metadata": {},
   "outputs": [],
   "source": [
    "my_car = Car('totoya', 'starlet', 1997)"
   ]
  },
  {
   "cell_type": "code",
   "execution_count": 17,
   "id": "ccc389f1",
   "metadata": {},
   "outputs": [
    {
     "data": {
      "text/plain": [
       "'Mileage updated.'"
      ]
     },
     "execution_count": 17,
     "metadata": {},
     "output_type": "execute_result"
    }
   ],
   "source": [
    "my_car.update_odometer(50)"
   ]
  },
  {
   "cell_type": "code",
   "execution_count": 18,
   "id": "f550cf27",
   "metadata": {},
   "outputs": [
    {
     "data": {
      "text/plain": [
       "'The car has 50 kms on it.'"
      ]
     },
     "execution_count": 18,
     "metadata": {},
     "output_type": "execute_result"
    }
   ],
   "source": [
    "my_car.read_odometer()"
   ]
  },
  {
   "cell_type": "code",
   "execution_count": 19,
   "id": "928c1b85",
   "metadata": {},
   "outputs": [
    {
     "data": {
      "text/plain": [
       "'You cannot roll back an odometer!'"
      ]
     },
     "execution_count": 19,
     "metadata": {},
     "output_type": "execute_result"
    }
   ],
   "source": [
    "my_car.update_odometer(49)"
   ]
  },
  {
   "cell_type": "markdown",
   "id": "962f1a60",
   "metadata": {},
   "source": [
    "## Incrementing an Attribute’s Value Through a Method"
   ]
  },
  {
   "cell_type": "code",
   "execution_count": 20,
   "id": "e74a755c",
   "metadata": {},
   "outputs": [],
   "source": [
    "class Car:\n",
    "    \"\"\"A representation of a car\"\"\"\n",
    "    \n",
    "    def __init__(self, make, model, year):\n",
    "        \"\"\"Initialize the attributes of a car.\"\"\"\n",
    "        self.make = make\n",
    "        self.model = model\n",
    "        self.year = year\n",
    "        self.odometer = 0\n",
    "        \n",
    "    def get_descriptive_name(self):\n",
    "        \"\"\"Return a neatly formatted descriptive name.\"\"\"\n",
    "        long_name = f\"{self.year} {self.make} {self.model}\"\n",
    "        return long_name.title()\n",
    "    \n",
    "    def read_odometer(self):\n",
    "        \"\"\"Shows the value on the odometer.\"\"\"\n",
    "        reading = f\"The car has {self.odometer:,} kms on it.\" #! Update for thousand separator!\n",
    "        return reading\n",
    "    \n",
    "    def update_odometer(self, mileage):\n",
    "        \"\"\"Updates the odometer with the given mileage\"\"\"\n",
    "        if mileage >= self.odometer:\n",
    "            self.odometer = mileage\n",
    "            return \"Mileage updated.\"\n",
    "        else:\n",
    "            return \"You cannot roll back an odometer!\"\n",
    "        \n",
    "    # Adding a new instance method\n",
    "    def increment_odometer(self, kms):\n",
    "        \"\"\"Increments the odometer by the given number of kms.\"\"\"\n",
    "        if kms > 0:\n",
    "            self.odometer += kms\n",
    "        else:\n",
    "            return \"You cannot roll back an odometer!\"\n",
    "        \n",
    "    # Adding a new instance method\n",
    "    def fill_gas_tank(self):\n",
    "        \"\"\"Fills the gas tank by the given amount of liters\"\"\"\n",
    "        return \"Tank filled\"\n",
    "        \n",
    "my_car = Car('totoya', 'starlet', 1997)"
   ]
  },
  {
   "cell_type": "code",
   "execution_count": 21,
   "id": "256bbc07",
   "metadata": {},
   "outputs": [
    {
     "data": {
      "text/plain": [
       "'Mileage updated.'"
      ]
     },
     "execution_count": 21,
     "metadata": {},
     "output_type": "execute_result"
    }
   ],
   "source": [
    "my_car.update_odometer(23500)"
   ]
  },
  {
   "cell_type": "code",
   "execution_count": 22,
   "id": "52cd8872",
   "metadata": {},
   "outputs": [
    {
     "data": {
      "text/plain": [
       "'The car has 23,500 kms on it.'"
      ]
     },
     "execution_count": 22,
     "metadata": {},
     "output_type": "execute_result"
    }
   ],
   "source": [
    "my_car.read_odometer()"
   ]
  },
  {
   "cell_type": "code",
   "execution_count": 23,
   "id": "4b4fd184",
   "metadata": {},
   "outputs": [],
   "source": [
    "my_car.increment_odometer(1500)"
   ]
  },
  {
   "cell_type": "code",
   "execution_count": 24,
   "id": "d9547999",
   "metadata": {},
   "outputs": [
    {
     "data": {
      "text/plain": [
       "'The car has 25,000 kms on it.'"
      ]
     },
     "execution_count": 24,
     "metadata": {},
     "output_type": "execute_result"
    }
   ],
   "source": [
    "my_car.read_odometer()"
   ]
  },
  {
   "cell_type": "code",
   "execution_count": 25,
   "id": "4e2a5b94",
   "metadata": {},
   "outputs": [
    {
     "data": {
      "text/plain": [
       "'Tank filled'"
      ]
     },
     "execution_count": 25,
     "metadata": {},
     "output_type": "execute_result"
    }
   ],
   "source": [
    "my_car.fill_gas_tank()"
   ]
  },
  {
   "cell_type": "markdown",
   "id": "8fe85ed8",
   "metadata": {},
   "source": [
    "# Attributes - Class Attributes\n",
    "\n",
    "Class attributes are defined within the body of the class. For example, in the `Car` class that we have defined, we can add a class attribute like `paint` where we have a default color. This will be applicable for whole `Car` class.\n",
    "\n",
    "Now let's take a more realistic example: almost all humans have two ears and two eyes by default. If we are to define a `Human` class then the attributes `ears` and `eyes` can be defined as **class attributes**, whereas attributes like `name`, `height`, `occupation`, `sex` can be defined as **instance attributes**. To take this example further, we can have methods like `greet`, `run` and `jump` for each instance of a human.\n",
    "\n",
    "Let's build the Human class:"
   ]
  },
  {
   "cell_type": "code",
   "execution_count": 37,
   "id": "81f9efca",
   "metadata": {},
   "outputs": [],
   "source": [
    "class Human:\n",
    "    \"\"\"Modelling a human being\"\"\"\n",
    "    eyes = 2\n",
    "    ears = 2\n",
    "    hands = 2\n",
    "    legs = 2\n",
    "    \n",
    "    def __init__(self, fname, height, occupation, sex):\n",
    "        \"\"\"Initializing a human\"\"\"\n",
    "        self.fname = fname\n",
    "        self.height = height\n",
    "        self.occupation = occupation\n",
    "        self.sex = sex\n",
    "        \n",
    "    def greet(self):\n",
    "        \"\"\"Human introduces himself/herself\"\"\"\n",
    "        return f\"Hi! I am {self.fname.title()}. Nice to meet you!\"\n",
    "    \n",
    "    def run(self):\n",
    "        return f\"{self.fname.title()} is running!\"\n",
    "    \n",
    "    def jump(self):\n",
    "        return f\"{self.fname.title()} is jumping!\""
   ]
  },
  {
   "cell_type": "code",
   "execution_count": 38,
   "id": "ece88ac5",
   "metadata": {},
   "outputs": [],
   "source": [
    "john = Human('john', 186, 'doctor', 'male')\n",
    "mary = Human('mary', 194, 'basketball player', 'female')"
   ]
  },
  {
   "cell_type": "code",
   "execution_count": 39,
   "id": "c4df66b1",
   "metadata": {},
   "outputs": [
    {
     "data": {
      "text/plain": [
       "'Hi! I am John. Nice to meet you!'"
      ]
     },
     "execution_count": 39,
     "metadata": {},
     "output_type": "execute_result"
    }
   ],
   "source": [
    "john.greet()"
   ]
  },
  {
   "cell_type": "code",
   "execution_count": 40,
   "id": "7da82d1c",
   "metadata": {},
   "outputs": [
    {
     "data": {
      "text/plain": [
       "'Hi! I am Mary. Nice to meet you!'"
      ]
     },
     "execution_count": 40,
     "metadata": {},
     "output_type": "execute_result"
    }
   ],
   "source": [
    "mary.greet()"
   ]
  },
  {
   "cell_type": "markdown",
   "id": "f283fe63",
   "metadata": {},
   "source": [
    "Great, now we have `john` and `mary`, two instances of the `Human` class. So how many ears do they have? How many eyes do they have?"
   ]
  },
  {
   "cell_type": "code",
   "execution_count": 41,
   "id": "f69825f8",
   "metadata": {},
   "outputs": [
    {
     "data": {
      "text/plain": [
       "2"
      ]
     },
     "execution_count": 41,
     "metadata": {},
     "output_type": "execute_result"
    }
   ],
   "source": [
    "john.ears"
   ]
  },
  {
   "cell_type": "code",
   "execution_count": 42,
   "id": "8cbe64a4",
   "metadata": {},
   "outputs": [
    {
     "data": {
      "text/plain": [
       "2"
      ]
     },
     "execution_count": 42,
     "metadata": {},
     "output_type": "execute_result"
    }
   ],
   "source": [
    "mary.eyes"
   ]
  },
  {
   "cell_type": "markdown",
   "id": "a9f7d9cb",
   "metadata": {},
   "source": [
    "**We can also access these attributes by working directly with the class object:**"
   ]
  },
  {
   "cell_type": "code",
   "execution_count": 44,
   "id": "05c3f2ca",
   "metadata": {},
   "outputs": [
    {
     "data": {
      "text/plain": [
       "2"
      ]
     },
     "execution_count": 44,
     "metadata": {},
     "output_type": "execute_result"
    }
   ],
   "source": [
    "Human.ears"
   ]
  },
  {
   "cell_type": "code",
   "execution_count": 45,
   "id": "a2d49074",
   "metadata": {},
   "outputs": [
    {
     "data": {
      "text/plain": [
       "2"
      ]
     },
     "execution_count": 45,
     "metadata": {},
     "output_type": "execute_result"
    }
   ],
   "source": [
    "Human.eyes"
   ]
  },
  {
   "cell_type": "markdown",
   "id": "7da34aad",
   "metadata": {},
   "source": [
    "From this example, we can see that we can define class attributes for attributes that will rarely change. However, these can be changed. Imagine Rick Cronenberg-ed the shit out of this reality and now everyone has 5 ears and three eyes!"
   ]
  },
  {
   "cell_type": "code",
   "execution_count": 46,
   "id": "49919198",
   "metadata": {},
   "outputs": [],
   "source": [
    "Human.ears = 5"
   ]
  },
  {
   "cell_type": "code",
   "execution_count": 47,
   "id": "847af7e5",
   "metadata": {},
   "outputs": [],
   "source": [
    "Human.eyes = 3"
   ]
  },
  {
   "cell_type": "markdown",
   "id": "81c7cdaa",
   "metadata": {},
   "source": [
    "Now that Rick has Cronenberg-ed the world, let's see how many ears John has and how many eyes Mary has."
   ]
  },
  {
   "cell_type": "code",
   "execution_count": 48,
   "id": "3f4caab5",
   "metadata": {},
   "outputs": [
    {
     "data": {
      "text/plain": [
       "5"
      ]
     },
     "execution_count": 48,
     "metadata": {},
     "output_type": "execute_result"
    }
   ],
   "source": [
    "john.ears"
   ]
  },
  {
   "cell_type": "code",
   "execution_count": 50,
   "id": "5b918058",
   "metadata": {
    "scrolled": true
   },
   "outputs": [
    {
     "data": {
      "text/plain": [
       "3"
      ]
     },
     "execution_count": 50,
     "metadata": {},
     "output_type": "execute_result"
    }
   ],
   "source": [
    "mary.eyes"
   ]
  },
  {
   "cell_type": "markdown",
   "id": "1794c777",
   "metadata": {},
   "source": [
    "In general, now all humans have 5 ears and 3 eyes!"
   ]
  },
  {
   "cell_type": "code",
   "execution_count": 51,
   "id": "1e3ce996",
   "metadata": {},
   "outputs": [
    {
     "data": {
      "text/plain": [
       "5"
      ]
     },
     "execution_count": 51,
     "metadata": {},
     "output_type": "execute_result"
    }
   ],
   "source": [
    "Human.ears"
   ]
  },
  {
   "cell_type": "code",
   "execution_count": 52,
   "id": "b1eecddc",
   "metadata": {},
   "outputs": [
    {
     "data": {
      "text/plain": [
       "3"
      ]
     },
     "execution_count": 52,
     "metadata": {},
     "output_type": "execute_result"
    }
   ],
   "source": [
    "Human.eyes"
   ]
  },
  {
   "cell_type": "markdown",
   "id": "332ad09f",
   "metadata": {},
   "source": [
    "**\"Boy, Morty, I really Cronenberged the world up, didn't I?\"** "
   ]
  },
  {
   "cell_type": "markdown",
   "id": "6e86cda0",
   "metadata": {},
   "source": [
    "# Different types of methods in a class\n",
    "\n",
    "https://realpython.com/instance-class-and-static-methods-demystified/#instance-class-and-static-methods-an-overview\n",
    "\n",
    "\n"
   ]
  },
  {
   "cell_type": "markdown",
   "id": "49e2bf18",
   "metadata": {},
   "source": [
    "\n",
    "## Classmethod\n",
    "\n",
    "Classmethods take the `cls` param e.g. the whole `class` as a reference. \n",
    "\n",
    "```\n",
    "@classmethod\n",
    "def an_example_static_method(cls):\n",
    "    ...\n",
    "```"
   ]
  },
  {
   "cell_type": "code",
   "execution_count": 42,
   "id": "c7fc870f",
   "metadata": {},
   "outputs": [],
   "source": [
    "class Car:\n",
    "    \"\"\"A representation of a car\"\"\"\n",
    "    \n",
    "    def __init__(self, make, model, year):\n",
    "        \"\"\"Initialize the attributes of a car.\"\"\"\n",
    "        self.make = make\n",
    "        self.model = model\n",
    "        self.year = year\n",
    "        self.odometer = 0\n",
    "        \n",
    "    # Adding new class method\n",
    "    @classmethod\n",
    "    def create_starlet97(cls):\n",
    "        return cls('toyota', 'starlet', 1997)\n",
    "        \n",
    "    def get_descriptive_name(self):\n",
    "        \"\"\"Return a neatly formatted descriptive name.\"\"\"\n",
    "        long_name = f\"{self.year} {self.make} {self.model}\"\n",
    "        return long_name.title()\n",
    "    \n",
    "    def read_odometer(self):\n",
    "        \"\"\"Shows the value on the odometer.\"\"\"\n",
    "        reading = f\"The car has {self.odometer:,} kms on it.\" #! Update for thousand separator!\n",
    "        return reading\n",
    "    \n",
    "    def update_odometer(self, mileage):\n",
    "        \"\"\"Updates the odometer with the given mileage\"\"\"\n",
    "        if mileage >= self.odometer:\n",
    "            self.odometer = mileage\n",
    "            return \"Mileage updated.\"\n",
    "        else:\n",
    "            return \"You cannot roll back an odometer!\"\n",
    "        \n",
    "    def increment_odometer(self, kms):\n",
    "        \"\"\"Increments the odometer by the given number of kms.\"\"\"\n",
    "        if kms > 0:\n",
    "            self.odometer += kms\n",
    "        else:\n",
    "            return \"You cannot roll back an odometer!\"\n",
    "        \n",
    "    def fill_gas_tank(self):\n",
    "        \"\"\"Fills the gas tank by the given amount of liters\"\"\"\n",
    "        return \"Tank filled\""
   ]
  },
  {
   "cell_type": "code",
   "execution_count": 43,
   "id": "715a5b7d",
   "metadata": {},
   "outputs": [],
   "source": [
    "starlet = Car.create_starlet97()"
   ]
  },
  {
   "cell_type": "code",
   "execution_count": 44,
   "id": "7e50a511",
   "metadata": {},
   "outputs": [
    {
     "data": {
      "text/plain": [
       "'1997 Toyota Starlet'"
      ]
     },
     "execution_count": 44,
     "metadata": {},
     "output_type": "execute_result"
    }
   ],
   "source": [
    "starlet.get_descriptive_name()"
   ]
  },
  {
   "cell_type": "markdown",
   "id": "89ca941f",
   "metadata": {},
   "source": [
    "\n",
    "## Instance method\n",
    "\n",
    "Instance method is a method where the reference of an `instance` of a `class` is passed.\n",
    "\n",
    "```\n",
    "...\n",
    "\n",
    "def get_descriptive_name(self):\n",
    "        \"\"\"Return a neatly formatted descriptive name.\"\"\"\n",
    "        long_name = f\"{self.year} {self.make} {self.model}\"\n",
    "        return long_name.title()\n",
    "\n",
    "...\n",
    "```\n",
    "\n"
   ]
  },
  {
   "cell_type": "code",
   "execution_count": 45,
   "id": "b5c2249a",
   "metadata": {},
   "outputs": [
    {
     "data": {
      "text/plain": [
       "'1997 Toyota Starlet'"
      ]
     },
     "execution_count": 45,
     "metadata": {},
     "output_type": "execute_result"
    }
   ],
   "source": [
    "starlet.get_descriptive_name()"
   ]
  },
  {
   "cell_type": "markdown",
   "id": "03799070",
   "metadata": {},
   "source": [
    "## Static method\n",
    "\n",
    "This type of method takes neither a `self` nor a `cls` parameter but of course it is free to accept an arbitrary number of other parameters.\n",
    "\n",
    "Therefore a `static method` can neither modify object state nor class state. Static methods are restricted in what data they can access - and they are primarily a way to namespace your methods.\n",
    "\n",
    "```\n",
    "@staticmethod\n",
    "def an_example_static_method():\n",
    "    ...\n",
    "```"
   ]
  },
  {
   "cell_type": "markdown",
   "id": "e4eee3be",
   "metadata": {},
   "source": [
    "## Weak *internal* use methods\n",
    "\n",
    "`_single_leading_underscore`: weak \"internal use\" indicator. For example, `from M import *` does not import objects whose name starts with an underscore. Useful for shortening code in a module."
   ]
  }
 ],
 "metadata": {
  "kernelspec": {
   "display_name": "Python 3 (ipykernel)",
   "language": "python",
   "name": "python3"
  },
  "language_info": {
   "codemirror_mode": {
    "name": "ipython",
    "version": 3
   },
   "file_extension": ".py",
   "mimetype": "text/x-python",
   "name": "python",
   "nbconvert_exporter": "python",
   "pygments_lexer": "ipython3",
   "version": "3.10.1"
  }
 },
 "nbformat": 4,
 "nbformat_minor": 5
}
