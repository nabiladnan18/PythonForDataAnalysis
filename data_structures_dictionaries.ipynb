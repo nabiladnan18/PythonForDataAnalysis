{
 "cells": [
  {
   "cell_type": "markdown",
   "id": "d898ef98",
   "metadata": {},
   "source": [
    "# Basics\n",
    "\n",
    "It is a flexibly sized collection of *key-value pairs*, where `key` and `value` are Python objects."
   ]
  },
  {
   "cell_type": "code",
   "execution_count": 1,
   "id": "579aa758",
   "metadata": {},
   "outputs": [],
   "source": [
    "actors = {\n",
    "    'John Cleese': 'Customer',\n",
    "    'Eric Idle': 'Shopkeep',\n",
    "    'Parrot': 'Dead'\n",
    "}"
   ]
  },
  {
   "cell_type": "code",
   "execution_count": 2,
   "id": "8b4751c5",
   "metadata": {},
   "outputs": [
    {
     "data": {
      "text/plain": [
       "{'John Cleese': 'Customer', 'Eric Idle': 'Shopkeep', 'Parrot': 'Dead'}"
      ]
     },
     "execution_count": 2,
     "metadata": {},
     "output_type": "execute_result"
    }
   ],
   "source": [
    "actors"
   ]
  },
  {
   "cell_type": "markdown",
   "id": "97a14e3a",
   "metadata": {},
   "source": [
    "# Adding new `key-value` pair"
   ]
  },
  {
   "cell_type": "code",
   "execution_count": 5,
   "id": "d51553de",
   "metadata": {},
   "outputs": [],
   "source": [
    "actors['Michael Palin'] = 'Cheeseshop owner'"
   ]
  },
  {
   "cell_type": "code",
   "execution_count": 6,
   "id": "819cbfc2",
   "metadata": {},
   "outputs": [
    {
     "data": {
      "text/plain": [
       "{'John Cleese': 'Customer',\n",
       " 'Eric Idle': 'Shopkeep',\n",
       " 'Parrot': 'Dead',\n",
       " 'Michael Palin': 'Cheeseshop owner'}"
      ]
     },
     "execution_count": 6,
     "metadata": {},
     "output_type": "execute_result"
    }
   ],
   "source": [
    "actors"
   ]
  },
  {
   "cell_type": "code",
   "execution_count": 7,
   "id": "8c00c5a4",
   "metadata": {},
   "outputs": [],
   "source": [
    "actors['Pythons'] = ['John Cleese', 'Eric Idle', 'Michael Palin']"
   ]
  },
  {
   "cell_type": "code",
   "execution_count": 8,
   "id": "26178341",
   "metadata": {
    "scrolled": true
   },
   "outputs": [
    {
     "data": {
      "text/plain": [
       "{'John Cleese': 'Customer',\n",
       " 'Eric Idle': 'Shopkeep',\n",
       " 'Parrot': 'Dead',\n",
       " 'Michael Palin': 'Cheeseshop owner',\n",
       " 'Pythons': ['John Cleese', 'Eric Idle', 'Michael Palin']}"
      ]
     },
     "execution_count": 8,
     "metadata": {},
     "output_type": "execute_result"
    }
   ],
   "source": [
    "actors"
   ]
  },
  {
   "cell_type": "markdown",
   "id": "3f0818f1",
   "metadata": {},
   "source": [
    "# Accessing `value` via the `key` using `[]`"
   ]
  },
  {
   "cell_type": "code",
   "execution_count": 9,
   "id": "d16f70a2",
   "metadata": {},
   "outputs": [
    {
     "data": {
      "text/plain": [
       "['John Cleese', 'Eric Idle', 'Michael Palin']"
      ]
     },
     "execution_count": 9,
     "metadata": {},
     "output_type": "execute_result"
    }
   ],
   "source": [
    "actors['Pythons']"
   ]
  },
  {
   "cell_type": "markdown",
   "id": "6f6f9ef5",
   "metadata": {},
   "source": [
    "# Accessing `value` via the `key` using `get` method\n",
    "\n",
    "In this way, if the `key` does not exist, `None` is always returned by default. This can be changed to a specific value in the `get` method."
   ]
  },
  {
   "cell_type": "markdown",
   "id": "72a4356a",
   "metadata": {},
   "source": [
    "## Accessing value"
   ]
  },
  {
   "cell_type": "code",
   "execution_count": 31,
   "id": "f7870103",
   "metadata": {
    "scrolled": true
   },
   "outputs": [
    {
     "data": {
      "text/plain": [
       "['John Cleese', 'Eric Idle', 'Michael Palin']"
      ]
     },
     "execution_count": 31,
     "metadata": {},
     "output_type": "execute_result"
    }
   ],
   "source": [
    "actors.get('Pythons')"
   ]
  },
  {
   "cell_type": "markdown",
   "id": "01a013c4",
   "metadata": {},
   "source": [
    "## Returning desired `value` if `key` does not exist "
   ]
  },
  {
   "cell_type": "code",
   "execution_count": 40,
   "id": "69da88ac",
   "metadata": {},
   "outputs": [],
   "source": [
    "actors.get('Monty') # this returns None"
   ]
  },
  {
   "cell_type": "code",
   "execution_count": 37,
   "id": "5529149c",
   "metadata": {},
   "outputs": [
    {
     "data": {
      "text/plain": [
       "'No such key exists'"
      ]
     },
     "execution_count": 37,
     "metadata": {},
     "output_type": "execute_result"
    }
   ],
   "source": [
    "actors.get('Monty', 'No such key exists')"
   ]
  },
  {
   "cell_type": "markdown",
   "id": "1c475e18",
   "metadata": {},
   "source": [
    "# Checking if a `key` exists in the `dict`"
   ]
  },
  {
   "cell_type": "code",
   "execution_count": 11,
   "id": "d69b4d2e",
   "metadata": {},
   "outputs": [
    {
     "data": {
      "text/plain": [
       "True"
      ]
     },
     "execution_count": 11,
     "metadata": {},
     "output_type": "execute_result"
    }
   ],
   "source": [
    "'Parrot' in actors"
   ]
  },
  {
   "cell_type": "code",
   "execution_count": 12,
   "id": "e0a5ef70",
   "metadata": {},
   "outputs": [
    {
     "data": {
      "text/plain": [
       "False"
      ]
     },
     "execution_count": 12,
     "metadata": {},
     "output_type": "execute_result"
    }
   ],
   "source": [
    "'Dead' in actors"
   ]
  },
  {
   "cell_type": "markdown",
   "id": "77b8438f",
   "metadata": {},
   "source": [
    "# Deleting a key-value pair using `del` command"
   ]
  },
  {
   "cell_type": "code",
   "execution_count": 13,
   "id": "cca457ff",
   "metadata": {},
   "outputs": [],
   "source": [
    "actors['Random Key'] = 'Random Value'"
   ]
  },
  {
   "cell_type": "code",
   "execution_count": 14,
   "id": "ccd7c350",
   "metadata": {},
   "outputs": [
    {
     "data": {
      "text/plain": [
       "{'John Cleese': 'Customer',\n",
       " 'Eric Idle': 'Shopkeep',\n",
       " 'Parrot': 'Dead',\n",
       " 'Michael Palin': 'Cheeseshop owner',\n",
       " 'Pythons': ['John Cleese', 'Eric Idle', 'Michael Palin'],\n",
       " 'Random Key': 'Random Value'}"
      ]
     },
     "execution_count": 14,
     "metadata": {},
     "output_type": "execute_result"
    }
   ],
   "source": [
    "actors"
   ]
  },
  {
   "cell_type": "code",
   "execution_count": 15,
   "id": "f6dd9b0b",
   "metadata": {},
   "outputs": [],
   "source": [
    "del actors[\"Random Key\"]"
   ]
  },
  {
   "cell_type": "code",
   "execution_count": 16,
   "id": "5da83242",
   "metadata": {},
   "outputs": [
    {
     "data": {
      "text/plain": [
       "{'John Cleese': 'Customer',\n",
       " 'Eric Idle': 'Shopkeep',\n",
       " 'Parrot': 'Dead',\n",
       " 'Michael Palin': 'Cheeseshop owner',\n",
       " 'Pythons': ['John Cleese', 'Eric Idle', 'Michael Palin']}"
      ]
     },
     "execution_count": 16,
     "metadata": {},
     "output_type": "execute_result"
    }
   ],
   "source": [
    "actors"
   ]
  },
  {
   "cell_type": "markdown",
   "id": "27ee74f7",
   "metadata": {},
   "source": [
    "# `Pop` values using `key`\n",
    "\n",
    "Similar to the `get` method, a default value can be returned if the `key` does not exist in the `dict`. **However, if the value is not specified, `pop` will raise `KeyError`.**"
   ]
  },
  {
   "cell_type": "markdown",
   "id": "a8aef974",
   "metadata": {},
   "source": [
    "## Get `value` by `pop` method"
   ]
  },
  {
   "cell_type": "code",
   "execution_count": 18,
   "id": "1f4bc67c",
   "metadata": {},
   "outputs": [],
   "source": [
    "parrot = actors.pop('Parrot')"
   ]
  },
  {
   "cell_type": "code",
   "execution_count": 19,
   "id": "63d5c15e",
   "metadata": {
    "scrolled": true
   },
   "outputs": [
    {
     "data": {
      "text/plain": [
       "'Dead'"
      ]
     },
     "execution_count": 19,
     "metadata": {},
     "output_type": "execute_result"
    }
   ],
   "source": [
    "parrot"
   ]
  },
  {
   "cell_type": "markdown",
   "id": "fa38cdcd",
   "metadata": {},
   "source": [
    "## Assigning a default value if the `key` does not exist"
   ]
  },
  {
   "cell_type": "code",
   "execution_count": 42,
   "id": "e2c2808f",
   "metadata": {},
   "outputs": [],
   "source": [
    "monty = actors.pop('Monty', 'No such key exists')"
   ]
  },
  {
   "cell_type": "code",
   "execution_count": 43,
   "id": "fec79d3b",
   "metadata": {},
   "outputs": [
    {
     "data": {
      "text/plain": [
       "'No such key exists'"
      ]
     },
     "execution_count": 43,
     "metadata": {},
     "output_type": "execute_result"
    }
   ],
   "source": [
    "monty"
   ]
  },
  {
   "cell_type": "markdown",
   "id": "fcd9ee21",
   "metadata": {},
   "source": [
    "# Finding all `key`s in a `dict`"
   ]
  },
  {
   "cell_type": "code",
   "execution_count": 20,
   "id": "7c1b9263",
   "metadata": {},
   "outputs": [
    {
     "data": {
      "text/plain": [
       "dict_keys(['John Cleese', 'Eric Idle', 'Michael Palin', 'Pythons'])"
      ]
     },
     "execution_count": 20,
     "metadata": {},
     "output_type": "execute_result"
    }
   ],
   "source": [
    "actors.keys() # The output is *not* a list!"
   ]
  },
  {
   "cell_type": "code",
   "execution_count": 22,
   "id": "c70a06cc",
   "metadata": {},
   "outputs": [
    {
     "data": {
      "text/plain": [
       "['John Cleese', 'Eric Idle', 'Michael Palin', 'Pythons']"
      ]
     },
     "execution_count": 22,
     "metadata": {},
     "output_type": "execute_result"
    }
   ],
   "source": [
    "list(actors.keys())"
   ]
  },
  {
   "cell_type": "markdown",
   "id": "67540411",
   "metadata": {},
   "source": [
    "# Finding all `value`s in a `dict`"
   ]
  },
  {
   "cell_type": "code",
   "execution_count": 23,
   "id": "b23e8dec",
   "metadata": {},
   "outputs": [
    {
     "data": {
      "text/plain": [
       "dict_values(['Customer', 'Shopkeep', 'Cheeseshop owner', ['John Cleese', 'Eric Idle', 'Michael Palin']])"
      ]
     },
     "execution_count": 23,
     "metadata": {},
     "output_type": "execute_result"
    }
   ],
   "source": [
    "actors.values()"
   ]
  },
  {
   "cell_type": "code",
   "execution_count": 26,
   "id": "73eb776f",
   "metadata": {},
   "outputs": [
    {
     "data": {
      "text/plain": [
       "['Customer',\n",
       " 'Shopkeep',\n",
       " 'Cheeseshop owner',\n",
       " ['John Cleese', 'Eric Idle', 'Michael Palin']]"
      ]
     },
     "execution_count": 26,
     "metadata": {},
     "output_type": "execute_result"
    }
   ],
   "source": [
    "list(actors.values())"
   ]
  },
  {
   "cell_type": "markdown",
   "id": "6e083986",
   "metadata": {},
   "source": [
    "# Updating a `dict`\n",
    "\n",
    "It is possible to add new key-value pairs to a `dictionary` by the `update` method. The `update` method changes the `dict` in-place.\n",
    "\n",
    "*Note*: \n",
    "\n",
    " * *If a duplicate `key` is passed, the `value` of it will be updated.*\n",
    " * *`Update` method of `dict` is **not** the same as `append` method of `list`*"
   ]
  },
  {
   "cell_type": "code",
   "execution_count": 27,
   "id": "726eed5c",
   "metadata": {},
   "outputs": [],
   "source": [
    "actors.update({'Graham Chapman': 'Brian, the Messiah!'})"
   ]
  },
  {
   "cell_type": "code",
   "execution_count": 28,
   "id": "5f021520",
   "metadata": {},
   "outputs": [
    {
     "data": {
      "text/plain": [
       "{'John Cleese': 'Customer',\n",
       " 'Eric Idle': 'Shopkeep',\n",
       " 'Michael Palin': 'Cheeseshop owner',\n",
       " 'Pythons': ['John Cleese', 'Eric Idle', 'Michael Palin'],\n",
       " 'Graham Chapman': 'Brian, the Messiah!'}"
      ]
     },
     "execution_count": 28,
     "metadata": {},
     "output_type": "execute_result"
    }
   ],
   "source": [
    "actors"
   ]
  },
  {
   "cell_type": "code",
   "execution_count": 29,
   "id": "9456d3a1",
   "metadata": {},
   "outputs": [],
   "source": [
    "actors.update({'Graham Chapman': 'Jesus Christ'})"
   ]
  },
  {
   "cell_type": "code",
   "execution_count": 30,
   "id": "298dff4e",
   "metadata": {},
   "outputs": [
    {
     "data": {
      "text/plain": [
       "{'John Cleese': 'Customer',\n",
       " 'Eric Idle': 'Shopkeep',\n",
       " 'Michael Palin': 'Cheeseshop owner',\n",
       " 'Pythons': ['John Cleese', 'Eric Idle', 'Michael Palin'],\n",
       " 'Graham Chapman': 'Jesus Christ'}"
      ]
     },
     "execution_count": 30,
     "metadata": {},
     "output_type": "execute_result"
    }
   ],
   "source": [
    "actors"
   ]
  },
  {
   "cell_type": "code",
   "execution_count": null,
   "id": "8ab9b15e",
   "metadata": {},
   "outputs": [],
   "source": []
  }
 ],
 "metadata": {
  "kernelspec": {
   "display_name": "Python 3 (ipykernel)",
   "language": "python",
   "name": "python3"
  },
  "language_info": {
   "codemirror_mode": {
    "name": "ipython",
    "version": 3
   },
   "file_extension": ".py",
   "mimetype": "text/x-python",
   "name": "python",
   "nbconvert_exporter": "python",
   "pygments_lexer": "ipython3",
   "version": "3.10.1"
  }
 },
 "nbformat": 4,
 "nbformat_minor": 5
}
