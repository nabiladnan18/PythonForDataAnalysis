{
 "cells": [
  {
   "cell_type": "markdown",
   "id": "d898ef98",
   "metadata": {},
   "source": [
    "# Basics\n",
    "\n",
    "It is a flexibly sized collection of *key-value pairs*, where `key` and `value` are Python objects."
   ]
  },
  {
   "cell_type": "code",
   "execution_count": 1,
   "id": "579aa758",
   "metadata": {},
   "outputs": [],
   "source": [
    "actors = {\n",
    "    'John Cleese': 'Customer',\n",
    "    'Eric Idle': 'Shopkeep',\n",
    "    'Parrot': 'Dead'\n",
    "}"
   ]
  },
  {
   "cell_type": "code",
   "execution_count": 2,
   "id": "0dfae048",
   "metadata": {},
   "outputs": [
    {
     "data": {
      "text/plain": [
       "{'John Cleese': 'Customer', 'Eric Idle': 'Shopkeep', 'Parrot': 'Dead'}"
      ]
     },
     "execution_count": 2,
     "metadata": {},
     "output_type": "execute_result"
    }
   ],
   "source": [
    "actors"
   ]
  },
  {
   "cell_type": "markdown",
   "id": "cc483ee3",
   "metadata": {},
   "source": [
    "# Adding new `key-value` pair"
   ]
  },
  {
   "cell_type": "code",
   "execution_count": 3,
   "id": "cd76c688",
   "metadata": {},
   "outputs": [],
   "source": [
    "actors['Michael Palin'] = 'Cheeseshop owner'"
   ]
  },
  {
   "cell_type": "code",
   "execution_count": 4,
   "id": "f3ba0f97",
   "metadata": {},
   "outputs": [
    {
     "data": {
      "text/plain": [
       "{'John Cleese': 'Customer',\n",
       " 'Eric Idle': 'Shopkeep',\n",
       " 'Parrot': 'Dead',\n",
       " 'Michael Palin': 'Cheeseshop owner'}"
      ]
     },
     "execution_count": 4,
     "metadata": {},
     "output_type": "execute_result"
    }
   ],
   "source": [
    "actors"
   ]
  },
  {
   "cell_type": "code",
   "execution_count": 5,
   "id": "dceb3649",
   "metadata": {},
   "outputs": [],
   "source": [
    "actors['Pythons'] = ['John Cleese', 'Eric Idle', 'Michael Palin']"
   ]
  },
  {
   "cell_type": "code",
   "execution_count": 6,
   "id": "7f481a8f",
   "metadata": {
    "scrolled": true
   },
   "outputs": [
    {
     "data": {
      "text/plain": [
       "{'John Cleese': 'Customer',\n",
       " 'Eric Idle': 'Shopkeep',\n",
       " 'Parrot': 'Dead',\n",
       " 'Michael Palin': 'Cheeseshop owner',\n",
       " 'Pythons': ['John Cleese', 'Eric Idle', 'Michael Palin']}"
      ]
     },
     "execution_count": 6,
     "metadata": {},
     "output_type": "execute_result"
    }
   ],
   "source": [
    "actors"
   ]
  },
  {
   "cell_type": "markdown",
   "id": "5fb39d7f",
   "metadata": {},
   "source": [
    "# Accessing `value` via the `key` using `[]`"
   ]
  },
  {
   "cell_type": "code",
   "execution_count": 7,
   "id": "b5e216a4",
   "metadata": {},
   "outputs": [
    {
     "data": {
      "text/plain": [
       "['John Cleese', 'Eric Idle', 'Michael Palin']"
      ]
     },
     "execution_count": 7,
     "metadata": {},
     "output_type": "execute_result"
    }
   ],
   "source": [
    "actors['Pythons']"
   ]
  },
  {
   "cell_type": "markdown",
   "id": "d3cda450",
   "metadata": {},
   "source": [
    "# Accessing `value` via the `key` using `get` method\n",
    "\n",
    "In this way, if the `key` does not exist, `None` is always returned by default. This can be changed to a specific value in the `get` method."
   ]
  },
  {
   "cell_type": "markdown",
   "id": "6343da13",
   "metadata": {},
   "source": [
    "## Accessing value"
   ]
  },
  {
   "cell_type": "code",
   "execution_count": 8,
   "id": "982a48ee",
   "metadata": {
    "scrolled": true
   },
   "outputs": [
    {
     "data": {
      "text/plain": [
       "['John Cleese', 'Eric Idle', 'Michael Palin']"
      ]
     },
     "execution_count": 8,
     "metadata": {},
     "output_type": "execute_result"
    }
   ],
   "source": [
    "actors.get('Pythons')"
   ]
  },
  {
   "cell_type": "markdown",
   "id": "8858be12",
   "metadata": {},
   "source": [
    "## Returning desired `value` if `key` does not exist "
   ]
  },
  {
   "cell_type": "code",
   "execution_count": 9,
   "id": "8705ac96",
   "metadata": {},
   "outputs": [],
   "source": [
    "actors.get('Monty') # this returns None"
   ]
  },
  {
   "cell_type": "code",
   "execution_count": 10,
   "id": "db0fb5ae",
   "metadata": {},
   "outputs": [
    {
     "data": {
      "text/plain": [
       "'No such key exists'"
      ]
     },
     "execution_count": 10,
     "metadata": {},
     "output_type": "execute_result"
    }
   ],
   "source": [
    "actors.get('Monty', 'No such key exists')"
   ]
  },
  {
   "cell_type": "markdown",
   "id": "90dc4a95",
   "metadata": {},
   "source": [
    "# Checking if a `key` exists in the `dict`"
   ]
  },
  {
   "cell_type": "code",
   "execution_count": 11,
   "id": "401d326a",
   "metadata": {},
   "outputs": [
    {
     "data": {
      "text/plain": [
       "True"
      ]
     },
     "execution_count": 11,
     "metadata": {},
     "output_type": "execute_result"
    }
   ],
   "source": [
    "'Parrot' in actors"
   ]
  },
  {
   "cell_type": "code",
   "execution_count": 12,
   "id": "f71a5626",
   "metadata": {},
   "outputs": [
    {
     "data": {
      "text/plain": [
       "False"
      ]
     },
     "execution_count": 12,
     "metadata": {},
     "output_type": "execute_result"
    }
   ],
   "source": [
    "'Dead' in actors"
   ]
  },
  {
   "cell_type": "markdown",
   "id": "55293410",
   "metadata": {},
   "source": [
    "# Deleting a key-value pair using `del` command"
   ]
  },
  {
   "cell_type": "code",
   "execution_count": 13,
   "id": "bc7c9b34",
   "metadata": {},
   "outputs": [],
   "source": [
    "actors['Random Key'] = 'Random Value'"
   ]
  },
  {
   "cell_type": "code",
   "execution_count": 14,
   "id": "34d04771",
   "metadata": {},
   "outputs": [
    {
     "data": {
      "text/plain": [
       "{'John Cleese': 'Customer',\n",
       " 'Eric Idle': 'Shopkeep',\n",
       " 'Parrot': 'Dead',\n",
       " 'Michael Palin': 'Cheeseshop owner',\n",
       " 'Pythons': ['John Cleese', 'Eric Idle', 'Michael Palin'],\n",
       " 'Random Key': 'Random Value'}"
      ]
     },
     "execution_count": 14,
     "metadata": {},
     "output_type": "execute_result"
    }
   ],
   "source": [
    "actors"
   ]
  },
  {
   "cell_type": "code",
   "execution_count": 15,
   "id": "c33fec97",
   "metadata": {},
   "outputs": [],
   "source": [
    "del actors[\"Random Key\"]"
   ]
  },
  {
   "cell_type": "code",
   "execution_count": 16,
   "id": "9349f4a1",
   "metadata": {},
   "outputs": [
    {
     "data": {
      "text/plain": [
       "{'John Cleese': 'Customer',\n",
       " 'Eric Idle': 'Shopkeep',\n",
       " 'Parrot': 'Dead',\n",
       " 'Michael Palin': 'Cheeseshop owner',\n",
       " 'Pythons': ['John Cleese', 'Eric Idle', 'Michael Palin']}"
      ]
     },
     "execution_count": 16,
     "metadata": {},
     "output_type": "execute_result"
    }
   ],
   "source": [
    "actors"
   ]
  },
  {
   "cell_type": "markdown",
   "id": "4afe5f1c",
   "metadata": {},
   "source": [
    "# `Pop` values using `key`\n",
    "\n",
    "Similar to the `get` method, a default value can be returned if the `key` does not exist in the `dict`. **However, if the value is not specified, `pop` will raise `KeyError`.**"
   ]
  },
  {
   "cell_type": "markdown",
   "id": "c8356530",
   "metadata": {},
   "source": [
    "## Get `value` by `pop` method"
   ]
  },
  {
   "cell_type": "code",
   "execution_count": 17,
   "id": "2da0671f",
   "metadata": {},
   "outputs": [],
   "source": [
    "parrot = actors.pop('Parrot')"
   ]
  },
  {
   "cell_type": "code",
   "execution_count": 18,
   "id": "83bb3392",
   "metadata": {
    "scrolled": true
   },
   "outputs": [
    {
     "data": {
      "text/plain": [
       "'Dead'"
      ]
     },
     "execution_count": 18,
     "metadata": {},
     "output_type": "execute_result"
    }
   ],
   "source": [
    "parrot"
   ]
  },
  {
   "cell_type": "markdown",
   "id": "5990468f",
   "metadata": {},
   "source": [
    "## Assigning a default value if the `key` does not exist"
   ]
  },
  {
   "cell_type": "code",
   "execution_count": 19,
   "id": "de6bd88b",
   "metadata": {},
   "outputs": [],
   "source": [
    "monty = actors.pop('Monty', 'No such key exists')"
   ]
  },
  {
   "cell_type": "code",
   "execution_count": 20,
   "id": "d20bd034",
   "metadata": {},
   "outputs": [
    {
     "data": {
      "text/plain": [
       "'No such key exists'"
      ]
     },
     "execution_count": 20,
     "metadata": {},
     "output_type": "execute_result"
    }
   ],
   "source": [
    "monty"
   ]
  },
  {
   "cell_type": "markdown",
   "id": "9c5b6e04",
   "metadata": {},
   "source": [
    "# Finding all `key`s in a `dict`"
   ]
  },
  {
   "cell_type": "code",
   "execution_count": 21,
   "id": "ebbd1abf",
   "metadata": {},
   "outputs": [
    {
     "data": {
      "text/plain": [
       "dict_keys(['John Cleese', 'Eric Idle', 'Michael Palin', 'Pythons'])"
      ]
     },
     "execution_count": 21,
     "metadata": {},
     "output_type": "execute_result"
    }
   ],
   "source": [
    "actors.keys() # The output is *not* a list!"
   ]
  },
  {
   "cell_type": "code",
   "execution_count": 22,
   "id": "df887e05",
   "metadata": {},
   "outputs": [
    {
     "data": {
      "text/plain": [
       "['John Cleese', 'Eric Idle', 'Michael Palin', 'Pythons']"
      ]
     },
     "execution_count": 22,
     "metadata": {},
     "output_type": "execute_result"
    }
   ],
   "source": [
    "list(actors.keys())"
   ]
  },
  {
   "cell_type": "markdown",
   "id": "a56e6b04",
   "metadata": {},
   "source": [
    "# Finding all `value`s in a `dict`"
   ]
  },
  {
   "cell_type": "code",
   "execution_count": 23,
   "id": "4f7647a9",
   "metadata": {},
   "outputs": [
    {
     "data": {
      "text/plain": [
       "dict_values(['Customer', 'Shopkeep', 'Cheeseshop owner', ['John Cleese', 'Eric Idle', 'Michael Palin']])"
      ]
     },
     "execution_count": 23,
     "metadata": {},
     "output_type": "execute_result"
    }
   ],
   "source": [
    "actors.values()"
   ]
  },
  {
   "cell_type": "code",
   "execution_count": 24,
   "id": "e85b5560",
   "metadata": {
    "scrolled": true
   },
   "outputs": [
    {
     "data": {
      "text/plain": [
       "['Customer',\n",
       " 'Shopkeep',\n",
       " 'Cheeseshop owner',\n",
       " ['John Cleese', 'Eric Idle', 'Michael Palin']]"
      ]
     },
     "execution_count": 24,
     "metadata": {},
     "output_type": "execute_result"
    }
   ],
   "source": [
    "list(actors.values())"
   ]
  },
  {
   "cell_type": "markdown",
   "id": "f88e8ea1",
   "metadata": {},
   "source": [
    "# Iterating over a `dict` using `items` method"
   ]
  },
  {
   "cell_type": "markdown",
   "id": "fdc451e0",
   "metadata": {},
   "source": [
    "A `dict` can be iterated over using `items` method."
   ]
  },
  {
   "cell_type": "code",
   "execution_count": 25,
   "id": "6ea21849",
   "metadata": {},
   "outputs": [
    {
     "name": "stdout",
     "output_type": "stream",
     "text": [
      "John Cleese: Customer\n",
      "Eric Idle: Shopkeep\n",
      "Michael Palin: Cheeseshop owner\n",
      "Pythons: ['John Cleese', 'Eric Idle', 'Michael Palin']\n"
     ]
    }
   ],
   "source": [
    "for key, value in actors.items():\n",
    "    actor, role = key, value\n",
    "    print(f\"{actor}: {role}\")"
   ]
  },
  {
   "cell_type": "code",
   "execution_count": 26,
   "id": "c4e93b2e",
   "metadata": {},
   "outputs": [
    {
     "name": "stdout",
     "output_type": "stream",
     "text": [
      "0 John Cleese Customer\n",
      "1 Eric Idle Shopkeep\n",
      "2 Michael Palin Cheeseshop owner\n",
      "3 Pythons ['John Cleese', 'Eric Idle', 'Michael Palin']\n"
     ]
    }
   ],
   "source": [
    "for index, (key, value) in enumerate(actors.items()):\n",
    "    print(index, key, value)"
   ]
  },
  {
   "cell_type": "markdown",
   "id": "b58c2792",
   "metadata": {},
   "source": [
    "Note this: ```index, (key, value)``` is different from `key, value`. The `(key, value)` is organized as a tuple in the line above because enumerate will return a tuple like `(index, (key, value))` when `actors.items()` is passed inside `enumerate`.\n",
    "\n",
    "`actors.items()` returns a tuple of key-value pairs e.g. `(key, value)`. This when passed in `enumerate` becomes another tuple of index and the tuple of key-value e.g. `(index, (key,value))`. Think about *unpacking a list*."
   ]
  },
  {
   "cell_type": "markdown",
   "id": "7b062536",
   "metadata": {},
   "source": [
    "# Updating a `dict`\n",
    "\n",
    "It is possible to add new key-value pairs to a `dictionary` by the `update` method. The `update` method changes the `dict` in-place.\n",
    "\n",
    "*Note*: \n",
    "\n",
    " * *If a duplicate `key` is passed, the `value` of it will be updated.*\n",
    " * *`Update` method of `dict` is **not** the same as `append` method of `list`*"
   ]
  },
  {
   "cell_type": "code",
   "execution_count": 27,
   "id": "c10135b0",
   "metadata": {},
   "outputs": [],
   "source": [
    "actors.update({'Graham Chapman': 'Brian, the Messiah!'})"
   ]
  },
  {
   "cell_type": "code",
   "execution_count": 28,
   "id": "88c10429",
   "metadata": {},
   "outputs": [
    {
     "data": {
      "text/plain": [
       "{'John Cleese': 'Customer',\n",
       " 'Eric Idle': 'Shopkeep',\n",
       " 'Michael Palin': 'Cheeseshop owner',\n",
       " 'Pythons': ['John Cleese', 'Eric Idle', 'Michael Palin'],\n",
       " 'Graham Chapman': 'Brian, the Messiah!'}"
      ]
     },
     "execution_count": 28,
     "metadata": {},
     "output_type": "execute_result"
    }
   ],
   "source": [
    "actors"
   ]
  },
  {
   "cell_type": "code",
   "execution_count": 29,
   "id": "d67f7940",
   "metadata": {},
   "outputs": [],
   "source": [
    "actors.update({'Graham Chapman': 'Jesus Christ'})"
   ]
  },
  {
   "cell_type": "code",
   "execution_count": 30,
   "id": "ab336c21",
   "metadata": {},
   "outputs": [
    {
     "data": {
      "text/plain": [
       "{'John Cleese': 'Customer',\n",
       " 'Eric Idle': 'Shopkeep',\n",
       " 'Michael Palin': 'Cheeseshop owner',\n",
       " 'Pythons': ['John Cleese', 'Eric Idle', 'Michael Palin'],\n",
       " 'Graham Chapman': 'Jesus Christ'}"
      ]
     },
     "execution_count": 30,
     "metadata": {},
     "output_type": "execute_result"
    }
   ],
   "source": [
    "actors"
   ]
  },
  {
   "cell_type": "markdown",
   "id": "c84e97c7",
   "metadata": {},
   "source": [
    "# More on default values\n",
    "\n",
    "Apart from `pop` and `get` there are other ways to set default values for a `key` if the key does not exist. This is achieved via the built-in `setdefault` method and `defaultdict` function from the `collections` module.\n",
    "\n",
    "**These will UPDATE your dicts!**"
   ]
  },
  {
   "cell_type": "markdown",
   "id": "f020d4eb",
   "metadata": {},
   "source": [
    "## `setdefault`\n",
    "\n",
    "The `setdefault` method returns the value of the item with the specified key. If the key does not exist, insert the key, with the specified value, see example below:"
   ]
  },
  {
   "cell_type": "code",
   "execution_count": 31,
   "id": "ff4ef115",
   "metadata": {},
   "outputs": [],
   "source": [
    "car = {\n",
    "    \"Make\": \"Toyota\",\n",
    "    \"Model\": \"Starlet\",\n",
    "    \"Year\": 1997\n",
    "}"
   ]
  },
  {
   "cell_type": "code",
   "execution_count": 32,
   "id": "70d02c16",
   "metadata": {},
   "outputs": [
    {
     "data": {
      "text/plain": [
       "'silver'"
      ]
     },
     "execution_count": 32,
     "metadata": {},
     "output_type": "execute_result"
    }
   ],
   "source": [
    "car.setdefault(\"color\", \"silver\")"
   ]
  },
  {
   "cell_type": "code",
   "execution_count": 33,
   "id": "0837f531",
   "metadata": {},
   "outputs": [
    {
     "data": {
      "text/plain": [
       "{'Make': 'Toyota', 'Model': 'Starlet', 'Year': 1997, 'color': 'silver'}"
      ]
     },
     "execution_count": 33,
     "metadata": {},
     "output_type": "execute_result"
    }
   ],
   "source": [
    "car"
   ]
  },
  {
   "cell_type": "markdown",
   "id": "168b3a58",
   "metadata": {},
   "source": [
    "Another example would be the following:"
   ]
  },
  {
   "cell_type": "code",
   "execution_count": 34,
   "id": "c1eaaa1c",
   "metadata": {},
   "outputs": [],
   "source": [
    "words = ['apple', 'spam', 'eggs', 'aubergine', 'spinach']"
   ]
  },
  {
   "cell_type": "code",
   "execution_count": 35,
   "id": "45bf532d",
   "metadata": {},
   "outputs": [],
   "source": [
    "by_letter = {}"
   ]
  },
  {
   "cell_type": "code",
   "execution_count": 36,
   "id": "69f2f1d1",
   "metadata": {},
   "outputs": [],
   "source": [
    "for word in words:\n",
    "    letter = word[0]\n",
    "    group = by_letter.setdefault(letter, [])\n",
    "    group.append(word)"
   ]
  },
  {
   "cell_type": "code",
   "execution_count": 37,
   "id": "4d4dfe32",
   "metadata": {},
   "outputs": [
    {
     "data": {
      "text/plain": [
       "{'a': ['apple', 'aubergine'], 's': ['spam', 'spinach'], 'e': ['eggs']}"
      ]
     },
     "execution_count": 37,
     "metadata": {},
     "output_type": "execute_result"
    }
   ],
   "source": [
    "by_letter"
   ]
  },
  {
   "cell_type": "markdown",
   "id": "9ad6b23e",
   "metadata": {},
   "source": [
    "The above code block is doing the job of the following code block in fewer lines:"
   ]
  },
  {
   "cell_type": "code",
   "execution_count": 38,
   "id": "81b82a62",
   "metadata": {},
   "outputs": [],
   "source": [
    "words_by_letter = {}"
   ]
  },
  {
   "cell_type": "code",
   "execution_count": 39,
   "id": "a16cb5e3",
   "metadata": {},
   "outputs": [],
   "source": [
    "for word in words:\n",
    "    letter = word[0]\n",
    "    if letter not in words_by_letter:\n",
    "        words_by_letter[letter] = [word]\n",
    "    else:\n",
    "        words_by_letter[letter].append(word)"
   ]
  },
  {
   "cell_type": "code",
   "execution_count": 40,
   "id": "b33566d2",
   "metadata": {
    "scrolled": true
   },
   "outputs": [
    {
     "data": {
      "text/plain": [
       "{'a': ['apple', 'aubergine'], 's': ['spam', 'spinach'], 'e': ['eggs']}"
      ]
     },
     "execution_count": 40,
     "metadata": {},
     "output_type": "execute_result"
    }
   ],
   "source": [
    "words_by_letter"
   ]
  },
  {
   "cell_type": "markdown",
   "id": "d03ca8c9",
   "metadata": {},
   "source": [
    "Lets add more words to our dict:"
   ]
  },
  {
   "cell_type": "code",
   "execution_count": 41,
   "id": "86db4d06",
   "metadata": {},
   "outputs": [],
   "source": [
    "more_words = ['apple sauce', 'sour cream', 'mushroom']"
   ]
  },
  {
   "cell_type": "code",
   "execution_count": 42,
   "id": "472203ef",
   "metadata": {},
   "outputs": [],
   "source": [
    "for word in more_words:\n",
    "    letter = word[0]\n",
    "    group = by_letter.setdefault(letter, [])\n",
    "    group.append(word)"
   ]
  },
  {
   "cell_type": "code",
   "execution_count": 43,
   "id": "5cbfa41a",
   "metadata": {},
   "outputs": [
    {
     "data": {
      "text/plain": [
       "{'a': ['apple', 'aubergine', 'apple sauce'],\n",
       " 's': ['spam', 'spinach', 'sour cream'],\n",
       " 'e': ['eggs'],\n",
       " 'm': ['mushroom']}"
      ]
     },
     "execution_count": 43,
     "metadata": {},
     "output_type": "execute_result"
    }
   ],
   "source": [
    "by_letter"
   ]
  },
  {
   "cell_type": "markdown",
   "id": "dc884d80",
   "metadata": {},
   "source": [
    "## `defaultdict`\n",
    "\n",
    "The same results can be achieved using `defaultdict`"
   ]
  },
  {
   "cell_type": "code",
   "execution_count": 44,
   "id": "f6fb0235",
   "metadata": {},
   "outputs": [],
   "source": [
    "from collections import defaultdict"
   ]
  },
  {
   "cell_type": "code",
   "execution_count": 45,
   "id": "df0a8ba0",
   "metadata": {},
   "outputs": [],
   "source": [
    "words_by_letter_dict = defaultdict(list)  # list is passed as a `factory`. this creates an empty list."
   ]
  },
  {
   "cell_type": "code",
   "execution_count": 46,
   "id": "80e3cb42",
   "metadata": {},
   "outputs": [],
   "source": [
    "for word in words:\n",
    "    group = words_by_letter_dict[word[0]]\n",
    "    group.append(word)"
   ]
  },
  {
   "cell_type": "code",
   "execution_count": 47,
   "id": "1ef0c109",
   "metadata": {
    "scrolled": false
   },
   "outputs": [
    {
     "data": {
      "text/plain": [
       "defaultdict(list,\n",
       "            {'a': ['apple', 'aubergine'],\n",
       "             's': ['spam', 'spinach'],\n",
       "             'e': ['eggs']})"
      ]
     },
     "execution_count": 47,
     "metadata": {},
     "output_type": "execute_result"
    }
   ],
   "source": [
    "words_by_letter_dict"
   ]
  },
  {
   "cell_type": "markdown",
   "id": "d8c9fac6",
   "metadata": {},
   "source": [
    "Adding more words:"
   ]
  },
  {
   "cell_type": "code",
   "execution_count": 48,
   "id": "4c86fcef",
   "metadata": {},
   "outputs": [],
   "source": [
    "for word in more_words:\n",
    "    group = words_by_letter_dict[word[0]]\n",
    "    group.append(word)"
   ]
  },
  {
   "cell_type": "code",
   "execution_count": 49,
   "id": "cce3e562",
   "metadata": {},
   "outputs": [
    {
     "data": {
      "text/plain": [
       "defaultdict(list,\n",
       "            {'a': ['apple', 'aubergine', 'apple sauce'],\n",
       "             's': ['spam', 'spinach', 'sour cream'],\n",
       "             'e': ['eggs'],\n",
       "             'm': ['mushroom']})"
      ]
     },
     "execution_count": 49,
     "metadata": {},
     "output_type": "execute_result"
    }
   ],
   "source": [
    "words_by_letter_dict"
   ]
  },
  {
   "cell_type": "markdown",
   "id": "fdb63fc8",
   "metadata": {},
   "source": [
    "More examples:"
   ]
  },
  {
   "cell_type": "code",
   "execution_count": 50,
   "id": "bdc4ac77",
   "metadata": {},
   "outputs": [],
   "source": [
    "example_dict = defaultdict(lambda : \"No such key exists.\")"
   ]
  },
  {
   "cell_type": "markdown",
   "id": "43215945",
   "metadata": {},
   "source": [
    "[Click here for lambda functions](/notebooks/3.%20Functions_/functions_lambda_functions.ipynb)"
   ]
  },
  {
   "cell_type": "code",
   "execution_count": 51,
   "id": "e30667b5",
   "metadata": {},
   "outputs": [
    {
     "data": {
      "text/plain": [
       "'No such key exists.'"
      ]
     },
     "execution_count": 51,
     "metadata": {},
     "output_type": "execute_result"
    }
   ],
   "source": [
    "example_dict[0]"
   ]
  },
  {
   "cell_type": "code",
   "execution_count": 52,
   "id": "52cab3ee",
   "metadata": {},
   "outputs": [],
   "source": [
    "example_dict.update({'example': 'example one'}) "
   ]
  },
  {
   "cell_type": "code",
   "execution_count": 53,
   "id": "2d3a8944",
   "metadata": {
    "scrolled": true
   },
   "outputs": [
    {
     "data": {
      "text/plain": [
       "defaultdict(<function __main__.<lambda>()>,\n",
       "            {0: 'No such key exists.', 'example': 'example one'})"
      ]
     },
     "execution_count": 53,
     "metadata": {},
     "output_type": "execute_result"
    }
   ],
   "source": [
    "example_dict"
   ]
  },
  {
   "cell_type": "code",
   "execution_count": 54,
   "id": "6a0f54d0",
   "metadata": {},
   "outputs": [
    {
     "data": {
      "text/plain": [
       "'No such key exists.'"
      ]
     },
     "execution_count": 54,
     "metadata": {},
     "output_type": "execute_result"
    }
   ],
   "source": [
    "example_dict[0]"
   ]
  },
  {
   "cell_type": "code",
   "execution_count": 55,
   "id": "4232fb6c",
   "metadata": {},
   "outputs": [
    {
     "data": {
      "text/plain": [
       "'example one'"
      ]
     },
     "execution_count": 55,
     "metadata": {},
     "output_type": "execute_result"
    }
   ],
   "source": [
    "example_dict[\"example\"]"
   ]
  }
 ],
 "metadata": {
  "kernelspec": {
   "display_name": "Python 3 (ipykernel)",
   "language": "python",
   "name": "python3"
  },
  "language_info": {
   "codemirror_mode": {
    "name": "ipython",
    "version": 3
   },
   "file_extension": ".py",
   "mimetype": "text/x-python",
   "name": "python",
   "nbconvert_exporter": "python",
   "pygments_lexer": "ipython3",
   "version": "3.10.1"
  }
 },
 "nbformat": 4,
 "nbformat_minor": 5
}
