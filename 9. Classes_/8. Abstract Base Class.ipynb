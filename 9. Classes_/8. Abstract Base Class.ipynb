{
 "cells": [
  {
   "cell_type": "markdown",
   "id": "656126c6",
   "metadata": {},
   "source": [
    "# Setting up the example"
   ]
  },
  {
   "cell_type": "markdown",
   "id": "ae0d5e29",
   "metadata": {},
   "source": [
    "Before diving into the concept of abstract base class, let us first create a situation where we could benefit from it. \n",
    "\n",
    "Imagine we want to read some information coming from a either a network or a file. The action of reading information from a network or a file are common for both, but the way it is going to be read from each source is going to be different since reading data from a file is different from reading data from a network.\n",
    "\n",
    "We start by creating a base class called `Stream` with the common functionalities of a network or a file. Both can be opened and closed."
   ]
  },
  {
   "cell_type": "code",
   "execution_count": 10,
   "id": "e7a67950",
   "metadata": {},
   "outputs": [],
   "source": [
    "class Stream:\n",
    "        \n",
    "    def open(self):\n",
    "        pass\n",
    "        \n",
    "    def close(self):\n",
    "        pass"
   ]
  },
  {
   "cell_type": "markdown",
   "id": "ab1fb204",
   "metadata": {},
   "source": [
    "Note that a stream (a file or a network) could already be open. Trying to open an already opened stream should be an invalid operation. The same goes for an already closed stream. We will create a custom `exception` for this situtation:"
   ]
  },
  {
   "cell_type": "code",
   "execution_count": 11,
   "id": "1591e6c7",
   "metadata": {},
   "outputs": [],
   "source": [
    "class InvalidOperationError(Exception):\n",
    "    pass"
   ]
  },
  {
   "cell_type": "markdown",
   "id": "3becb6c0",
   "metadata": {},
   "source": [
    "In the above statement, we are inheriting from Python's base class `Exception` thereby inherting the basic behaviours of an exception in our `InvalidOperationError` exception. \n",
    "\n",
    "By convention all exceptions must have the suffix *Error* with the name."
   ]
  },
  {
   "cell_type": "markdown",
   "id": "1599e153",
   "metadata": {},
   "source": [
    "Now lets redefine the `Stream` class."
   ]
  },
  {
   "cell_type": "code",
   "execution_count": 18,
   "id": "70b575cc",
   "metadata": {},
   "outputs": [],
   "source": [
    "class Stream:\n",
    "    \n",
    "    def __init__(self):\n",
    "        self.opened = False # When instantiating a `Stream` object, we are defining that the stream is closed. \n",
    "        \n",
    "    def open(self):\n",
    "        if self.opened:\n",
    "            raise InvalidOperationError(\"This stream is already open.\")\n",
    "        else:\n",
    "            self.opened = True\n",
    "            print(\"Stream opened.\")\n",
    "            \n",
    "    def close(self):\n",
    "        if not self.opened:\n",
    "            raise InvalidOperationError(\"This stream is already closed.\")\n",
    "        else:\n",
    "            self.opened = False\n",
    "            print(\"Stream closed.\")"
   ]
  },
  {
   "cell_type": "markdown",
   "id": "d33cd7d8",
   "metadata": {},
   "source": [
    "Now that we have our base class with the common behaviours of a stream ready, let's start inherting them in `FileStream` and `NetworkStream`."
   ]
  },
  {
   "cell_type": "code",
   "execution_count": 19,
   "id": "827b9b7b",
   "metadata": {},
   "outputs": [],
   "source": [
    "class FileStream(Stream):\n",
    "    \n",
    "    def read(self):\n",
    "        print(\"Reading from a file.\")\n",
    "\n",
    "        \n",
    "        \n",
    "class NetworkStream(Stream):\n",
    "    \n",
    "    def read(self):\n",
    "        print(\"Reading from a network.\")"
   ]
  },
  {
   "cell_type": "code",
   "execution_count": 20,
   "id": "b8d96406",
   "metadata": {},
   "outputs": [
    {
     "name": "stdout",
     "output_type": "stream",
     "text": [
      "Stream opened.\n"
     ]
    }
   ],
   "source": [
    "stream = Stream()\n",
    "stream.open()"
   ]
  },
  {
   "cell_type": "code",
   "execution_count": 25,
   "id": "6e28f5e1",
   "metadata": {},
   "outputs": [
    {
     "name": "stdout",
     "output_type": "stream",
     "text": [
      "Reading from a file.\n"
     ]
    }
   ],
   "source": [
    "file = FileStream()\n",
    "file.read()"
   ]
  },
  {
   "cell_type": "markdown",
   "id": "7213e4b6",
   "metadata": {},
   "source": [
    "# Basics\n",
    "\n",
    "The above is a good example of how to use inhertances. However, there two issues. \n",
    "\n",
    "According to the above implementation, it is possible to create a `Stream` object and call the `open` and `close` method on them but what is a stream? What are we opening? What are we closing?\n",
    "\n",
    "Furthermore, if we are to some time down the line introduce another kind of streaming object like a network and file, we must remember to include the `read` method there for the sake of consistency - _the new method in the new class could end up being called `read_lines`!_\n",
    "\n",
    "At this moment, there is no common interface to enforce across different kinds of streams. To solve/avoid situations like this, we use **abstract base class.**"
   ]
  },
  {
   "cell_type": "markdown",
   "id": "1c55da44",
   "metadata": {},
   "source": [
    "An **abstract base class** is a *half-baked* class that contains common code for its derivatives. Lets make the `Stream` class an abstract base class."
   ]
  },
  {
   "cell_type": "code",
   "execution_count": null,
   "id": "99ecf71d",
   "metadata": {},
   "outputs": [],
   "source": []
  }
 ],
 "metadata": {
  "kernelspec": {
   "display_name": "Python 3 (ipykernel)",
   "language": "python",
   "name": "python3"
  },
  "language_info": {
   "codemirror_mode": {
    "name": "ipython",
    "version": 3
   },
   "file_extension": ".py",
   "mimetype": "text/x-python",
   "name": "python",
   "nbconvert_exporter": "python",
   "pygments_lexer": "ipython3",
   "version": "3.10.1"
  }
 },
 "nbformat": 4,
 "nbformat_minor": 5
}
