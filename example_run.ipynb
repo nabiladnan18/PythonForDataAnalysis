{
 "cells": [
  {
   "cell_type": "code",
   "execution_count": 3,
   "id": "67962203",
   "metadata": {},
   "outputs": [],
   "source": [
    "import numpy as np"
   ]
  },
  {
   "cell_type": "code",
   "execution_count": 5,
   "id": "f77b9486",
   "metadata": {},
   "outputs": [],
   "source": [
    "def add_two_nums(a, b):\n",
    "    \"\"\"\n",
    "    Adds three numbers and returns its value.\n",
    "    \n",
    "    Args\n",
    "    -----\n",
    "    a (int): Number one.\n",
    "    b (int): Number two.\n",
    "    \n",
    "    Returns\n",
    "    -------\n",
    "    type: float\n",
    "    \n",
    "    \"\"\"\n",
    "    c = np.random.randn()\n",
    "    \n",
    "    return a + b + c"
   ]
  },
  {
   "cell_type": "code",
   "execution_count": 6,
   "id": "170b144f",
   "metadata": {},
   "outputs": [],
   "source": [
    "x = add_two_nums(1, 2)"
   ]
  }
 ],
 "metadata": {
  "kernelspec": {
   "display_name": "Python 3 (ipykernel)",
   "language": "python",
   "name": "python3"
  },
  "language_info": {
   "codemirror_mode": {
    "name": "ipython",
    "version": 3
   },
   "file_extension": ".py",
   "mimetype": "text/x-python",
   "name": "python",
   "nbconvert_exporter": "python",
   "pygments_lexer": "ipython3",
   "version": "3.10.1"
  }
 },
 "nbformat": 4,
 "nbformat_minor": 5
}
