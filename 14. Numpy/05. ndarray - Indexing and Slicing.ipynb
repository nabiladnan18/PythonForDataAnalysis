{
 "cells": [
  {
   "cell_type": "markdown",
   "id": "c98fdac5",
   "metadata": {},
   "source": [
    "# Basics\n",
    "\n",
    "The syntax for slicing arrays in NumPy is similar to that of the built-in lists. However, these work very differently. For instance:\n",
    "\n",
    "* NumPy slices are simply **views** of the original array. This means that the data is not copied. Any changes you make to the view will be reflected in the original array. This is called **broadcasting**.\n",
    "* You can assign both a scalar value and an iterable to a NumPy array, whereas only iterables can be assigned to Python lists.\n",
    "\n",
    "\n",
    "## One-dimensional arrays"
   ]
  },
  {
   "cell_type": "code",
   "execution_count": 1,
   "id": "68fc9fda",
   "metadata": {},
   "outputs": [],
   "source": [
    "import numpy as np"
   ]
  },
  {
   "cell_type": "code",
   "execution_count": 2,
   "id": "a2121f18",
   "metadata": {},
   "outputs": [
    {
     "data": {
      "text/plain": [
       "array([0, 1, 2, 3, 4, 5, 6, 7, 8, 9])"
      ]
     },
     "execution_count": 2,
     "metadata": {},
     "output_type": "execute_result"
    }
   ],
   "source": [
    "arr = np.arange(10)\n",
    "arr"
   ]
  },
  {
   "cell_type": "code",
   "execution_count": 3,
   "id": "741b34f7",
   "metadata": {},
   "outputs": [
    {
     "data": {
      "text/plain": [
       "3"
      ]
     },
     "execution_count": 3,
     "metadata": {},
     "output_type": "execute_result"
    }
   ],
   "source": [
    "arr[3]"
   ]
  },
  {
   "cell_type": "code",
   "execution_count": 4,
   "id": "b3400ca9",
   "metadata": {},
   "outputs": [
    {
     "data": {
      "text/plain": [
       "array([3, 4, 5])"
      ]
     },
     "execution_count": 4,
     "metadata": {},
     "output_type": "execute_result"
    }
   ],
   "source": [
    "arr[3:6]"
   ]
  },
  {
   "cell_type": "markdown",
   "id": "93747465",
   "metadata": {},
   "source": [
    "Lets apply an *iterable* to the slice above.\n",
    "\n",
    "*Note: The shape of the iterable being added e.g. the input array **must** be of the same shape as the slice!*"
   ]
  },
  {
   "cell_type": "code",
   "execution_count": 5,
   "id": "7eab5cf8",
   "metadata": {
    "scrolled": true
   },
   "outputs": [],
   "source": [
    "arr[3:6] = [15, 16, 17]"
   ]
  },
  {
   "cell_type": "code",
   "execution_count": 6,
   "id": "3a2d72be",
   "metadata": {},
   "outputs": [
    {
     "data": {
      "text/plain": [
       "array([ 0,  1,  2, 15, 16, 17,  6,  7,  8,  9])"
      ]
     },
     "execution_count": 6,
     "metadata": {},
     "output_type": "execute_result"
    }
   ],
   "source": [
    "arr"
   ]
  },
  {
   "cell_type": "markdown",
   "id": "e3c12110",
   "metadata": {},
   "source": [
    "See how the third, fourth and fifth index changes their values. Lets overwrite them with a scalar value using array slicing."
   ]
  },
  {
   "cell_type": "code",
   "execution_count": 7,
   "id": "32fd6f28",
   "metadata": {},
   "outputs": [],
   "source": [
    "arr[3:6] = 20"
   ]
  },
  {
   "cell_type": "code",
   "execution_count": 8,
   "id": "7dc7998a",
   "metadata": {},
   "outputs": [
    {
     "data": {
      "text/plain": [
       "array([ 0,  1,  2, 20, 20, 20,  6,  7,  8,  9])"
      ]
     },
     "execution_count": 8,
     "metadata": {},
     "output_type": "execute_result"
    }
   ],
   "source": [
    "arr"
   ]
  },
  {
   "cell_type": "markdown",
   "id": "4d4c2874",
   "metadata": {},
   "source": [
    "This operation is not possible in built-in lists!\n",
    "\n",
    "    py_list = list(range(10))\n",
    "    py_list[3:6] = 20\n",
    "    \n",
    "The code block above will raise the folloing error: `TypeError: can only assign an iterable`"
   ]
  },
  {
   "cell_type": "markdown",
   "id": "6f556520",
   "metadata": {},
   "source": [
    "Following the example above, if we do a full slice and assign a new value, the whole array will change:"
   ]
  },
  {
   "cell_type": "code",
   "execution_count": 9,
   "id": "5455ea8c",
   "metadata": {},
   "outputs": [],
   "source": [
    "arr[:] = 20"
   ]
  },
  {
   "cell_type": "code",
   "execution_count": 10,
   "id": "1f8156ec",
   "metadata": {},
   "outputs": [
    {
     "data": {
      "text/plain": [
       "array([20, 20, 20, 20, 20, 20, 20, 20, 20, 20])"
      ]
     },
     "execution_count": 10,
     "metadata": {},
     "output_type": "execute_result"
    }
   ],
   "source": [
    "arr"
   ]
  },
  {
   "cell_type": "markdown",
   "id": "062cb527",
   "metadata": {},
   "source": [
    "### Copying an array using `copy` method\n",
    "\n",
    "By using the `copy` method, we can copy the view into another array object and make modifications there while keeping the source array intact. Here, we will copy `arr` entirely into a new array object and change certain values. We can see at the end that `arr` still remains intact."
   ]
  },
  {
   "cell_type": "code",
   "execution_count": 11,
   "id": "db7b3212",
   "metadata": {},
   "outputs": [],
   "source": [
    "arr2 = arr[:].copy()"
   ]
  },
  {
   "cell_type": "code",
   "execution_count": 12,
   "id": "6a1b1553",
   "metadata": {},
   "outputs": [],
   "source": [
    "arr2[3:6] = 15"
   ]
  },
  {
   "cell_type": "code",
   "execution_count": 13,
   "id": "7cd8932d",
   "metadata": {},
   "outputs": [
    {
     "data": {
      "text/plain": [
       "array([20, 20, 20, 15, 15, 15, 20, 20, 20, 20])"
      ]
     },
     "execution_count": 13,
     "metadata": {},
     "output_type": "execute_result"
    }
   ],
   "source": [
    "arr2"
   ]
  },
  {
   "cell_type": "code",
   "execution_count": 14,
   "id": "1b2a3114",
   "metadata": {},
   "outputs": [
    {
     "data": {
      "text/plain": [
       "array([20, 20, 20, 20, 20, 20, 20, 20, 20, 20])"
      ]
     },
     "execution_count": 14,
     "metadata": {},
     "output_type": "execute_result"
    }
   ],
   "source": [
    "arr"
   ]
  },
  {
   "cell_type": "markdown",
   "id": "d7a01400",
   "metadata": {},
   "source": [
    "## Multi-dimensional arrays\n",
    "\n",
    "### Two-dimensional arrays\n",
    "\n",
    "#### What is a two-dimensional array?\n",
    "\n",
    "In a two-dimensional array, the elements at each index are no longer scalars but rather one-dimensional arrays. You can imagine this as being an array within an array."
   ]
  },
  {
   "cell_type": "code",
   "execution_count": 15,
   "id": "01c9e7af",
   "metadata": {},
   "outputs": [],
   "source": [
    "arr_2d = np.array([[1, 2, 3], [4, 5, 6], [7, 8, 9]])"
   ]
  },
  {
   "cell_type": "code",
   "execution_count": 16,
   "id": "110db49d",
   "metadata": {},
   "outputs": [
    {
     "data": {
      "text/plain": [
       "array([4, 5, 6])"
      ]
     },
     "execution_count": 16,
     "metadata": {},
     "output_type": "execute_result"
    }
   ],
   "source": [
    "arr_2d[1]"
   ]
  },
  {
   "cell_type": "code",
   "execution_count": 17,
   "id": "d7a467b8",
   "metadata": {
    "scrolled": true
   },
   "outputs": [
    {
     "data": {
      "text/plain": [
       "array([[1, 2, 3],\n",
       "       [4, 5, 6]])"
      ]
     },
     "execution_count": 17,
     "metadata": {},
     "output_type": "execute_result"
    }
   ],
   "source": [
    "arr_2d[:2]"
   ]
  },
  {
   "cell_type": "markdown",
   "id": "85294fae",
   "metadata": {},
   "source": [
    "#### Indexing 2D arrays\n",
    "\n",
    "We can access individual arrays e.g. the one-dimensional arrays by simply using the following syntax:\n",
    "\n",
    "    array[index]\n",
    "\n",
    "Here is an example:"
   ]
  },
  {
   "cell_type": "code",
   "execution_count": 18,
   "id": "5758f512",
   "metadata": {},
   "outputs": [
    {
     "data": {
      "text/plain": [
       "array([4, 5, 6])"
      ]
     },
     "execution_count": 18,
     "metadata": {},
     "output_type": "execute_result"
    }
   ],
   "source": [
    "arr_2d[1]"
   ]
  },
  {
   "cell_type": "markdown",
   "id": "86a12b08",
   "metadata": {},
   "source": [
    "There are two ways of accessing individual elements inside this one-dimensional array:\n",
    "\n",
    "* Like we do usually in Python: `array[index][index]`\n",
    "\n",
    "OR\n",
    "\n",
    "* As comma separated values: `array[index, index]`"
   ]
  },
  {
   "cell_type": "code",
   "execution_count": 19,
   "id": "1c665fa1",
   "metadata": {},
   "outputs": [
    {
     "data": {
      "text/plain": [
       "6"
      ]
     },
     "execution_count": 19,
     "metadata": {},
     "output_type": "execute_result"
    }
   ],
   "source": [
    "arr_2d[1][2]"
   ]
  },
  {
   "cell_type": "code",
   "execution_count": 20,
   "id": "cd9eab87",
   "metadata": {},
   "outputs": [
    {
     "data": {
      "text/plain": [
       "6"
      ]
     },
     "execution_count": 20,
     "metadata": {},
     "output_type": "execute_result"
    }
   ],
   "source": [
    "arr_2d[1, 2]"
   ]
  },
  {
   "attachments": {
    "image.png": {
     "image/png": "[encoded data removed]"
    }
   },
   "cell_type": "markdown",
   "id": "e95f437e",
   "metadata": {},
   "source": [
    "Check out this image below. It shows you an easy way to refer to a two-dimensional indexing. Try to imagine this as a plane in the Cartesian Coordinate System with the rows being the x-axis (axis 0) and the columns being the y-axis (axis 1).\n",
    "\n",
    "![image.png](attachment:image.png)"
   ]
  },
  {
   "cell_type": "markdown",
   "id": "411c2c3f",
   "metadata": {},
   "source": [
    "Note that at the [beginning of this section](#Indexing-2D-arrays) we accessed the entirity of a row e.g. a 1D array. We did so by not providing another level of indexing. \n",
    "\n",
    "In multi-dimensional arrays, if we do not provide further indices, we get an ndarray of the lowest dimension. Here, since we indexed once, we get a 1D array. [This can be seen better in 3D arrays](#Indexing-3D-arrays)."
   ]
  },
  {
   "cell_type": "markdown",
   "id": "cb039c6b",
   "metadata": {},
   "source": [
    "### Three-dimensional arrays\n",
    "\n",
    "#### What is a three-dimensional array?\n",
    "\n",
    "A three-dimensional array is where there are `x` number of arrays, within which there are `y` number of arrays containing `z` number of elements. Therefore, the shape of a 3D array is *x-by-y-by-z*."
   ]
  },
  {
   "cell_type": "code",
   "execution_count": 47,
   "id": "fc904308",
   "metadata": {},
   "outputs": [],
   "source": [
    "array_3d = np.array([\n",
    "    [\n",
    "        [1, 2, 3],\n",
    "        [4, 5, 6]\n",
    "    ],\n",
    "    [\n",
    "        [7, 8, 9],\n",
    "        [10, 11, 12],\n",
    "    ],\n",
    "    [\n",
    "        [13, 14, 15],\n",
    "        [16 ,17, 18],\n",
    "    ]\n",
    "])"
   ]
  },
  {
   "cell_type": "markdown",
   "id": "074cab1d",
   "metadata": {},
   "source": [
    "The array above is an example of a 3D array. This array has 3 arrays, each containing 2 arrays of 3 elements. By plugging in these numbers with the *x-by-y-by-z* example, we can say that this 3D array's shape is 3x2x3. \n",
    "\n",
    "Lets create the same 3D array with the help of `np.arange`:"
   ]
  },
  {
   "cell_type": "code",
   "execution_count": 22,
   "id": "ce469a39",
   "metadata": {},
   "outputs": [],
   "source": [
    "array_3d = np.arange(1, 19)"
   ]
  },
  {
   "cell_type": "code",
   "execution_count": 23,
   "id": "e72fefc8",
   "metadata": {},
   "outputs": [
    {
     "data": {
      "text/plain": [
       "array([ 1,  2,  3,  4,  5,  6,  7,  8,  9, 10, 11, 12, 13, 14, 15, 16, 17,\n",
       "       18])"
      ]
     },
     "execution_count": 23,
     "metadata": {},
     "output_type": "execute_result"
    }
   ],
   "source": [
    "array_3d"
   ]
  },
  {
   "cell_type": "code",
   "execution_count": 24,
   "id": "bbb1626d",
   "metadata": {},
   "outputs": [],
   "source": [
    "array_3d = array_3d.reshape(3, 2, 3)"
   ]
  },
  {
   "cell_type": "code",
   "execution_count": 25,
   "id": "c5ecba2e",
   "metadata": {},
   "outputs": [
    {
     "data": {
      "text/plain": [
       "array([[[ 1,  2,  3],\n",
       "        [ 4,  5,  6]],\n",
       "\n",
       "       [[ 7,  8,  9],\n",
       "        [10, 11, 12]],\n",
       "\n",
       "       [[13, 14, 15],\n",
       "        [16, 17, 18]]])"
      ]
     },
     "execution_count": 25,
     "metadata": {},
     "output_type": "execute_result"
    }
   ],
   "source": [
    "array_3d"
   ]
  },
  {
   "cell_type": "markdown",
   "id": "0a39bf0a",
   "metadata": {},
   "source": [
    "#### Indexing 3D arrays"
   ]
  },
  {
   "cell_type": "markdown",
   "id": "c761b005",
   "metadata": {},
   "source": [
    "If we do not provide further indices on 3D arrays, we will get a 2D array with the shape 2x3:"
   ]
  },
  {
   "cell_type": "code",
   "execution_count": 32,
   "id": "1b3ae7b7",
   "metadata": {},
   "outputs": [
    {
     "data": {
      "text/plain": [
       "array([[ 7,  8,  9],\n",
       "       [10, 11, 12]])"
      ]
     },
     "execution_count": 32,
     "metadata": {},
     "output_type": "execute_result"
    }
   ],
   "source": [
    "array_3d[1]"
   ]
  },
  {
   "cell_type": "markdown",
   "id": "b0c1b822",
   "metadata": {},
   "source": [
    "If we now provide one more index, we get a 1D array with the shape 1x3:"
   ]
  },
  {
   "cell_type": "code",
   "execution_count": 35,
   "id": "b1ccdae3",
   "metadata": {},
   "outputs": [
    {
     "data": {
      "text/plain": [
       "array([7, 8, 9])"
      ]
     },
     "execution_count": 35,
     "metadata": {},
     "output_type": "execute_result"
    }
   ],
   "source": [
    "array_3d[1, 0] # OR array_3d[1][0]"
   ]
  },
  {
   "cell_type": "markdown",
   "id": "d8174b96",
   "metadata": {},
   "source": [
    "If we want to access an individual element e.g. `8` we add a further index and get the required scalar value:"
   ]
  },
  {
   "cell_type": "code",
   "execution_count": 27,
   "id": "e0316fa4",
   "metadata": {},
   "outputs": [
    {
     "data": {
      "text/plain": [
       "8"
      ]
     },
     "execution_count": 27,
     "metadata": {},
     "output_type": "execute_result"
    }
   ],
   "source": [
    "array_3d[1, 0, 1]"
   ]
  },
  {
   "cell_type": "markdown",
   "id": "6c749e0a",
   "metadata": {},
   "source": [
    "### Assigning scalar values and arrays\n",
    "\n",
    "Scalar values can be assigned to all elements in any dimensions. We will use the 3D array `array_3d` for to do that. \n",
    "\n",
    "Let us first copy the values of 2x3 array in the first index. After that, we will define all elements inside this array to `2`. "
   ]
  },
  {
   "cell_type": "code",
   "execution_count": 50,
   "id": "dd41febf",
   "metadata": {},
   "outputs": [],
   "source": [
    "old_values = array_3d[1].copy()"
   ]
  },
  {
   "cell_type": "code",
   "execution_count": 51,
   "id": "4ab775c0",
   "metadata": {},
   "outputs": [
    {
     "data": {
      "text/plain": [
       "array([[ 7,  8,  9],\n",
       "       [10, 11, 12]])"
      ]
     },
     "execution_count": 51,
     "metadata": {},
     "output_type": "execute_result"
    }
   ],
   "source": [
    "old_values"
   ]
  },
  {
   "cell_type": "code",
   "execution_count": 52,
   "id": "519fa04d",
   "metadata": {},
   "outputs": [
    {
     "data": {
      "text/plain": [
       "array([[[ 1,  2,  3],\n",
       "        [ 4,  5,  6]],\n",
       "\n",
       "       [[ 2,  2,  2],\n",
       "        [ 2,  2,  2]],\n",
       "\n",
       "       [[13, 14, 15],\n",
       "        [16, 17, 18]]])"
      ]
     },
     "execution_count": 52,
     "metadata": {},
     "output_type": "execute_result"
    }
   ],
   "source": [
    "array_3d[1] = 2\n",
    "array_3d"
   ]
  },
  {
   "cell_type": "markdown",
   "id": "6d96de30",
   "metadata": {},
   "source": [
    "Now lets change one of those 2s into a 10:"
   ]
  },
  {
   "cell_type": "code",
   "execution_count": 53,
   "id": "77a5f70f",
   "metadata": {},
   "outputs": [
    {
     "data": {
      "text/plain": [
       "array([[[ 1,  2,  3],\n",
       "        [ 4,  5,  6]],\n",
       "\n",
       "       [[ 2,  2, 10],\n",
       "        [ 2,  2,  2]],\n",
       "\n",
       "       [[13, 14, 15],\n",
       "        [16, 17, 18]]])"
      ]
     },
     "execution_count": 53,
     "metadata": {},
     "output_type": "execute_result"
    }
   ],
   "source": [
    "array_3d[1, 0, 2] = 10\n",
    "array_3d"
   ]
  },
  {
   "cell_type": "markdown",
   "id": "fa5cef39",
   "metadata": {},
   "source": [
    "Now, lets revert the state of `array_3d`. We will now assign the 2x3 ndarray `old_values` to the similarly shaped array in the first index of `array_3d`:"
   ]
  },
  {
   "cell_type": "code",
   "execution_count": 54,
   "id": "e9caafde",
   "metadata": {},
   "outputs": [],
   "source": [
    "array_3d[1] = old_values"
   ]
  },
  {
   "cell_type": "code",
   "execution_count": 55,
   "id": "1079862f",
   "metadata": {},
   "outputs": [
    {
     "data": {
      "text/plain": [
       "array([[[ 1,  2,  3],\n",
       "        [ 4,  5,  6]],\n",
       "\n",
       "       [[ 7,  8,  9],\n",
       "        [10, 11, 12]],\n",
       "\n",
       "       [[13, 14, 15],\n",
       "        [16, 17, 18]]])"
      ]
     },
     "execution_count": 55,
     "metadata": {},
     "output_type": "execute_result"
    }
   ],
   "source": [
    "array_3d"
   ]
  },
  {
   "cell_type": "markdown",
   "id": "480ce357",
   "metadata": {},
   "source": [
    "Why did we *copy* the value of the first index of `array_3d` into `old_values` by using the `copy` method? It is because indexes and slices are views into those arrays! Otherwise, if we modified `old_values`, `array_3d` would have been modified too!\n",
    "\n",
    "Two points here:\n",
    "* the copy could have been done via slicing, which we will look into in the following section\n",
    "* lets change the value of `old_values` and see if it affects `array_3d`"
   ]
  },
  {
   "cell_type": "code",
   "execution_count": 59,
   "id": "c5edf3f0",
   "metadata": {},
   "outputs": [
    {
     "data": {
      "text/plain": [
       "array([[ 0,  0,  0],\n",
       "       [10, 11, 12]])"
      ]
     },
     "execution_count": 59,
     "metadata": {},
     "output_type": "execute_result"
    }
   ],
   "source": [
    "old_values[0] = 0\n",
    "old_values"
   ]
  },
  {
   "cell_type": "code",
   "execution_count": 60,
   "id": "b3e8ab2f",
   "metadata": {},
   "outputs": [
    {
     "data": {
      "text/plain": [
       "array([[[ 1,  2,  3],\n",
       "        [ 4,  5,  6]],\n",
       "\n",
       "       [[ 7,  8,  9],\n",
       "        [10, 11, 12]],\n",
       "\n",
       "       [[13, 14, 15],\n",
       "        [16, 17, 18]]])"
      ]
     },
     "execution_count": 60,
     "metadata": {},
     "output_type": "execute_result"
    }
   ],
   "source": [
    "array_3d"
   ]
  },
  {
   "cell_type": "markdown",
   "id": "eefe82f9",
   "metadata": {},
   "source": [
    "### Slicing"
   ]
  },
  {
   "cell_type": "code",
   "execution_count": null,
   "id": "7cbd680d",
   "metadata": {},
   "outputs": [],
   "source": []
  }
 ],
 "metadata": {
  "kernelspec": {
   "display_name": "Python 3 (ipykernel)",
   "language": "python",
   "name": "python3"
  },
  "language_info": {
   "codemirror_mode": {
    "name": "ipython",
    "version": 3
   },
   "file_extension": ".py",
   "mimetype": "text/x-python",
   "name": "python",
   "nbconvert_exporter": "python",
   "pygments_lexer": "ipython3",
   "version": "3.10.1"
  }
 },
 "nbformat": 4,
 "nbformat_minor": 5
}
