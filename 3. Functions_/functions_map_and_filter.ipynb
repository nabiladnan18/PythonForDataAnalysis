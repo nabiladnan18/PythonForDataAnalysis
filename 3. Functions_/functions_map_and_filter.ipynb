{
 "cells": [
  {
   "cell_type": "markdown",
   "id": "6dde9604",
   "metadata": {},
   "source": [
    "# Map\n",
    "\n",
    "The `map` function takes a function and an arbitrary number of iterables and applies the function on the iterables and returns a map object."
   ]
  },
  {
   "cell_type": "code",
   "execution_count": 6,
   "id": "9dca4d63",
   "metadata": {},
   "outputs": [],
   "source": [
    "items = [\n",
    "    (\"Product 1\", 10.79),\n",
    "    (\"Product 2\", 9.99),\n",
    "    (\"Product 3\", 12.69)\n",
    "]"
   ]
  },
  {
   "cell_type": "code",
   "execution_count": 7,
   "id": "ed862011",
   "metadata": {},
   "outputs": [],
   "source": [
    "prices = map(lambda x: x[1], items)"
   ]
  },
  {
   "cell_type": "code",
   "execution_count": 8,
   "id": "20c81685",
   "metadata": {},
   "outputs": [
    {
     "data": {
      "text/plain": [
       "[10.79, 9.99, 12.69]"
      ]
     },
     "execution_count": 8,
     "metadata": {},
     "output_type": "execute_result"
    }
   ],
   "source": [
    "list(prices)"
   ]
  },
  {
   "cell_type": "code",
   "execution_count": 9,
   "id": "035db7dc",
   "metadata": {},
   "outputs": [],
   "source": [
    "products = list(map(lambda x: x[0], items))"
   ]
  },
  {
   "cell_type": "code",
   "execution_count": 10,
   "id": "d3572b78",
   "metadata": {},
   "outputs": [
    {
     "data": {
      "text/plain": [
       "['Product 1', 'Product 2', 'Product 3']"
      ]
     },
     "execution_count": 10,
     "metadata": {},
     "output_type": "execute_result"
    }
   ],
   "source": [
    "products"
   ]
  },
  {
   "cell_type": "markdown",
   "id": "7f899cf8",
   "metadata": {},
   "source": [
    "# Filter\n",
    "\n",
    "The `filter` function takes a function or `None` and an iterable and returns a `filter` object."
   ]
  },
  {
   "cell_type": "code",
   "execution_count": 11,
   "id": "3098c3d4",
   "metadata": {},
   "outputs": [],
   "source": [
    "products = filter(lambda item: item[1] >= 10, items)"
   ]
  },
  {
   "cell_type": "code",
   "execution_count": 12,
   "id": "c8981d43",
   "metadata": {},
   "outputs": [
    {
     "data": {
      "text/plain": [
       "[('Product 1', 10.79), ('Product 3', 12.69)]"
      ]
     },
     "execution_count": 12,
     "metadata": {},
     "output_type": "execute_result"
    }
   ],
   "source": [
    "list(products)"
   ]
  }
 ],
 "metadata": {
  "kernelspec": {
   "display_name": "Python 3 (ipykernel)",
   "language": "python",
   "name": "python3"
  },
  "language_info": {
   "codemirror_mode": {
    "name": "ipython",
    "version": 3
   },
   "file_extension": ".py",
   "mimetype": "text/x-python",
   "name": "python",
   "nbconvert_exporter": "python",
   "pygments_lexer": "ipython3",
   "version": "3.10.1"
  }
 },
 "nbformat": 4,
 "nbformat_minor": 5
}
