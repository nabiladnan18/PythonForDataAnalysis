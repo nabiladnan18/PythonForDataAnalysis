{
 "cells": [
  {
   "cell_type": "markdown",
   "id": "8952bb10",
   "metadata": {},
   "source": [
    "## Path\n",
    "\n",
    "The `Path` function from the `pathlib` module can be used to work with paths. More info here: https://docs.python.org/3/library/pathlib.html"
   ]
  },
  {
   "cell_type": "code",
   "execution_count": 1,
   "id": "5e297078",
   "metadata": {},
   "outputs": [],
   "source": [
    "from pathlib import Path"
   ]
  },
  {
   "cell_type": "code",
   "execution_count": 3,
   "id": "98e442b0",
   "metadata": {},
   "outputs": [
    {
     "data": {
      "text/plain": [
       "WindowsPath('C:/Program Files/Microsoft')"
      ]
     },
     "execution_count": 3,
     "metadata": {},
     "output_type": "execute_result"
    }
   ],
   "source": [
    "# specific path Windows\n",
    "Path(\"C:\\\\Program Files\\\\Microsoft\")"
   ]
  },
  {
   "cell_type": "code",
   "execution_count": 4,
   "id": "390fd70f",
   "metadata": {},
   "outputs": [
    {
     "data": {
      "text/plain": [
       "WindowsPath('/usr/local/bin')"
      ]
     },
     "execution_count": 4,
     "metadata": {},
     "output_type": "execute_result"
    }
   ],
   "source": [
    "# specific path Linux/Mac\n",
    "Path(\"/usr/local/bin\")"
   ]
  },
  {
   "cell_type": "markdown",
   "id": "de6e672e",
   "metadata": {},
   "source": [
    "Nowadays / can be used instead of \\ in powershell to define Windows path."
   ]
  },
  {
   "cell_type": "code",
   "execution_count": 5,
   "id": "8b92a37f",
   "metadata": {},
   "outputs": [
    {
     "data": {
      "text/plain": [
       "WindowsPath('C:/Program Files/Microsoft')"
      ]
     },
     "execution_count": 5,
     "metadata": {},
     "output_type": "execute_result"
    }
   ],
   "source": [
    "Path(\"C:/Program Files/Microsoft\")"
   ]
  },
  {
   "cell_type": "markdown",
   "id": "f36ddc88",
   "metadata": {},
   "source": [
    "#### Using raw text\n",
    "\n",
    "Double slashes can be avoided for less cluttery code by using a `raw text`. Inside a `raw text` the slash is just a slash - no, not the GNR guitarist or an escape character - it is just a slash."
   ]
  },
  {
   "cell_type": "code",
   "execution_count": 6,
   "id": "5067cdb2",
   "metadata": {},
   "outputs": [
    {
     "data": {
      "text/plain": [
       "WindowsPath('C:/Program Files/Microsoft')"
      ]
     },
     "execution_count": 6,
     "metadata": {},
     "output_type": "execute_result"
    }
   ],
   "source": [
    "Path(r\"C:\\Program Files\\Microsoft\")"
   ]
  },
  {
   "cell_type": "markdown",
   "id": "fd7aaf29",
   "metadata": {},
   "source": [
    "I prefer using `/` though. It is universal in all OS platforms and used in URLs."
   ]
  },
  {
   "cell_type": "markdown",
   "id": "5a4a6945",
   "metadata": {},
   "source": [
    "#### Current working directory of the file can be found using the following"
   ]
  },
  {
   "cell_type": "code",
   "execution_count": 11,
   "id": "82e61f6b",
   "metadata": {},
   "outputs": [
    {
     "data": {
      "text/plain": [
       "WindowsPath('.')"
      ]
     },
     "execution_count": 11,
     "metadata": {},
     "output_type": "execute_result"
    }
   ],
   "source": [
    "Path()"
   ]
  },
  {
   "cell_type": "markdown",
   "id": "44ad731d",
   "metadata": {},
   "source": [
    "#### This can be added with other paths or strings to make a path\n"
   ]
  },
  {
   "cell_type": "code",
   "execution_count": 33,
   "id": "9036ccb0",
   "metadata": {},
   "outputs": [
    {
     "data": {
      "text/plain": [
       "WindowsPath('this is a folder/just_a_file.ipynb')"
      ]
     },
     "execution_count": 33,
     "metadata": {},
     "output_type": "execute_result"
    }
   ],
   "source": [
    "Path() / \"this is a folder\" / \"just_a_file.ipynb\" "
   ]
  },
  {
   "cell_type": "markdown",
   "id": "b490afd0",
   "metadata": {},
   "source": [
    "#### Home directory of the machine\n"
   ]
  },
  {
   "cell_type": "code",
   "execution_count": 34,
   "id": "63fe9394",
   "metadata": {},
   "outputs": [
    {
     "data": {
      "text/plain": [
       "WindowsPath('C:/Users/nabil')"
      ]
     },
     "execution_count": 34,
     "metadata": {},
     "output_type": "execute_result"
    }
   ],
   "source": [
    "Path.home()"
   ]
  },
  {
   "cell_type": "markdown",
   "id": "20b6e54a",
   "metadata": {},
   "source": [
    "## Useful methods and properties"
   ]
  },
  {
   "cell_type": "code",
   "execution_count": 35,
   "id": "a84e67eb",
   "metadata": {},
   "outputs": [],
   "source": [
    "# The path object\n",
    "path = Path() / \"this is a folder\" / \"just_a_file.ipynb\" "
   ]
  },
  {
   "cell_type": "markdown",
   "id": "e545256b",
   "metadata": {},
   "source": [
    "#### Does it exist?"
   ]
  },
  {
   "cell_type": "code",
   "execution_count": 36,
   "id": "7aa7a7c7",
   "metadata": {},
   "outputs": [
    {
     "data": {
      "text/plain": [
       "True"
      ]
     },
     "execution_count": 36,
     "metadata": {},
     "output_type": "execute_result"
    }
   ],
   "source": [
    "path.exists()"
   ]
  },
  {
   "cell_type": "markdown",
   "id": "7022f4f3",
   "metadata": {},
   "source": [
    "#### Is it a file?"
   ]
  },
  {
   "cell_type": "code",
   "execution_count": 38,
   "id": "766d90f0",
   "metadata": {},
   "outputs": [
    {
     "data": {
      "text/plain": [
       "True"
      ]
     },
     "execution_count": 38,
     "metadata": {},
     "output_type": "execute_result"
    }
   ],
   "source": [
    "path.is_file()"
   ]
  },
  {
   "cell_type": "markdown",
   "id": "fc992fa3",
   "metadata": {},
   "source": [
    "#### Is it a directory?"
   ]
  },
  {
   "cell_type": "code",
   "execution_count": 39,
   "id": "5c41278e",
   "metadata": {},
   "outputs": [
    {
     "data": {
      "text/plain": [
       "False"
      ]
     },
     "execution_count": 39,
     "metadata": {},
     "output_type": "execute_result"
    }
   ],
   "source": [
    "path.is_dir()"
   ]
  },
  {
   "cell_type": "markdown",
   "id": "a4ae4438",
   "metadata": {},
   "source": [
    "#### What is the filename?"
   ]
  },
  {
   "cell_type": "code",
   "execution_count": 40,
   "id": "ddb9c9fd",
   "metadata": {},
   "outputs": [
    {
     "name": "stdout",
     "output_type": "stream",
     "text": [
      "just_a_file.ipynb\n"
     ]
    }
   ],
   "source": [
    "print(path.name)"
   ]
  },
  {
   "cell_type": "markdown",
   "id": "6957a345",
   "metadata": {},
   "source": [
    "#### I want just the name of the file"
   ]
  },
  {
   "cell_type": "code",
   "execution_count": 41,
   "id": "92710d62",
   "metadata": {},
   "outputs": [
    {
     "name": "stdout",
     "output_type": "stream",
     "text": [
      "just_a_file\n"
     ]
    }
   ],
   "source": [
    "print(path.stem)"
   ]
  },
  {
   "cell_type": "markdown",
   "id": "bccf91ef",
   "metadata": {},
   "source": [
    "#### What about the extension of the file?"
   ]
  },
  {
   "cell_type": "code",
   "execution_count": 43,
   "id": "5ea73a21",
   "metadata": {},
   "outputs": [
    {
     "name": "stdout",
     "output_type": "stream",
     "text": [
      ".ipynb\n"
     ]
    }
   ],
   "source": [
    "print(path.suffix) # or 'suffixes' if there are more than one extension for some reason?"
   ]
  },
  {
   "cell_type": "markdown",
   "id": "26c012a7",
   "metadata": {},
   "source": [
    "#### Parent folder"
   ]
  },
  {
   "cell_type": "code",
   "execution_count": 44,
   "id": "0d81f9ed",
   "metadata": {},
   "outputs": [
    {
     "name": "stdout",
     "output_type": "stream",
     "text": [
      "this is a folder\n"
     ]
    }
   ],
   "source": [
    "print(path.parent)"
   ]
  },
  {
   "cell_type": "markdown",
   "id": "675c867e",
   "metadata": {},
   "source": [
    "#### Another path object with the same directory but the filename and extension is different"
   ]
  },
  {
   "cell_type": "code",
   "execution_count": 47,
   "id": "c114aa6a",
   "metadata": {},
   "outputs": [
    {
     "data": {
      "text/plain": [
       "WindowsPath('this is a folder/text file.txt')"
      ]
     },
     "execution_count": 47,
     "metadata": {},
     "output_type": "execute_result"
    }
   ],
   "source": [
    "path2 = path.with_name('text file.txt')\n",
    "path2"
   ]
  },
  {
   "cell_type": "markdown",
   "id": "7a6cc033",
   "metadata": {},
   "source": [
    "#### Another path object with the same directory and filename but extension is different"
   ]
  },
  {
   "cell_type": "code",
   "execution_count": 48,
   "id": "47cd6810",
   "metadata": {},
   "outputs": [
    {
     "data": {
      "text/plain": [
       "WindowsPath('this is a folder/just_a_file.txt')"
      ]
     },
     "execution_count": 48,
     "metadata": {},
     "output_type": "execute_result"
    }
   ],
   "source": [
    "path3 = path.with_suffix('.txt')\n",
    "path3"
   ]
  },
  {
   "cell_type": "markdown",
   "id": "3a2bbd2b",
   "metadata": {},
   "source": [
    "**Note:** The paths in path objects `path2` and `path3` do not exist. It merely creates a path object. The files have not be renamed either!"
   ]
  },
  {
   "cell_type": "markdown",
   "id": "baf365a1",
   "metadata": {},
   "source": [
    "#### Absolute value of a path"
   ]
  },
  {
   "cell_type": "code",
   "execution_count": 49,
   "id": "2a42f50d",
   "metadata": {},
   "outputs": [
    {
     "data": {
      "text/plain": [
       "WindowsPath('C:/Projects/Python_for_Data_Analysis/project_folder/11. Handling Files, Filepaths and Directories/this is a folder/just_a_file.ipynb')"
      ]
     },
     "execution_count": 49,
     "metadata": {},
     "output_type": "execute_result"
    }
   ],
   "source": [
    "path.absolute()"
   ]
  },
  {
   "cell_type": "code",
   "execution_count": 52,
   "id": "1b5e2b92",
   "metadata": {},
   "outputs": [
    {
     "data": {
      "text/plain": [
       "WindowsPath('C:/Projects/Python_for_Data_Analysis/project_folder/11. Handling Files, Filepaths and Directories/this is a folder/just_a_file.txt')"
      ]
     },
     "execution_count": 52,
     "metadata": {},
     "output_type": "execute_result"
    }
   ],
   "source": [
    "path3.absolute()"
   ]
  },
  {
   "cell_type": "code",
   "execution_count": 53,
   "id": "4c424eea",
   "metadata": {},
   "outputs": [
    {
     "data": {
      "text/plain": [
       "False"
      ]
     },
     "execution_count": 53,
     "metadata": {},
     "output_type": "execute_result"
    }
   ],
   "source": [
    "path3.exists()"
   ]
  }
 ],
 "metadata": {
  "kernelspec": {
   "display_name": "Python 3 (ipykernel)",
   "language": "python",
   "name": "python3"
  },
  "language_info": {
   "codemirror_mode": {
    "name": "ipython",
    "version": 3
   },
   "file_extension": ".py",
   "mimetype": "text/x-python",
   "name": "python",
   "nbconvert_exporter": "python",
   "pygments_lexer": "ipython3",
   "version": "3.10.1"
  }
 },
 "nbformat": 4,
 "nbformat_minor": 5
}
