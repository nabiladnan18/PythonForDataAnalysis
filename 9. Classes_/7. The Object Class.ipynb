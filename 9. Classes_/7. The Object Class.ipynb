{
 "cells": [
  {
   "cell_type": "markdown",
   "id": "e50c3f4a",
   "metadata": {},
   "source": [
    "# Basics\n",
    "\n",
    "A `child class` or `subclasses` inherits from `parent class` or `base class`. Let's create some examples:"
   ]
  },
  {
   "cell_type": "code",
   "execution_count": 1,
   "id": "4dfcffac",
   "metadata": {},
   "outputs": [],
   "source": [
    "class Animal:\n",
    "    def eat(self):\n",
    "        print(\"eat\")\n",
    "        \n",
    "class Mammal(Animal):\n",
    "    def walk(self):\n",
    "        print(\"walk\")\n",
    "        \n",
    "class Fish(Animal):\n",
    "    def swim(self):\n",
    "        print(\"swim\")"
   ]
  },
  {
   "cell_type": "code",
   "execution_count": 2,
   "id": "df1d0584",
   "metadata": {},
   "outputs": [],
   "source": [
    "m = Mammal()\n",
    "f = Fish()"
   ]
  },
  {
   "cell_type": "code",
   "execution_count": 7,
   "id": "ab7654a6",
   "metadata": {},
   "outputs": [
    {
     "data": {
      "text/plain": [
       "True"
      ]
     },
     "execution_count": 7,
     "metadata": {},
     "output_type": "execute_result"
    }
   ],
   "source": [
    "isinstance(m, Mammal)"
   ]
  },
  {
   "cell_type": "code",
   "execution_count": 9,
   "id": "2d66b5d9",
   "metadata": {},
   "outputs": [
    {
     "data": {
      "text/plain": [
       "True"
      ]
     },
     "execution_count": 9,
     "metadata": {},
     "output_type": "execute_result"
    }
   ],
   "source": [
    "isinstance(m, Animal)"
   ]
  },
  {
   "cell_type": "markdown",
   "id": "fb245520",
   "metadata": {},
   "source": [
    "The object `m` is shown to be a subclass of both `Mammal` and `Animal` classes as `Animal` is the base class and `Mammal` is a subclass of that.\n",
    "\n",
    "What we do not see is that the base class `Animal` inherits from a class called `object` even though we did not add it when modelling the `Animal` class. We can check whether the object `m` is indeed an instance of the `object`: "
   ]
  },
  {
   "cell_type": "code",
   "execution_count": 10,
   "id": "5b8275eb",
   "metadata": {},
   "outputs": [
    {
     "data": {
      "text/plain": [
       "True"
      ]
     },
     "execution_count": 10,
     "metadata": {},
     "output_type": "execute_result"
    }
   ],
   "source": [
    "isinstance(m, object)"
   ]
  },
  {
   "cell_type": "markdown",
   "id": "baf5e1e0",
   "metadata": {},
   "source": [
    "Additionally, we can put to rest all debate by checking whether `Animal` is a subclass of `object`:"
   ]
  },
  {
   "cell_type": "code",
   "execution_count": 11,
   "id": "65c1059e",
   "metadata": {},
   "outputs": [
    {
     "data": {
      "text/plain": [
       "True"
      ]
     },
     "execution_count": 11,
     "metadata": {},
     "output_type": "execute_result"
    }
   ],
   "source": [
    "issubclass(Animal, object)"
   ]
  },
  {
   "cell_type": "markdown",
   "id": "95db84a8",
   "metadata": {},
   "source": [
    "**`object` is the _base class for all classes created in Python!_** All classes directly or indirectly inherits from the `object` class."
   ]
  },
  {
   "cell_type": "code",
   "execution_count": 12,
   "id": "0462864e",
   "metadata": {},
   "outputs": [
    {
     "data": {
      "text/plain": [
       "True"
      ]
     },
     "execution_count": 12,
     "metadata": {},
     "output_type": "execute_result"
    }
   ],
   "source": [
    "issubclass(Mammal, object)"
   ]
  },
  {
   "cell_type": "markdown",
   "id": "13bf28c4",
   "metadata": {},
   "source": [
    "It is possible to create an instance of an object by the following:"
   ]
  },
  {
   "cell_type": "code",
   "execution_count": 13,
   "id": "30e1de34",
   "metadata": {},
   "outputs": [],
   "source": [
    "my_object = object()"
   ]
  },
  {
   "cell_type": "code",
   "execution_count": 14,
   "id": "23f840f7",
   "metadata": {},
   "outputs": [
    {
     "data": {
      "text/plain": [
       "<method-wrapper '__str__' of object object at 0x000002A6B31D7B10>"
      ]
     },
     "execution_count": 14,
     "metadata": {},
     "output_type": "execute_result"
    }
   ],
   "source": [
    "my_object.__str__"
   ]
  },
  {
   "cell_type": "markdown",
   "id": "93c51152",
   "metadata": {},
   "source": [
    "`my_object` has all the magic methods you would expect in a class object."
   ]
  }
 ],
 "metadata": {
  "kernelspec": {
   "display_name": "Python 3 (ipykernel)",
   "language": "python",
   "name": "python3"
  },
  "language_info": {
   "codemirror_mode": {
    "name": "ipython",
    "version": 3
   },
   "file_extension": ".py",
   "mimetype": "text/x-python",
   "name": "python",
   "nbconvert_exporter": "python",
   "pygments_lexer": "ipython3",
   "version": "3.10.1"
  }
 },
 "nbformat": 4,
 "nbformat_minor": 5
}
