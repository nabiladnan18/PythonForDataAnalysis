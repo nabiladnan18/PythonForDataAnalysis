{
 "cells": [
  {
   "cell_type": "markdown",
   "id": "2a4cb897",
   "metadata": {},
   "source": [
    "# Inheritance\n",
    "\n",
    "If the class you are writing is a specialized version of another class you wrote, you can use *inheritance*. When one class inherits from another, it takes on the attributes and methods of the first class. The original class is called the `parent class`, and the new class is the `child class`. Alternatively, the original class is called the `base class` and the one inheriting from it is called `subclass`.\n",
    "\n",
    "The child class can inherit any or all of the attributes and methods of its parent class, but it is also free to define new attributes and methods of its own"
   ]
  },
  {
   "cell_type": "code",
   "execution_count": 1,
   "id": "2e50c9b4",
   "metadata": {},
   "outputs": [],
   "source": [
    "# Parent Class\n",
    "class Car:\n",
    "    \"\"\"A representation of a car\"\"\"\n",
    "    \n",
    "    def __init__(self, make, model, year):\n",
    "        \"\"\"Initialize the attributes of a car.\"\"\"\n",
    "        self.make = make\n",
    "        self.model = model\n",
    "        self.year = year\n",
    "        self.odometer = 0\n",
    "        \n",
    "    def get_descriptive_name(self):\n",
    "        \"\"\"Return a neatly formatted descriptive name.\"\"\"\n",
    "        long_name = f\"{self.year} {self.make} {self.model}\"\n",
    "        return long_name.title()\n",
    "    \n",
    "    def read_odometer(self):\n",
    "        \"\"\"Shows the value on the odometer.\"\"\"\n",
    "        reading = f\"The car has {self.odometer:,} kms on it.\" #! Update for thousand separator!\n",
    "        return reading\n",
    "    \n",
    "    def update_odometer(self, mileage):\n",
    "        \"\"\"Updates the odometer with the given mileage\"\"\"\n",
    "        if mileage >= self.odometer:\n",
    "            self.odometer = mileage\n",
    "            return \"Mileage updated.\"\n",
    "        else:\n",
    "            return \"You cannot roll back an odometer!\"\n",
    "        \n",
    "    # Adding a new instance method\n",
    "    def increment_odometer(self, kms):\n",
    "        \"\"\"Increments the odometer by the given number of kms.\"\"\"\n",
    "        if kms > 0:\n",
    "            self.odometer += kms\n",
    "        else:\n",
    "            return \"You cannot roll back an odometer!\"\n",
    "        \n",
    "    # Adding a new instance method\n",
    "    def fill_gas_tank(self):\n",
    "        \"\"\"Fills the gas tank by the given amount of liters\"\"\"\n",
    "        return \"Tank filled\"\n",
    "        \n",
    "my_car = Car('totoya', 'starlet', 1997)\n"
   ]
  },
  {
   "cell_type": "code",
   "execution_count": 2,
   "id": "c9d90131",
   "metadata": {},
   "outputs": [],
   "source": [
    "# Child class\n",
    "class ElectricCar(Car):\n",
    "    \"\"\"Representation of an electric car\"\"\"\n",
    "    \n",
    "    def __init__(self, make, model, year):\n",
    "        \"\"\"\n",
    "        Initialize the attributes of parent class `Car`.\n",
    "        Then initialize attributes of an electric car.\n",
    "        \"\"\"\n",
    "        super().__init__(make, model, year)\n",
    "        self.battery_size = 75 # battery size is default to 75\n",
    "        \n",
    "    def describe_battery(self):\n",
    "        \"\"\"Describes the battery size.\"\"\"\n",
    "        battery_description = f\"The car has a {self.battery_size:,}-KWh battery.\"\n",
    "        return battery_description\n",
    "    \n",
    "    def fill_gas_tank(self):\n",
    "        \"\"\"Overriding method from parent class\"\"\"\n",
    "        return \"Electric cars do not need gas!\""
   ]
  },
  {
   "cell_type": "code",
   "execution_count": 3,
   "id": "e1e4c053",
   "metadata": {},
   "outputs": [],
   "source": [
    "my_new_car = ElectricCar('tesla', 'model s', 2019)"
   ]
  },
  {
   "cell_type": "code",
   "execution_count": 4,
   "id": "48aa787c",
   "metadata": {},
   "outputs": [
    {
     "data": {
      "text/plain": [
       "'2019 Tesla Model S'"
      ]
     },
     "execution_count": 4,
     "metadata": {},
     "output_type": "execute_result"
    }
   ],
   "source": [
    "my_new_car.get_descriptive_name()"
   ]
  },
  {
   "cell_type": "code",
   "execution_count": 5,
   "id": "bfe2505e",
   "metadata": {},
   "outputs": [
    {
     "data": {
      "text/plain": [
       "'The car has a 75-KWh battery.'"
      ]
     },
     "execution_count": 5,
     "metadata": {},
     "output_type": "execute_result"
    }
   ],
   "source": [
    "my_new_car.describe_battery()"
   ]
  },
  {
   "cell_type": "code",
   "execution_count": 6,
   "id": "0d3e84ae",
   "metadata": {
    "scrolled": true
   },
   "outputs": [
    {
     "data": {
      "text/plain": [
       "'Electric cars do not need gas!'"
      ]
     },
     "execution_count": 6,
     "metadata": {},
     "output_type": "execute_result"
    }
   ],
   "source": [
    "my_new_car.fill_gas_tank()"
   ]
  },
  {
   "cell_type": "markdown",
   "id": "a84db6b5",
   "metadata": {},
   "source": [
    "# `isinstance` and `issubclass`\n",
    "\n",
    "The function `isinstace` verifies whether an object is an `instance` of a certain `class`. `issubclass` on the other hand verifies whether the object is actually a `subclass` or the `child class` of a certain `class`."
   ]
  },
  {
   "cell_type": "code",
   "execution_count": 7,
   "id": "dd302d0d",
   "metadata": {},
   "outputs": [
    {
     "data": {
      "text/plain": [
       "True"
      ]
     },
     "execution_count": 7,
     "metadata": {},
     "output_type": "execute_result"
    }
   ],
   "source": [
    "isinstance(my_new_car, ElectricCar)"
   ]
  },
  {
   "cell_type": "code",
   "execution_count": 8,
   "id": "95d5e8c3",
   "metadata": {},
   "outputs": [
    {
     "data": {
      "text/plain": [
       "False"
      ]
     },
     "execution_count": 8,
     "metadata": {},
     "output_type": "execute_result"
    }
   ],
   "source": [
    "isinstance(my_car, ElectricCar)"
   ]
  },
  {
   "cell_type": "code",
   "execution_count": 9,
   "id": "c0ba079c",
   "metadata": {},
   "outputs": [
    {
     "data": {
      "text/plain": [
       "True"
      ]
     },
     "execution_count": 9,
     "metadata": {},
     "output_type": "execute_result"
    }
   ],
   "source": [
    "issubclass(ElectricCar, Car)"
   ]
  },
  {
   "cell_type": "markdown",
   "id": "87d780f6",
   "metadata": {},
   "source": [
    "**We never do the following:**"
   ]
  },
  {
   "cell_type": "code",
   "execution_count": 10,
   "id": "a80fac62",
   "metadata": {},
   "outputs": [
    {
     "data": {
      "text/plain": [
       "True"
      ]
     },
     "execution_count": 10,
     "metadata": {},
     "output_type": "execute_result"
    }
   ],
   "source": [
    "type(my_car) == Car"
   ]
  },
  {
   "cell_type": "markdown",
   "id": "5f6745d6",
   "metadata": {},
   "source": [
    "# Instances as Attributes\n",
    "\n",
    "When modeling something from the real world in code, you may find that you are adding more and more detail to a class. You will find that you have a growing list of attributes and methods and that your files are becoming lengthy. In these situations, you might recognize that part of one class can be written as a separate class. You can break your large class into smaller classes that work together."
   ]
  },
  {
   "cell_type": "code",
   "execution_count": 11,
   "id": "5fe48d9c",
   "metadata": {},
   "outputs": [],
   "source": [
    "class Battery:\n",
    "    \"\"\"Modelling a battery for electric cars\"\"\"\n",
    "    \n",
    "    def __init__(self, battery_size=75):\n",
    "        \"\"\"Initialize a battery of 75-KWh size by default.\"\"\"\n",
    "        self.battery_size = battery_size\n",
    "        \n",
    "    def describe_battery(self):\n",
    "        \"\"\"Describes the battery size.\"\"\"\n",
    "        battery_description = f\"The car has a {self.battery_size:,}-KWh battery.\"\n",
    "        return battery_description"
   ]
  },
  {
   "cell_type": "code",
   "execution_count": 12,
   "id": "6da7bdf7",
   "metadata": {},
   "outputs": [],
   "source": [
    "class ElectricCar(Car):\n",
    "    \"\"\"Representation of an electric car\"\"\"\n",
    "    \n",
    "    def __init__(self, make, model, year):\n",
    "        \"\"\"\n",
    "        Initialize the attributes of parent class `Car`.\n",
    "        Then initialize attributes of an electric car.\n",
    "        \"\"\"\n",
    "        super().__init__(make, model, year)\n",
    "        self.battery = Battery()\n",
    "        \n",
    "#         self.battery_size = 75 # battery size is default to 75\n",
    "        \n",
    "#     def describe_battery(self):\n",
    "#         \"\"\"Describes the battery size.\"\"\"\n",
    "#         battery_description = f\"The car has a {self.battery_size:,}-KWh battery.\"\n",
    "#         return battery_description\n",
    "    \n",
    "    def fill_gas_tank(self):\n",
    "        \"\"\"Overriding method from parent class\"\"\"\n",
    "        return \"Electric cars do not need gas!\""
   ]
  },
  {
   "cell_type": "code",
   "execution_count": 13,
   "id": "e040b202",
   "metadata": {},
   "outputs": [],
   "source": [
    "my_other_car = ElectricCar('tesla', 'model s', 2019)"
   ]
  },
  {
   "cell_type": "code",
   "execution_count": 14,
   "id": "1e51d01d",
   "metadata": {},
   "outputs": [
    {
     "data": {
      "text/plain": [
       "'The car has a 75-KWh battery.'"
      ]
     },
     "execution_count": 14,
     "metadata": {},
     "output_type": "execute_result"
    }
   ],
   "source": [
    "my_other_car.battery.describe_battery()"
   ]
  },
  {
   "cell_type": "markdown",
   "id": "9f7f37cd",
   "metadata": {},
   "source": [
    "# Multi-level Inheritance\n",
    "\n",
    "Multi-level inheritance is bad. We must try to avoid such scenarios as it only introduces complication within the software. For example, if we created another class that inherited from `ElectricCar`, which already inherits from `Car`, things could start getting messy.\n",
    "\n",
    "Here is an example:"
   ]
  },
  {
   "cell_type": "code",
   "execution_count": 27,
   "id": "ec17b3b4",
   "metadata": {},
   "outputs": [],
   "source": [
    "class Animal:\n",
    "    def walk(self):\n",
    "        print(\"walk\")\n",
    "        \n",
    "class Bird(Animal):\n",
    "    def fly(self):\n",
    "        print(\"fly\")\n",
    "        \n",
    "class Penguin(Bird):\n",
    "    pass"
   ]
  },
  {
   "cell_type": "code",
   "execution_count": 28,
   "id": "659581de",
   "metadata": {},
   "outputs": [
    {
     "name": "stdout",
     "output_type": "stream",
     "text": [
      "fly\n"
     ]
    }
   ],
   "source": [
    "p = Penguin()\n",
    "p.fly()"
   ]
  },
  {
   "cell_type": "markdown",
   "id": "3a2e0047",
   "metadata": {},
   "source": [
    "A flying penguin?! Dafuq!"
   ]
  },
  {
   "cell_type": "markdown",
   "id": "4443f8b9",
   "metadata": {},
   "source": [
    "# Multiple Inheritance\n",
    "\n",
    "A subclass can have multiple base classes. This is called multiple inheritance. This must be used with caution as it is sometimes not possible to avoid and is a source of introducing bugs into the software if not used properly.\n",
    "\n",
    "Let's create three classes: `Employee`, `Person` and `Manager`:"
   ]
  },
  {
   "cell_type": "code",
   "execution_count": 16,
   "id": "ff1d45d2",
   "metadata": {},
   "outputs": [],
   "source": [
    "class Employee:\n",
    "    def greet(self):\n",
    "        print(\"Employee greet!\")\n",
    "        \n",
    "class Person:\n",
    "    def greet(self):\n",
    "        print(\"Person greet!\")\n",
    "        \n",
    "class Manager(Employee, Person):\n",
    "    pass"
   ]
  },
  {
   "cell_type": "markdown",
   "id": "a749d26b",
   "metadata": {},
   "source": [
    "Now let's create a `manager` instance and apply the `greet` method. "
   ]
  },
  {
   "cell_type": "code",
   "execution_count": 17,
   "id": "4fb91a33",
   "metadata": {},
   "outputs": [],
   "source": [
    "manager = Manager()"
   ]
  },
  {
   "cell_type": "code",
   "execution_count": 18,
   "id": "57728798",
   "metadata": {},
   "outputs": [
    {
     "name": "stdout",
     "output_type": "stream",
     "text": [
      "Employee greet!\n"
     ]
    }
   ],
   "source": [
    "manager.greet()"
   ]
  },
  {
   "cell_type": "markdown",
   "id": "c12a4e44",
   "metadata": {},
   "source": [
    "According to the implementation above, the `greet` method of `Employee` class is called since we inherited from the `Employee` class before the `Person` class when modelling the `Manager` class.\n",
    "\n",
    "Python goes from each of the base class starting left to right looking for the method. Once it finds it in the `Employee` class, the lookup terminates.\n",
    "\n",
    "**If the order of the inheritance is modified, the behaviour is going to change!**"
   ]
  },
  {
   "cell_type": "markdown",
   "id": "0c46b362",
   "metadata": {},
   "source": [
    "A good example of *multiple inheritence* could be the following. We create two small and abstract classes that has nothing in common with each other and then inherit from it."
   ]
  },
  {
   "cell_type": "code",
   "execution_count": 23,
   "id": "b58678db",
   "metadata": {},
   "outputs": [],
   "source": [
    "class Flyer:\n",
    "    \"\"\"Modelling a thing that flies\"\"\"\n",
    "    \n",
    "    def fly(self):\n",
    "        print(\"flying\")\n",
    "    \n",
    "class Swimmer:\n",
    "    \"\"\"Modelling a thing that swims\"\"\"\n",
    "    \n",
    "    def swim(self):\n",
    "        print(\"swimming\")\n",
    "    \n",
    "class FlyingFish(Flyer, Swimmer):\n",
    "    pass"
   ]
  },
  {
   "cell_type": "code",
   "execution_count": 24,
   "id": "dd5f0046",
   "metadata": {},
   "outputs": [],
   "source": [
    "ff = FlyingFish()"
   ]
  },
  {
   "cell_type": "code",
   "execution_count": 25,
   "id": "83211b3e",
   "metadata": {},
   "outputs": [
    {
     "name": "stdout",
     "output_type": "stream",
     "text": [
      "flying\n"
     ]
    }
   ],
   "source": [
    "ff.fly()"
   ]
  },
  {
   "cell_type": "code",
   "execution_count": 26,
   "id": "6db21e4a",
   "metadata": {},
   "outputs": [
    {
     "name": "stdout",
     "output_type": "stream",
     "text": [
      "swimming\n"
     ]
    }
   ],
   "source": [
    "ff.swim()"
   ]
  }
 ],
 "metadata": {
  "kernelspec": {
   "display_name": "Python 3 (ipykernel)",
   "language": "python",
   "name": "python3"
  },
  "language_info": {
   "codemirror_mode": {
    "name": "ipython",
    "version": 3
   },
   "file_extension": ".py",
   "mimetype": "text/x-python",
   "name": "python",
   "nbconvert_exporter": "python",
   "pygments_lexer": "ipython3",
   "version": "3.10.1"
  }
 },
 "nbformat": 4,
 "nbformat_minor": 5
}
