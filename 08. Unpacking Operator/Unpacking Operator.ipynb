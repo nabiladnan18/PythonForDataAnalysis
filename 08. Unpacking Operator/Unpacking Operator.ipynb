{
 "cells": [
  {
   "cell_type": "markdown",
   "id": "3a13ecbb",
   "metadata": {},
   "source": [
    "# Basics\n",
    "\n",
    "`*` is the unpacking operator. Iterables can be unpacked using this."
   ]
  },
  {
   "cell_type": "code",
   "execution_count": 1,
   "id": "afef8c05",
   "metadata": {},
   "outputs": [],
   "source": [
    "my_list = [1, 2, 3, 4]"
   ]
  },
  {
   "cell_type": "code",
   "execution_count": 3,
   "id": "b205d613",
   "metadata": {},
   "outputs": [
    {
     "name": "stdout",
     "output_type": "stream",
     "text": [
      "1 2 3 4\n"
     ]
    }
   ],
   "source": [
    "print(*my_list)"
   ]
  },
  {
   "cell_type": "markdown",
   "id": "2bccf010",
   "metadata": {},
   "source": [
    "Unpacking a generator object like `range`:"
   ]
  },
  {
   "cell_type": "code",
   "execution_count": 5,
   "id": "dfb4a066",
   "metadata": {},
   "outputs": [
    {
     "name": "stdout",
     "output_type": "stream",
     "text": [
      "0 1 2 3 4\n"
     ]
    }
   ],
   "source": [
    "print(*range(5))"
   ]
  },
  {
   "cell_type": "code",
   "execution_count": 6,
   "id": "5dca7301",
   "metadata": {},
   "outputs": [],
   "source": [
    "another_list = [*range(5)]"
   ]
  },
  {
   "cell_type": "code",
   "execution_count": 7,
   "id": "465135e5",
   "metadata": {},
   "outputs": [
    {
     "data": {
      "text/plain": [
       "[0, 1, 2, 3, 4]"
      ]
     },
     "execution_count": 7,
     "metadata": {},
     "output_type": "execute_result"
    }
   ],
   "source": [
    "another_list"
   ]
  },
  {
   "cell_type": "code",
   "execution_count": 8,
   "id": "a9d29067",
   "metadata": {},
   "outputs": [],
   "source": [
    "yet_another_list = [*range(5), *\"Hello World!\"]"
   ]
  },
  {
   "cell_type": "code",
   "execution_count": 9,
   "id": "11870bcc",
   "metadata": {},
   "outputs": [
    {
     "data": {
      "text/plain": [
       "[0, 1, 2, 3, 4, 'H', 'e', 'l', 'l', 'o', ' ', 'W', 'o', 'r', 'l', 'd', '!']"
      ]
     },
     "execution_count": 9,
     "metadata": {},
     "output_type": "execute_result"
    }
   ],
   "source": [
    "yet_another_list"
   ]
  },
  {
   "cell_type": "markdown",
   "id": "4dd9eaea",
   "metadata": {},
   "source": [
    "# Combining lists"
   ]
  },
  {
   "cell_type": "code",
   "execution_count": 13,
   "id": "1a265dbc",
   "metadata": {},
   "outputs": [],
   "source": [
    "first = [1, 2]"
   ]
  },
  {
   "cell_type": "code",
   "execution_count": 14,
   "id": "c8d6a2a5",
   "metadata": {},
   "outputs": [],
   "source": [
    "second = [3, 4]"
   ]
  },
  {
   "cell_type": "code",
   "execution_count": 15,
   "id": "63e3b506",
   "metadata": {},
   "outputs": [],
   "source": [
    "combined = [*first, *second]"
   ]
  },
  {
   "cell_type": "code",
   "execution_count": 16,
   "id": "f151af65",
   "metadata": {},
   "outputs": [
    {
     "data": {
      "text/plain": [
       "[1, 2, 3, 4]"
      ]
     },
     "execution_count": 16,
     "metadata": {},
     "output_type": "execute_result"
    }
   ],
   "source": [
    "combined"
   ]
  },
  {
   "cell_type": "markdown",
   "id": "cd72b223",
   "metadata": {},
   "source": [
    "# Unpacking dictionaries"
   ]
  },
  {
   "cell_type": "code",
   "execution_count": 31,
   "id": "14ca0622",
   "metadata": {},
   "outputs": [],
   "source": [
    "squares = {x: x ** 2 for x in range(5)}"
   ]
  },
  {
   "cell_type": "code",
   "execution_count": 32,
   "id": "d37e3f4d",
   "metadata": {},
   "outputs": [],
   "source": [
    "cubes = {x: x ** 3 for x in range(4, 10)}"
   ]
  },
  {
   "cell_type": "code",
   "execution_count": 33,
   "id": "d6bdfdd2",
   "metadata": {},
   "outputs": [],
   "source": [
    "combined = {**squares, **cubes, 'z': 'e'}"
   ]
  },
  {
   "cell_type": "code",
   "execution_count": 34,
   "id": "bcc55c5f",
   "metadata": {
    "scrolled": true
   },
   "outputs": [
    {
     "data": {
      "text/plain": [
       "{0: 0,\n",
       " 1: 1,\n",
       " 2: 4,\n",
       " 3: 9,\n",
       " 4: 64,\n",
       " 5: 125,\n",
       " 6: 216,\n",
       " 7: 343,\n",
       " 8: 512,\n",
       " 9: 729,\n",
       " 'z': 'e'}"
      ]
     },
     "execution_count": 34,
     "metadata": {},
     "output_type": "execute_result"
    }
   ],
   "source": [
    "combined"
   ]
  },
  {
   "cell_type": "markdown",
   "id": "4ed6869e",
   "metadata": {},
   "source": [
    "Notice how the value of index 4 is 64. There cannot be duplicate keys in a dict - much like sets where there cannot be any duplicate values."
   ]
  }
 ],
 "metadata": {
  "kernelspec": {
   "display_name": "Python 3 (ipykernel)",
   "language": "python",
   "name": "python3"
  },
  "language_info": {
   "codemirror_mode": {
    "name": "ipython",
    "version": 3
   },
   "file_extension": ".py",
   "mimetype": "text/x-python",
   "name": "python",
   "nbconvert_exporter": "python",
   "pygments_lexer": "ipython3",
   "version": "3.10.1"
  }
 },
 "nbformat": 4,
 "nbformat_minor": 5
}
