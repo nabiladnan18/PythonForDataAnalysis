{
 "cells": [
  {
   "cell_type": "markdown",
   "id": "6d1ae0fe",
   "metadata": {},
   "source": [
    "# Basics\n",
    "\n",
    "When removing objects from the front of the list (FIFO), we can use `pop` method with the index. However, this means that all the remanining elements are now moving one index to the left. This is could be a strenous job if the list has say 100k elements. Therefore we use the `deque` class to create a `deque` object. Then by using `popleft`, we can remove elements from the beginning or the bottom of the list (as opposed to the bottom in stacked structure). "
   ]
  },
  {
   "cell_type": "code",
   "execution_count": 1,
   "id": "ebfc8505",
   "metadata": {},
   "outputs": [],
   "source": [
    "from collections import deque"
   ]
  },
  {
   "cell_type": "code",
   "execution_count": 2,
   "id": "ffb7f2ec",
   "metadata": {},
   "outputs": [],
   "source": [
    "queue = deque([])"
   ]
  },
  {
   "cell_type": "code",
   "execution_count": 3,
   "id": "e48c1ed2",
   "metadata": {},
   "outputs": [],
   "source": [
    "queue.append(1)"
   ]
  },
  {
   "cell_type": "code",
   "execution_count": 4,
   "id": "130705d7",
   "metadata": {},
   "outputs": [],
   "source": [
    "queue.append(2)"
   ]
  },
  {
   "cell_type": "code",
   "execution_count": 5,
   "id": "8e4c10c1",
   "metadata": {},
   "outputs": [],
   "source": [
    "queue.append(3)"
   ]
  },
  {
   "cell_type": "code",
   "execution_count": 6,
   "id": "c02fd77c",
   "metadata": {},
   "outputs": [
    {
     "data": {
      "text/plain": [
       "deque([1, 2, 3])"
      ]
     },
     "execution_count": 6,
     "metadata": {},
     "output_type": "execute_result"
    }
   ],
   "source": [
    "queue"
   ]
  },
  {
   "cell_type": "code",
   "execution_count": 7,
   "id": "83c1974d",
   "metadata": {},
   "outputs": [
    {
     "data": {
      "text/plain": [
       "1"
      ]
     },
     "execution_count": 7,
     "metadata": {},
     "output_type": "execute_result"
    }
   ],
   "source": [
    "queue.popleft()"
   ]
  },
  {
   "cell_type": "code",
   "execution_count": 8,
   "id": "4032ceb1",
   "metadata": {},
   "outputs": [
    {
     "name": "stdout",
     "output_type": "stream",
     "text": [
      "Popping 2 from the left\n",
      "Popping 3 from the left\n",
      "Queue is empty\n"
     ]
    }
   ],
   "source": [
    "while queue:\n",
    "    x = queue.popleft()\n",
    "    print(f\"Popping {x} from the left\")\n",
    "else:\n",
    "    print(\"Queue is empty\")"
   ]
  }
 ],
 "metadata": {
  "kernelspec": {
   "display_name": "Python 3 (ipykernel)",
   "language": "python",
   "name": "python3"
  },
  "language_info": {
   "codemirror_mode": {
    "name": "ipython",
    "version": 3
   },
   "file_extension": ".py",
   "mimetype": "text/x-python",
   "name": "python",
   "nbconvert_exporter": "python",
   "pygments_lexer": "ipython3",
   "version": "3.10.1"
  }
 },
 "nbformat": 4,
 "nbformat_minor": 5
}
