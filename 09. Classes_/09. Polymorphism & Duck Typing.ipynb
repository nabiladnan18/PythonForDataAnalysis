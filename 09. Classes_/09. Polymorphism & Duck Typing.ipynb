{
 "cells": [
  {
   "cell_type": "markdown",
   "id": "4a1f84b5",
   "metadata": {},
   "source": [
    "# Polymorphism\n",
    "\n",
    "_Polymorphism_ means taking various forms. Consider the following classes:"
   ]
  },
  {
   "cell_type": "code",
   "execution_count": 1,
   "id": "df535b5f",
   "metadata": {},
   "outputs": [],
   "source": [
    "class TextBox:\n",
    "    def draw(self):\n",
    "        print(\"TextBox\")\n",
    "        \n",
    "class DropdownList:\n",
    "    def draw(self):\n",
    "        print(\"DropdownList\")"
   ]
  },
  {
   "cell_type": "markdown",
   "id": "4fe79e36",
   "metadata": {},
   "source": [
    "Now consider the following function. It takes a list of controls and then calls the `draw` method on each one of them."
   ]
  },
  {
   "cell_type": "code",
   "execution_count": 2,
   "id": "db38f85a",
   "metadata": {},
   "outputs": [],
   "source": [
    "def draw_controls(controls):\n",
    "    for control in controls:\n",
    "        control.draw()"
   ]
  },
  {
   "cell_type": "code",
   "execution_count": 3,
   "id": "d573820e",
   "metadata": {},
   "outputs": [],
   "source": [
    "# Instantiating a TextBox and a DropdownList object\n",
    "tb = TextBox()\n",
    "ddl = DropdownList()"
   ]
  },
  {
   "cell_type": "code",
   "execution_count": 4,
   "id": "1bb52ed5",
   "metadata": {},
   "outputs": [
    {
     "name": "stdout",
     "output_type": "stream",
     "text": [
      "TextBox\n",
      "DropdownList\n"
     ]
    }
   ],
   "source": [
    "draw_controls([tb, ddl])"
   ]
  },
  {
   "cell_type": "markdown",
   "id": "8ad63bf9",
   "metadata": {},
   "source": [
    "We have called the `draw_controls` functions with our `TextBox` and `DropdownList` objects. What happens then? The function calls the `draw` method on each of the object passed. _The `draw` method changes its behavior based on which object it was called on._ This is called **polymorphism**."
   ]
  },
  {
   "cell_type": "markdown",
   "id": "118855a3",
   "metadata": {},
   "source": [
    "# Duck Typing\n",
    "\n",
    "In the example above, you can also notice another thing going on. The `draw` method is being called on two different objects that are in no way related to each other. This is because Python does not care, nor does it check the type of the object on which the `draw` method is being called. It merely checks whether a method called `draw` exists for that object and calls it. This is called **Duck Typing**. It comes from the phrase: “If it looks like a duck and quacks like a duck, it is a duck.” This philosophy focuses on what something can do, rather than what it is."
   ]
  },
  {
   "cell_type": "code",
   "execution_count": 5,
   "id": "775d8cdf",
   "metadata": {},
   "outputs": [],
   "source": [
    "class Bird:\n",
    "    def fly(self):\n",
    "        print(\"Bird flies.\")\n",
    "        \n",
    "class Aircraft:\n",
    "    def fly(self):\n",
    "        print(\"Aircraft flies.\")\n",
    "        \n",
    "class Cat:\n",
    "    def __init__(self):\n",
    "        self.name = \"Cat\"\n",
    "        \n",
    "    def mew(self):\n",
    "        print(\"Cat mews.\")"
   ]
  },
  {
   "cell_type": "code",
   "execution_count": 6,
   "id": "6b02617c",
   "metadata": {},
   "outputs": [],
   "source": [
    "bird = Bird()\n",
    "aircraft = Aircraft()\n",
    "cat = Cat()"
   ]
  },
  {
   "cell_type": "code",
   "execution_count": 7,
   "id": "60ef7cfc",
   "metadata": {},
   "outputs": [
    {
     "name": "stdout",
     "output_type": "stream",
     "text": [
      "Bird flies.\n",
      "Aircraft flies.\n",
      "Cats cannot fly!\n"
     ]
    }
   ],
   "source": [
    "try:\n",
    "    for thing in bird, aircraft, cat:\n",
    "        thing.fly()\n",
    "except AttributeError:\n",
    "    print(f\"{thing.name.title()}s cannot fly!\")"
   ]
  },
  {
   "cell_type": "markdown",
   "id": "836192d3",
   "metadata": {},
   "source": [
    "The `fly` method on a `Cat` object raises and `AttributeError` since the `Cat` object has no `fly` method."
   ]
  },
  {
   "cell_type": "markdown",
   "id": "07a439aa",
   "metadata": {},
   "source": [
    "# Refactoring the Polymorphism example\n",
    "\n",
    "While the example served as a good explanation of _polymorphism_ I will refactor the code for the sake of showing a good example of inheritance using abstract base class."
   ]
  },
  {
   "cell_type": "code",
   "execution_count": 8,
   "id": "dab6c26e",
   "metadata": {},
   "outputs": [],
   "source": [
    "from abc import ABC, abstractmethod"
   ]
  },
  {
   "cell_type": "code",
   "execution_count": 9,
   "id": "654c4920",
   "metadata": {},
   "outputs": [],
   "source": [
    "class UIControls(ABC):\n",
    "    \n",
    "    @abstractmethod\n",
    "    def draw(self):\n",
    "        pass\n",
    "    \n",
    "class TextBox(UIControls):\n",
    "    def draw(self):\n",
    "        print(\"TextBox\")\n",
    "        \n",
    "class DropdownList(UIControls):\n",
    "    def draw(self):\n",
    "        print(\"DropdownList\")"
   ]
  },
  {
   "cell_type": "code",
   "execution_count": 10,
   "id": "0f728ea1",
   "metadata": {},
   "outputs": [],
   "source": [
    "def draw_controls(controls):\n",
    "    for control in controls:\n",
    "        control.draw()"
   ]
  },
  {
   "cell_type": "code",
   "execution_count": 11,
   "id": "5ca2f890",
   "metadata": {},
   "outputs": [],
   "source": [
    "# Instantiating a TextBox and a DropdownList object\n",
    "tb = TextBox()\n",
    "ddl = DropdownList()"
   ]
  },
  {
   "cell_type": "code",
   "execution_count": 12,
   "id": "b4918224",
   "metadata": {},
   "outputs": [
    {
     "name": "stdout",
     "output_type": "stream",
     "text": [
      "TextBox\n",
      "DropdownList\n"
     ]
    }
   ],
   "source": [
    "draw_controls([tb, ddl])"
   ]
  },
  {
   "cell_type": "markdown",
   "id": "e13902ac",
   "metadata": {},
   "source": [
    "Here, we create an _abstract base class_ called `UIControls` where we have an _abstract method_ called `draw`. The classes `TextBox` and `DropdownList` inherits from the _abstract base class_ `UIControls` so that we can ensure that subclasses have the `draw` method implemented."
   ]
  }
 ],
 "metadata": {
  "kernelspec": {
   "display_name": "Python 3 (ipykernel)",
   "language": "python",
   "name": "python3"
  },
  "language_info": {
   "codemirror_mode": {
    "name": "ipython",
    "version": 3
   },
   "file_extension": ".py",
   "mimetype": "text/x-python",
   "name": "python",
   "nbconvert_exporter": "python",
   "pygments_lexer": "ipython3",
   "version": "3.10.1"
  }
 },
 "nbformat": 4,
 "nbformat_minor": 5
}
