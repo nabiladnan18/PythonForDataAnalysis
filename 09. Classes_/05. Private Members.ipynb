{
 "cells": [
  {
   "cell_type": "markdown",
   "id": "3b71cd3d",
   "metadata": {},
   "source": [
    "# Basics\n",
    "\n",
    "We can make certain `attributes` or `methods` *private*. By doing so, we do not let anyone access or use these attributes or methods from outside the namespace. It is still *technically* possible to access them, but it is harder to do so. This serves as a warning and reduces the chances of `subclasses` accidentally *overriding* these methods or attributes.\n",
    "\n",
    "We can do this by prefixing `__` the attribute's or the method's name.\n",
    "\n",
    "We are going to continue using the class `TagCloud` from the previous note as example. "
   ]
  },
  {
   "cell_type": "code",
   "execution_count": 9,
   "id": "60323bd9",
   "metadata": {},
   "outputs": [],
   "source": [
    "class TagCloud:\n",
    "    \"\"\"Modelling a container for tags applied on questions in a forum\"\"\"\n",
    "    \n",
    "    def __init__(self):\n",
    "        \"\"\"Initializing a cloud of tags\"\"\"\n",
    "        self.tags = {}\n",
    "    \n",
    "    # defining __getitem__ magic method\n",
    "    def __getitem__(self, tag):\n",
    "        \"\"\"Getting the value of a tag.\n",
    "        \n",
    "        Args:\n",
    "        ---------\n",
    "        tag (str): The tag to look for. If it does not exist, 0 is returned.\n",
    "        \n",
    "        Returns:\n",
    "        ---------\n",
    "        \n",
    "        int: the number of times a certain tag has been used.\n",
    "        \n",
    "        \"\"\"\n",
    "        return self.tags.get(tag.lower(), 0)\n",
    "    \n",
    "    def __setitem__(self, tag, count):\n",
    "        \"\"\"Sets the count of a given tag.\n",
    "        \n",
    "        Args:\n",
    "        ------\n",
    "        tag (str): The tag for which a value is going to be set.\n",
    "        count (int): The value that a tag is going to have.\n",
    "        \"\"\"\n",
    "        self.tags[tag.lower()] = count\n",
    "        \n",
    "    def __len__(self):\n",
    "        \"\"\"Shows count of tags of an instance\n",
    "        \n",
    "        Args:\n",
    "        -----\n",
    "        self: An instance \n",
    "        \n",
    "        Returns:\n",
    "        ---------\n",
    "        int: The length of the instance\n",
    "        \n",
    "        \"\"\"\n",
    "        return len(self.tags)\n",
    "\n",
    "    def __iter__(self):\n",
    "        return iter(self.tags) # tags are going to be iterated over\n",
    "    \n",
    "    def add(self, tag):\n",
    "        \"\"\"\n",
    "        Adds a tag to the list. If the tag does not exist, `0` is returned by default.\n",
    "        \n",
    "        Args:\n",
    "        ----------\n",
    "        tag (str): A string value that is added to the \n",
    "        \n",
    "        \"\"\"\n",
    "        self.tags[tag.lower()] = self.tags.get(tag.lower(), 0) + 1\n",
    "        \n",
    "    "
   ]
  },
  {
   "cell_type": "code",
   "execution_count": 10,
   "id": "4410068c",
   "metadata": {},
   "outputs": [],
   "source": [
    "cloud = TagCloud()"
   ]
  },
  {
   "cell_type": "code",
   "execution_count": 11,
   "id": "d3af4802",
   "metadata": {},
   "outputs": [],
   "source": [
    "cloud.add(\"python\")\n",
    "cloud.add(\"python\")"
   ]
  },
  {
   "cell_type": "code",
   "execution_count": 12,
   "id": "ea1daaac",
   "metadata": {},
   "outputs": [
    {
     "data": {
      "text/plain": [
       "2"
      ]
     },
     "execution_count": 12,
     "metadata": {},
     "output_type": "execute_result"
    }
   ],
   "source": [
    "cloud[\"PYTHON\"]"
   ]
  },
  {
   "cell_type": "markdown",
   "id": "cfa557fe",
   "metadata": {},
   "source": [
    "See that if we search for *\"PYTHON\"* in the cloud, we still find the count of \"python\" since we are looking at our container object. However, if we accessed the underlying dict `tags`, this would raise a `KeyError` since \"PYTHON\" does not exist in that dict. "
   ]
  },
  {
   "cell_type": "markdown",
   "id": "575dc054",
   "metadata": {},
   "source": [
    "```\n",
    "cloud.tags[\"PYTHON\"]\n",
    "\n",
    "---------------------------------------------------------------------------\n",
    "KeyError                                  Traceback (most recent call last)\n",
    "~\\AppData\\Local\\Temp/ipykernel_2632/1981853862.py in <module>\n",
    "----> 1 cloud.tags[\"PYTHON\"]\n",
    "\n",
    "KeyError: 'PYTHON'\n",
    "```\n",
    "\n",
    "Also, it would be possible to set the count of \"python\" by accessing the underlying dict `tag`, which could lead to the case-sensitivity issue."
   ]
  },
  {
   "cell_type": "markdown",
   "id": "0608e989",
   "metadata": {},
   "source": [
    "# Making an attribute private"
   ]
  },
  {
   "cell_type": "code",
   "execution_count": 14,
   "id": "ea406e9f",
   "metadata": {},
   "outputs": [],
   "source": [
    "class TagCloud:\n",
    "    \"\"\"Modelling a container for tags applied on questions in a forum\"\"\"\n",
    "    \n",
    "    def __init__(self):\n",
    "        \"\"\"Initializing a cloud of tags\"\"\"\n",
    "        self.__tags = {}\n",
    "    \n",
    "    # defining __getitem__ magic method\n",
    "    def __getitem__(self, tag):\n",
    "        \"\"\"Getting the value of a tag.\n",
    "        \n",
    "        Args:\n",
    "        ---------\n",
    "        tag (str): The tag to look for. If it does not exist, 0 is returned.\n",
    "        \n",
    "        Returns:\n",
    "        ---------\n",
    "        \n",
    "        int: the number of times a certain tag has been used.\n",
    "        \n",
    "        \"\"\"\n",
    "        return self.__tags.get(tag.lower(), 0)\n",
    "    \n",
    "    def __setitem__(self, tag, count):\n",
    "        \"\"\"Sets the count of a given tag.\n",
    "        \n",
    "        Args:\n",
    "        ------\n",
    "        tag (str): The tag for which a value is going to be set.\n",
    "        count (int): The value that a tag is going to have.\n",
    "        \"\"\"\n",
    "        self.__tags[tag.lower()] = count\n",
    "        \n",
    "    def __len__(self):\n",
    "        \"\"\"Shows count of tags of an instance\n",
    "        \n",
    "        Args:\n",
    "        -----\n",
    "        self: An instance \n",
    "        \n",
    "        Returns:\n",
    "        ---------\n",
    "        int: The length of the instance\n",
    "        \n",
    "        \"\"\"\n",
    "        return len(self.tags)\n",
    "\n",
    "    def __iter__(self):\n",
    "        return iter(self.__tags) # tags are going to be iterated over\n",
    "    \n",
    "    def add(self, tag):\n",
    "        \"\"\"\n",
    "        Adds a tag to the list. If the tag does not exist, `0` is returned by default.\n",
    "        \n",
    "        Args:\n",
    "        ----------\n",
    "        tag (str): A string value that is added to the \n",
    "        \n",
    "        \"\"\"\n",
    "        self.__tags[tag.lower()] = self.__tags.get(tag.lower(), 0) + 1\n",
    "        \n",
    "    "
   ]
  },
  {
   "cell_type": "code",
   "execution_count": 16,
   "id": "ef1edcef",
   "metadata": {},
   "outputs": [],
   "source": [
    "cloud = TagCloud()\n",
    "cloud.add(\"python\")\n",
    "cloud.add(\"python\")"
   ]
  },
  {
   "cell_type": "markdown",
   "id": "74b5affe",
   "metadata": {},
   "source": [
    "Now, when accessing the underlying dict like before, we will see an `AttributeError` e.g. the attribute `tags` does not exist.\n",
    "\n",
    "```\n",
    "cloud.tags[\"PYTHON\"]\n",
    "\n",
    "---------------------------------------------------------------------------\n",
    "AttributeError                            Traceback (most recent call last)\n",
    "~\\AppData\\Local\\Temp/ipykernel_2632/1981853862.py in <module>\n",
    "----> 1 cloud.tags[\"PYTHON\"]\n",
    "\n",
    "AttributeError: 'TagCloud' object has no attribute 'tags'\n",
    "```"
   ]
  },
  {
   "cell_type": "markdown",
   "id": "a56798d0",
   "metadata": {},
   "source": [
    "# Accessing a private attribute\n",
    "\n",
    "Every object has this property `__dict__`, which is a `dict` that holds all the attributes in a `class`."
   ]
  },
  {
   "cell_type": "code",
   "execution_count": 19,
   "id": "cc5b6270",
   "metadata": {},
   "outputs": [
    {
     "data": {
      "text/plain": [
       "{'_TagCloud__tags': {'python': 2}}"
      ]
     },
     "execution_count": 19,
     "metadata": {},
     "output_type": "execute_result"
    }
   ],
   "source": [
    "cloud.__dict__"
   ]
  },
  {
   "cell_type": "markdown",
   "id": "818b1d24",
   "metadata": {},
   "source": [
    "As we can see here, the underlying dict in our `TagCloud` class `tags` is renamed to `_TagCloud__tags`. Private attributes are renamed to *{ClassName with _ prefix}{Attribute name with __ prefix}* format."
   ]
  },
  {
   "cell_type": "code",
   "execution_count": 20,
   "id": "27bf0393",
   "metadata": {
    "scrolled": false
   },
   "outputs": [
    {
     "data": {
      "text/plain": [
       "2"
      ]
     },
     "execution_count": 20,
     "metadata": {},
     "output_type": "execute_result"
    }
   ],
   "source": [
    "cloud._TagCloud__tags['python']"
   ]
  },
  {
   "cell_type": "markdown",
   "id": "4a4cc68d",
   "metadata": {},
   "source": [
    "# Making a private method"
   ]
  },
  {
   "cell_type": "code",
   "execution_count": 85,
   "id": "9fc11717",
   "metadata": {},
   "outputs": [],
   "source": [
    "class Cat:\n",
    "    def __init__(self, name):\n",
    "        self.name = name\n",
    "        \n",
    "    def __print_name(self):\n",
    "        return self.name\n",
    "    \n",
    "class Tiger(Cat):\n",
    "    def __init__(self, name):\n",
    "        super().__init__(self)\n",
    "        self.name = name\n",
    "        \n",
    "    def __print_name(self):\n",
    "        return self.name"
   ]
  },
  {
   "cell_type": "code",
   "execution_count": 86,
   "id": "d17d6240",
   "metadata": {},
   "outputs": [],
   "source": [
    "tom = Cat('tom')\n",
    "tigger = Tiger('tigger')"
   ]
  },
  {
   "cell_type": "markdown",
   "id": "d4490b07",
   "metadata": {},
   "source": [
    "If we call `dir` on objects, we can see their magic methods. If we do that on `tom` and `tigger` we can see that each has the `__print_name` method but like the private attributes, they appear in the following format: *{ClassName with _ prefix}{Method name with __ prefix}*"
   ]
  },
  {
   "cell_type": "code",
   "execution_count": 91,
   "id": "63f47a40",
   "metadata": {},
   "outputs": [
    {
     "data": {
      "text/plain": [
       "['_Cat__print_name',\n",
       " '__class__',\n",
       " '__delattr__',\n",
       " '__dict__',\n",
       " '__dir__',\n",
       " '__doc__',\n",
       " '__eq__',\n",
       " '__format__',\n",
       " '__ge__',\n",
       " '__getattribute__',\n",
       " '__gt__',\n",
       " '__hash__',\n",
       " '__init__',\n",
       " '__init_subclass__',\n",
       " '__le__',\n",
       " '__lt__',\n",
       " '__module__',\n",
       " '__ne__',\n",
       " '__new__',\n",
       " '__reduce__',\n",
       " '__reduce_ex__',\n",
       " '__repr__',\n",
       " '__setattr__',\n",
       " '__sizeof__',\n",
       " '__str__',\n",
       " '__subclasshook__',\n",
       " '__weakref__',\n",
       " 'name']"
      ]
     },
     "execution_count": 91,
     "metadata": {},
     "output_type": "execute_result"
    }
   ],
   "source": [
    "dir(tom)"
   ]
  },
  {
   "cell_type": "code",
   "execution_count": 92,
   "id": "db49725d",
   "metadata": {
    "scrolled": true
   },
   "outputs": [
    {
     "data": {
      "text/plain": [
       "['_Cat__print_name',\n",
       " '_Tiger__print_name',\n",
       " '__class__',\n",
       " '__delattr__',\n",
       " '__dict__',\n",
       " '__dir__',\n",
       " '__doc__',\n",
       " '__eq__',\n",
       " '__format__',\n",
       " '__ge__',\n",
       " '__getattribute__',\n",
       " '__gt__',\n",
       " '__hash__',\n",
       " '__init__',\n",
       " '__init_subclass__',\n",
       " '__le__',\n",
       " '__lt__',\n",
       " '__module__',\n",
       " '__ne__',\n",
       " '__new__',\n",
       " '__reduce__',\n",
       " '__reduce_ex__',\n",
       " '__repr__',\n",
       " '__setattr__',\n",
       " '__sizeof__',\n",
       " '__str__',\n",
       " '__subclasshook__',\n",
       " '__weakref__',\n",
       " 'name']"
      ]
     },
     "execution_count": 92,
     "metadata": {},
     "output_type": "execute_result"
    }
   ],
   "source": [
    "dir(tigger)"
   ]
  },
  {
   "cell_type": "markdown",
   "id": "be7b9eb2",
   "metadata": {},
   "source": [
    "And like the attributes, these methods can be accessed similarly:"
   ]
  },
  {
   "cell_type": "code",
   "execution_count": 87,
   "id": "b4abe985",
   "metadata": {
    "scrolled": true
   },
   "outputs": [
    {
     "data": {
      "text/plain": [
       "'tom'"
      ]
     },
     "execution_count": 87,
     "metadata": {},
     "output_type": "execute_result"
    }
   ],
   "source": [
    "tom._Cat__print_name()"
   ]
  },
  {
   "cell_type": "code",
   "execution_count": 88,
   "id": "f08d0228",
   "metadata": {
    "scrolled": true
   },
   "outputs": [
    {
     "data": {
      "text/plain": [
       "'tigger'"
      ]
     },
     "execution_count": 88,
     "metadata": {},
     "output_type": "execute_result"
    }
   ],
   "source": [
    "tigger._Tiger__print_name()"
   ]
  }
 ],
 "metadata": {
  "kernelspec": {
   "display_name": "Python 3 (ipykernel)",
   "language": "python",
   "name": "python3"
  },
  "language_info": {
   "codemirror_mode": {
    "name": "ipython",
    "version": 3
   },
   "file_extension": ".py",
   "mimetype": "text/x-python",
   "name": "python",
   "nbconvert_exporter": "python",
   "pygments_lexer": "ipython3",
   "version": "3.10.1"
  }
 },
 "nbformat": 4,
 "nbformat_minor": 5
}
