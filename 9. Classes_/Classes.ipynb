{
 "cells": [
  {
   "cell_type": "markdown",
   "id": "29e3643b",
   "metadata": {},
   "source": [
    "# Basics\n",
    "\n",
    "In object-oriented programming you write classes that represent real-world things and situations, and you create objects based on these classes. When you write a class, you define the general behavior that a whole category of objects can have.\n",
    "\n",
    "Making an object from a class is called *instantiation*, and you work with *instances* of a class."
   ]
  },
  {
   "cell_type": "markdown",
   "id": "4e5177c2",
   "metadata": {},
   "source": [
    "## Instantiation of `class Car`"
   ]
  },
  {
   "cell_type": "code",
   "execution_count": 1,
   "id": "965c9c92",
   "metadata": {},
   "outputs": [],
   "source": [
    "class Car:\n",
    "    \"\"\"A representation of a car\"\"\"\n",
    "    \n",
    "    def __init__(self, make, model, year):\n",
    "        \"\"\"Initialize the attributes of a car.\"\"\"\n",
    "        self.make = make\n",
    "        self.model = model\n",
    "        self.year = year\n",
    "        \n",
    "    def get_descriptive_name(self):\n",
    "        \"\"\"Return a neatly formatted descriptive name.\"\"\"\n",
    "        long_name = f\"{self.year} {self.make} {self.model}\"\n",
    "        return long_name.title()"
   ]
  },
  {
   "cell_type": "code",
   "execution_count": 2,
   "id": "1a723525",
   "metadata": {},
   "outputs": [],
   "source": [
    "my_car = Car('totoya', 'starlet', 1997)"
   ]
  },
  {
   "cell_type": "markdown",
   "id": "575914cd",
   "metadata": {},
   "source": [
    "### Accessing attribute values"
   ]
  },
  {
   "cell_type": "code",
   "execution_count": 3,
   "id": "c8265656",
   "metadata": {},
   "outputs": [
    {
     "data": {
      "text/plain": [
       "'totoya'"
      ]
     },
     "execution_count": 3,
     "metadata": {},
     "output_type": "execute_result"
    }
   ],
   "source": [
    "my_car.make"
   ]
  },
  {
   "cell_type": "code",
   "execution_count": 4,
   "id": "a49938a8",
   "metadata": {},
   "outputs": [
    {
     "data": {
      "text/plain": [
       "'starlet'"
      ]
     },
     "execution_count": 4,
     "metadata": {},
     "output_type": "execute_result"
    }
   ],
   "source": [
    "my_car.model"
   ]
  },
  {
   "cell_type": "code",
   "execution_count": 5,
   "id": "4e66e732",
   "metadata": {
    "scrolled": true
   },
   "outputs": [
    {
     "data": {
      "text/plain": [
       "1997"
      ]
     },
     "execution_count": 5,
     "metadata": {},
     "output_type": "execute_result"
    }
   ],
   "source": [
    "my_car.year"
   ]
  },
  {
   "cell_type": "markdown",
   "id": "64cbd347",
   "metadata": {},
   "source": [
    "### Applying class methods"
   ]
  },
  {
   "cell_type": "code",
   "execution_count": 6,
   "id": "a8f64e0d",
   "metadata": {
    "scrolled": true
   },
   "outputs": [
    {
     "data": {
      "text/plain": [
       "'1997 Totoya Starlet'"
      ]
     },
     "execution_count": 6,
     "metadata": {},
     "output_type": "execute_result"
    }
   ],
   "source": [
    "my_car.get_descriptive_name()"
   ]
  },
  {
   "cell_type": "code",
   "execution_count": 7,
   "id": "b2a2ed7b",
   "metadata": {},
   "outputs": [],
   "source": [
    "your_car = Car('audi', 'r8', 2004)"
   ]
  },
  {
   "cell_type": "code",
   "execution_count": 8,
   "id": "a7414f63",
   "metadata": {},
   "outputs": [
    {
     "data": {
      "text/plain": [
       "'2004 Audi R8'"
      ]
     },
     "execution_count": 8,
     "metadata": {},
     "output_type": "execute_result"
    }
   ],
   "source": [
    "your_car.get_descriptive_name()"
   ]
  },
  {
   "cell_type": "markdown",
   "id": "9c7631f2",
   "metadata": {},
   "source": [
    "# Attribute values"
   ]
  },
  {
   "cell_type": "markdown",
   "id": "d2efeb13",
   "metadata": {},
   "source": [
    "## Setting a default value"
   ]
  },
  {
   "cell_type": "code",
   "execution_count": 9,
   "id": "3ad9ea7a",
   "metadata": {},
   "outputs": [],
   "source": [
    "class Car:\n",
    "    \"\"\"A representation of a car\"\"\"\n",
    "    \n",
    "    def __init__(self, make, model, year):\n",
    "        \"\"\"Initialize the attributes of a car.\"\"\"\n",
    "        self.make = make\n",
    "        self.model = model\n",
    "        self.year = year\n",
    "        self.odometer = 0\n",
    "        \n",
    "    def get_descriptive_name(self):\n",
    "        \"\"\"Return a neatly formatted descriptive name.\"\"\"\n",
    "        long_name = f\"{self.year} {self.make} {self.model}\"\n",
    "        return long_name.title()\n",
    "    \n",
    "    # Adding a new class method\n",
    "    def read_odometer(self):\n",
    "        \"\"\"Shows the value on the odometer.\"\"\"\n",
    "        reading = f\"The car has {self.odometer} kms on it.\"\n",
    "        return reading"
   ]
  },
  {
   "cell_type": "code",
   "execution_count": 10,
   "id": "c130dab6",
   "metadata": {},
   "outputs": [],
   "source": [
    "my_car = Car('totoya', 'starlet', 1997)"
   ]
  },
  {
   "cell_type": "code",
   "execution_count": 11,
   "id": "5fe0529e",
   "metadata": {},
   "outputs": [
    {
     "data": {
      "text/plain": [
       "0"
      ]
     },
     "execution_count": 11,
     "metadata": {},
     "output_type": "execute_result"
    }
   ],
   "source": [
    "my_car.odometer"
   ]
  },
  {
   "cell_type": "code",
   "execution_count": 12,
   "id": "2f8736a6",
   "metadata": {},
   "outputs": [
    {
     "data": {
      "text/plain": [
       "'The car has 0 kms on it.'"
      ]
     },
     "execution_count": 12,
     "metadata": {},
     "output_type": "execute_result"
    }
   ],
   "source": [
    "my_car.read_odometer()"
   ]
  },
  {
   "cell_type": "markdown",
   "id": "553e07c3",
   "metadata": {},
   "source": [
    "## Modifying an Attribute’s Value Directly"
   ]
  },
  {
   "cell_type": "code",
   "execution_count": 13,
   "id": "c64941ca",
   "metadata": {},
   "outputs": [],
   "source": [
    "my_car.odometer = 25"
   ]
  },
  {
   "cell_type": "code",
   "execution_count": 14,
   "id": "6a35ec99",
   "metadata": {},
   "outputs": [
    {
     "data": {
      "text/plain": [
       "'The car has 25 kms on it.'"
      ]
     },
     "execution_count": 14,
     "metadata": {},
     "output_type": "execute_result"
    }
   ],
   "source": [
    "my_car.read_odometer()"
   ]
  },
  {
   "cell_type": "markdown",
   "id": "89468ce3",
   "metadata": {},
   "source": [
    "## Modifying an Attribute’s Value Through a Method"
   ]
  },
  {
   "cell_type": "code",
   "execution_count": 15,
   "id": "0c1744c0",
   "metadata": {},
   "outputs": [],
   "source": [
    "class Car:\n",
    "    \"\"\"A representation of a car\"\"\"\n",
    "    \n",
    "    def __init__(self, make, model, year):\n",
    "        \"\"\"Initialize the attributes of a car.\"\"\"\n",
    "        self.make = make\n",
    "        self.model = model\n",
    "        self.year = year\n",
    "        self.odometer = 0\n",
    "        \n",
    "    def get_descriptive_name(self):\n",
    "        \"\"\"Return a neatly formatted descriptive name.\"\"\"\n",
    "        long_name = f\"{self.year} {self.make} {self.model}\"\n",
    "        return long_name.title()\n",
    "    \n",
    "    def read_odometer(self):\n",
    "        \"\"\"Shows the value on the odometer.\"\"\"\n",
    "        reading = f\"The car has {self.odometer} kms on it.\"\n",
    "        return reading\n",
    "    \n",
    "    # Adding a new instance method\n",
    "    def update_odometer(self, mileage):\n",
    "        \"\"\"Updates the odometer with the given mileage\"\"\"\n",
    "        if mileage >= self.odometer:\n",
    "            self.odometer = mileage\n",
    "            return \"Mileage updated.\"\n",
    "        else:\n",
    "            return \"You cannot roll back an odometer!\""
   ]
  },
  {
   "cell_type": "code",
   "execution_count": 16,
   "id": "ac324247",
   "metadata": {},
   "outputs": [],
   "source": [
    "my_car = Car('totoya', 'starlet', 1997)"
   ]
  },
  {
   "cell_type": "code",
   "execution_count": 17,
   "id": "ccc389f1",
   "metadata": {},
   "outputs": [
    {
     "data": {
      "text/plain": [
       "'Mileage updated.'"
      ]
     },
     "execution_count": 17,
     "metadata": {},
     "output_type": "execute_result"
    }
   ],
   "source": [
    "my_car.update_odometer(50)"
   ]
  },
  {
   "cell_type": "code",
   "execution_count": 18,
   "id": "f550cf27",
   "metadata": {},
   "outputs": [
    {
     "data": {
      "text/plain": [
       "'The car has 50 kms on it.'"
      ]
     },
     "execution_count": 18,
     "metadata": {},
     "output_type": "execute_result"
    }
   ],
   "source": [
    "my_car.read_odometer()"
   ]
  },
  {
   "cell_type": "code",
   "execution_count": 19,
   "id": "928c1b85",
   "metadata": {},
   "outputs": [
    {
     "data": {
      "text/plain": [
       "'You cannot roll back an odometer!'"
      ]
     },
     "execution_count": 19,
     "metadata": {},
     "output_type": "execute_result"
    }
   ],
   "source": [
    "my_car.update_odometer(49)"
   ]
  },
  {
   "cell_type": "markdown",
   "id": "962f1a60",
   "metadata": {},
   "source": [
    "## Incrementing an Attribute’s Value Through a Method"
   ]
  },
  {
   "cell_type": "code",
   "execution_count": 20,
   "id": "e74a755c",
   "metadata": {},
   "outputs": [],
   "source": [
    "class Car:\n",
    "    \"\"\"A representation of a car\"\"\"\n",
    "    \n",
    "    def __init__(self, make, model, year):\n",
    "        \"\"\"Initialize the attributes of a car.\"\"\"\n",
    "        self.make = make\n",
    "        self.model = model\n",
    "        self.year = year\n",
    "        self.odometer = 0\n",
    "        \n",
    "    def get_descriptive_name(self):\n",
    "        \"\"\"Return a neatly formatted descriptive name.\"\"\"\n",
    "        long_name = f\"{self.year} {self.make} {self.model}\"\n",
    "        return long_name.title()\n",
    "    \n",
    "    def read_odometer(self):\n",
    "        \"\"\"Shows the value on the odometer.\"\"\"\n",
    "        reading = f\"The car has {self.odometer:,} kms on it.\" #! Update for thousand separator!\n",
    "        return reading\n",
    "    \n",
    "    def update_odometer(self, mileage):\n",
    "        \"\"\"Updates the odometer with the given mileage\"\"\"\n",
    "        if mileage >= self.odometer:\n",
    "            self.odometer = mileage\n",
    "            return \"Mileage updated.\"\n",
    "        else:\n",
    "            return \"You cannot roll back an odometer!\"\n",
    "        \n",
    "    # Adding a new instance method\n",
    "    def increment_odometer(self, kms):\n",
    "        \"\"\"Increments the odometer by the given number of kms.\"\"\"\n",
    "        if kms > 0:\n",
    "            self.odometer += kms\n",
    "        else:\n",
    "            return \"You cannot roll back an odometer!\"\n",
    "        \n",
    "    # Adding a new instance method\n",
    "    def fill_gas_tank(self):\n",
    "        \"\"\"Fills the gas tank by the given amount of liters\"\"\"\n",
    "        return \"Tank filled\"\n",
    "        \n",
    "my_car = Car('totoya', 'starlet', 1997)"
   ]
  },
  {
   "cell_type": "code",
   "execution_count": 21,
   "id": "256bbc07",
   "metadata": {},
   "outputs": [
    {
     "data": {
      "text/plain": [
       "'Mileage updated.'"
      ]
     },
     "execution_count": 21,
     "metadata": {},
     "output_type": "execute_result"
    }
   ],
   "source": [
    "my_car.update_odometer(23500)"
   ]
  },
  {
   "cell_type": "code",
   "execution_count": 22,
   "id": "52cd8872",
   "metadata": {},
   "outputs": [
    {
     "data": {
      "text/plain": [
       "'The car has 23,500 kms on it.'"
      ]
     },
     "execution_count": 22,
     "metadata": {},
     "output_type": "execute_result"
    }
   ],
   "source": [
    "my_car.read_odometer()"
   ]
  },
  {
   "cell_type": "code",
   "execution_count": 23,
   "id": "4b4fd184",
   "metadata": {},
   "outputs": [],
   "source": [
    "my_car.increment_odometer(1500)"
   ]
  },
  {
   "cell_type": "code",
   "execution_count": 24,
   "id": "d9547999",
   "metadata": {},
   "outputs": [
    {
     "data": {
      "text/plain": [
       "'The car has 25,000 kms on it.'"
      ]
     },
     "execution_count": 24,
     "metadata": {},
     "output_type": "execute_result"
    }
   ],
   "source": [
    "my_car.read_odometer()"
   ]
  },
  {
   "cell_type": "code",
   "execution_count": 25,
   "id": "4e2a5b94",
   "metadata": {},
   "outputs": [
    {
     "data": {
      "text/plain": [
       "'Tank filled'"
      ]
     },
     "execution_count": 25,
     "metadata": {},
     "output_type": "execute_result"
    }
   ],
   "source": [
    "my_car.fill_gas_tank()"
   ]
  },
  {
   "cell_type": "markdown",
   "id": "2a4cb897",
   "metadata": {},
   "source": [
    "# Inheritance\n",
    "\n",
    "If the class you are writing is a specialized version of another class you wrote, you can use *inheritance*. When one class inherits from another, it takes on the attributes and methods of the first class. The original class is called the `parent class`, and the new class is the `child class`. \n",
    "\n",
    "The child class can inherit any or all of the attributes and methods of its parent class, but it is also free to define new attributes and methods of its own"
   ]
  },
  {
   "cell_type": "code",
   "execution_count": 26,
   "id": "2e50c9b4",
   "metadata": {},
   "outputs": [],
   "source": [
    "class ElectricCar(Car):\n",
    "    \"\"\"Representation of an electric car\"\"\"\n",
    "    \n",
    "    def __init__(self, make, model, year):\n",
    "        \"\"\"\n",
    "        Initialize the attributes of parent class `Car`.\n",
    "        Then initialize attributes of an electric car.\n",
    "        \"\"\"\n",
    "        super().__init__(make, model, year)\n",
    "        self.battery_size = 75 # battery size is default to 75\n",
    "        \n",
    "    def describe_battery(self):\n",
    "        \"\"\"Describes the battery size.\"\"\"\n",
    "        battery_description = f\"The car has a {self.battery_size:,}-KWh battery.\"\n",
    "        return battery_description\n",
    "    \n",
    "    def fill_gas_tank(self):\n",
    "        \"\"\"Overriding method from parent class\"\"\"\n",
    "        return \"Electric cars do not need gas!\""
   ]
  },
  {
   "cell_type": "code",
   "execution_count": 27,
   "id": "e1e4c053",
   "metadata": {},
   "outputs": [],
   "source": [
    "my_new_car = ElectricCar('tesla', 'model s', 2019)"
   ]
  },
  {
   "cell_type": "code",
   "execution_count": 28,
   "id": "48aa787c",
   "metadata": {},
   "outputs": [
    {
     "data": {
      "text/plain": [
       "'2019 Tesla Model S'"
      ]
     },
     "execution_count": 28,
     "metadata": {},
     "output_type": "execute_result"
    }
   ],
   "source": [
    "my_new_car.get_descriptive_name()"
   ]
  },
  {
   "cell_type": "code",
   "execution_count": 29,
   "id": "bfe2505e",
   "metadata": {},
   "outputs": [
    {
     "data": {
      "text/plain": [
       "'The car has a 75-KWh battery.'"
      ]
     },
     "execution_count": 29,
     "metadata": {},
     "output_type": "execute_result"
    }
   ],
   "source": [
    "my_new_car.describe_battery()"
   ]
  },
  {
   "cell_type": "code",
   "execution_count": 30,
   "id": "0d3e84ae",
   "metadata": {},
   "outputs": [
    {
     "data": {
      "text/plain": [
       "'Electric cars do not need gas!'"
      ]
     },
     "execution_count": 30,
     "metadata": {},
     "output_type": "execute_result"
    }
   ],
   "source": [
    "my_new_car.fill_gas_tank()"
   ]
  },
  {
   "cell_type": "markdown",
   "id": "5f6745d6",
   "metadata": {},
   "source": [
    "# Instances as Attributes\n",
    "\n",
    "When modeling something from the real world in code, you may find that you are adding more and more detail to a class. You will find that you have a growing list of attributes and methods and that your files are becoming lengthy. In these situations, you might recognize that part of one class can be written as a separate class. You can break your large class into smaller classes that work together."
   ]
  },
  {
   "cell_type": "code",
   "execution_count": 31,
   "id": "5fe48d9c",
   "metadata": {},
   "outputs": [],
   "source": [
    "class Battery:\n",
    "    \"\"\"Modelling a battery for electric cars\"\"\"\n",
    "    \n",
    "    def __init__(self, battery_size=75):\n",
    "        \"\"\"Initialize a battery of 75-KWh size by default.\"\"\"\n",
    "        self.battery_size = battery_size\n",
    "        \n",
    "    def describe_battery(self):\n",
    "        \"\"\"Describes the battery size.\"\"\"\n",
    "        battery_description = f\"The car has a {self.battery_size:,}-KWh battery.\"\n",
    "        return battery_description"
   ]
  },
  {
   "cell_type": "code",
   "execution_count": 32,
   "id": "6da7bdf7",
   "metadata": {},
   "outputs": [],
   "source": [
    "class ElectricCar(Car):\n",
    "    \"\"\"Representation of an electric car\"\"\"\n",
    "    \n",
    "    def __init__(self, make, model, year):\n",
    "        \"\"\"\n",
    "        Initialize the attributes of parent class `Car`.\n",
    "        Then initialize attributes of an electric car.\n",
    "        \"\"\"\n",
    "        super().__init__(make, model, year)\n",
    "        self.battery = Battery()\n",
    "        \n",
    "#         self.battery_size = 75 # battery size is default to 75\n",
    "        \n",
    "#     def describe_battery(self):\n",
    "#         \"\"\"Describes the battery size.\"\"\"\n",
    "#         battery_description = f\"The car has a {self.battery_size:,}-KWh battery.\"\n",
    "#         return battery_description\n",
    "    \n",
    "    def fill_gas_tank(self):\n",
    "        \"\"\"Overriding method from parent class\"\"\"\n",
    "        return \"Electric cars do not need gas!\""
   ]
  },
  {
   "cell_type": "code",
   "execution_count": 33,
   "id": "e040b202",
   "metadata": {},
   "outputs": [],
   "source": [
    "my_other_car = ElectricCar('tesla', 'model s', 2019)"
   ]
  },
  {
   "cell_type": "code",
   "execution_count": 34,
   "id": "1e51d01d",
   "metadata": {},
   "outputs": [
    {
     "data": {
      "text/plain": [
       "'The car has a 75-KWh battery.'"
      ]
     },
     "execution_count": 34,
     "metadata": {},
     "output_type": "execute_result"
    }
   ],
   "source": [
    "my_other_car.battery.describe_battery()"
   ]
  },
  {
   "cell_type": "markdown",
   "id": "6e86cda0",
   "metadata": {},
   "source": [
    "# Class method, Instance method and Static method\n",
    "\n",
    "https://realpython.com/instance-class-and-static-methods-demystified/#instance-class-and-static-methods-an-overview\n",
    "\n",
    "\n"
   ]
  },
  {
   "cell_type": "markdown",
   "id": "49e2bf18",
   "metadata": {},
   "source": [
    "\n",
    "## Class method\n",
    "\n",
    "Class methods take the `cls` param e.g. the whole `class` as a reference. \n",
    "\n",
    "```\n",
    "@classmethod\n",
    "def an_example_static_method(cls):\n",
    "    ...\n",
    "```"
   ]
  },
  {
   "cell_type": "code",
   "execution_count": 42,
   "id": "c7fc870f",
   "metadata": {},
   "outputs": [],
   "source": [
    "class Car:\n",
    "    \"\"\"A representation of a car\"\"\"\n",
    "    \n",
    "    def __init__(self, make, model, year):\n",
    "        \"\"\"Initialize the attributes of a car.\"\"\"\n",
    "        self.make = make\n",
    "        self.model = model\n",
    "        self.year = year\n",
    "        self.odometer = 0\n",
    "        \n",
    "    # Adding new class method\n",
    "    @classmethod\n",
    "    def create_starlet97(cls):\n",
    "        return cls('toyota', 'starlet', 1997)\n",
    "        \n",
    "    def get_descriptive_name(self):\n",
    "        \"\"\"Return a neatly formatted descriptive name.\"\"\"\n",
    "        long_name = f\"{self.year} {self.make} {self.model}\"\n",
    "        return long_name.title()\n",
    "    \n",
    "    def read_odometer(self):\n",
    "        \"\"\"Shows the value on the odometer.\"\"\"\n",
    "        reading = f\"The car has {self.odometer:,} kms on it.\" #! Update for thousand separator!\n",
    "        return reading\n",
    "    \n",
    "    def update_odometer(self, mileage):\n",
    "        \"\"\"Updates the odometer with the given mileage\"\"\"\n",
    "        if mileage >= self.odometer:\n",
    "            self.odometer = mileage\n",
    "            return \"Mileage updated.\"\n",
    "        else:\n",
    "            return \"You cannot roll back an odometer!\"\n",
    "        \n",
    "    def increment_odometer(self, kms):\n",
    "        \"\"\"Increments the odometer by the given number of kms.\"\"\"\n",
    "        if kms > 0:\n",
    "            self.odometer += kms\n",
    "        else:\n",
    "            return \"You cannot roll back an odometer!\"\n",
    "        \n",
    "    def fill_gas_tank(self):\n",
    "        \"\"\"Fills the gas tank by the given amount of liters\"\"\"\n",
    "        return \"Tank filled\""
   ]
  },
  {
   "cell_type": "code",
   "execution_count": 43,
   "id": "715a5b7d",
   "metadata": {},
   "outputs": [],
   "source": [
    "starlet = Car.create_starlet97()"
   ]
  },
  {
   "cell_type": "code",
   "execution_count": 44,
   "id": "7e50a511",
   "metadata": {},
   "outputs": [
    {
     "data": {
      "text/plain": [
       "'1997 Toyota Starlet'"
      ]
     },
     "execution_count": 44,
     "metadata": {},
     "output_type": "execute_result"
    }
   ],
   "source": [
    "starlet.get_descriptive_name()"
   ]
  },
  {
   "cell_type": "markdown",
   "id": "89ca941f",
   "metadata": {},
   "source": [
    "\n",
    "## Instance method\n",
    "\n",
    "Instance method is a method where the reference of an `instance` of a `class` is passed.\n",
    "\n",
    "```\n",
    "...\n",
    "\n",
    "def get_descriptive_name(self):\n",
    "        \"\"\"Return a neatly formatted descriptive name.\"\"\"\n",
    "        long_name = f\"{self.year} {self.make} {self.model}\"\n",
    "        return long_name.title()\n",
    "\n",
    "...\n",
    "```\n",
    "\n"
   ]
  },
  {
   "cell_type": "code",
   "execution_count": 45,
   "id": "b5c2249a",
   "metadata": {},
   "outputs": [
    {
     "data": {
      "text/plain": [
       "'1997 Toyota Starlet'"
      ]
     },
     "execution_count": 45,
     "metadata": {},
     "output_type": "execute_result"
    }
   ],
   "source": [
    "starlet.get_descriptive_name()"
   ]
  },
  {
   "cell_type": "markdown",
   "id": "03799070",
   "metadata": {},
   "source": [
    "## Static method\n",
    "\n",
    "This type of method takes neither a `self` nor a `cls` parameter but of course it is free to accept an arbitrary number of other parameters.\n",
    "\n",
    "Therefore a `static method` can neither modify object state nor class state. Static methods are restricted in what data they can access - and they are primarily a way to namespace your methods.\n",
    "\n",
    "```\n",
    "@staticmethod\n",
    "def an_example_static_method():\n",
    "    ...\n",
    "```"
   ]
  },
  {
   "cell_type": "markdown",
   "id": "e4eee3be",
   "metadata": {},
   "source": [
    "# Weak *internal* use methods\n",
    "\n",
    "`_single_leading_underscore`: weak \"internal use\" indicator. For example, `from M import *` does not import objects whose name starts with an underscore. Useful for shortening code in a module."
   ]
  }
 ],
 "metadata": {
  "kernelspec": {
   "display_name": "Python 3 (ipykernel)",
   "language": "python",
   "name": "python3"
  },
  "language_info": {
   "codemirror_mode": {
    "name": "ipython",
    "version": 3
   },
   "file_extension": ".py",
   "mimetype": "text/x-python",
   "name": "python",
   "nbconvert_exporter": "python",
   "pygments_lexer": "ipython3",
   "version": "3.10.1"
  }
 },
 "nbformat": 4,
 "nbformat_minor": 5
}
